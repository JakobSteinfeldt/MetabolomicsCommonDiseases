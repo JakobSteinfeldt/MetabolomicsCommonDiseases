{
 "cells": [
  {
   "cell_type": "markdown",
   "metadata": {},
   "source": [
    "# Benchmarks"
   ]
  },
  {
   "cell_type": "markdown",
   "metadata": {},
   "source": [
    "## Initialize"
   ]
  },
  {
   "cell_type": "code",
   "execution_count": null,
   "metadata": {},
   "outputs": [],
   "source": [
    "%load_ext autoreload\n",
    "%autoreload 2\n",
    "\n",
    "import os\n",
    "from tqdm.auto import tqdm\n",
    "import pathlib\n",
    "\n",
    "import numpy as np\n",
    "import pandas as pd\n",
    "import lifelines\n",
    "import pandas as pd\n",
    "\n",
    "from joblib import Parallel, delayed\n",
    "from tqdm.notebook import tqdm\n",
    "import warnings\n",
    "warnings.filterwarnings(\"ignore\")\n",
    "import shutil\n",
    "\n",
    "import plotly.express as px\n",
    "import plotly.graph_objects as go\n",
    "from plotly.graph_objects import Box\n",
    "\n",
    "import matplotlib.pyplot as plt\n",
    "from lifelines import CRCSplineFitter\n",
    "import warnings\n",
    "from lifelines.utils import CensoringType\n",
    "\n",
    "import plotly.graph_objects as go\n",
    "from plotly.subplots import make_subplots\n",
    "import math\n",
    "\n",
    "from IPython.display import clear_output\n",
    "import pathlib\n",
    "\n",
    "from lifelines.utils import concordance_index"
   ]
  },
  {
   "cell_type": "code",
   "execution_count": null,
   "metadata": {},
   "outputs": [],
   "source": [
    "node = !hostname\n",
    "if \"sc\" in node[0]:\n",
    "    base_path = \"/sc-projects/sc-proj-ukb-cvd\"\n",
    "else: base_path = \"/data/analysis/ag-reils/ag-reils-shared/cardioRS\"\n",
    "print(base_path)\n",
    "\n",
    "project_name = \"210714_metabolomics\"\n",
    "#data_path = \"/data/analysis/ag-reils/steinfej\"\n",
    "data_pre = f\"{base_path}/data/2_datasets_pre/{project_name}\"\n",
    "data_post = f\"{base_path}/data/3_datasets_post/{project_name}\"\n",
    "\n",
    "project_label = \"21_metabolomics_multitask\"\n",
    "project_path = f\"{base_path}/results/projects/{project_label}\"\n",
    "figures_path = f\"{project_path}/figures\"\n",
    "data_results_path = f\"{project_path}/data\"\n",
    "pathlib.Path(figures_path).mkdir(parents=True, exist_ok=True)\n",
    "pathlib.Path(data_results_path).mkdir(parents=True, exist_ok=True)"
   ]
  },
  {
   "cell_type": "code",
   "execution_count": null,
   "metadata": {},
   "outputs": [],
   "source": [
    "endpoints = [\n",
    "    #Cardiovascular\n",
    "    'M_MACE',\n",
    "    'M_coronary_heart_disease',\n",
    "    'M_cerebral_stroke',\n",
    "    'M_peripheral_arterial_disease',\n",
    "    'M_atrial_fibrillation',\n",
    "    'M_heart_failure',\n",
    "    'M_abdominal_aortic_aneurysm',\n",
    "    'M_venous_thrombosis',\n",
    "    \n",
    "    # General IM\n",
    "    'M_type_2_diabetes',\n",
    "    'M_liver_disease',\n",
    "    'M_renal_disease',\n",
    "    \n",
    "    # Pulmological\n",
    "    'M_asthma', \n",
    "    'M_chronic_obstructuve_pulmonary_disease',  \n",
    "    \n",
    "    # Psychiatric/Neurological\n",
    "    'M_all_cause_dementia',\n",
    "    'M_parkinsons_disease',   \n",
    "    \n",
    "    # Cancers\n",
    "    \"M_lung_cancer\",\n",
    "    \"M_non_melanoma_skin_cancer\",\n",
    "    \"M_colon_cancer\",\n",
    "    \"M_rectal_cancer\",\n",
    "    \"M_prostate_cancer\",\n",
    "    \"M_breast_cancer\",\n",
    "    \n",
    "    # Ophtalmological\n",
    "    'M_cataracts', \n",
    "    'M_glaucoma',\n",
    "    \n",
    "    # Traumatology\n",
    "    'M_fractures',\n",
    "]"
   ]
  },
  {
   "cell_type": "code",
   "execution_count": null,
   "metadata": {},
   "outputs": [],
   "source": [
    "partitions = [str(p) for p in range(0, 22)]\n",
    "splits = [\"train\", \"valid\", \"test\"]"
   ]
  },
  {
   "cell_type": "code",
   "execution_count": null,
   "metadata": {},
   "outputs": [],
   "source": [
    "data_all = pd.read_feather(f\"{data_results_path}/data_all_COX_211007_metabolomics.feather\")"
   ]
  },
  {
   "cell_type": "markdown",
   "metadata": {},
   "source": [
    "# Train COX"
   ]
  },
  {
   "cell_type": "code",
   "execution_count": null,
   "metadata": {},
   "outputs": [],
   "source": [
    "modules = [\"COX\"]"
   ]
  },
  {
   "cell_type": "code",
   "execution_count": null,
   "metadata": {},
   "outputs": [],
   "source": [
    "partitions=data_all.partition.unique().tolist()"
   ]
  },
  {
   "cell_type": "code",
   "execution_count": null,
   "metadata": {},
   "outputs": [],
   "source": [
    "run=\"220126\"\n",
    "version=f\"COX_{run}\"\n",
    "dump_path = f\"{data_post}/{version}\"\n",
    "pathlib.Path(dump_path).mkdir(parents=True, exist_ok=True)"
   ]
  },
  {
   "cell_type": "markdown",
   "metadata": {},
   "source": [
    "# General ablation - coef"
   ]
  },
  {
   "cell_type": "code",
   "execution_count": null,
   "metadata": {},
   "outputs": [],
   "source": [
    "import pickle\n",
    "d_list_general = []\n",
    "for endpoint in tqdm(endpoints):\n",
    "    eids = eids_dict[endpoint]\n",
    "    data_endpoint = data_test_all.query(\"eid==@eids\")\n",
    "    for partition in partitions[:1]:\n",
    "        data_partition = data_endpoint.query(\"partition==@partition\")\n",
    "        cph = pickle.load(open(f\"{dump_path}/COX_{endpoint}_PANEL_{partition}.p\", \"rb\"))\n",
    "        cindex = cph.score(data_partition, scoring_method=\"concordance_index\")\n",
    "        d_list_general.append({\"endpoint\": endpoint, \"cindex\": cindex, \"cph\": cph})"
   ]
  },
  {
   "cell_type": "code",
   "execution_count": null,
   "metadata": {},
   "outputs": [],
   "source": [
    "def absmean(x): return round(x.abs().mean(), 3)\n",
    "\n",
    "df_rank = pd.DataFrame().append(d_list_general)\n",
    "abl_df = pd.concat([cph.summary for cph in df_rank.cph.to_list()], axis=0).reset_index()\n",
    "abl_name = abl_df.groupby(\"covariate\")[\"coef\", \"p\"].agg(absmean).sort_values(\"coef\", ascending=False)#.iloc[-1]#.name\n",
    "abl_name[[\"coef\"]]"
   ]
  }
 ],
 "metadata": {
  "kernelspec": {
   "display_name": "Python [conda env:riskiano_py39]",
   "language": "python",
   "name": "conda-env-riskiano_py39-py"
  },
  "language_info": {
   "codemirror_mode": {
    "name": "ipython",
    "version": 3
   },
   "file_extension": ".py",
   "mimetype": "text/x-python",
   "name": "python",
   "nbconvert_exporter": "python",
   "pygments_lexer": "ipython3",
   "version": "3.9.6"
  },
  "toc-autonumbering": false
 },
 "nbformat": 4,
 "nbformat_minor": 4
}
