{
 "cells": [
  {
   "cell_type": "markdown",
   "metadata": {},
   "source": [
    "## Initialize"
   ]
  },
  {
   "cell_type": "code",
   "execution_count": null,
   "metadata": {
    "ExecuteTime": {
     "end_time": "2021-01-05T11:03:09.852316Z",
     "start_time": "2021-01-05T11:03:07.701Z"
    }
   },
   "outputs": [],
   "source": [
    "#library(Rmisc)\n",
    "library(tidyverse)\n",
    "library(glue)\n",
    "library(arrow)\n",
    "library(patchwork)"
   ]
  },
  {
   "cell_type": "code",
   "execution_count": null,
   "metadata": {
    "ExecuteTime": {
     "end_time": "2021-01-05T11:03:10.932312Z",
     "start_time": "2021-01-05T11:03:10.882Z"
    }
   },
   "outputs": [],
   "source": [
    "if (grepl(\"sc\", Sys.info()[[\"nodename\"]], fixed=TRUE)) {\n",
    "    base_path = \"/sc-projects/sc-proj-ukb-cvd\"\n",
    "} else {\n",
    "    base_path = \"/data/analysis/ag-reils/ag-reils-shared/cardioRS\"}\n",
    "print(base_path)\n",
    "\n",
    "dataset_name = \"210714_metabolomics\"\n",
    "path = \"/data/analysis/ag-reils/steinfej/code/umbrella/pre/ukbb\"\n",
    "data_path = glue(\"{base_path}/data\")\n",
    "dataset_path = glue(\"{data_path}/3_datasets_post/{dataset_name}\")\n",
    "\n",
    "project_label=\"21_metabolomics_multitask\"\n",
    "project_path = glue(\"{base_path}/results/projects/{project_label}\")\n",
    "figures_path = glue(\"{project_path}/figures\")\n",
    "data_results_path = glue(\"{project_path}/data\")"
   ]
  },
  {
   "cell_type": "markdown",
   "metadata": {},
   "source": [
    "## Load data"
   ]
  },
  {
   "cell_type": "code",
   "execution_count": null,
   "metadata": {},
   "outputs": [],
   "source": [
    "scores = c(\"COX_Age+Sex\", \n",
    "                \"COX_Metabolomics\",\n",
    "                \"DS_Metabolomics\",\n",
    "                \"DS_Age+Sex+Metabolomics\",\n",
    "               \"DS_AgeSexMetabolomics\")"
   ]
  },
  {
   "cell_type": "code",
   "execution_count": null,
   "metadata": {},
   "outputs": [],
   "source": [
    "library(ggalt)"
   ]
  },
  {
   "cell_type": "code",
   "execution_count": null,
   "metadata": {},
   "outputs": [],
   "source": [
    "library(\"jsonlite\")\n",
    "colors_path = \"colors.json\"\n",
    "colors_dict = read_json(colors_path)"
   ]
  },
  {
   "cell_type": "code",
   "execution_count": null,
   "metadata": {},
   "outputs": [],
   "source": [
    "color_map <- c(\"all\" = \"grey\", \"none\" = \"black\",\n",
    "               \n",
    "               'COX_Age+Sex' = colors_dict$pastel$grey$light, \n",
    "               \n",
    "               'PCA_Metabolomics' = \"#4F8EC1\",\n",
    "               'COX_Metabolomics' = \"#4F8EC1\",\n",
    "               'DS_Metabolomics' = \"#4F8EC1\",  #colors_dict$pastel$orange$dark,\n",
    "               \n",
    "               'COX_ASCVD' = colors_dict$pastel$grey$light, \n",
    "               'COX_PANEL' = colors_dict$pastel$grey$light, \n",
    "\n",
    "               'DS_Age+Sex+Metabolomics' = \"#53dd6c\",#colors_dict$pastel$orange$mid,\n",
    "               'DS_SCORE2+Metabolomics' = colors_dict$pastel$red$mid,\n",
    "               'DS_ASCVD+Metabolomics' = \"#d8315b\",#colors_dict$pastel$red$mid,\n",
    "               'DS_PANEL+Metabolomics' = \"#1e1b18\" #colors_dict$pastel$red$dark\n",
    "      )"
   ]
  },
  {
   "cell_type": "code",
   "execution_count": null,
   "metadata": {},
   "outputs": [],
   "source": [
    "scores_full = names(color_map)"
   ]
  },
  {
   "cell_type": "code",
   "execution_count": null,
   "metadata": {},
   "outputs": [],
   "source": [
    "name = glue(\"benchmark_cindex_220126\")\n",
    "benchmark_cindex_general = read_feather(glue(\"{data_results_path}/{name}.feather\")) %>%\n",
    "    distinct() %>% unite(\"score\", c(module, features), remove=FALSE) %>% distinct()"
   ]
  },
  {
   "cell_type": "code",
   "execution_count": null,
   "metadata": {},
   "outputs": [],
   "source": [
    "library(data.table)"
   ]
  },
  {
   "cell_type": "code",
   "execution_count": null,
   "metadata": {},
   "outputs": [],
   "source": [
    "benchmarks_LLS = fread(\"ExternalCohorts/LLS_PAROFFS/coxsummaries_LLS_PAROFFS_220406.csv\") %>% mutate(cohort=\"LLS\")"
   ]
  },
  {
   "cell_type": "code",
   "execution_count": null,
   "metadata": {},
   "outputs": [],
   "source": [
    "benchmarks_LLS"
   ]
  },
  {
   "cell_type": "code",
   "execution_count": null,
   "metadata": {},
   "outputs": [],
   "source": [
    "benchmarks_PROSPER = fread(\"ExternalCohorts/PROSPER/coxsummaries_PROSPER_220331.csv\") %>% mutate(cohort=\"PROSPER\")"
   ]
  },
  {
   "cell_type": "code",
   "execution_count": null,
   "metadata": {},
   "outputs": [],
   "source": [
    "benchmarks_ROTTERDAM = fread(\"ExternalCohorts/ROTTERDAM/coxsummaries_bbmri_220331.csv\") %>% mutate(cohort=\"RS\")"
   ]
  },
  {
   "cell_type": "code",
   "execution_count": null,
   "metadata": {},
   "outputs": [],
   "source": [
    "benchmarks_whii = bind_rows(\n",
    "    fread(\"ExternalCohorts/WHII/benchmark_cindex100_ukbscaled.csv\") %>% mutate(scaler=\"ukbscaled\"),\n",
    "    fread(\"ExternalCohorts/WHII/benchmark_cindex100_whiiscaled.csv\") %>% mutate(scaler=\"rescaled\")) %>%\n",
    "    mutate(cohort=\"WHII\") %>% \n",
    "    filter(time==10) %>%\n",
    "    select(cohort, endpoint, features, scaler, iteration, cindex) %>%\n",
    "     mutate(\n",
    "        features = case_when(\n",
    "            features == \"Age+Sex\" ~ \"Age+Sex\",\n",
    "            features == \"Metabolomics\" ~ \"MET\",\n",
    "            features == \"Age+Sex+Metabolomics\" ~ \"Age+Sex+MET\",\n",
    "            features == \"ASCVD\" ~ \"ASCVD\",\n",
    "            features == \"ASCVD+Metabolomics\" ~ \"ASCVD+MET\"\n",
    "        )\n",
    "    ) "
   ]
  },
  {
   "cell_type": "code",
   "execution_count": null,
   "metadata": {},
   "outputs": [],
   "source": [
    "unique(benchmarks_whii$features)"
   ]
  },
  {
   "cell_type": "code",
   "execution_count": null,
   "metadata": {},
   "outputs": [],
   "source": [
    "benchmarks_bbmri = bind_rows(benchmarks_LLS, benchmarks_PROSPER, benchmarks_ROTTERDAM) %>%\n",
    "     mutate(\n",
    "            features = case_when(\n",
    "                features == \"AgeSex\" ~ \"Age+Sex\",\n",
    "                features == \"MET\" ~ \"MET\",\n",
    "                features == \"AgeSex+MET\" ~ \"Age+Sex+MET\",\n",
    "                features == \"ASCVD\" ~ \"ASCVD\",\n",
    "                features == \"ASCVD+MET\" ~ \"ASCVD+MET\"\n",
    "            )\n",
    "        ) %>%\n",
    "    mutate(\n",
    "            scaler = case_when(\n",
    "                scaler == \"ukbbscaled\" ~ \"ukbscaled\",\n",
    "                scaler == \"rescaled\" ~ \"rescaled\"\n",
    "            )\n",
    "        ) %>%\n",
    "     select(cohort, endpoint, features, scaler, iteration, cindex_t10) %>% rename(cindex=cindex_t10)\n",
    "benchmarks_bbmri %>% sample_n(5)"
   ]
  },
  {
   "cell_type": "code",
   "execution_count": null,
   "metadata": {},
   "outputs": [],
   "source": [
    "unique(benchmark_cindex_general$score)"
   ]
  },
  {
   "cell_type": "code",
   "execution_count": null,
   "metadata": {},
   "outputs": [],
   "source": [
    "benchmarks_UKB1 = benchmark_cindex_general %>% mutate(cohort=\"UKB\") %>% \n",
    "    mutate(\n",
    "        features = case_when(\n",
    "            score == \"COX_Age+Sex\" ~ \"Age+Sex\",\n",
    "            score == \"DS_Metabolomics\" ~ \"MET\",\n",
    "            score == \"DS_Age+Sex+Metabolomics\" ~ \"Age+Sex+MET\",\n",
    "            score == \"COX_ASCVD\" ~ \"ASCVD\",\n",
    "            score == \"DS_ASCVD+Metabolomics\" ~ \"ASCVD+MET\"\n",
    "        )\n",
    "    ) %>%\n",
    "    mutate(scaler=\"ukbscaled\") %>%\n",
    "    select(cohort, endpoint, features, scaler, iteration, cindex) %>% \n",
    "    filter(features==features) %>% mutate(scaler=\"ukbscaled\")\n",
    "\n",
    "benchmarks_UKB2 = benchmark_cindex_general %>% mutate(cohort=\"UKB\") %>% \n",
    "    mutate(\n",
    "        features = case_when(\n",
    "            score == \"COX_Age+Sex\" ~ \"Age+Sex\",\n",
    "            score == \"DS_Metabolomics\" ~ \"MET\",\n",
    "            score == \"DS_Age+Sex+Metabolomics\" ~ \"Age+Sex+MET\",\n",
    "            score == \"COX_ASCVD\" ~ \"ASCVD\",\n",
    "            score == \"DS_ASCVD+Metabolomics\" ~ \"ASCVD+MET\"\n",
    "        )\n",
    "    ) %>%\n",
    "    mutate(scaler=\"ukbscaled\") %>%\n",
    "    select(cohort, endpoint, features, scaler, iteration, cindex) %>% \n",
    "    filter(features==features) %>% mutate(scaler=\"rescaled\")\n",
    "\n",
    "benchmarks_UKB = bind_rows(benchmarks_UKB1, benchmarks_UKB2)"
   ]
  },
  {
   "cell_type": "code",
   "execution_count": null,
   "metadata": {},
   "outputs": [],
   "source": [
    "benchmarks_all = bind_rows(benchmarks_UKB, benchmarks_bbmri, benchmarks_whii) %>% filter(scaler==\"rescaled\")"
   ]
  },
  {
   "cell_type": "raw",
   "metadata": {},
   "source": [
    "counts_LLS = \n",
    "    tribble(\n",
    "        ~cohort, ~endpoint, ~n, ~nevent, \n",
    "        \"WHII\", \"M_cerebral_stroke\", 1660-31, 70,\n",
    "        \"WHII\", \"M_chronic_obstructuve_pulmonary_disease\", 1660-47, 50,\n",
    "        \"WHII\", \"M_type_2_diabetes\", 1660-56, 90,\n",
    "        \n",
    ")\n",
    "counts_LLS %>% select(cohort, endpoint, nevent, n)"
   ]
  },
  {
   "cell_type": "code",
   "execution_count": null,
   "metadata": {},
   "outputs": [],
   "source": [
    "# counts BBMRI\n",
    "counts_bbmri = bind_rows(benchmarks_LLS, benchmarks_PROSPER, benchmarks_ROTTERDAM) %>%\n",
    "     mutate(\n",
    "            features = case_when(\n",
    "                features == \"AgeSex\" ~ \"Age+Sex\",\n",
    "                features == \"MET\" ~ \"MET\",\n",
    "                features == \"AgeSex+MET\" ~ \"Age+Sex+MET\",\n",
    "                features == \"ASCVD\" ~ \"ASCVD\",\n",
    "                features == \"ASCVD+MET\" ~ \"ASCVD+MET\"\n",
    "            )\n",
    "        ) %>%\n",
    "    mutate(\n",
    "            scaler = case_when(\n",
    "                scaler == \"ukbbscaled\" ~ \"ukbscaled\",\n",
    "                scaler == \"rescaled\" ~ \"rescaled\"\n",
    "            )\n",
    "        ) %>% \n",
    "    filter(iteration==0)  %>%\n",
    "    filter(scaler==\"rescaled\") %>%\n",
    "     select(cohort, endpoint, features, n, nevent) %>%\n",
    "    filter(features %in% c(\"MET\", \"Age+Sex\", \"Age+Sex+MET\")) #endpoint, features, scaler, iteration, cindex_t10) %>% rename(cindex=cindex_t10)\n",
    "#counts_bbmri %>% arrange(cohort, endpoint, features) #' %>% filter(cohort!=\"LLS\")#%>% sample_n(5)"
   ]
  },
  {
   "cell_type": "code",
   "execution_count": null,
   "metadata": {},
   "outputs": [],
   "source": [
    "# counts UKB\n",
    "counts_ukb_raw = arrow::read_feather(glue(\"{data_results_path}/nevents_UKB_220401.feather\"))\n",
    "counts_ukb = counts_ukb_raw %>% filter(group==\"age\") %>% \n",
    "    group_by(endpoint) %>% summarise(n=n(), nevent=sum(event_10)) %>%\n",
    "    mutate(cohort=\"UKB\") %>% select(cohort, endpoint, n, nevent)"
   ]
  },
  {
   "cell_type": "code",
   "execution_count": null,
   "metadata": {},
   "outputs": [],
   "source": [
    "## new 10y\n",
    "counts_WHII = \n",
    "    tribble(\n",
    "        ~cohort, ~endpoint, ~n, ~nevent, \n",
    "        \"WHII\", \"M_all_cause_dementia\", 6117, 39,\n",
    "        \"WHII\", \"M_asthma\", 5596, 186,\n",
    "        \"WHII\", \"M_cerebral_stroke\", 5739, 232,\n",
    "        \"WHII\", \"M_chronic_obstructuve_pulmonary_disease\", 6115, 80,\n",
    "        \"WHII\", \"M_coronary_heart_disease\", 5807, 402,\n",
    "        \"WHII\", \"M_heart_failure\", 6096, 64,\n",
    "        \"WHII\", \"M_MACE\", 5619, 304,\n",
    "        \"WHII\", \"M_parkinsons_disease\", 6117, 31,\n",
    "        \"WHII\", \"M_type_2_diabetes\", 5917, 302,\n",
    "        \n",
    ")\n",
    "counts_WHII %>% select(cohort, endpoint, nevent, n)"
   ]
  },
  {
   "cell_type": "raw",
   "metadata": {},
   "source": [
    "## old\n",
    "counts_WHII = \n",
    "    tribble(\n",
    "        ~cohort, ~endpoint, ~n, ~nevent, \n",
    "        \"WHII\", \"M_all_cause_dementia\", 6197, 39,\n",
    "        \"WHII\", \"M_asthma\", 5669, 187,\n",
    "        \"WHII\", \"M_cerebral_stroke\", 5813, 234,\n",
    "        \"WHII\", \"M_chronic_obstructuve_pulmonary_disease\", 6195, 81,\n",
    "        \"WHII\", \"M_coronary_heart_disease\", 5882, 408,\n",
    "        \"WHII\", \"M_heart_failure\", 6176, 65,\n",
    "        \"WHII\", \"M_MACE\", 5690, 307,\n",
    "        \"WHII\", \"M_parkinsons_disease\", 6197, 31,\n",
    "        \"WHII\", \"M_type_2_diabetes\", 5996, 303,\n",
    "        \n",
    ")\n",
    "counts_WHII %>% select(cohort, endpoint, nevent, n)\n",
    "\n",
    "### all time\n",
    "counts_WHII = \n",
    "    tribble(\n",
    "        ~cohort, ~endpoint, ~n, ~nevent, \n",
    "        \"WHII\", \"M_all_cause_dementia\", 6117, 170,\n",
    "        \"WHII\", \"M_asthma\", 5596, 291,\n",
    "        \"WHII\", \"M_cerebral_stroke\", 5739, 426,\n",
    "        \"WHII\", \"M_chronic_obstructuve_pulmonary_disease\", 6115, 215,\n",
    "        \"WHII\", \"M_coronary_heart_disease\", 5807, 675,\n",
    "        \"WHII\", \"M_heart_failure\", 6096, 176,\n",
    "        \"WHII\", \"M_MACE\", 5619, 555,\n",
    "        \"WHII\", \"M_parkinsons_disease\", 6117, 94,\n",
    "        \"WHII\", \"M_type_2_diabetes\", 5917, 546,\n",
    "        \n",
    ")\n",
    "counts_WHII %>% select(cohort, endpoint, nevent, n)"
   ]
  },
  {
   "cell_type": "code",
   "execution_count": null,
   "metadata": {},
   "outputs": [],
   "source": [
    "counts_all = bind_rows(counts_bbmri, counts_ukb, counts_WHII) %>% distinct(cohort, endpoint, n, nevent) %>% \n",
    "    mutate(cohort = factor(cohort, levels=c(\"UKB\", \"WHII\", \"RS\", \"LLS\", \"PROSPER\")))\n",
    "counts_all"
   ]
  },
  {
   "cell_type": "code",
   "execution_count": null,
   "metadata": {},
   "outputs": [],
   "source": [
    "library(ggthemes)\n",
    "endpoint_map = c(\n",
    "    'M_MACE'='MACE',\n",
    "    'M_all_cause_dementia'='Dementia',\n",
    "    'M_type_2_diabetes'='T2 Diabetes',\n",
    "    'M_liver_disease'='Liver Disease',\n",
    "    'M_renal_disease'='Renal Disease',\n",
    "    'M_atrial_fibrillation'='Atrial Fibrillation',\n",
    "    'M_heart_failure'= 'Heart Failure',\n",
    "    'M_coronary_heart_disease'='CHD',\n",
    "    'M_venous_thrombosis'='Ven. Thrombosis',\n",
    "    'M_cerebral_stroke'='Cerebral Stroke',\n",
    "    'M_abdominal_aortic_aneurysm'='AAA',\n",
    "    'M_peripheral_arterial_disease'='PAD',\n",
    "    \"M_chronic_obstructuve_pulmonary_disease\" = \"COPD\",\n",
    "    \"M_asthma\" = \"Asthma\",\n",
    "    'M_parkinsons_disease' = \"Parkinson's\",    \n",
    "    \"M_lung_cancer\" = \"Lung Cancer\",\n",
    "    \"M_non_melanoma_skin_cancer\" = \"Skin Cancer\",\n",
    "    \"M_colon_cancer\"= \"Colon Cancer\",\n",
    "    \"M_rectal_cancer\" = \"Rectal Cancer\",\n",
    "    \"M_prostate_cancer\"= \"Prostate Cancer\",\n",
    "    \"M_breast_cancer\" = \"Breast Cancer\",\n",
    "    'M_cataracts' = \"Cataracts\", \n",
    "    'M_glaucoma' = \"Glaucoma\",\n",
    "    'M_fractures' = \"Fractures\"\n",
    ")\n",
    "\n",
    "endpoint_order = c(\"M_MACE\", \"M_coronary_heart_disease\", \"M_cerebral_stroke\", \"M_all_cause_dementia\", \"M_heart_failure\", \"M_atrial_fibrillation\",\n",
    "                   \"M_type_2_diabetes\", \"M_liver_disease\", \"M_renal_disease\", \"M_peripheral_arterial_disease\", \"M_venous_thrombosis\",  \"M_abdominal_aortic_aneurysm\",\n",
    "                   \"M_chronic_obstructuve_pulmonary_disease\", \"M_asthma\", 'M_parkinsons_disease', 'M_cataracts', 'M_glaucoma', 'M_fractures',\n",
    "                    \"M_lung_cancer\",\"M_non_melanoma_skin_cancer\",\"M_colon_cancer\",\"M_rectal_cancer\",\"M_prostate_cancer\",\"M_breast_cancer\"\n",
    "                   \n",
    ")"
   ]
  },
  {
   "cell_type": "code",
   "execution_count": null,
   "metadata": {},
   "outputs": [],
   "source": [
    "em_wrap = endpoint_map\n",
    "em_wrap[names(endpoint_map)] <- str_wrap(unname(endpoint_map), 20)\n",
    "em_wrap"
   ]
  },
  {
   "cell_type": "code",
   "execution_count": null,
   "metadata": {},
   "outputs": [],
   "source": [
    "library(ggdist)"
   ]
  },
  {
   "cell_type": "code",
   "execution_count": null,
   "metadata": {},
   "outputs": [],
   "source": [
    "library(ggtext)"
   ]
  },
  {
   "cell_type": "code",
   "execution_count": null,
   "metadata": {},
   "outputs": [],
   "source": [
    "library(ggforestplot)"
   ]
  },
  {
   "cell_type": "code",
   "execution_count": null,
   "metadata": {},
   "outputs": [],
   "source": [
    "library(cowplot)"
   ]
  },
  {
   "cell_type": "markdown",
   "metadata": {},
   "source": [
    "## Figure 3 - Performance in Context"
   ]
  },
  {
   "cell_type": "code",
   "execution_count": null,
   "metadata": {},
   "outputs": [],
   "source": [
    "library(scales)"
   ]
  },
  {
   "cell_type": "code",
   "execution_count": null,
   "metadata": {},
   "outputs": [],
   "source": [
    "features_plot = c(\n",
    "    \"MET\",\n",
    "    \"Age+Sex\",\n",
    "    \"Age+Sex+MET\",\n",
    "    \n",
    "    \"ASCVD\",\n",
    "    \"ASCVD+MET\"\n",
    "               )\n",
    "\n",
    "endpoint_order = c(\"M_MACE\", \"M_coronary_heart_disease\", \"M_cerebral_stroke\", \"M_all_cause_dementia\", \"M_heart_failure\", \"M_atrial_fibrillation\",\n",
    "                   \"M_type_2_diabetes\", \"M_liver_disease\", \"M_renal_disease\", \"M_peripheral_arterial_disease\", \"M_venous_thrombosis\",  \"M_abdominal_aortic_aneurysm\",\n",
    "                   \"M_chronic_obstructuve_pulmonary_disease\", \"M_asthma\", 'M_parkinsons_disease', 'M_cataracts', 'M_glaucoma', 'M_fractures',\n",
    "                    \"M_lung_cancer\",\"M_non_melanoma_skin_cancer\",\"M_colon_cancer\",\"M_rectal_cancer\",\"M_prostate_cancer\",\"M_breast_cancer\"\n",
    "                   \n",
    ")\n",
    "\n",
    "\n",
    "temp = benchmarks_all %>% \n",
    "   mutate_at(vars(features), list(~ factor(., levels=features_plot))) %>% filter(features==features) %>% filter(features %in% features_plot) %>% \n",
    "    mutate(endpoint = factor(endpoint, levels=endpoint_order)) #%>% #filter(endpoint %in% endpoint_selection)\n",
    "temp_desc = temp %>% group_by(cohort, scaler, endpoint, features) %>% summarise(mean=median(cindex, na.rm=TRUE), max = max(cindex), .groups=\"drop\")"
   ]
  },
  {
   "cell_type": "code",
   "execution_count": null,
   "metadata": {},
   "outputs": [],
   "source": [
    "endpoints_plot = c(\n",
    "\"M_cerebral_stroke\",\n",
    "\"M_type_2_diabetes\",\n",
    "\"M_coronary_heart_disease\",\n",
    "\"M_heart_failure\",\n",
    "\"M_chronic_obstructuve_pulmonary_disease\",\n",
    "\"M_all_cause_dementia\",\n",
    "\"M_atrial_fibrillation\"#,\n",
    "#\"M_MACE\"\n",
    "#M_asthma\",\n",
    "#\"M_parkinsons_disease\"\n",
    ")"
   ]
  },
  {
   "cell_type": "code",
   "execution_count": null,
   "metadata": {},
   "outputs": [],
   "source": [
    "color_map <- c('Age+Sex' = colors_dict$pastel$grey$light, \n",
    "               'MET' = \"#4F8EC1\",  #colors_dict$pastel$orange$dark,\n",
    "               'ASCVD' = colors_dict$pastel$grey$light, \n",
    "               'Age+Sex+MET' = \"#53dd6c\",#colors_dict$pastel$orange$mid,\n",
    "               'ASCVD+Metabolomics' = \"#d8315b\"#colors_dict$pastel$red$mid,\n",
    "      )"
   ]
  },
  {
   "cell_type": "code",
   "execution_count": null,
   "metadata": {},
   "outputs": [],
   "source": [
    "base_size = 7\n",
    "title_size = 7\n",
    "facet_size = 7\n",
    "geom_text_size=3\n",
    "library(ggplot2); \n",
    "theme_set(theme_classic(base_size = base_size) + \n",
    "          theme(strip.background = element_blank(), plot.title=element_text(size=title_size, hjust=0), \n",
    "                strip.text.x = element_text(size = facet_size),axis.title=element_text(size=7), axis.text=element_text(size=7, color=\"black\"), axis.text.x=element_text(size=7, color=\"black\"),\n",
    "                legend.position=\"bottom\", axis.line = element_line(size = 0.2), axis.ticks=element_line(size=0.2)))"
   ]
  },
  {
   "cell_type": "code",
   "execution_count": null,
   "metadata": {},
   "outputs": [],
   "source": [
    "plot_width=4; plot_height=8; plot_dpi=320\n",
    "options(repr.plot.width = plot_width, repr.plot.height = plot_height, repr.plot.res=plot_dpi)\n",
    "\n",
    "counts_temp = counts_all %>% filter(endpoint %in% endpoints_plot) %>% \n",
    "    mutate(endpoint = factor(endpoint, levels=endpoint_order))\n",
    "\n",
    "met_discrimination = temp %>%\n",
    "    filter(features %in% c(\"Age+Sex\", \"MET\", \"Age+Sex+MET\")) %>% \n",
    "    filter(scaler==\"rescaled\") %>%\n",
    "    filter(endpoint %in% endpoints_plot) %>%\n",
    "    mutate(endpoint = factor(endpoint, levels=endpoint_order)) %>%\n",
    "    mutate(cohort = factor(cohort, levels=c(\"UKB\", \"WHII\", \"RS\", \"LLS\", \"PROSPER\"))) %>%\n",
    "    #filter(cohort=\"UKB\") %>% \n",
    "    ggplot(aes(x=features)) +\n",
    "    labs(x=NULL, y=\"Absolute C-Index\")+#, title=\"Metabolomics (orange) vs. Age+Sex (grey) vs. AgeSexMetabolomic (red)\")+\n",
    "    geom_text(data=counts_temp, mapping=aes(label=glue(\"{nevent}/{n}\"), x=2, y=Inf), hjust=0.5, vjust=1, size=2, alpha=0.7)+\n",
    "    stat_gradientinterval(mapping = aes(y=cindex, , color=features), alpha=0.7, fatten_point=0.8, interval_size_range=c(0.3, 0.6), slab_alpha=0, position=\"dodge\")+\n",
    "    #geom_hline(data = temp %>% filter(features==\"Age+Sex\") %>% group_by(endpoint) %>% summarise(mean_ci=mean(cindex)), \n",
    "          #     mapping = aes(yintercept=mean_ci), color=color_map[['COX_Age+Sex']], alpha=0.5, linetype=\"22\", size=0.4)+\n",
    "    #geom_hline(data = temp %>% filter(features==\"ASCVD\") %>% group_by(endpoint) %>% summarise(mean_ci=mean(cindex)), \n",
    "               #mapping = aes(yintercept=mean_ci), color=color_map[['COX_ASCVD']], alpha=0.5, linetype=\"22\", size=0.4)+\n",
    "\n",
    "    scale_x_discrete()+\n",
    "    scale_color_manual(values=color_map) + \n",
    "    scale_y_continuous(breaks=scales::extended_breaks())+\n",
    "    #scale_color_manual(values=color_map)+scale_fill_manual(values=color_map)+\n",
    "    #coord_flip() + \n",
    "    #facet_wrap(~endpoint+cohort, scales=\"free_y\", labeller = labeller(endpoint = endpoint_map), ncol=10) +theme(legend.position=\"none\")+\n",
    "    facet_grid(endpoint~cohort, scales=\"free_x\", labeller = labeller(endpoint = endpoint_map), switch=\"y\") +\n",
    "    theme(axis.text.x = element_text(angle =90, hjust = 1))+#+#+\n",
    "    theme(strip.text.y.left = element_text(angle = 90))+\n",
    "    theme(panel.spacing = unit(0.8, \"lines\"), \n",
    "          panel.grid.major.y = element_line(), \n",
    "          axis.text.x = element_text(vjust=0.5),\n",
    "         legend.position=\"none\", strip.placement = \"outside\", strip.text.y = element_text(size=7.5))\n",
    "\n",
    "met_discrimination"
   ]
  },
  {
   "cell_type": "markdown",
   "metadata": {},
   "source": [
    "## Diff endpoints"
   ]
  },
  {
   "cell_type": "code",
   "execution_count": null,
   "metadata": {},
   "outputs": [],
   "source": [
    "temp_wide = temp %>% filter(iteration !=0) %>% \n",
    "    filter(scaler==\"rescaled\") %>%\n",
    "    filter(features %in% c(\"MET\", \"Age+Sex\", \"Age+Sex+MET\")) %>%\n",
    "    filter(endpoint %in% endpoints_plot) %>%\n",
    "    pivot_wider(names_from=features, values_from=cindex) "
   ]
  },
  {
   "cell_type": "code",
   "execution_count": null,
   "metadata": {},
   "outputs": [],
   "source": [
    "scores = c('MET', 'Age+Sex', 'Age+Sex+MET')"
   ]
  },
  {
   "cell_type": "code",
   "execution_count": null,
   "metadata": {},
   "outputs": [],
   "source": [
    "temp_diff_calc = temp_wide %>% select(-scaler)\n",
    "\n",
    "score_df = tibble(score1=\"\", score2=\"\")\n",
    "for (score1 in rev(scores)){\n",
    "    for (score2 in scores){\n",
    "        if (score1!=score2){\n",
    "            score_df_temp = score_df %>% filter(\n",
    "                (score1==!!score1&score2==!!score2)|\n",
    "                (score1==!!score2&score2==!!score1)\n",
    "            )\n",
    "            if (nrow(score_df_temp)==0){\n",
    "                score_df = score_df #%>% add_row(score1=score1, score2=score2)\n",
    "                delta = glue(\"{score1} vs. {score2}\")\n",
    "                temp_diff_calc = temp_diff_calc %>% mutate(!!delta := !!sym(score1)-!!sym(score2))\n",
    "            }\n",
    "            }\n",
    "    }\n",
    "}\n",
    "temp_diff_calc = temp_diff_calc %>% select(-all_of(scores)) "
   ]
  },
  {
   "cell_type": "code",
   "execution_count": null,
   "metadata": {},
   "outputs": [],
   "source": [
    "temp_agg = temp_diff_calc %>% select(cohort, endpoint, iteration, `MET vs. Age+Sex`, `Age+Sex+MET vs. Age+Sex`) %>% \n",
    "    pivot_longer(-c(cohort, endpoint, iteration), names_to=\"comparison\", values_to=\"delta\") %>% \n",
    "    group_by(cohort, endpoint, comparison) %>% \n",
    "    median_qi(delta) %>%\n",
    "    #filter(endpoint==\"M_all_cause_dementia\") %>% \n",
    "    mutate(significant = case_when((0!=delta & 0 >= `.lower` & 0 <= `.upper`) ~ \"ns\", TRUE ~ \"*\")) %>%\n",
    "    mutate(endpoint=factor(endpoint, levels=endpoint_order)) %>% arrange(endpoint)\n",
    "temp_agg$endpoint = recode(temp_agg$endpoint, !!!endpoint_map) "
   ]
  },
  {
   "cell_type": "raw",
   "metadata": {},
   "source": [
    "temp_agg = temp_diff_calc %>% \n",
    "    pivot_longer(-c(endpoint, iteration), names_to=\"comparison\", values_to=\"delta\") %>% \n",
    "    group_by(endpoint, comparison) %>% \n",
    "    median_qi(delta) %>%\n",
    "    mutate(different = case_when((0!=delta & 0 >= `.lower` & 0 <= `.upper`) ~ \"\", TRUE ~ \"*\")) %>%\n",
    "    mutate(delta_cindex = glue(\"{round(delta, 5)} ({round(.lower, 5)}, {round(.upper, 5)}){different}\")) %>%\n",
    "    select(endpoint, comparison, delta_cindex) %>% pivot_wider(names_from=\"comparison\", values_from=\"delta_cindex\")  %>% mutate(endpoint=factor(endpoint, levels=endpoint_order)) %>% arrange(endpoint)\n",
    "temp_agg$endpoint = recode(temp_agg$endpoint, !!!endpoint_map)"
   ]
  },
  {
   "cell_type": "code",
   "execution_count": null,
   "metadata": {},
   "outputs": [],
   "source": [
    "temp_agg %>% \n",
    "    filter(comparison %in% c(\"MET vs. Age+Sex\", \"Age+Sex+MET vs. Age+Sex\")) %>%\n",
    "    mutate(comparison = factor(comparison, levels=c(\"MET vs. Age+Sex\", \"Age+Sex+MET vs. Age+Sex\"))) %>%\n",
    "    mutate(cohort = factor(cohort, levels=c(\"UKB\", \"WHII\", \"RS\", \"LLS\", \"PROSPER\"))) %>%\n",
    "    select(endpoint, comparison, everything()) %>% arrange(endpoint, comparison, cohort)"
   ]
  },
  {
   "cell_type": "code",
   "execution_count": null,
   "metadata": {},
   "outputs": [],
   "source": [
    "plot_name = \"Suppl_Table_PerformanceComparisons\"\n",
    "temp_agg %>% write_csv(glue(\"outputs/{plot_name}.csv\"))"
   ]
  },
  {
   "cell_type": "code",
   "execution_count": null,
   "metadata": {},
   "outputs": [],
   "source": [
    "temp %>% filter(iteration !=0) %>% \n",
    "    filter(scaler==\"rescaled\") %>%\n",
    "    filter(endpoint %in% endpoints_plot) %>%\n",
    "    filter(cohort == \"WHII\") %>% arrange(iteration, endpoint, features)"
   ]
  },
  {
   "cell_type": "code",
   "execution_count": null,
   "metadata": {},
   "outputs": [],
   "source": [
    "temp %>% filter(iteration !=0) %>% \n",
    "    filter(scaler==\"rescaled\") %>%\n",
    "    filter(endpoint %in% endpoints_plot) %>%\n",
    "    filter(cohort == \"UKB\") %>% arrange(iteration, endpoint, features)"
   ]
  },
  {
   "cell_type": "code",
   "execution_count": null,
   "metadata": {},
   "outputs": [],
   "source": [
    "ep_table  = temp %>% select(cohort, scaler, endpoint, features, iteration, cindex) %>% \n",
    "    group_by(cohort, scaler, endpoint, features) %>% median_qi(cindex) %>% mutate(result = glue(\"{round(cindex, 3)} ({round(.lower, 3)}, {round(.upper, 3)})\")) %>% \n",
    "    select(cohort, scaler, endpoint, features, cindex, result)"
   ]
  },
  {
   "cell_type": "code",
   "execution_count": null,
   "metadata": {},
   "outputs": [],
   "source": [
    "agg_table = temp %>% group_by(cohort, scaler, features, iteration) %>% \n",
    "    summarise(cindex = mean(cindex)) %>% group_by(cohort, scaler, features) %>% \n",
    "    median_qi(cindex) %>% ungroup() %>% mutate(result = glue(\"{round(cindex, 3)} ({round(.lower, 3)}, {round(.upper, 3)})\")) %>% mutate(endpoint = \"Overall\") %>% \n",
    "    select(cohort, scaler, endpoint, features, cindex, result)\n",
    "agg_table %>% sample_n(5)"
   ]
  },
  {
   "cell_type": "code",
   "execution_count": null,
   "metadata": {},
   "outputs": [],
   "source": [
    "perf_table = bind_rows(ep_table, agg_table) %>% select(-cindex) %>% pivot_wider(names_from=\"features\", values_from=\"result\")\n",
    "perf_table$endpoint = recode(perf_table$endpoint, !!!endpoint_map)\n",
    "perf_table %>% head(5)"
   ]
  },
  {
   "cell_type": "code",
   "execution_count": null,
   "metadata": {},
   "outputs": [],
   "source": [
    "endpoints_plot = c(\n",
    "\"M_cerebral_stroke\",\n",
    "\"M_type_2_diabetes\",\n",
    "\"M_coronary_heart_disease\",\n",
    "\"M_heart_failure\",\n",
    "\"M_chronic_obstructuve_pulmonary_disease\",\n",
    "\"M_all_cause_dementia\",\n",
    "\"M_atrial_fibrillation\"#,\n",
    "#\"M_MACE\"\n",
    "#M_asthma\",\n",
    "#\"M_parkinsons_disease\"\n",
    ")"
   ]
  },
  {
   "cell_type": "markdown",
   "metadata": {},
   "source": [
    "## Hazard Ratios"
   ]
  },
  {
   "cell_type": "code",
   "execution_count": null,
   "metadata": {},
   "outputs": [],
   "source": [
    "hrs_ukb = read_feather(glue(\"outputs/ukb_hrs.feather\")) %>% ungroup() %>% \n",
    "    filter(features %in% c(\"Metabolomics\", \"Age+Sex+Metabolomics\", \"ASCVD+Metabolomics\")) %>%\n",
    "    mutate(HR = exp(coef)) %>% \n",
    "    mutate(iteration=as.integer(i)) %>% \n",
    "    select(-i) %>%\n",
    "    arrange(endpoint, features, iteration) %>%\n",
    "    ungroup() %>% mutate(cohort=\"UKB\") %>%\n",
    "    select(cohort, endpoint, features, iteration, HR) %>%\n",
    "    mutate(\n",
    "            features = case_when(\n",
    "                features == \"Metabolomics\" ~ \"MET\",\n",
    "                features == \"Age+Sex+Metabolomics\" ~ \"Age+Sex+MET\",\n",
    "                features == \"ASCVD+Metabolomics\" ~ \"ASCVD+MET\"\n",
    "            )\n",
    "        ) \n",
    "hrs_ukb %>% head()"
   ]
  },
  {
   "cell_type": "code",
   "execution_count": null,
   "metadata": {},
   "outputs": [],
   "source": [
    "hrs_LLS = fread(\"ExternalCohorts/LLS_PAROFFS/coxcoeffients_LLS_PAROFFS_220406.csv\") %>% \n",
    "    mutate(cohort=\"LLS\") %>% mutate(estimate=as.numeric(estimate))\n",
    "hrs_PROSPER = fread(\"ExternalCohorts/PROSPER/coxcoeffients_PROSPER_220331.csv\") %>% \n",
    "    mutate(cohort=\"PROSPER\") %>% mutate(estimate=as.numeric(estimate))\n",
    "hrs_ROTTERDAM = fread(\"ExternalCohorts/ROTTERDAM/coxcoeffients_bbmri_220331.csv\") %>% \n",
    "    mutate(cohort=\"RS\") %>% mutate(estimate=as.numeric(estimate))"
   ]
  },
  {
   "cell_type": "code",
   "execution_count": null,
   "metadata": {},
   "outputs": [],
   "source": [
    "hrs_bbmri = bind_rows(hrs_LLS, hrs_PROSPER, hrs_ROTTERDAM) %>% \n",
    "    filter(str_detect(term, \"logh_\"))  %>% \n",
    "    mutate(HR=estimate) %>% \n",
    "    filter(scaler==\"rescaled\") %>% \n",
    "    select(cohort, endpoint, features, iteration, HR) %>%\n",
    "    mutate(\n",
    "            features = case_when(\n",
    "                features == \"AgeSex\" ~ \"Age+Sex\",\n",
    "                features == \"MET\" ~ \"MET\",\n",
    "                features == \"AgeSex+MET\" ~ \"Age+Sex+MET\",\n",
    "                features == \"ASCVD\" ~ \"ASCVD\",\n",
    "                features == \"ASCVD+MET\" ~ \"ASCVD+MET\"\n",
    "            )\n",
    "        ) "
   ]
  },
  {
   "cell_type": "code",
   "execution_count": null,
   "metadata": {},
   "outputs": [],
   "source": [
    "hrs_whii_raw = fread(\"ExternalCohorts/WHII/MET_HRs_metabolomics_whiiscaled.csv\") %>% \n",
    "    mutate(HR = HR_Metabolomics, cohort=\"WHII\") %>%\n",
    "    select(cohort, endpoint, features, HR)"
   ]
  },
  {
   "cell_type": "code",
   "execution_count": null,
   "metadata": {},
   "outputs": [],
   "source": [
    "purrr::map_dfr(integer(1000), ~ hrs_whii_raw %>% group_by(endpoint, features) %>% sample_n(1), .id=\"i\") -> hrs_whii_boot"
   ]
  },
  {
   "cell_type": "code",
   "execution_count": null,
   "metadata": {},
   "outputs": [],
   "source": [
    "hrs_whii = hrs_whii_boot %>% \n",
    "    filter(features %in% c(\"Metabolomics\", \"Age+Sex+Metabolomics\", \"ASCVD+Metabolomics\")) %>%\n",
    "    mutate(iteration=as.integer(i)) %>% \n",
    "    select(cohort, endpoint, features, HR, iteration) %>% \n",
    "    ungroup() %>% mutate(cohort=\"WHII\") %>%\n",
    "    mutate(\n",
    "            features = case_when(\n",
    "                features == \"Metabolomics\" ~ \"MET\",\n",
    "                features == \"Age+Sex+Metabolomics\" ~ \"Age+Sex+MET\",\n",
    "                features == \"ASCVD+Metabolomics\" ~ \"ASCVD+MET\"\n",
    "            )\n",
    "        ) \n",
    "    \n",
    "    \n",
    "hrs_whii %>% head()"
   ]
  },
  {
   "cell_type": "code",
   "execution_count": null,
   "metadata": {},
   "outputs": [],
   "source": [
    "hrs_all = bind_rows(hrs_ukb, hrs_bbmri, hrs_whii) %>% \n",
    "    filter(features %in% c(\"MET\", \"Age+Sex+MET\", \"ASCVD+MET\")) %>% \n",
    "    filter(endpoint %in% endpoints_plot) %>%\n",
    "    mutate(endpoint = factor(endpoint, levels=endpoint_order))  %>%\n",
    "    mutate(cohort = factor(cohort, levels=c(\"UKB\", \"WHII\", \"RS\", \"LLS\", \"PROSPER\")))"
   ]
  },
  {
   "cell_type": "code",
   "execution_count": null,
   "metadata": {},
   "outputs": [],
   "source": [
    "hrs_all %>% group_by(cohort, features) %>% tally()"
   ]
  },
  {
   "cell_type": "code",
   "execution_count": null,
   "metadata": {},
   "outputs": [],
   "source": [
    "temp_hrs_agg = hrs_all %>% \n",
    "    filter(iteration!=0) %>%\n",
    "    group_by(cohort, endpoint, features) %>% median_qi(HR, na.rm=TRUE) %>% rename(hr = HR) %>%\n",
    "    mutate(hr = round(hr, 2), .lower=round(.lower, 2), .upper=round(.upper, 2)) %>%#c(hr, .lower, .upper), round, 1) %>%\n",
    "    mutate(HR_Metabolomics = glue(\"{hr} ({.lower}, {.upper})\")) %>% \n",
    "    select(cohort, endpoint, features, HR_Metabolomics) %>%\n",
    "    pivot_wider(names_from=\"features\", values_from=\"HR_Metabolomics\") %>% \n",
    "    select(all_of(c(\n",
    "        \"endpoint\", \n",
    "        \"cohort\",\n",
    "                    'Age+Sex+MET' \n",
    "                    #'SCORE2+Metabolomics', \n",
    "                   # 'ASCVD+MET'\n",
    "    ))) %>% \n",
    "    mutate(endpoint = factor(endpoint, levels = endpoint_order)) %>% arrange(endpoint) %>%\n",
    "    mutate(endpoint = recode(endpoint, !!!endpoint_map)) %>%\n",
    "    ungroup() %>% arrange(endpoint, cohort)\n",
    "temp_hrs_agg"
   ]
  },
  {
   "cell_type": "code",
   "execution_count": null,
   "metadata": {},
   "outputs": [],
   "source": [
    "hr_labels = temp_hrs_agg %>% \n",
    "    pivot_longer(-c(endpoint, cohort), names_to=\"features\", values_to=\"HR\")\n",
    "hr_labels"
   ]
  },
  {
   "cell_type": "code",
   "execution_count": null,
   "metadata": {},
   "outputs": [],
   "source": [
    "temp = hrs_all %>% \n",
    "    filter(endpoint %in% endpoints_plot)  %>%  \n",
    "    mutate(endpoint = factor(endpoint, levels = endpoint_order)) %>% \n",
    "    arrange(endpoint) %>%\n",
    "    mutate(endpoint = recode(endpoint, !!!endpoint_map)) %>% \n",
    "    filter(features %in% c(\"Age+Sex+MET\")) %>%\n",
    "    mutate(features = factor(features, levels=c(\"Age+Sex+MET\"))) %>%\n",
    "    ungroup() %>%\n",
    "    mutate(coef = log(HR))\n",
    "    \n",
    "temp %>% head()"
   ]
  },
  {
   "cell_type": "code",
   "execution_count": null,
   "metadata": {},
   "outputs": [],
   "source": [
    "## 66%, 95%\n",
    "#endpoint_order_panel = (temp_wide %>% group_by(endpoint) %>% mutate(delta = `DS_PANEL+Metabolomics`-`COX_PANEL`) %>% summarise(delta=mean(delta)) %>% arrange(delta))$endpoint\n",
    "plot_width=4.25; plot_height=8; plot_dpi=320\n",
    "options(repr.plot.width = plot_width, repr.plot.height = plot_height, repr.plot.res=plot_dpi)\n",
    "\n",
    "hr_plot = ggplot(\n",
    "    temp, aes(x=fct_rev(cohort), y=HR, group=cohort))+\n",
    "    labs(x=NULL, y=\"Adjusted Hazard Ratio / SD Metabolomic State\")+\n",
    "    #geom_boxplot()+\n",
    "    stat_gradientinterval(color=\"black\", alpha=0.5, fatten_point=0.8, interval_size_range=c(0.3, 0.6), fill=NA)+\n",
    "    geom_hline(yintercept=1, alpha=0.7, color=\"black\", size=0.25)+\n",
    "    geom_hline(yintercept=1.5, alpha=0.3, color=\"black\", size=0.25, linetype=\"22\")+\n",
    "    geom_hline(yintercept=2, alpha=0.4, color=\"black\", size=0.25, linetype=\"22\")+\n",
    "    geom_hline(yintercept=3, alpha=0.5, color=\"black\", size=0.25, linetype=\"22\")+\n",
    "    scale_x_discrete()+\n",
    "    coord_flip(ylim=c(-0.3, 4.1))+#ylim=c(-0.02, 0.02))+\n",
    "    #scale_y_continuous()+ \n",
    "    theme(plot.title = element_text(hjust=0.5))+\n",
    "    facet_grid(endpoint ~ ., space=\"free\", scales=\"free_y\") +\n",
    "      theme(strip.placement = \"outside\")+\n",
    "    theme(strip.text.y.left = element_text(angle = 90), strip.text.y = element_text(size=7.5))+\n",
    "    theme(axis.text.y = element_text(size=5.5))+\n",
    "    geom_text(data=hr_labels, mapping=aes(x=cohort, label=glue(\"HR: {HR}\")), \n",
    "            #position=position_dodge(width = .9), \n",
    "             y=-0.4, size=2, hjust=0)\n",
    "hr_plot"
   ]
  },
  {
   "cell_type": "code",
   "execution_count": null,
   "metadata": {},
   "outputs": [],
   "source": [
    "plot_width=8.25; plot_height=8; plot_dpi=320\n",
    "options(repr.plot.width = plot_width, repr.plot.height = plot_height, repr.plot.res=plot_dpi)\n",
    "ext_val = (met_discrimination | hr_plot) + plot_layout(width=c(4, 4.25))\n",
    "ext_val"
   ]
  },
  {
   "cell_type": "code",
   "execution_count": null,
   "metadata": {},
   "outputs": [],
   "source": [
    "# add events etc!!!"
   ]
  },
  {
   "cell_type": "code",
   "execution_count": null,
   "metadata": {},
   "outputs": [],
   "source": [
    "library(gt)\n",
    "plot_name = \"Suppl_Figures_4_ExternalValidation\"\n",
    "ext_val %>% ggsave(filename=glue(\"outputs/{plot_name}.pdf\"), device=\"pdf\", width=plot_width, height=plot_height, dpi=plot_dpi)"
   ]
  },
  {
   "cell_type": "code",
   "execution_count": null,
   "metadata": {},
   "outputs": [],
   "source": []
  }
 ],
 "metadata": {
  "hide_input": false,
  "kernelspec": {
   "display_name": "R [conda env:r_env]",
   "language": "R",
   "name": "conda-env-r_env-r"
  },
  "language_info": {
   "codemirror_mode": "r",
   "file_extension": ".r",
   "mimetype": "text/x-r-source",
   "name": "R",
   "pygments_lexer": "r",
   "version": "4.0.2"
  },
  "toc-autonumbering": false
 },
 "nbformat": 4,
 "nbformat_minor": 4
}
