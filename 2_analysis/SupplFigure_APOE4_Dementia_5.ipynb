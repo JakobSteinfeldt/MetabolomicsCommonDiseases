{
 "cells": [
  {
   "cell_type": "markdown",
   "metadata": {},
   "source": [
    "## Initialize"
   ]
  },
  {
   "cell_type": "code",
   "execution_count": null,
   "metadata": {
    "ExecuteTime": {
     "end_time": "2021-01-05T11:03:09.852316Z",
     "start_time": "2021-01-05T11:03:07.701Z"
    }
   },
   "outputs": [],
   "source": [
    "#library(Rmisc)\n",
    "library(tidyverse)\n",
    "library(glue)\n",
    "library(arrow)\n",
    "library(patchwork)"
   ]
  },
  {
   "cell_type": "code",
   "execution_count": null,
   "metadata": {
    "ExecuteTime": {
     "end_time": "2021-01-05T11:03:10.932312Z",
     "start_time": "2021-01-05T11:03:10.882Z"
    }
   },
   "outputs": [],
   "source": [
    "if (grepl(\"sc\", Sys.info()[[\"nodename\"]], fixed=TRUE)) {\n",
    "    base_path = \"/sc-projects/sc-proj-ukb-cvd\"\n",
    "} else {\n",
    "    base_path = \"/data/analysis/ag-reils/ag-reils-shared/cardioRS\"}\n",
    "print(base_path)\n",
    "\n",
    "dataset_name = \"210714_metabolomics\"\n",
    "path = \"/data/analysis/ag-reils/steinfej/code/umbrella/pre/ukbb\"\n",
    "data_path = glue(\"{base_path}/data\")\n",
    "dataset_path = glue(\"{data_path}/3_datasets_post/{dataset_name}\")\n",
    "\n",
    "project_label=\"21_metabolomics_multitask\"\n",
    "project_path = glue(\"{base_path}/results/projects/{project_label}\")\n",
    "figures_path = glue(\"{project_path}/figures\")\n",
    "data_results_path = glue(\"{project_path}/data\")"
   ]
  },
  {
   "cell_type": "markdown",
   "metadata": {},
   "source": [
    "## Load data"
   ]
  },
  {
   "cell_type": "code",
   "execution_count": null,
   "metadata": {
    "ExecuteTime": {
     "end_time": "2021-01-05T11:03:12.470354Z",
     "start_time": "2021-01-05T11:03:11.387Z"
    }
   },
   "outputs": [],
   "source": [
    "list.dirs(path = project_path, full.names = TRUE, recursive = TRUE)"
   ]
  },
  {
   "cell_type": "code",
   "execution_count": null,
   "metadata": {},
   "outputs": [],
   "source": [
    "run = \"220126_apoe4\""
   ]
  },
  {
   "cell_type": "code",
   "execution_count": null,
   "metadata": {
    "ExecuteTime": {
     "end_time": "2021-01-05T11:03:23.212936Z",
     "start_time": "2021-01-05T11:03:11.689Z"
    }
   },
   "outputs": [],
   "source": [
    "DSM = \"MultiTaskSurvivalTraining\"\n",
    "data = arrow::read_feather(glue(\"{dataset_path}/data_merged.feather\")) \n",
    "data_description = arrow::read_feather(glue(\"{dataset_path}/description_merged.feather\"))\n",
    "#predictions = arrow::read_feather(glue(\"{data_results_path}/predictions_210803_metabolomics.feather\")) \n",
    "predictions = arrow::read_feather(glue(\"{data_results_path}/predictions_{run}_metabolomics_APOE4.feather\")) "
   ]
  },
  {
   "cell_type": "code",
   "execution_count": null,
   "metadata": {},
   "outputs": [],
   "source": [
    "data_events = data %>% select(eid, ends_with(\"event\"), ends_with(\"event_time\")) %>% \n",
    "    pivot_longer(-eid, names_to=c(\"endpoint\", \"type\"), values_to=\"value\", names_pattern=\"(.*)(event_time|event)\") %>% \n",
    "    mutate(endpoint = stringr::str_sub(endpoint, end=-2)) %>% pivot_wider(names_from=\"type\", values_from=\"value\")"
   ]
  },
  {
   "cell_type": "code",
   "execution_count": null,
   "metadata": {},
   "outputs": [],
   "source": [
    "scores = c(\"DS_Metabolomics\",\n",
    "           \"COX_PANEL\",\n",
    "           \"COX_PANELapoe4\", \n",
    "           \"DS_PANEL+Metabolomics\",\n",
    "           \"DS_PANELapoe4+Metabolomics\")"
   ]
  },
  {
   "cell_type": "code",
   "execution_count": null,
   "metadata": {},
   "outputs": [],
   "source": [
    "library(ggalt)"
   ]
  },
  {
   "cell_type": "code",
   "execution_count": null,
   "metadata": {},
   "outputs": [],
   "source": [
    "library(\"jsonlite\")\n",
    "colors_path = \"colors.json\"\n",
    "colors_dict = read_json(colors_path)"
   ]
  },
  {
   "cell_type": "code",
   "execution_count": null,
   "metadata": {},
   "outputs": [],
   "source": [
    "color_map <- c(\"all\" = \"grey\", \"none\" = \"black\",\n",
    "               'DS_Metabolomics' = \"#4F8EC1\",  #colors_dict$pastel$orange$dark,\n",
    "    \n",
    "               'COX_PANEL' = colors_dict$pastel$grey$light, \n",
    "               'DS_PANEL+Metabolomics' = colors_dict$pastel$grey$mid, \n",
    "               \n",
    "                'COX_PANELapoe4' = colors_dict$pastel$red$light,  \n",
    "               'DS_PANELapoe4+Metabolomics' = colors_dict$pastel$red$mid  \n",
    "      )"
   ]
  },
  {
   "cell_type": "code",
   "execution_count": null,
   "metadata": {},
   "outputs": [],
   "source": [
    "scores_full = names(color_map)"
   ]
  },
  {
   "cell_type": "code",
   "execution_count": null,
   "metadata": {},
   "outputs": [],
   "source": [
    "name = glue(\"benchmark_cindex_{run}\")\n",
    "benchmark_cindex_general = read_feather(glue(\"{data_results_path}/{name}.feather\"))  %>% distinct() %>% unite(\"score\", c(module, features), remove=FALSE) %>%  distinct()\n",
    "   # mutate_at(vars(score), list(~ factor(., levels=scores_full)))"
   ]
  },
  {
   "cell_type": "code",
   "execution_count": null,
   "metadata": {},
   "outputs": [],
   "source": [
    "base_size = 8\n",
    "title_size = 8\n",
    "facet_size = 8\n",
    "geom_text_size=3\n",
    "library(ggplot2); \n",
    "theme_set(theme_classic(base_size = base_size) + \n",
    "          theme(strip.background = element_blank(), plot.title=element_text(size=title_size, hjust=0), \n",
    "                strip.text.x = element_text(size = facet_size),axis.title=element_text(size=8), axis.text=element_text(size=8, color=\"black\"), axis.text.x=element_text(size=8, color=\"black\"),\n",
    "                legend.position=\"bottom\", axis.line = element_line(size = 0.2), axis.ticks=element_line(size=0.2)))"
   ]
  },
  {
   "cell_type": "code",
   "execution_count": null,
   "metadata": {},
   "outputs": [],
   "source": [
    "library(ggthemes)\n",
    "endpoint_map = c(\n",
    "    'M_MACE'='MACE',\n",
    "    'M_all_cause_dementia'='Dementia',\n",
    "    'M_type_2_diabetes'='T2 Diabetes',\n",
    "    'M_liver_disease'='Liver Disease',\n",
    "    'M_renal_disease'='Renal Disease',\n",
    "    'M_atrial_fibrillation'='Atrial Fibrillation',\n",
    "    'M_heart_failure'= 'Heart Failure',\n",
    "    'M_coronary_heart_disease'='CHD',\n",
    "    'M_venous_thrombosis'='Ven. Thrombosis',\n",
    "    'M_cerebral_stroke'='Cerebral Stroke',\n",
    "    'M_abdominal_aortic_aneurysm'='AAA',\n",
    "    'M_peripheral_arterial_disease'='PAD',\n",
    "    \"M_chronic_obstructuve_pulmonary_disease\" = \"COPD\",\n",
    "    \"M_asthma\" = \"Asthma\",\n",
    "    'M_parkinsons_disease' = \"Parkinson's\",    \n",
    "    \"M_lung_cancer\" = \"Lung Cancer\",\n",
    "    \"M_non_melanoma_skin_cancer\" = \"Skin Cancer\",\n",
    "    \"M_colon_cancer\"= \"Colon Cancer\",\n",
    "    \"M_rectal_cancer\" = \"Rectal Cancer\",\n",
    "    \"M_prostate_cancer\"= \"Prostate Cancer\",\n",
    "    \"M_breast_cancer\" = \"Breast Cancer\",\n",
    "    'M_cataracts' = \"Cataracts\", \n",
    "    'M_glaucoma' = \"Glaucoma\",\n",
    "    'M_fractures' = \"Fractures\"\n",
    ")\n",
    "\n",
    "endpoint_order = c(\"M_MACE\", \"M_coronary_heart_disease\", \"M_cerebral_stroke\", \"M_all_cause_dementia\", \"M_heart_failure\", \"M_atrial_fibrillation\",\n",
    "                   \"M_type_2_diabetes\", \"M_liver_disease\", \"M_renal_disease\", \"M_peripheral_arterial_disease\", \"M_venous_thrombosis\",  \"M_abdominal_aortic_aneurysm\",\n",
    "                   \"M_chronic_obstructuve_pulmonary_disease\", \"M_asthma\", 'M_parkinsons_disease', 'M_cataracts', 'M_glaucoma', 'M_fractures',\n",
    "                    \"M_lung_cancer\",\"M_non_melanoma_skin_cancer\",\"M_colon_cancer\",\"M_rectal_cancer\",\"M_prostate_cancer\",\"M_breast_cancer\"\n",
    "                   \n",
    ")"
   ]
  },
  {
   "cell_type": "code",
   "execution_count": null,
   "metadata": {},
   "outputs": [],
   "source": [
    "em_wrap = endpoint_map\n",
    "em_wrap[names(endpoint_map)] <- str_wrap(unname(endpoint_map), 20)\n",
    "em_wrap"
   ]
  },
  {
   "cell_type": "code",
   "execution_count": null,
   "metadata": {},
   "outputs": [],
   "source": [
    "options(repr.plot.width = 8, repr.plot.height = 8)\n",
    "library(ggbeeswarm)\n",
    "scores_plot = names(color_map)\n",
    "\n",
    "temp = benchmark_cindex_general %>% \n",
    "    mutate_at(vars(score), list(~ factor(., levels=scores_full))) %>% filter(score==score) %>% filter(score %in% scores_plot)\n",
    "temp_wide = temp %>% select(-module, -features) %>% pivot_wider(names_from=\"score\", values_from=\"cindex\") %>% mutate(delta=`DS_Metabolomics`-`COX_PANEL`)\n",
    "temp_desc = temp %>% group_by(endpoint, score) %>% summarise(mean=median(cindex, na.rm=TRUE), max = max(cindex), .groups=\"drop\")\n",
    "temp_desc = temp_desc %>% select(-max) %>% pivot_wider(names_from=\"score\", values_from=\"mean\") %>% mutate(delta=`DS_Metabolomics`-`COX_PANEL`) %>% mutate(endpoint=fct_reorder(endpoint, desc(delta)))\n",
    "endpoint_order_desc = levels(temp_desc$endpoint)"
   ]
  },
  {
   "cell_type": "code",
   "execution_count": null,
   "metadata": {},
   "outputs": [],
   "source": [
    "library(ggdist)"
   ]
  },
  {
   "cell_type": "code",
   "execution_count": null,
   "metadata": {},
   "outputs": [],
   "source": [
    "library(ggtext)"
   ]
  },
  {
   "cell_type": "code",
   "execution_count": null,
   "metadata": {},
   "outputs": [],
   "source": [
    "library(ggforestplot)"
   ]
  },
  {
   "cell_type": "code",
   "execution_count": null,
   "metadata": {},
   "outputs": [],
   "source": [
    "library(cowplot)"
   ]
  },
  {
   "cell_type": "code",
   "execution_count": null,
   "metadata": {},
   "outputs": [],
   "source": [
    "scores_map = c(\n",
    "    \"DS_Metabolomics\" = \"MET\",\n",
    "    \"COX_PANEL\" = \"PANEL\", \n",
    "    \"DS_PANEL+Metabolomics\" = \"PANEL+MET\",\n",
    "    \"COX_PANELapoe4\" = \"PANEL(APOE4)\", \n",
    "    \"DS_PANELapoe4+Metabolomics\" = \"PANEL(APOE4)+MET\"\n",
    "               )"
   ]
  },
  {
   "cell_type": "markdown",
   "metadata": {},
   "source": [
    "## Figure 3 - Performance in Context"
   ]
  },
  {
   "cell_type": "code",
   "execution_count": null,
   "metadata": {},
   "outputs": [],
   "source": [
    "library(scales)"
   ]
  },
  {
   "cell_type": "code",
   "execution_count": null,
   "metadata": {},
   "outputs": [],
   "source": [
    "scores_plot = c(\n",
    "    \"DS_Metabolomics\",\n",
    "    \"COX_PANEL\", \n",
    "    \"DS_PANEL+Metabolomics\",\n",
    "    \"COX_PANELapoe4\",\n",
    "    \"DS_PANELapoe4+Metabolomics\"\n",
    "    \n",
    "               )\n",
    "\n",
    "endpoint_order = c(\"M_all_cause_dementia\")\n",
    "\n",
    "\n",
    "temp = benchmark_cindex_general %>% \n",
    "   mutate_at(vars(score), list(~ factor(., levels=scores_plot))) %>% filter(score==score) %>% filter(score %in% scores_plot) %>% \n",
    "    mutate(endpoint = factor(endpoint, levels=endpoint_order)) #%>% #filter(endpoint %in% endpoint_selection)\n",
    "temp_desc = temp %>% group_by(endpoint, score) %>% summarise(mean=median(cindex, na.rm=TRUE), max = max(cindex), .groups=\"drop\")"
   ]
  },
  {
   "cell_type": "code",
   "execution_count": null,
   "metadata": {},
   "outputs": [],
   "source": [
    "## 66%, 95%\n",
    "#endpoint_order_panel = (temp_wide %>% group_by(endpoint) %>% mutate(delta = `DS_PANEL+Metabolomics`-`COX_PANEL`) %>% summarise(delta=mean(delta)) %>% arrange(delta))$endpoint\n",
    "plot_width=8; plot_height=2; plot_dpi=320\n",
    "options(repr.plot.width = plot_width, repr.plot.height = plot_height, repr.plot.res=plot_dpi)\n",
    "met_panel_apoe4 = ggplot(temp_wide, aes(x=endpoint))+#levels=endpoint_order_desc))) +\n",
    "    labs(x=NULL, y=\"\\u0394 C-Index\")+#, title=\"Discriminative Performance vs. PANEL(APOE4)\")+#, title=\"Metabolomics (orange) vs. Age+Sex (grey) vs. AgeSexMetabolomic (red)\")+\n",
    "    geom_segment(aes(y=0, yend=0, x=0.5, xend=1.5), alpha=0.7, color=\"black\", size=0.4, linetype=1)+\n",
    "\n",
    "    stat_gradientinterval(mapping = aes(y=`COX_PANEL`-`COX_PANELapoe4`), \n",
    "                          alpha=1, fatten_point=0.8, interval_size_range=c(0.3, 0.6), \n",
    "                          position = position_nudge(x = +0.4), slab_alpha=0)+\n",
    "\n",
    "    annotate(\"text\", x=1.6, y=-0.0155, position = position_nudge(x = +1), label=\"PANEL\", size=2)+\n",
    "\n",
    "   stat_gradientinterval(mapping = aes(y=`DS_PANEL+Metabolomics`-`COX_PANELapoe4`), \n",
    "                          alpha=1, fatten_point=0.8, interval_size_range=c(0.3, 0.6), \n",
    "                          position = position_nudge(x = +0), slab_alpha=0)+\n",
    "\n",
    "    annotate(\"text\", x=1.2, y=-0.0105, position = position_nudge(x = +1),\n",
    "             label=\"PANEL+MET\", size=2)+\n",
    "\n",
    "\n",
    "    stat_gradientinterval(mapping = aes(y=`DS_PANELapoe4+Metabolomics`-`COX_PANELapoe4`), \n",
    "                          alpha=1, fatten_point=0.8, interval_size_range=c(0.3, 0.6), \n",
    "                          position = position_nudge(x = -0.4), slab_alpha=0)+\n",
    "\n",
    "    annotate(\"text\", x=0.8, y=+0.0045, position = position_nudge(x = +1), label=\"PANEL+APOE4+MET\", size=2)+\n",
    "\n",
    "\n",
    "\n",
    "    scale_x_discrete(labels=em_wrap)+coord_flip(ylim=c(-0.03, 0.03))+\n",
    "    scale_y_continuous()+ theme(plot.title = element_text(hjust=0.5))+theme(panel.grid.major.x=element_line(size=0.2), axis.text.y=element_blank(), axis.ticks.y=element_blank(), axis.line.y=element_blank())#labels = function(x) str_replace(x, '0(?=.)', ''))# + \n",
    "\n",
    "met_panel_apoe4"
   ]
  },
  {
   "cell_type": "markdown",
   "metadata": {},
   "source": [
    "## Figure 4 - Additive Performance"
   ]
  },
  {
   "cell_type": "markdown",
   "metadata": {},
   "source": [
    "## Trajectories"
   ]
  },
  {
   "cell_type": "code",
   "execution_count": null,
   "metadata": {},
   "outputs": [],
   "source": [
    "run = \"220126_apoe4\"\n",
    "partial_effects = arrow::read_feather(glue(\"{data_results_path}/adj_partial_effects_metabolomics_{run}.feather\"))"
   ]
  },
  {
   "cell_type": "code",
   "execution_count": null,
   "metadata": {},
   "outputs": [],
   "source": [
    "temp_prep = partial_effects %>% #filter(partition==0) %>% \n",
    "    filter(quantile %in% c(0.1, 0.5, 0.9)) %>% \n",
    "    filter(features %in% c(\"PANEL\", \"PANELapoe4\")) %>%\n",
    "    mutate(time=ntile(time, round(max(time)*10, 1))/10) %>% \n",
    "    group_by(endpoint, features, quantile, time) #%>% sample_n(27, replace=TRUE)"
   ]
  },
  {
   "cell_type": "code",
   "execution_count": null,
   "metadata": {},
   "outputs": [],
   "source": [
    "purrr::map_dfr(integer(100), ~ temp_prep %>% sample_n(22, replace=TRUE), .id=\"i\") -> temp_prep_bs\n",
    "    \n",
    "temp_prep_bs %>% head()"
   ]
  },
  {
   "cell_type": "code",
   "execution_count": null,
   "metadata": {},
   "outputs": [],
   "source": [
    "unique(temp_prep_bs$features)"
   ]
  },
  {
   "cell_type": "code",
   "execution_count": null,
   "metadata": {},
   "outputs": [],
   "source": [
    "ep_sel = c(\"M_all_cause_dementia\")\n",
    "\n",
    "temp_time = temp_prep %>% ungroup() %>% \n",
    "    filter(endpoint==\"M_all_cause_dementia\") %>% #sample_n(1000) %>%# mutate(time=ntile(time, round(max(time)*10, 1))/10) %>%\n",
    "    group_by(endpoint, features, quantile, time) %>% \n",
    "    median_qi(Ft, na.rm=TRUE) # %>% ungroup() %>% sample(1000)\n",
    "    \n",
    "trajectories = ggplot(temp_time, aes(x = time, y=Ft, color=fct_rev(factor(quantile)), fill=fct_rev(factor(quantile)))) +\n",
    "        #labs(title=endpoint_map[[endpoint]])+\n",
    "        theme(plot.title = element_text(size=facet_size, hjust=0.5))+\n",
    "        #geom_smooth(method=\"lm\")+\n",
    "        geom_lineribbon(aes(ymin = .lower, ymax = .upper), size=0.5)+\n",
    "        #geom_kmticks(trans = \"event\", size=0.3) + geom_kmband(trans = \"event\") + \n",
    "        labs(x=\"Time [Years]\", y=\"Adjusted Partial Trajectories [%]\")+\n",
    "        #geom_hline(aes(yintercept = max(Ft)), alpha=0.3, linetype=\"22\")+\n",
    "        #scale_color_manual(values=met_map)+scale_fill_manual(values=met_map)+\n",
    "        scale_x_continuous(expand=c(0, 0))+\n",
    "        scale_y_continuous(labels = function(x) round(x*100, 1), expand=c(0, 0))+\n",
    "        scale_color_manual(values=c(`0.1`=\"#7AC6FF\", `0.5`=\"#4F8EC1\", `0.9`=\"#023768\"))+ \n",
    "        scale_fill_manual(values=c(`0.1`=alpha(\"#7AC6FF\", 0.3), `0.5`=alpha(\"#4F8EC1\", 0.3), `0.9`=alpha(\"#023768\", 0.3)))+                    \n",
    "                           theme(legend.position=\"none\")+               \n",
    "        facet_grid(cols=vars(features), labeller=labeller(features=c(\"PANEL\"=\"PANEL\", \"PANELapoe4\"=\"PANEL+APOE4\"))) #+ \n",
    "        #theme(strip.background = element_blank(), strip.text.x = element_blank())"
   ]
  },
  {
   "cell_type": "code",
   "execution_count": null,
   "metadata": {},
   "outputs": [],
   "source": [
    "plot_width=4.25; plot_height=3; plot_dpi=320\n",
    "options(repr.plot.width = plot_width, repr.plot.height = plot_height, repr.plot.res=plot_dpi)\n",
    "trajectories"
   ]
  },
  {
   "cell_type": "raw",
   "metadata": {},
   "source": [
    "plot_name = \"Figures_4_A_AdjustedTrajectories_long_APOE4\"\n",
    "trajectories %>% ggsave(filename=glue(\"{plot_name}.pdf\"), device=\"pdf\", width=plot_width, height=plot_height, dpi=plot_dpi)"
   ]
  },
  {
   "cell_type": "code",
   "execution_count": null,
   "metadata": {},
   "outputs": [],
   "source": [
    "hrs = arrow::read_feather(glue(\"{data_results_path}/hrs_metabolomics_{run}.feather\")) %>% \n",
    "    mutate(features = str_remove_all(str_sub(str_remove(str_remove(features, endpoint), \"DS__\"), end=-3), \"_\")) %>%\n",
    "    filter(str_detect(covariate, \"logh_\"))"
   ]
  },
  {
   "cell_type": "code",
   "execution_count": null,
   "metadata": {},
   "outputs": [],
   "source": [
    "library(zoo)"
   ]
  },
  {
   "cell_type": "code",
   "execution_count": null,
   "metadata": {},
   "outputs": [],
   "source": [
    "library(ggdist)\n"
   ]
  },
  {
   "cell_type": "code",
   "execution_count": null,
   "metadata": {},
   "outputs": [],
   "source": [
    "purrr::map_dfr(integer(1000), ~ hrs %>% group_by(endpoint, features) %>% sample_frac(1, replace=TRUE), .id=\"i\") -> temp_hrs"
   ]
  },
  {
   "cell_type": "code",
   "execution_count": null,
   "metadata": {},
   "outputs": [],
   "source": [
    "temp_hrs_agg = temp_hrs %>% filter(endpoint %in% ep_sel) %>%\n",
    "    group_by(endpoint, features) %>% median_qi(`exp(coef)`, na.rm=TRUE) %>% rename(hr = `exp(coef)`) %>%\n",
    "    mutate(hr = round(hr, 2), .lower=round(.lower, 2), .upper=round(.upper, 2)) %>%#c(hr, .lower, .upper), round, 1) %>%\n",
    "    mutate(HR_Metabolomics = glue(\"{hr} ({.lower}, {.upper})\")) %>% \n",
    "    select(endpoint, features, HR_Metabolomics) %>%\n",
    "    pivot_wider(names_from=\"features\", values_from=\"HR_Metabolomics\") %>% \n",
    "    select(all_of(c(\"endpoint\", \n",
    "                   \"PANEL+Metabolomics\", 'PANELapoe4+Metabolomics'))) %>% \n",
    "    mutate(endpoint = factor(endpoint, levels = endpoint_order)) %>% arrange(endpoint) %>%\n",
    "    mutate(endpoint = recode(endpoint, !!!endpoint_map)) %>%\n",
    "    ungroup()\n",
    "temp_hrs_agg"
   ]
  },
  {
   "cell_type": "code",
   "execution_count": null,
   "metadata": {},
   "outputs": [],
   "source": [
    "library(gt)"
   ]
  },
  {
   "cell_type": "code",
   "execution_count": null,
   "metadata": {},
   "outputs": [],
   "source": [
    "fts_map = c(\n",
    "    \"Metabolomics\" = \"MET\",\n",
    "    \"COX_Age+Sex\" = \"AgeSex\",\n",
    "    \"Age+Sex+Metabolomics\" = \"AgeSex+MET\",\n",
    "    \"COX_ASCVD\" = \"ASCVD\",\n",
    "    \"ASCVD+Metabolomics\" = \"ASCVD+MET\",\n",
    "    \"COX_PANEL\" = \"PANEL\", \n",
    "    \"PANEL+Metabolomics\" = \"PANEL+MET\",\n",
    "    \"PANELapoe4+Metabolomics\" = \"PANEL+APOE4+MET\"\n",
    "               )"
   ]
  },
  {
   "cell_type": "code",
   "execution_count": null,
   "metadata": {},
   "outputs": [],
   "source": [
    "hr_labels = temp_hrs_agg %>% \n",
    "    pivot_longer(-endpoint, names_to=\"features\", values_to=\"HR\")\n",
    "hr_labels$fts_label = recode(hr_labels$features, !!!fts_map)\n",
    "hr_labels"
   ]
  },
  {
   "cell_type": "code",
   "execution_count": null,
   "metadata": {},
   "outputs": [],
   "source": [
    "temp = temp_hrs %>% filter(endpoint %in% ep_sel)   %>%  mutate(endpoint = factor(endpoint, levels = ep_sel)) %>% arrange(endpoint) %>%\n",
    "    mutate(endpoint = recode(endpoint, !!!endpoint_map)) %>% filter(features %in% c(\"PANEL+Metabolomics\", \"PANELapoe4+Metabolomics\")) %>%\n",
    "    ungroup() \n",
    "temp %>% head()\n",
    "\n",
    "plot_width=4; plot_height=1; plot_dpi=320\n",
    "options(repr.plot.width = plot_width, repr.plot.height = plot_height, repr.plot.res=plot_dpi)\n",
    "\n",
    "hr_plot = ggplot(temp, aes(x=fct_rev(factor(features, levels=c(\"PANEL+Metabolomics\", \"PANELapoe4+Metabolomics\"))), y=`exp(coef)`))+#levels=endpoint_order_desc))) +\n",
    "    labs(x=NULL, y=\"Adjusted Hazard Ratio / SD Metabolomic State\")+\n",
    "    #geom_boxplot()+\n",
    "    stat_gradientinterval(color=\"black\", alpha=0.7, fatten_point=0.8, interval_size_range=c(0.3, 0.6), fill=\"white\")+\n",
    "\n",
    "   # geom_quasirandom(mapping = aes(y=`DS_PANEL+Metabolomics`-`COX_PANEL`), color=alpha(color_map[['DS_Age+Sex+Metabolomics']], 0.1), size=0.1)+\n",
    "    #geom_boxplot(mapping = aes(y=`DS_PANEL+Metabolomics`-`COX_PANEL`), \n",
    "    #             fill=alpha(color_map[['DS_PANEL+Metabolomics']], 0.1), width=0.5, alpha=0.7, size=0.3,\n",
    "    #             outlier.shape=NA)+\n",
    "    geom_hline(yintercept=1, alpha=0.7, color=\"black\", size=0.25)+\n",
    "    geom_hline(yintercept=1.5, alpha=0.3, color=\"black\", size=0.25, linetype=\"22\")+\n",
    "    geom_hline(yintercept=2, alpha=0.4, color=\"black\", size=0.25, linetype=\"22\")+\n",
    "    geom_hline(yintercept=3, alpha=0.5, color=\"black\", size=0.25, linetype=\"22\")+\n",
    "    scale_x_discrete(labels=fts_map)+\n",
    "    coord_flip(ylim=c(0.3, 2))+#ylim=c(-0.02, 0.02))+\n",
    "    #scale_y_continuous()+ \n",
    "    theme(plot.title = element_text(hjust=0.5))+\n",
    "    theme(strip.text.y.left = element_text(angle = 0))+\n",
    "    theme(axis.text.y = element_text(size=5.5))+\n",
    "    geom_text(data=hr_labels, mapping=aes(x=fct_rev(factor(features, levels=c(\"PANEL+Metabolomics\", \"PANELapoe4+Metabolomics\"))), label=glue(\"HR[{fts_label}]: {HR}\")), y=0.95, size=2, hjust=1, parse=TRUE) + \n",
    "    theme(axis.text.y = element_blank())\n",
    "#panel.grid.major.y=element_line(size=0.2))#labels = function(x) str_replace(x, '0(?=.)', ''))# + \n",
    "    #annotate(\"text\", x = 12, y = 0.18, label = \"Age+Sex+Metabolomics\", size=8, color=alpha(color_map[['DS_Age+Sex+Metabolomics']], 0.7))+\n",
    "   # annotate(\"text\", x = 12, y = 0.06, label = \"Metabolomics\", size=8, color=alpha(color_map[['DS_Metabolomics']], 0.7))+\n",
    "    #annotate(\"text\", x = 12, y = 0.113, label = \"Age+Sex\", size=8, color=alpha(color_map[['COX_Age+Sex']], 0.7))+\n",
    "    #annotate(\"text\", x = 11, y = 0.08, label = \"Age+Sex\", size=8, color=alpha(color_map[['COX_Age+Sex']], 0.7), hjust=0)+\n",
    "    #annotate(\"text\", x = 10, y = 0.08, label = \"Metabolomics\", size=8, color=alpha(color_map[['DS_Metabolomics']], 0.7), hjust=0)+\n",
    "    #annotate(\"text\", x = 8.6, y = 0.08, label = \"Age+Sex+\\nMetabolomics\", size=8, color=alpha(color_map[['DS_Age+Sex+Metabolomics']], 0.7), hjust=0)\n",
    "hr_plot"
   ]
  },
  {
   "cell_type": "markdown",
   "metadata": {},
   "source": [
    "# Utility"
   ]
  },
  {
   "cell_type": "code",
   "execution_count": null,
   "metadata": {},
   "outputs": [],
   "source": [
    "data_events = data %>% select(eid, ends_with(\"event\"), ends_with(\"event_time\")) %>% \n",
    "    pivot_longer(-eid, names_to=c(\"endpoint\", \"type\"), values_to=\"value\", names_pattern=\"(.*)(event_time|event)\") %>% \n",
    "    mutate(endpoint = stringr::str_sub(endpoint, end=-2)) %>% pivot_wider(names_from=\"type\", values_from=\"value\")"
   ]
  },
  {
   "cell_type": "code",
   "execution_count": null,
   "metadata": {},
   "outputs": [],
   "source": [
    "predictions_tte = predictions %>% left_join(data_events, by=c(\"endpoint\", \"eid\"))"
   ]
  },
  {
   "cell_type": "code",
   "execution_count": null,
   "metadata": {},
   "outputs": [],
   "source": [
    "library(ggthemes)\n",
    "endpoint_map = c(\n",
    "    'M_MACE'='MACE',\n",
    "    'M_all_cause_dementia'='Dementia',\n",
    "    'M_type_2_diabetes'='T2 Diabetes',\n",
    "    'M_liver_disease'='Liver Disease',\n",
    "    'M_renal_disease'='Renal Disease',\n",
    "    'M_atrial_fibrillation'='Atrial Fibrillation',\n",
    "    'M_heart_failure'= 'Heart Failure',\n",
    "    'M_coronary_heart_disease'='CHD',\n",
    "    'M_venous_thrombosis'='Ven. Thrombosis',\n",
    "    'M_cerebral_stroke'='Cerebral Stroke',\n",
    "    'M_abdominal_aortic_aneurysm'='AAA',\n",
    "    'M_peripheral_arterial_disease'='PAD',\n",
    "    \"M_chronic_obstructuve_pulmonary_disease\" = \"COPD\",\n",
    "    \"M_asthma\" = \"Asthma\",\n",
    "    'M_parkinsons_disease' = \"Parkinson's\",    \n",
    "    \"M_lung_cancer\" = \"Lung Cancer\",\n",
    "    \"M_non_melanoma_skin_cancer\" = \"Skin Cancer\",\n",
    "    \"M_colon_cancer\"= \"Colon Cancer\",\n",
    "    \"M_rectal_cancer\" = \"Rectal Cancer\",\n",
    "    \"M_prostate_cancer\"= \"Prostate Cancer\",\n",
    "    \"M_breast_cancer\" = \"Breast Cancer\",\n",
    "    'M_cataracts' = \"Cataracts\", \n",
    "    'M_glaucoma' = \"Glaucoma\",\n",
    "    'M_fractures' = \"Fractures\"\n",
    ")\n",
    "\n",
    "endpoint_order = c(\"M_MACE\", \"M_coronary_heart_disease\", \"M_cerebral_stroke\", \"M_all_cause_dementia\", \"M_heart_failure\", \"M_atrial_fibrillation\",\n",
    "                   \"M_type_2_diabetes\", \"M_liver_disease\", \"M_renal_disease\", \"M_peripheral_arterial_disease\", \"M_venous_thrombosis\",  \"M_abdominal_aortic_aneurysm\",\n",
    "                   \"M_chronic_obstructuve_pulmonary_disease\", \"M_asthma\", 'M_parkinsons_disease', 'M_cataracts', 'M_glaucoma', 'M_fractures',\n",
    "                    \"M_lung_cancer\",\"M_non_melanoma_skin_cancer\",\"M_colon_cancer\",\"M_rectal_cancer\",\"M_prostate_cancer\",\"M_breast_cancer\"\n",
    "                   \n",
    ")"
   ]
  },
  {
   "cell_type": "raw",
   "metadata": {},
   "source": [
    "library(\"jsonlite\")\n",
    "colors_path = \"colors.json\"\n",
    "colors_dict = read_json(colors_path)\n",
    "\n",
    "color_map <- c('COX_Age+Sex' = colors_dict$pastel$grey$light, \n",
    "               'DS_Metabolomics' = \"#4F8EC1\",  #colors_dict$pastel$orange$dark,\n",
    "               'COX_ASCVD' = colors_dict$pastel$grey$dark, \n",
    "               'COX_PANEL' = \"black\", \n",
    "               'DS_Age+Sex+Metabolomics' = \"forestgreen\", #\"#53dd6c\",#colors_dict$pastel$orange$mid,\n",
    "               'DS_ASCVD+Metabolomics' = \"#d8315b\",#colors_dict$pastel$red$mid,\n",
    "               'DS_PANELnoblood+Metabolomics' = \"#023768\", #\"forestgreen\",\n",
    "               'DS_PANEL+Metabolomics' = \"black\" #colors_dict$pastel$red$dark\n",
    "      )\n",
    "\n",
    "type_map <- c('COX_Age+Sex' = \"solid\", \n",
    "               'DS_Metabolomics' = \"solid\",  #colors_dict$pastel$orange$dark,\n",
    "               'COX_ASCVD' = \"dashed\", \n",
    "               'COX_PANEL' = \"dotted\", \n",
    "               'DS_Age+Sex+Metabolomics' = \"solid\",#colors_dict$pastel$orange$mid,\n",
    "               'DS_ASCVD+Metabolomics' = \"solid\",#colors_dict$pastel$red$mid,\n",
    "               'DS_PANEL+Metabolomics' = \"solid\", #colors_dict$pastel$red$dark\n",
    "                'DS_PANELnoblood+Metabolomics' = \"solid\",\n",
    "              \"Treat All\" = \"solid\",\n",
    "              \"Treat None\" = \"solid\"\n",
    "      )\n",
    "\n",
    "size_map <- c('COX_Age+Sex' = 0.25, \n",
    "               'DS_Metabolomics' = 0.25,  #colors_dict$pastel$orange$dark,\n",
    "               'COX_ASCVD' = 0.25, \n",
    "               'COX_PANEL' = 0.5, \n",
    "               'DS_Age+Sex+Metabolomics' = 0.25,#colors_dict$pastel$orange$mid,\n",
    "               'DS_ASCVD+Metabolomics' = 0.25,#colors_dict$pastel$red$mid,\n",
    "               'DS_PANEL+Metabolomics' = 0.25, #colors_dict$pastel$red$dark\n",
    "                'DS_PANELnoblood+Metabolomics' = 0.25,\n",
    "              \"Treat All\" = 0.25,\n",
    "              \"Treat None\" = 0.25\n",
    "      )"
   ]
  },
  {
   "cell_type": "code",
   "execution_count": null,
   "metadata": {},
   "outputs": [],
   "source": [
    "library(\"jsonlite\")\n",
    "colors_path = \"colors.json\"\n",
    "colors_dict = read_json(colors_path)\n",
    "\n",
    "color_map <- c('COX_Age+Sex' = colors_dict$pastel$grey$light, \n",
    "               'DS_Metabolomics' = \"#4F8EC1\",  #colors_dict$pastel$orange$dark,\n",
    "               'COX_ASCVD' = colors_dict$pastel$grey$mid, \n",
    "               'COX_PANEL' = colors_dict$pastel$grey$dark, \n",
    "               'COX_PANELapoe4' = colors_dict$pastel$grey$dark,\n",
    "               'DS_Age+Sex+Metabolomics' = \"#53dd6c\",#colors_dict$pastel$orange$mid,\n",
    "               'DS_ASCVD+Metabolomics' = \"#d8315b\",#colors_dict$pastel$red$mid,\n",
    "               #'DS_QRISK3+Metabolomics' = colors_dict$pastel$red$mid,\n",
    "               'DS_PANELnoblood+Metabolomics' = \"forestgreen\",\n",
    "               'DS_PANEL+Metabolomics' = \"#1e1b18\", #colors_dict$pastel$red$dark\n",
    "                'DS_PANELapoe4+Metabolomics' = \"#1e1b18\" #colors_dict$pastel$red$dark\n",
    "      )\n",
    "\n",
    "type_map <- c('COX_Age+Sex' = \"dashed\", \n",
    "               'DS_Metabolomics' = \"solid\",  #colors_dict$pastel$orange$dark,\n",
    "               'COX_ASCVD' = \"dashed\", \n",
    "               'COX_PANEL' = \"dotted\", \n",
    "               'COX_PANELapoe4' = \"dotted\", \n",
    "               'DS_Age+Sex+Metabolomics' = \"solid\",#colors_dict$pastel$orange$mid,\n",
    "               'DS_ASCVD+Metabolomics' = \"solid\",#colors_dict$pastel$red$mid,\n",
    "               'DS_PANEL+Metabolomics' = \"solid\", #colors_dict$pastel$red$dark\n",
    "                'DS_PANELnoblood+Metabolomics' = \"solid\",\n",
    "               'DS_PANELapoe4+Metabolomics' = \"solid\",\n",
    "              \"Treat All\" = \"solid\",\n",
    "              \"Treat None\" = \"solid\"\n",
    "      )"
   ]
  },
  {
   "cell_type": "code",
   "execution_count": null,
   "metadata": {},
   "outputs": [],
   "source": [
    "scores_dca = c(\"DS_Metabolomics\",\n",
    "    \"COX_PANEL\",\n",
    "    \"DS_PANEL+Metabolomics\",\n",
    "     \"COX_PANELapoe4\",\n",
    "    \"DS_PANELapoe4+Metabolomics\"\n",
    "\n",
    "              )"
   ]
  },
  {
   "cell_type": "code",
   "execution_count": null,
   "metadata": {},
   "outputs": [],
   "source": [
    "calculate_dca = function(endpoint){\n",
    "    dca_temp = predictions_tte %>% filter(endpoint==!!endpoint) %>% \n",
    "        mutate(score=glue(\"{module}_{features}\")) %>% \n",
    "        select(eid, score, Ft_10, event, event_time) %>% \n",
    "        filter(score %in% scores_dca) %>%\n",
    "        pivot_wider(names_from=\"score\", values_from=\"Ft_10\") %>% \n",
    "        distinct()\n",
    "    \n",
    "    print(glue(\"{endpoint} n={nrow(dca_temp)}\"))\n",
    "    flush.console()\n",
    "    \n",
    "    dca_endpoint = dca(\n",
    "        Surv(event_time, event) ~ DS_Metabolomics + COX_PANEL + `DS_PANEL+Metabolomics` + `COX_PANELapoe4` + `DS_PANELapoe4+Metabolomics`, \n",
    "        data = dca_temp,\n",
    "        time = 10,\n",
    "        thresholds = seq(0, 0.5, by=0.001)\n",
    "           )$dca\n",
    "    return(dca_endpoint %>% mutate(st_net_benefit = net_benefit/prevalence))\n",
    "}"
   ]
  },
  {
   "cell_type": "code",
   "execution_count": null,
   "metadata": {},
   "outputs": [],
   "source": [
    "library(dcurves)\n",
    "dca_data = calculate_dca(\"M_all_cause_dementia\")"
   ]
  },
  {
   "cell_type": "markdown",
   "metadata": {
    "tags": []
   },
   "source": [
    "## AgeSex + Metabolomics vs PANEL"
   ]
  },
  {
   "cell_type": "code",
   "execution_count": null,
   "metadata": {},
   "outputs": [],
   "source": [
    "scores_plot = c(\n",
    "    \"Treat All\", \n",
    "    \"Treat None\",\n",
    "    \"COX_PANEL\",\n",
    "    \"COX_PANELapoe4\",\n",
    "    \"DS_PANEL+Metabolomics\",\n",
    "    \"DS_PANELapoe4+Metabolomics\"\n",
    ")"
   ]
  },
  {
   "cell_type": "code",
   "execution_count": null,
   "metadata": {},
   "outputs": [],
   "source": [
    "scores_plot = c(\n",
    "    \"Treat All\", \n",
    "    \"Treat None\",\n",
    "    \"COX_PANEL\",\n",
    "   \"DS_PANEL+Metabolomics\",\n",
    "    \"COX_PANELapoe4\", \n",
    "    \"DS_PANELapoe4+Metabolomics\"\n",
    ")\n",
    "\n",
    "endpoint=\"M_all_cause_dementia\"\n",
    "temp = dca_data\n",
    "\n",
    "endpoint_label = endpoint_map[[endpoint]]\n",
    "    temp_plot = temp %>% filter(label %in% scores_plot)\n",
    "temp_plot_wide = temp_plot %>%  select(threshold, label, st_net_benefit) %>% mutate(st_net_benefit = st_net_benefit*100) %>% pivot_wider(names_from=\"label\", values_from=\"st_net_benefit\")\n",
    "\n",
    "plotA = \n",
    "    ggplot(temp_plot)+\n",
    "      labs(x=\"Threshold Probability [%]\", y=\"Standardized Net Benefit [%]\")+\n",
    "\n",
    "    #geom_ribbon(data=temp_plot_wide, mapping=aes(x=threshold, ymin=0, ymax=`COX_PANEL`), fill=\"black\", alpha=0.3, colour = NA)+       \n",
    "    geom_ribbon(data=temp_plot_wide, mapping=aes(x=threshold, ymin=`COX_PANEL`, ymax=`DS_PANEL+Metabolomics`), fill=\"firebrick\", alpha=0.7, colour = NA)+\n",
    "    #geom_ribbon(data=temp_plot_wide, mapping=aes(x=threshold, ymin=`DS_PANEL+Metabolomics`, ymax=`COX_PANELapoe4`), fill=\"black\", alpha=0.05, colour = NA)+\n",
    "    geom_ribbon(data=temp_plot_wide, mapping=aes(x=threshold, ymin=`COX_PANELapoe4`, ymax=`DS_PANELapoe4+Metabolomics`), fill=\"firebrick\", alpha=0.7, colour = NA)+\n",
    "geom_line(data=temp_plot, mapping=aes(x=threshold, y=st_net_benefit*100, color=label, linetype=label), size=0.25) +\n",
    "      coord_cartesian(xlim=c(0, 0.1), ylim=c(0, 100))+\n",
    "      scale_x_continuous(labels=function(x) x*100, expand=c(0, 0))+\n",
    "      scale_color_manual(values=color_map)+\n",
    "      scale_linetype_manual(values=type_map)+\n",
    "    theme(legend.position=\"none\", panel.grid.major.y = element_line())"
   ]
  },
  {
   "cell_type": "raw",
   "metadata": {},
   "source": [
    "scores_plot = c(\n",
    "    \"Treat All\", \n",
    "    \"Treat None\",\n",
    "    #\"COX_PANEL\",\n",
    "     \"COX_PANELapoe4\",\n",
    "   \"DS_PANELapoe4+Metabolomics\"\n",
    ")\n",
    "\n",
    "\n",
    "endpoint=\"M_all_cause_dementia\"\n",
    "temp = dca_data\n",
    "\n",
    "endpoint_label = endpoint_map[[endpoint]]\n",
    "    temp_plot = temp %>% filter(label %in% scores_plot)\n",
    "temp_plot_wide = temp_plot %>%  select(threshold, label, net_benefit) %>% pivot_wider(names_from=\"label\", values_from=\"net_benefit\")\n",
    "\n",
    "plotB = \n",
    "    ggplot(temp_plot)+\n",
    "      labs(title=endpoint_label, x=\"Threshold Probability\", y=\"Net Benefit\")+\n",
    "\n",
    "    geom_ribbon(data=temp_plot_wide, mapping=aes(x=threshold, ymin=`COX_PANELapoe4`, ymax=`DS_PANELapoe4+Metabolomics`), fill=\"black\", alpha=0.1, colour = NA)+\n",
    "      geom_line(data=temp_plot, mapping=aes(x=threshold, y=net_benefit, color=label, linetype=label)) + \n",
    "      coord_cartesian(xlim=c(0, 0.1), ylim=c(0, max(temp$net_benefit, na.rm=TRUE)))+\n",
    "      scale_x_continuous(labels = scales::percent_format(accuracy=1))+\n",
    "      scale_color_manual(values=color_map)+\n",
    "      scale_linetype_manual(values=type_map)+\n",
    "    theme(legend.position=\"none\")"
   ]
  },
  {
   "cell_type": "raw",
   "metadata": {},
   "source": [
    "base_size = 8\n",
    "title_size = 10\n",
    "facet_size = 10\n",
    "geom_text_size=3\n",
    "library(ggplot2); \n",
    "theme_set(theme_classic(base_size = base_size) + \n",
    "          theme(strip.background = element_blank(), plot.title=element_text(size=title_size, hjust=0), \n",
    "                strip.text.x = element_text(size = facet_size),axis.title=element_text(size=10), axis.text=element_text(size=8, color=\"black\"),\n",
    "                legend.position=\"bottom\", axis.line = element_line(size = 0.2), axis.ticks=element_line(size=0.2), panel.grid.major.y = element_line()))"
   ]
  },
  {
   "cell_type": "code",
   "execution_count": null,
   "metadata": {
    "tags": []
   },
   "outputs": [],
   "source": [
    "plot_width=8.25; plot_height=6; plot_dpi=320\n",
    "options(repr.plot.width = plot_width, repr.plot.height = plot_height, repr.plot.res=plot_dpi)\n",
    "cox = (trajectories/hr_plot + plot_layout(height=c(6, 1))) \n",
    "fig_apoe4 = (met_panel_apoe4 + annotate(\"text\", x=1.75, y=0.00005, position = position_nudge(x = +1), label=\"PANEL + APOE4\", size=2))/(cox|plotA) + plot_layout(height=c(1, 6))\n",
    "fig_apoe4"
   ]
  },
  {
   "cell_type": "code",
   "execution_count": null,
   "metadata": {},
   "outputs": [],
   "source": [
    "plot_name = \"Suppl_Figures_6_APOE4\"\n",
    "fig_apoe4 %>% ggsave(filename=glue(\"outputs/{plot_name}.pdf\"), device=cairo_pdf, width=plot_width, height=plot_height, dpi=plot_dpi)"
   ]
  },
  {
   "cell_type": "code",
   "execution_count": null,
   "metadata": {},
   "outputs": [],
   "source": []
  }
 ],
 "metadata": {
  "hide_input": false,
  "kernelspec": {
   "display_name": "R [conda env:r_env]",
   "language": "R",
   "name": "conda-env-r_env-r"
  },
  "language_info": {
   "codemirror_mode": "r",
   "file_extension": ".r",
   "mimetype": "text/x-r-source",
   "name": "R",
   "pygments_lexer": "r",
   "version": "4.0.2"
  },
  "toc-autonumbering": false
 },
 "nbformat": 4,
 "nbformat_minor": 4
}
