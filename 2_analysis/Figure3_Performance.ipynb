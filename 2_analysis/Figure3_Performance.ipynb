{
 "cells": [
  {
   "cell_type": "markdown",
   "metadata": {},
   "source": [
    "## Initialize"
   ]
  },
  {
   "cell_type": "code",
   "execution_count": null,
   "metadata": {
    "ExecuteTime": {
     "end_time": "2021-01-05T11:03:09.852316Z",
     "start_time": "2021-01-05T11:03:07.701Z"
    }
   },
   "outputs": [],
   "source": [
    "#library(Rmisc)\n",
    "library(tidyverse)\n",
    "library(glue)\n",
    "library(arrow)\n",
    "library(patchwork)"
   ]
  },
  {
   "cell_type": "code",
   "execution_count": null,
   "metadata": {
    "ExecuteTime": {
     "end_time": "2021-01-05T11:03:10.932312Z",
     "start_time": "2021-01-05T11:03:10.882Z"
    }
   },
   "outputs": [],
   "source": [
    "if (grepl(\"sc\", Sys.info()[[\"nodename\"]], fixed=TRUE)) {\n",
    "    base_path = \"/sc-projects/sc-proj-ukb-cvd\"\n",
    "} else {\n",
    "    base_path = \"/data/analysis/ag-reils/ag-reils-shared/cardioRS\"}\n",
    "print(base_path)\n",
    "\n",
    "dataset_name = \"210714_metabolomics\"\n",
    "path = \"/data/analysis/ag-reils/steinfej/code/umbrella/pre/ukbb\"\n",
    "data_path = glue(\"{base_path}/data\")\n",
    "dataset_path = glue(\"{data_path}/3_datasets_post/{dataset_name}\")\n",
    "\n",
    "project_label=\"21_metabolomics_multitask\"\n",
    "project_path = glue(\"{base_path}/results/projects/{project_label}\")\n",
    "figures_path = glue(\"{project_path}/figures\")\n",
    "data_results_path = glue(\"{project_path}/data\")"
   ]
  },
  {
   "cell_type": "markdown",
   "metadata": {},
   "source": [
    "## Load data"
   ]
  },
  {
   "cell_type": "code",
   "execution_count": null,
   "metadata": {
    "ExecuteTime": {
     "end_time": "2021-01-05T11:03:12.470354Z",
     "start_time": "2021-01-05T11:03:11.387Z"
    }
   },
   "outputs": [],
   "source": [
    "list.dirs(path = project_path, full.names = TRUE, recursive = TRUE)"
   ]
  },
  {
   "cell_type": "code",
   "execution_count": null,
   "metadata": {},
   "outputs": [],
   "source": [
    "run = \"220126\""
   ]
  },
  {
   "cell_type": "code",
   "execution_count": null,
   "metadata": {
    "ExecuteTime": {
     "end_time": "2021-01-05T11:03:23.212936Z",
     "start_time": "2021-01-05T11:03:11.689Z"
    }
   },
   "outputs": [],
   "source": [
    "DSM = \"MultiTaskSurvivalTraining\"\n",
    "data = arrow::read_feather(glue(\"{dataset_path}/data_merged.feather\")) \n",
    "data_description = arrow::read_feather(glue(\"{dataset_path}/description_merged.feather\"))\n",
    "predictions = arrow::read_feather(glue(\"{data_results_path}/predictions_{run}_metabolomics.feather\")) \n",
    "loghazards = arrow::read_feather(glue(\"{data_results_path}/loghazards_model_{run}_metabolomics.feather\")) %>% \n",
    "    pivot_longer(starts_with(\"logh\"), names_to=c(\"endpoint\", \"features\"), values_to=\"logh\", names_pattern=\"logh_?(.*)_(.*)$\")"
   ]
  },
  {
   "cell_type": "code",
   "execution_count": null,
   "metadata": {},
   "outputs": [],
   "source": [
    "data_events = data %>% select(eid, ends_with(\"event\"), ends_with(\"event_time\")) %>% \n",
    "    pivot_longer(-eid, names_to=c(\"endpoint\", \"type\"), values_to=\"value\", names_pattern=\"(.*)(event_time|event)\") %>% \n",
    "    mutate(endpoint = stringr::str_sub(endpoint, end=-2)) %>% pivot_wider(names_from=\"type\", values_from=\"value\")"
   ]
  },
  {
   "cell_type": "code",
   "execution_count": null,
   "metadata": {},
   "outputs": [],
   "source": [
    "loghazards_tte = loghazards %>% left_join(data_events, by=c(\"endpoint\", \"eid\"))"
   ]
  },
  {
   "cell_type": "code",
   "execution_count": null,
   "metadata": {},
   "outputs": [],
   "source": [
    "logh_T = loghazards_tte %>% filter(split==\"test\") %>% mutate(hr=exp(logh))"
   ]
  },
  {
   "cell_type": "code",
   "execution_count": null,
   "metadata": {},
   "outputs": [],
   "source": [
    "logh_T = logh_T %>% group_by(endpoint, features) %>% mutate(logh_perc = ntile(logh, 100))\n",
    "logh_T_agg = logh_T %>% group_by(endpoint, features) %>% mutate(logh_perc = ntile(logh, 100)) %>% group_by(endpoint, features, logh_perc) %>% summarise(ratio = mean(event))"
   ]
  },
  {
   "cell_type": "code",
   "execution_count": null,
   "metadata": {},
   "outputs": [],
   "source": [
    "labels = logh_T %>% group_by(endpoint, event) %>% summarise(median_logh = mean(logh)) %>% pivot_wider(names_from=\"event\", values_from=\"median_logh\") %>% mutate(delta = `1`-`0`) %>% arrange(desc(delta))"
   ]
  },
  {
   "cell_type": "raw",
   "metadata": {},
   "source": [
    "data_TEST = predictions %>% rename(score=Ft_10) %>% \n",
    "    dplyr::select(-c(starts_with(\"Ft_\"))) %>% pivot_wider(names_from=c(\"module\", \"features\"), values_from=starts_with(\"score\"), names_glue=\"{.value}_{module}_{features}\") %>%\n",
    "    left_join(data %>% dplyr::select(eid, all_of(c(f$pgs, f$basics, f$questionnaire, f$measurements,f$labs, f$family_history, f$diagnoses, f$medications)),\n",
    "                                     MACE_event, MACE_event_time), on=\"eid\")"
   ]
  },
  {
   "cell_type": "code",
   "execution_count": null,
   "metadata": {},
   "outputs": [],
   "source": [
    "scores = c(\"COX_Age+Sex\", \n",
    "                \"COX_Metabolomics\",\n",
    "                \"DS_Metabolomics\",\n",
    "                \"DS_Age+Sex+Metabolomics\",\n",
    "               \"DS_AgeSexMetabolomics\")"
   ]
  },
  {
   "cell_type": "code",
   "execution_count": null,
   "metadata": {},
   "outputs": [],
   "source": [
    "library(ggalt)"
   ]
  },
  {
   "cell_type": "code",
   "execution_count": null,
   "metadata": {},
   "outputs": [],
   "source": [
    "library(\"jsonlite\")\n",
    "colors_path = \"colors.json\"\n",
    "colors_dict = read_json(colors_path)"
   ]
  },
  {
   "cell_type": "code",
   "execution_count": null,
   "metadata": {},
   "outputs": [],
   "source": [
    "color_map <- c(\"all\" = \"grey\", \"none\" = \"black\",\n",
    "               \n",
    "               'COX_Age+Sex' = colors_dict$pastel$grey$light, \n",
    "               \n",
    "               'PCA_Metabolomics' = \"#4F8EC1\",\n",
    "               'COX_Metabolomics' = \"#4F8EC1\",\n",
    "               'DS_Metabolomics' = \"#4F8EC1\",  #colors_dict$pastel$orange$dark,\n",
    "               \n",
    "               'COX_ASCVD' = colors_dict$pastel$grey$light, \n",
    "               'COX_PANEL' = colors_dict$pastel$grey$light, \n",
    "\n",
    "               'DS_Age+Sex+Metabolomics' = \"#53dd6c\",#colors_dict$pastel$orange$mid,\n",
    "               'DS_SCORE2+Metabolomics' = colors_dict$pastel$red$mid,\n",
    "               'DS_ASCVD+Metabolomics' = \"#d8315b\",#colors_dict$pastel$red$mid,\n",
    "               'DS_PANEL+Metabolomics' = \"#1e1b18\" #colors_dict$pastel$red$dark\n",
    "      )"
   ]
  },
  {
   "cell_type": "code",
   "execution_count": null,
   "metadata": {},
   "outputs": [],
   "source": [
    "scores_full = names(color_map)"
   ]
  },
  {
   "cell_type": "code",
   "execution_count": null,
   "metadata": {},
   "outputs": [],
   "source": [
    "name = glue(\"benchmark_cindex_{run}\")\n",
    "benchmark_cindex_general = read_feather(glue(\"{data_results_path}/{name}.feather\"))  %>% distinct() %>% unite(\"score\", c(module, features), remove=FALSE) %>%  distinct()"
   ]
  },
  {
   "cell_type": "code",
   "execution_count": null,
   "metadata": {},
   "outputs": [],
   "source": [
    "base_size = 8\n",
    "title_size = 8\n",
    "facet_size = 8\n",
    "geom_text_size=3\n",
    "library(ggplot2); \n",
    "theme_set(theme_classic(base_size = base_size) + \n",
    "          theme(strip.background = element_blank(), plot.title=element_text(size=title_size, hjust=0), \n",
    "                strip.text.x = element_text(size = facet_size),axis.title=element_text(size=8), axis.text=element_text(size=8, color=\"black\"), axis.text.x=element_text(size=8, color=\"black\"),\n",
    "                legend.position=\"bottom\", axis.line = element_line(size = 0.2), axis.ticks=element_line(size=0.2)))"
   ]
  },
  {
   "cell_type": "code",
   "execution_count": null,
   "metadata": {},
   "outputs": [],
   "source": [
    "library(ggthemes)\n",
    "endpoint_map = c(\n",
    "    'M_MACE'='MACE',\n",
    "    'M_all_cause_dementia'='Dementia',\n",
    "    'M_type_2_diabetes'='T2 Diabetes',\n",
    "    'M_liver_disease'='Liver Disease',\n",
    "    'M_renal_disease'='Renal Disease',\n",
    "    'M_atrial_fibrillation'='Atrial Fibrillation',\n",
    "    'M_heart_failure'= 'Heart Failure',\n",
    "    'M_coronary_heart_disease'='CHD',\n",
    "    'M_venous_thrombosis'='Ven. Thrombosis',\n",
    "    'M_cerebral_stroke'='Cerebral Stroke',\n",
    "    'M_abdominal_aortic_aneurysm'='AAA',\n",
    "    'M_peripheral_arterial_disease'='PAD',\n",
    "    \"M_chronic_obstructuve_pulmonary_disease\" = \"COPD\",\n",
    "    \"M_asthma\" = \"Asthma\",\n",
    "    'M_parkinsons_disease' = \"Parkinson's\",    \n",
    "    \"M_lung_cancer\" = \"Lung Cancer\",\n",
    "    \"M_non_melanoma_skin_cancer\" = \"Skin Cancer\",\n",
    "    \"M_colon_cancer\"= \"Colon Cancer\",\n",
    "    \"M_rectal_cancer\" = \"Rectal Cancer\",\n",
    "    \"M_prostate_cancer\"= \"Prostate Cancer\",\n",
    "    \"M_breast_cancer\" = \"Breast Cancer\",\n",
    "    'M_cataracts' = \"Cataracts\", \n",
    "    'M_glaucoma' = \"Glaucoma\",\n",
    "    'M_fractures' = \"Fractures\"\n",
    ")\n",
    "\n",
    "endpoint_order = c(\"M_MACE\", \"M_coronary_heart_disease\", \"M_cerebral_stroke\", \"M_all_cause_dementia\", \"M_heart_failure\", \"M_atrial_fibrillation\",\n",
    "                   \"M_type_2_diabetes\", \"M_liver_disease\", \"M_renal_disease\", \"M_peripheral_arterial_disease\", \"M_venous_thrombosis\",  \"M_abdominal_aortic_aneurysm\",\n",
    "                   \"M_chronic_obstructuve_pulmonary_disease\", \"M_asthma\", 'M_parkinsons_disease', 'M_cataracts', 'M_glaucoma', 'M_fractures',\n",
    "                    \"M_lung_cancer\",\"M_non_melanoma_skin_cancer\",\"M_colon_cancer\",\"M_rectal_cancer\",\"M_prostate_cancer\",\"M_breast_cancer\"\n",
    "                   \n",
    ")"
   ]
  },
  {
   "cell_type": "code",
   "execution_count": null,
   "metadata": {},
   "outputs": [],
   "source": [
    "em_wrap = endpoint_map\n",
    "em_wrap[names(endpoint_map)] <- str_wrap(unname(endpoint_map), 20)\n",
    "em_wrap"
   ]
  },
  {
   "cell_type": "code",
   "execution_count": null,
   "metadata": {},
   "outputs": [],
   "source": [
    "options(repr.plot.width = 8, repr.plot.height = 8)\n",
    "library(ggbeeswarm)\n",
    "scores_plot = names(color_map)\n",
    "\n",
    "temp = benchmark_cindex_general %>% \n",
    "    mutate_at(vars(score), list(~ factor(., levels=scores_full))) %>% filter(score==score) %>% filter(score %in% scores_plot)\n",
    "temp_wide = temp %>% select(-module, -features) %>% pivot_wider(names_from=\"score\", values_from=\"cindex\") %>% mutate(delta=`DS_Metabolomics`-`COX_Age+Sex`)\n",
    "temp_desc = temp %>% group_by(endpoint, score) %>% summarise(mean=median(cindex, na.rm=TRUE), max = max(cindex), .groups=\"drop\")\n",
    "temp_desc = temp_desc %>% select(-max) %>% pivot_wider(names_from=\"score\", values_from=\"mean\") %>% mutate(delta=`DS_Metabolomics`-`COX_Age+Sex`) %>% mutate(endpoint=fct_reorder(endpoint, desc(delta)))\n",
    "endpoint_order_desc = levels(temp_desc$endpoint)"
   ]
  },
  {
   "cell_type": "code",
   "execution_count": null,
   "metadata": {},
   "outputs": [],
   "source": [
    "library(ggdist)"
   ]
  },
  {
   "cell_type": "code",
   "execution_count": null,
   "metadata": {},
   "outputs": [],
   "source": [
    "library(ggtext)"
   ]
  },
  {
   "cell_type": "code",
   "execution_count": null,
   "metadata": {},
   "outputs": [],
   "source": [
    "library(ggforestplot)"
   ]
  },
  {
   "cell_type": "code",
   "execution_count": null,
   "metadata": {},
   "outputs": [],
   "source": [
    "library(cowplot)"
   ]
  },
  {
   "cell_type": "code",
   "execution_count": null,
   "metadata": {},
   "outputs": [],
   "source": [
    "scores_map = c(\n",
    "    \"DS_Metabolomics\" = \"MET\",\n",
    "    \n",
    "    \"COX_Age+Sex\" = \"AgeSex\",\n",
    "    \"DS_Age+Sex+Metabolomics\" = \"AgeSex+MET\",\n",
    "    \n",
    "    \"COX_ASCVDnoblood\" = \"ASCVD(noblood)\",\n",
    "    \"DS_ASCVDnoblood+Metabolomics\" = \"ASCVD(noblood)+MET\",\n",
    "    \n",
    "    \"COX_ASCVD\" = \"ASCVD\",\n",
    "    \"DS_ASCVD+Metabolomics\" = \"ASCVD+MET\",\n",
    "    \n",
    "     \"COX_PANELnoblood\" = \"PANEL(noB)\", \n",
    "    \"DS_PANELnoblood+Metabolomics\" = \"PANEL(noB)+MET\",\n",
    "    \n",
    "    \"COX_PANELjustbloodcount\" = \"PANEL(jBC)\", \n",
    "    \"DS_PANELjustbloodcount+Metabolomics\" = \"PANEL(jBC)+MET\",\n",
    "    \n",
    "    \"COX_PANEL\" = \"PANEL\", \n",
    "    \"DS_PANEL+Metabolomics\" = \"PANEL+MET\"\n",
    "               )"
   ]
  },
  {
   "cell_type": "markdown",
   "metadata": {},
   "source": [
    "## Figure 3 - Performance in Context"
   ]
  },
  {
   "cell_type": "code",
   "execution_count": null,
   "metadata": {},
   "outputs": [],
   "source": [
    "library(scales)"
   ]
  },
  {
   "cell_type": "code",
   "execution_count": null,
   "metadata": {},
   "outputs": [],
   "source": [
    "scores_plot = c(\n",
    "    \"DS_Metabolomics\",\n",
    "    \"COX_Age+Sex\",\n",
    "    \"DS_Age+Sex+Metabolomics\",\n",
    "    \n",
    "    \"COX_ASCVD\",\n",
    "    \"DS_ASCVD+Metabolomics\",   \n",
    "    \n",
    "    \"COX_PANEL\",\n",
    "    \"DS_PANEL+Metabolomics\"\n",
    "               )\n",
    "\n",
    "endpoint_order = c(\"M_MACE\", \"M_coronary_heart_disease\", \"M_cerebral_stroke\", \"M_all_cause_dementia\", \"M_heart_failure\", \"M_atrial_fibrillation\",\n",
    "                   \"M_type_2_diabetes\", \"M_liver_disease\", \"M_renal_disease\", \"M_peripheral_arterial_disease\", \"M_venous_thrombosis\",  \"M_abdominal_aortic_aneurysm\",\n",
    "                   \"M_chronic_obstructuve_pulmonary_disease\", \"M_asthma\", 'M_parkinsons_disease', 'M_cataracts', 'M_glaucoma', 'M_fractures',\n",
    "                    \"M_lung_cancer\",\"M_non_melanoma_skin_cancer\",\"M_colon_cancer\",\"M_rectal_cancer\",\"M_prostate_cancer\",\"M_breast_cancer\"\n",
    "                   \n",
    ")\n",
    "\n",
    "\n",
    "temp = benchmark_cindex_general %>% \n",
    "   mutate_at(vars(score), list(~ factor(., levels=scores_plot))) %>% filter(score==score) %>% filter(score %in% scores_plot) %>% \n",
    "    mutate(endpoint = factor(endpoint, levels=endpoint_order)) #%>% #filter(endpoint %in% endpoint_selection)\n",
    "temp_desc = temp %>% group_by(endpoint, score) %>% summarise(mean=median(cindex, na.rm=TRUE), max = max(cindex), .groups=\"drop\")"
   ]
  },
  {
   "cell_type": "markdown",
   "metadata": {},
   "source": [
    "## Diff endpoints"
   ]
  },
  {
   "cell_type": "code",
   "execution_count": null,
   "metadata": {},
   "outputs": [],
   "source": [
    "ep_table  = temp %>% select(endpoint, features, iteration, cindex) %>% \n",
    "    group_by(endpoint, features) %>% median_qi(cindex) %>% mutate(result = glue(\"{round(cindex, 3)} ({round(.lower, 3)}, {round(.upper, 3)})\")) %>% \n",
    "    select(endpoint, features, cindex, result)"
   ]
  },
  {
   "cell_type": "code",
   "execution_count": null,
   "metadata": {},
   "outputs": [],
   "source": [
    "agg_table = temp %>% group_by(features, iteration) %>% \n",
    "    summarise(cindex = mean(cindex)) %>% group_by(features) %>% \n",
    "    median_qi(cindex) %>% ungroup() %>% mutate(result = glue(\"{round(cindex, 3)} ({round(.lower, 3)}, {round(.upper, 3)})\")) %>% mutate(endpoint = \"Overall\") %>% \n",
    "    select(endpoint, features, cindex, result)\n",
    "agg_table"
   ]
  },
  {
   "cell_type": "code",
   "execution_count": null,
   "metadata": {},
   "outputs": [],
   "source": [
    "perf_table = bind_rows(ep_table, agg_table) %>% select(-cindex) %>% pivot_wider(names_from=\"features\", values_from=\"result\")\n",
    "perf_table$endpoint = recode(perf_table$endpoint, !!!endpoint_map)\n",
    "perf_table"
   ]
  },
  {
   "cell_type": "code",
   "execution_count": null,
   "metadata": {},
   "outputs": [],
   "source": [
    "plot_width=8.25; plot_height=5.5; plot_dpi=320\n",
    "options(repr.plot.width = plot_width, repr.plot.height = plot_height, repr.plot.res=plot_dpi)\n",
    "\n",
    "met_discrimination = ggplot(temp, aes(x=score)) +\n",
    "    labs(x=NULL, y=\"Absolute C-Index\")+#, title=\"Metabolomics (orange) vs. Age+Sex (grey) vs. AgeSexMetabolomic (red)\")+\n",
    "    stat_gradientinterval(mapping = aes(y=cindex, color=score, fill=score), alpha=0.7, fatten_point=0.8, interval_size_range=c(0.3, 0.6), slab_alpha=0)+\n",
    "    geom_hline(data = temp %>% filter(features==\"Age+Sex\") %>% group_by(endpoint) %>% summarise(mean_ci=mean(cindex)), \n",
    "               mapping = aes(yintercept=mean_ci), color=color_map[['COX_Age+Sex']], alpha=0.5, linetype=\"22\", size=0.4)+\n",
    "    geom_hline(data = temp %>% filter(features==\"ASCVD\") %>% group_by(endpoint) %>% summarise(mean_ci=mean(cindex)), \n",
    "               mapping = aes(yintercept=mean_ci), color=color_map[['COX_ASCVD']], alpha=0.5, linetype=\"22\", size=0.4)+\n",
    "    geom_hline(data = temp %>% filter(features==\"PANEL\") %>% group_by(endpoint) %>% summarise(mean_ci=mean(cindex)), \n",
    "               mapping = aes(yintercept=mean_ci), color=color_map[['COX_PANEL']], alpha=0.5, linetype=\"22\", size=0.4)+\n",
    "\n",
    "    scale_x_discrete(labels=scores_map)+\n",
    "    scale_y_continuous(breaks=scales::extended_breaks())+\n",
    "    scale_color_manual(values=color_map)+scale_fill_manual(values=color_map)+\n",
    "    #coord_flip() + \n",
    "    facet_wrap(~endpoint, scales=\"free_y\", labeller = labeller(endpoint = endpoint_map), ncol=6) +theme(legend.position=\"none\")+theme(axis.text.x = element_text(angle =90, hjust = 1))+#+#+\n",
    "    theme(panel.spacing = unit(0.8, \"lines\"), \n",
    "          #panel.grid.major.y = element_line(), \n",
    "          axis.text.x = element_text(size=5.5, hjust=1))\n",
    "\n",
    "met_discrimination"
   ]
  },
  {
   "cell_type": "code",
   "execution_count": null,
   "metadata": {},
   "outputs": [],
   "source": [
    "library(gt)\n",
    "plot_name = \"Figures_3_A_AbsoluteCindex\"\n",
    "met_discrimination %>% ggsave(filename=glue(\"outputs/{plot_name}.pdf\"), device=\"pdf\", width=plot_width, height=plot_height, dpi=plot_dpi)"
   ]
  },
  {
   "cell_type": "code",
   "execution_count": null,
   "metadata": {},
   "outputs": [],
   "source": [
    "plot_width=2.66; plot_height=2.5; plot_dpi=320\n",
    "options(repr.plot.width = plot_width, repr.plot.height = plot_height, repr.plot.res=plot_dpi)\n",
    "met_agesex_context = ggplot(temp_wide, aes(x=factor(endpoint, levels=endpoint_order_desc))) +\n",
    "    labs(x=NULL, y=\"\\u0394 C-Index\", title=\"Age+Sex\")+#, title=\"Metabolomics (orange) vs. Age+Sex (grey) vs. AgeSexMetabolomic (red)\")+\n",
    "    geom_hline(yintercept=0, alpha=0.7, color=color_map[['COX_Age+Sex']], size=0.5, linetype=\"22\")+\n",
    "    geom_vline(xintercept=21.5, alpha=0.3, color=color_map[['COX_Age+Sex']], size=0.2)+\n",
    "    geom_vline(xintercept=18.5, alpha=0.3, color=color_map[['COX_Age+Sex']], size=0.2)+\n",
    "    geom_vline(xintercept=15.5, alpha=0.3, color=color_map[['COX_Age+Sex']], size=0.2)+\n",
    "    geom_vline(xintercept=12.5, alpha=0.3, color=color_map[['COX_Age+Sex']], size=0.2)+\n",
    "    geom_vline(xintercept=9.5, alpha=0.3, color=color_map[['COX_Age+Sex']], size=0.2)+\n",
    "    geom_vline(xintercept=6.5, alpha=0.3, color=color_map[['COX_Age+Sex']], size=0.2)+\n",
    "    geom_vline(xintercept=3.5, alpha=0.3, color=color_map[['COX_Age+Sex']], size=0.2)+\n",
    "    stat_gradientinterval(mapping = aes(y=`DS_Metabolomics`-`COX_Age+Sex`), \n",
    "                 color=color_map[['DS_Metabolomics']], fill=color_map[['DS_Metabolomics']], fatten_point=0.8, interval_size_range=c(0.3, 0.6), alpha=0.7, position = position_nudge(x = 0.4), slab_alpha=0)+\n",
    "    #geom_quasirandom(mapping = aes(y=`DS_Age+Sex+Metabolomics`-`COX_Age+Sex`), color=alpha(color_map[['DS_Age+Sex+Metabolomics']], 0.1), size=0.1)+\n",
    "    stat_gradientinterval(mapping = aes(y=`DS_Age+Sex+Metabolomics`-`COX_Age+Sex`), \n",
    "                 color=color_map[['DS_Age+Sex+Metabolomics']], fill=color_map[['DS_Age+Sex+Metabolomics']], fatten_point=0.8, interval_size_range=c(0.3, 0.6), alpha=1, \n",
    "                          position = position_nudge(x = 0.15), slab_alpha=0)+\n",
    "    scale_x_discrete(labels=em_wrap)+coord_flip(ylim=(c(-0.22, 0.22)))+\n",
    "    scale_y_continuous(minor_breaks=seq(-0.24, +0.24, 0.02))+ theme(plot.title = element_text(hjust=0.5))"
   ]
  },
  {
   "cell_type": "code",
   "execution_count": null,
   "metadata": {},
   "outputs": [],
   "source": [
    "## 66%, 95%\n",
    "endpoint_order_agesex = (temp_wide %>% group_by(endpoint) %>% mutate(delta = `DS_Age+Sex+Metabolomics`-`COX_Age+Sex`) %>% summarise(delta=mean(delta)) %>% arrange(delta))$endpoint\n",
    "#endpoint_order_panel = (temp_wide %>% group_by(endpoint) %>% mutate(delta = `DS_ASCVD+Metabolomics`-`COX_ASCVD`) %>% summarise(delta=mean(delta)) %>% arrange(delta))$endpoint\n",
    "plot_width=8; plot_height=4; plot_dpi=320\n",
    "options(repr.plot.width = plot_width, repr.plot.height = plot_height, repr.plot.res=plot_dpi)\n",
    "met_ascvd_context = ggplot(temp_wide, aes(x=factor(endpoint, levels=endpoint_order_desc)))+#levels=endpoint_order_desc))) +\n",
    "    labs(x=NULL, y=\"\\u0394 C-Index\", title=\"ASCVD\")+#, title=\"Metabolomics (orange) vs. Age+Sex (grey) vs. AgeSexMetabolomic (red)\")+\n",
    "    geom_hline(yintercept=0, alpha=0.7, color=color_map[['COX_Age+Sex']], size=0.5, linetype=\"22\")+\n",
    "    geom_vline(xintercept=21.5, alpha=0.3, color=color_map[['COX_Age+Sex']], size=0.2)+\n",
    "    geom_vline(xintercept=18.5, alpha=0.3, color=color_map[['COX_Age+Sex']], size=0.2)+\n",
    "    geom_vline(xintercept=15.5, alpha=0.3, color=color_map[['COX_Age+Sex']], size=0.2)+\n",
    "    geom_vline(xintercept=12.5, alpha=0.3, color=color_map[['COX_Age+Sex']], size=0.2)+\n",
    "    geom_vline(xintercept=9.5, alpha=0.3, color=color_map[['COX_Age+Sex']], size=0.2)+\n",
    "    geom_vline(xintercept=6.5, alpha=0.3, color=color_map[['COX_Age+Sex']], size=0.2)+\n",
    "    geom_vline(xintercept=3.5, alpha=0.3, color=color_map[['COX_Age+Sex']], size=0.2)+\n",
    "    stat_gradientinterval(mapping = aes(y=`DS_Age+Sex+Metabolomics`-`COX_ASCVD`), \n",
    "                          color=color_map[['DS_Age+Sex+Metabolomics']], fill=color_map[['DS_Age+Sex+Metabolomics']], alpha=1, fatten_point=0.8, interval_size_range=c(0.3, 0.6), position = position_nudge(x = 0.2),\n",
    "                            slab_alpha=0)+#, position = position_nudge(x = 0))+\n",
    "\n",
    "    stat_gradientinterval(mapping = aes(y=`DS_ASCVD+Metabolomics`-`COX_ASCVD`), \n",
    "                          color=color_map[['DS_ASCVD+Metabolomics']],#color_map[['DS_ASCVD+Metabolomics']], \n",
    "                         fill=color_map[['DS_ASCVD+Metabolomics']],#color_map[['DS_Age+Sex+Metabolomics']], \n",
    "                         alpha=1, fatten_point=0.8, interval_size_range=c(0.3, 0.6), position = position_nudge(x = 0), slab_alpha=0)+\n",
    "\n",
    "    scale_x_discrete(labels=em_wrap)+coord_flip(ylim=c(-0.1, 0.1))+\n",
    "    scale_y_continuous(minor_breaks=seq(-0.24, +0.24, 0.02))+ theme(plot.title = element_text(hjust=0.5))#+theme(panel.grid.major.y=element_line(size=0.2))#labels = function(x) str_replace(x, '0(?=.)', ''))# + "
   ]
  },
  {
   "cell_type": "code",
   "execution_count": null,
   "metadata": {},
   "outputs": [],
   "source": [
    "## 66%, 95%\n",
    "#endpoint_order_panel = (temp_wide %>% group_by(endpoint) %>% mutate(delta = `DS_PANEL+Metabolomics`-`COX_PANEL`) %>% summarise(delta=mean(delta)) %>% arrange(delta))$endpoint\n",
    "plot_width=8; plot_height=4; plot_dpi=320\n",
    "options(repr.plot.width = plot_width, repr.plot.height = plot_height, repr.plot.res=plot_dpi)\n",
    "endpoint_order_panel = (temp_wide %>% group_by(endpoint) %>% \n",
    "                        mutate(delta = `DS_PANEL+Metabolomics`-`COX_PANEL`) %>% \n",
    "                        summarise(delta=mean(delta)) %>% arrange(delta))$endpoint\n",
    "met_panel_context = ggplot(temp_wide, aes(x=factor(endpoint, levels=endpoint_order_desc)))+#levels=endpoint_order_desc))) +\n",
    "    labs(x=NULL, y=\"\\u0394 C-Index\", title=\"PANEL\")+#, title=\"Metabolomics (orange) vs. Age+Sex (grey) vs. AgeSexMetabolomic (red)\")+\n",
    "    geom_hline(yintercept=0, alpha=0.7, color=color_map[['COX_Age+Sex']], size=0.5, linetype=\"22\")+\n",
    "    geom_vline(xintercept=21.5, alpha=0.3, color=color_map[['COX_Age+Sex']], size=0.2)+\n",
    "    geom_vline(xintercept=18.5, alpha=0.3, color=color_map[['COX_Age+Sex']], size=0.2)+\n",
    "    geom_vline(xintercept=15.5, alpha=0.3, color=color_map[['COX_Age+Sex']], size=0.2)+\n",
    "    geom_vline(xintercept=12.5, alpha=0.3, color=color_map[['COX_Age+Sex']], size=0.2)+\n",
    "    geom_vline(xintercept=9.5, alpha=0.3, color=color_map[['COX_Age+Sex']], size=0.2)+\n",
    "    geom_vline(xintercept=6.5, alpha=0.3, color=color_map[['COX_Age+Sex']], size=0.2)+\n",
    "    geom_vline(xintercept=3.5, alpha=0.3, color=color_map[['COX_Age+Sex']], size=0.2)+\n",
    "\n",
    "    stat_gradientinterval(mapping = aes(y=`DS_ASCVD+Metabolomics`-`COX_PANEL`), \n",
    "                          color=color_map[['DS_ASCVD+Metabolomics']],#color_map[['DS_ASCVD+Metabolomics']], \n",
    "                         fill=color_map[['DS_ASCVD+Metabolomics']],#color_map[['DS_Age+Sex+Metabolomics']], \n",
    "                         alpha=1, fatten_point=0.8, interval_size_range=c(0.3, 0.6), position = position_nudge(x = 0), slab_alpha=0)+\n",
    "\n",
    "    stat_gradientinterval(mapping = aes(y=`DS_PANEL+Metabolomics`-`COX_PANEL`), \n",
    "                          color=color_map[['DS_PANEL+Metabolomics']], fill=color_map[['DS_PANEL+Metabolomics']], alpha=1, fatten_point=0.8, interval_size_range=c(0.3, 0.6), \n",
    "                          position = position_nudge(x = -0.2), slab_alpha=0)+\n",
    "\n",
    "    scale_x_discrete(labels=em_wrap)+coord_flip(ylim=c(-0.04, 0.04))+\n",
    "    scale_y_continuous(minor_breaks=seq(-0.24, +0.24, 0.02))+ theme(plot.title = element_text(hjust=0.5))#+theme(panel.grid.major.y=element_line(size=0.2))#labels = function(x) str_replace(x, '0(?=.)', ''))# + "
   ]
  },
  {
   "cell_type": "code",
   "execution_count": null,
   "metadata": {},
   "outputs": [],
   "source": [
    "endpoint_order_panel"
   ]
  },
  {
   "cell_type": "code",
   "execution_count": null,
   "metadata": {},
   "outputs": [],
   "source": [
    "plot_width=8.25; plot_height=5.25; plot_dpi=320\n",
    "options(repr.plot.width = plot_width, repr.plot.height = plot_height, repr.plot.res=plot_dpi)\n",
    "met_context = (met_agesex_context + theme(panel.grid.minor.x=element_line(size=0.2), panel.grid.major.x=element_line(size=0.2))|#+ annotate(\"segment\", x=24.5, xend=24.5, y=0.15, yend=0.17, size=1.2)|\n",
    "               (met_ascvd_context +theme(axis.text.y=element_blank(), axis.ticks.y=element_blank(), axis.line.y = element_blank()) + theme(panel.grid.minor.x=element_line(size=0.2)))|#+ annotate(\"segment\", x=24.5, xend=24.5, y=0.05, yend=0.07, size=1.2))|\n",
    "               (met_panel_context+ theme(axis.text.y=element_blank(), axis.ticks.y=element_blank(), axis.line.y = element_blank()) + theme(panel.grid.minor.x=element_line(size=0.2), panel.grid.major.x=element_line(size=0.2)))# + annotate(\"segment\", x=24.5, xend=24.5, y=0.02, yend=0.04, size=1.2))\n",
    "               ) + \n",
    "plot_layout(width=c(1, 1, 1))\n",
    "met_context# & coord_flip(ylim=c(-0.22, 0.22))"
   ]
  },
  {
   "cell_type": "code",
   "execution_count": null,
   "metadata": {},
   "outputs": [],
   "source": [
    "library(gt)\n",
    "plot_name = \"Figures_3_BCD_RelativeCindexDeltas\"\n",
    "met_context %>% ggsave(filename=glue(\"outputs/{plot_name}.pdf\"), device=cairo_pdf, width=plot_width, height=plot_height, dpi=plot_dpi)"
   ]
  },
  {
   "cell_type": "markdown",
   "metadata": {},
   "source": [
    "### Differences"
   ]
  },
  {
   "cell_type": "code",
   "execution_count": null,
   "metadata": {},
   "outputs": [],
   "source": [
    "temp_diff = temp_wide %>% select(-time, -delta, -PCA_Metabolomics, -COX_Metabolomics)\n",
    "colnames(temp_diff) = str_remove_all(colnames(temp_diff), \"DS_|COX_\")\n",
    "scores = c('Metabolomics', 'Age+Sex', 'Age+Sex+Metabolomics', 'ASCVD', 'ASCVD+Metabolomics', 'PANEL', 'PANEL+Metabolomics')"
   ]
  },
  {
   "cell_type": "code",
   "execution_count": null,
   "metadata": {},
   "outputs": [],
   "source": [
    "temp_diff_calc = temp_diff\n",
    "\n",
    "score_df = tibble(score1=\"\", score2=\"\")\n",
    "for (score1 in scores){\n",
    "    for (score2 in scores){\n",
    "        if (score1!=score2){\n",
    "            score_df_temp = score_df %>% filter(\n",
    "                (score1==!!score1&score2==!!score2)|\n",
    "                (score1==!!score2&score2==!!score1)\n",
    "            )\n",
    "            if (nrow(score_df_temp)==0){\n",
    "                score_df = score_df %>% add_row(score1=score1, score2=score2)\n",
    "                delta = glue(\"{score1} vs. {score2}\")\n",
    "                temp_diff_calc = temp_diff_calc %>% mutate(!!delta := !!sym(score1)-!!sym(score2))\n",
    "            }\n",
    "            }\n",
    "    }\n",
    "}\n",
    "temp_diff_calc = temp_diff_calc %>% select(-all_of(scores))"
   ]
  },
  {
   "cell_type": "code",
   "execution_count": null,
   "metadata": {},
   "outputs": [],
   "source": [
    "temp_agg = temp_diff_calc %>% \n",
    "    pivot_longer(-c(endpoint, iteration), names_to=\"comparison\", values_to=\"delta\") %>% group_by(endpoint, comparison) %>% \n",
    "    median_qi(delta) %>%\n",
    "    mutate(different = case_when((0!=delta & 0 >= `.lower` & 0 <= `.upper`) ~ \"\", TRUE ~ \"*\")) %>%\n",
    "    mutate(delta_cindex = glue(\"{round(delta, 3)} ({round(.lower, 3)}, {round(.upper, 3)}){different}\")) %>%\n",
    "    select(endpoint, comparison, delta_cindex) %>% pivot_wider(names_from=\"comparison\", values_from=\"delta_cindex\")  %>% mutate(endpoint=factor(endpoint, levels=endpoint_order)) %>% arrange(endpoint)\n",
    "temp_agg$endpoint = recode(temp_agg$endpoint, !!!endpoint_map)"
   ]
  },
  {
   "cell_type": "code",
   "execution_count": null,
   "metadata": {},
   "outputs": [],
   "source": [
    "plot_name = \"Suppl_Table_PerformanceComparisons\"\n",
    "temp_agg %>% write_csv(glue(\"outputs/{plot_name}.csv\"))"
   ]
  },
  {
   "cell_type": "markdown",
   "metadata": {},
   "source": [
    "## Suppl Figure 1"
   ]
  },
  {
   "cell_type": "code",
   "execution_count": null,
   "metadata": {},
   "outputs": [],
   "source": [
    "plot_width = 8.25; plot_height=4; plot_dpi=320\n",
    "options(repr.plot.width = plot_width, repr.plot.height = plot_height, repr.plot.res=plot_dpi)\n",
    "\n",
    "scores_plot = c(\n",
    "    \"PCA_Metabolomics\",\n",
    "    \"COX_Metabolomics\",\n",
    "    \"DS_Metabolomics\"\n",
    "               )\n",
    "\n",
    "temp = benchmark_cindex_general %>% \n",
    "   mutate_at(vars(score), list(~ factor(., levels=scores_plot))) %>% filter(score==score) %>% filter(score %in% scores_plot) %>% mutate(endpoint = factor(endpoint, levels=endpoint_order))\n",
    "temp_desc = temp %>% group_by(endpoint, score) %>% summarise(mean=median(cindex, na.rm=TRUE), max = max(cindex), .groups=\"drop\") %>% mutate(score=str_remove_all(score, \"_Metabolomics\"))\n",
    "\n",
    "supplfig1c = ggplot(temp, aes(x=factor(module, levels=c(\"PCA\", \"COX\", \"DS\")))) +\n",
    "    labs(x=NULL, y=\"Absolute C-Index\")+\n",
    "\n",
    "    stat_gradientinterval(mapping = aes(y=cindex, fill=score), \n",
    "                          color=color_map[['DS_Metabolomics']], \n",
    "                          alpha=1, fatten_point=0.8, interval_size_range=c(0.3, 0.6), slab_alpha=0)+\n",
    "    scale_y_continuous()+\n",
    "    scale_x_discrete(labels=endpoint_map)+scale_color_manual(values=color_map)+scale_fill_manual(values=color_map)+#coord_flip() + \n",
    "    facet_wrap(~endpoint, scales=\"free_y\", labeller = labeller(endpoint = endpoint_map), ncol=6) + theme(legend.position=\"none\", panel.grid.major.y=element_line(size=0.2))\n",
    "supplfig1c"
   ]
  },
  {
   "cell_type": "code",
   "execution_count": null,
   "metadata": {},
   "outputs": [],
   "source": [
    "library(gt)\n",
    "plot_name = \"Suppl_Figures_2_A_PCACOXDS\"\n",
    "supplfig1c %>% ggsave(filename=glue(\"outputs/{plot_name}.pdf\"), device=\"pdf\", width=plot_width, height=plot_height, dpi=plot_dpi)"
   ]
  }
 ],
 "metadata": {
  "hide_input": false,
  "kernelspec": {
   "display_name": "R [conda env:r_env]",
   "language": "R",
   "name": "conda-env-r_env-r"
  },
  "language_info": {
   "codemirror_mode": "r",
   "file_extension": ".r",
   "mimetype": "text/x-r-source",
   "name": "R",
   "pygments_lexer": "r",
   "version": "4.0.2"
  },
  "toc-autonumbering": false
 },
 "nbformat": 4,
 "nbformat_minor": 4
}
