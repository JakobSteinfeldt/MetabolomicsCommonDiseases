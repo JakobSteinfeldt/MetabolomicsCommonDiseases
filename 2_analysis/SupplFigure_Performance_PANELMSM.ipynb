{
 "cells": [
  {
   "cell_type": "markdown",
   "metadata": {},
   "source": [
    "## Initialize"
   ]
  },
  {
   "cell_type": "code",
   "execution_count": null,
   "metadata": {
    "ExecuteTime": {
     "end_time": "2021-01-05T11:03:09.852316Z",
     "start_time": "2021-01-05T11:03:07.701Z"
    }
   },
   "outputs": [],
   "source": [
    "#library(Rmisc)\n",
    "library(tidyverse)\n",
    "library(glue)\n",
    "library(arrow)\n",
    "library(patchwork)\n",
    "library(ggdist)"
   ]
  },
  {
   "cell_type": "code",
   "execution_count": null,
   "metadata": {
    "ExecuteTime": {
     "end_time": "2021-01-05T11:03:10.932312Z",
     "start_time": "2021-01-05T11:03:10.882Z"
    }
   },
   "outputs": [],
   "source": [
    "if (grepl(\"sc\", Sys.info()[[\"nodename\"]], fixed=TRUE)) {\n",
    "    base_path = \"/sc-projects/sc-proj-ukb-cvd\"\n",
    "} else {\n",
    "    base_path = \"/data/analysis/ag-reils/ag-reils-shared/cardioRS\"}\n",
    "print(base_path)\n",
    "\n",
    "dataset_name = \"210714_metabolomics\"\n",
    "path = \"/data/analysis/ag-reils/steinfej/code/umbrella/pre/ukbb\"\n",
    "data_path = glue(\"{base_path}/data\")\n",
    "dataset_path = glue(\"{data_path}/3_datasets_post/{dataset_name}\")\n",
    "\n",
    "project_label=\"21_metabolomics_multitask\"\n",
    "project_path = glue(\"{base_path}/results/projects/{project_label}\")\n",
    "figures_path = glue(\"{project_path}/figures\")\n",
    "data_results_path = glue(\"{project_path}/data\")"
   ]
  },
  {
   "cell_type": "markdown",
   "metadata": {},
   "source": [
    "## Load data"
   ]
  },
  {
   "cell_type": "code",
   "execution_count": null,
   "metadata": {
    "ExecuteTime": {
     "end_time": "2021-01-05T11:03:12.470354Z",
     "start_time": "2021-01-05T11:03:11.387Z"
    }
   },
   "outputs": [],
   "source": [
    "list.dirs(path = project_path, full.names = TRUE, recursive = TRUE)"
   ]
  },
  {
   "cell_type": "code",
   "execution_count": null,
   "metadata": {},
   "outputs": [],
   "source": [
    "run = \"220104\""
   ]
  },
  {
   "cell_type": "code",
   "execution_count": null,
   "metadata": {
    "ExecuteTime": {
     "end_time": "2021-01-05T11:03:23.212936Z",
     "start_time": "2021-01-05T11:03:11.689Z"
    }
   },
   "outputs": [],
   "source": [
    "DSM = \"MultiTaskSurvivalTraining\"\n",
    "data = arrow::read_feather(glue(\"{dataset_path}/data_merged.feather\")) \n",
    "data_description = arrow::read_feather(glue(\"{dataset_path}/description_merged.feather\"))\n",
    "predictions = arrow::read_feather(glue(\"{data_results_path}/predictions_{run}_metabolomics.feather\")) \n",
    "loghazards = arrow::read_feather(glue(\"{data_results_path}/loghazards_model_{run}_metabolomics.feather\")) %>% \n",
    "    pivot_longer(starts_with(\"logh\"), names_to=c(\"endpoint\", \"features\"), values_to=\"logh\", names_pattern=\"logh_?(.*)_(.*)$\")"
   ]
  },
  {
   "cell_type": "code",
   "execution_count": null,
   "metadata": {},
   "outputs": [],
   "source": [
    "data_events = data %>% select(eid, ends_with(\"event\"), ends_with(\"event_time\")) %>% \n",
    "    pivot_longer(-eid, names_to=c(\"endpoint\", \"type\"), values_to=\"value\", names_pattern=\"(.*)(event_time|event)\") %>% \n",
    "    mutate(endpoint = stringr::str_sub(endpoint, end=-2)) %>% pivot_wider(names_from=\"type\", values_from=\"value\")"
   ]
  },
  {
   "cell_type": "code",
   "execution_count": null,
   "metadata": {},
   "outputs": [],
   "source": [
    "loghazards_tte = loghazards %>% left_join(data_events, by=c(\"endpoint\", \"eid\"))"
   ]
  },
  {
   "cell_type": "code",
   "execution_count": null,
   "metadata": {},
   "outputs": [],
   "source": [
    "logh_T = loghazards_tte %>% filter(split==\"test\") %>% mutate(hr=exp(logh))"
   ]
  },
  {
   "cell_type": "code",
   "execution_count": null,
   "metadata": {},
   "outputs": [],
   "source": [
    "logh_T = logh_T %>% group_by(endpoint, features) %>% mutate(logh_perc = ntile(logh, 100))\n",
    "logh_T_agg = logh_T %>% group_by(endpoint, features) %>% mutate(logh_perc = ntile(logh, 100)) %>% group_by(endpoint, features, logh_perc) %>% summarise(ratio = mean(event))"
   ]
  },
  {
   "cell_type": "code",
   "execution_count": null,
   "metadata": {},
   "outputs": [],
   "source": [
    "labels = logh_T %>% group_by(endpoint, event) %>% summarise(median_logh = mean(logh)) %>% pivot_wider(names_from=\"event\", values_from=\"median_logh\") %>% mutate(delta = `1`-`0`) %>% arrange(desc(delta))"
   ]
  },
  {
   "cell_type": "code",
   "execution_count": null,
   "metadata": {},
   "outputs": [],
   "source": [
    "scores = c(\"DS_PANEL\", \n",
    "                \"COX_PANEL\",\n",
    "                  \"DS_PANELmetabolitesOverlap\", \n",
    "                \"DS_Metabolomics\")"
   ]
  },
  {
   "cell_type": "code",
   "execution_count": null,
   "metadata": {},
   "outputs": [],
   "source": [
    "library(ggalt)"
   ]
  },
  {
   "cell_type": "code",
   "execution_count": null,
   "metadata": {},
   "outputs": [],
   "source": [
    "library(\"jsonlite\")\n",
    "colors_path = \"colors.json\"\n",
    "colors_dict = read_json(colors_path)"
   ]
  },
  {
   "cell_type": "code",
   "execution_count": null,
   "metadata": {},
   "outputs": [],
   "source": [
    "color_map <- c(\"all\" = \"grey\", \"none\" = \"black\",\n",
    "               'COX_Age+Sex' = colors_dict$pastel$grey$light, \n",
    "               \n",
    "               'PCA_Metabolomics' = \"#4F8EC1\",\n",
    "               'COX_Metabolomics' = \"#4F8EC1\",\n",
    "               'DS_Metabolomics' = \"#4F8EC1\",  \n",
    "                'COX_SCORE2' = colors_dict$pastel$grey$light, \n",
    "               'COX_ASCVD' = colors_dict$pastel$grey$light, \n",
    "\n",
    "               'COX_PANEL' = colors_dict$pastel$grey$light, \n",
    "\n",
    "               'DS_Age+Sex+Metabolomics' = \"#53dd6c\",#colors_dict$pastel$orange$mid,\n",
    "               'DS_ASCVD+Metabolomics' = \"#d8315b\",#colors_dict$pastel$red$mid,\n",
    "               'DS_PANEL+Metabolomics' = \"#1e1b18\" #colors_dict$pastel$red$dark\n",
    "      )"
   ]
  },
  {
   "cell_type": "code",
   "execution_count": null,
   "metadata": {},
   "outputs": [],
   "source": [
    "scores_full = names(color_map)"
   ]
  },
  {
   "cell_type": "code",
   "execution_count": null,
   "metadata": {},
   "outputs": [],
   "source": [
    "name = glue(\"benchmark_cindex_{run}\")\n",
    "benchmark_cindex_general = read_feather(glue(\"{data_results_path}/{name}.feather\"))  %>% distinct() %>% unite(\"score\", c(module, features), remove=FALSE) %>%  distinct()"
   ]
  },
  {
   "cell_type": "code",
   "execution_count": null,
   "metadata": {},
   "outputs": [],
   "source": [
    "unique(benchmark_cindex_general$score)"
   ]
  },
  {
   "cell_type": "code",
   "execution_count": null,
   "metadata": {},
   "outputs": [],
   "source": [
    "base_size = 8\n",
    "title_size = 8\n",
    "facet_size = 8\n",
    "geom_text_size=3\n",
    "library(ggplot2); \n",
    "theme_set(theme_classic(base_size = base_size) + \n",
    "          theme(strip.background = element_blank(), plot.title=element_text(size=title_size, hjust=0), \n",
    "                strip.text.x = element_text(size = facet_size),axis.title=element_text(size=8), axis.text=element_text(size=8, color=\"black\"), axis.text.x=element_text(size=8, color=\"black\"),\n",
    "                legend.position=\"bottom\", axis.line = element_line(size = 0.2), axis.ticks=element_line(size=0.2)))"
   ]
  },
  {
   "cell_type": "code",
   "execution_count": null,
   "metadata": {},
   "outputs": [],
   "source": [
    "library(ggthemes)\n",
    "endpoint_map = c(\n",
    "    'M_MACE'='MACE',\n",
    "    'M_all_cause_dementia'='Dementia',\n",
    "    'M_type_2_diabetes'='T2 Diabetes',\n",
    "    'M_liver_disease'='Liver Disease',\n",
    "    'M_renal_disease'='Renal Disease',\n",
    "    'M_atrial_fibrillation'='Atrial Fibrillation',\n",
    "    'M_heart_failure'= 'Heart Failure',\n",
    "    'M_coronary_heart_disease'='CHD',\n",
    "    'M_venous_thrombosis'='Ven. Thrombosis',\n",
    "    'M_cerebral_stroke'='Cerebral Stroke',\n",
    "    'M_abdominal_aortic_aneurysm'='AAA',\n",
    "    'M_peripheral_arterial_disease'='PAD',\n",
    "    \"M_chronic_obstructuve_pulmonary_disease\" = \"COPD\",\n",
    "    \"M_asthma\" = \"Asthma\",\n",
    "    'M_parkinsons_disease' = \"Parkinson's\",    \n",
    "    \"M_lung_cancer\" = \"Lung Cancer\",\n",
    "    \"M_non_melanoma_skin_cancer\" = \"Skin Cancer\",\n",
    "    \"M_colon_cancer\"= \"Colon Cancer\",\n",
    "    \"M_rectal_cancer\" = \"Rectal Cancer\",\n",
    "    \"M_prostate_cancer\"= \"Prostate Cancer\",\n",
    "    \"M_breast_cancer\" = \"Breast Cancer\",\n",
    "    'M_cataracts' = \"Cataracts\", \n",
    "    'M_glaucoma' = \"Glaucoma\",\n",
    "    'M_fractures' = \"Fractures\"\n",
    ")\n",
    "\n",
    "endpoint_order = c(\"M_MACE\", \"M_coronary_heart_disease\", \"M_cerebral_stroke\", \"M_all_cause_dementia\", \"M_heart_failure\", \"M_atrial_fibrillation\",\n",
    "                   \"M_type_2_diabetes\", \"M_liver_disease\", \"M_renal_disease\", \"M_peripheral_arterial_disease\", \"M_venous_thrombosis\",  \"M_abdominal_aortic_aneurysm\",\n",
    "                   \"M_chronic_obstructuve_pulmonary_disease\", \"M_asthma\", 'M_parkinsons_disease', 'M_cataracts', 'M_glaucoma', 'M_fractures',\n",
    "                    \"M_lung_cancer\",\"M_non_melanoma_skin_cancer\",\"M_colon_cancer\",\"M_rectal_cancer\",\"M_prostate_cancer\",\"M_breast_cancer\"   \n",
    ")"
   ]
  },
  {
   "cell_type": "code",
   "execution_count": null,
   "metadata": {},
   "outputs": [],
   "source": [
    "em_wrap = endpoint_map\n",
    "em_wrap[names(endpoint_map)] <- str_wrap(unname(endpoint_map), 20)\n",
    "em_wrap"
   ]
  },
  {
   "cell_type": "code",
   "execution_count": null,
   "metadata": {},
   "outputs": [],
   "source": [
    "scores_map = c(\n",
    "    \"DS_Metabolomics\" = \"MET(NMR)\",\n",
    "    \"COX_Metabolomics\" = \"COX MET\",\n",
    "    \"PCA_Metabolomics\" = \"PCA MET\",\n",
    "    \"DS_PANEL\" = \"MSM PANEL\",\n",
    "    \"DS_PANELmetabolites\" = \"MET(PANEL)\",\n",
    "    \"DS_PANELmetabolitesOverlap\" = \"MET(PANEL)\",\n",
    "    \"DS_Age+Sex+PANELmetabolitesOverlap\" = \"AgeSex+MET(PANEL)\",\n",
    "    \"COX_Age+Sex\" = \"AgeSex\",\n",
    "    \"DS_Age+Sex+Metabolomics\" = \"AgeSex+MET(NMR)\",\n",
    "    \"COX_ASCVD\" = \"ASCVD\",\n",
    "    \"DS_ASCVD+Metabolomics\" = \"ASCVD+MET\",\n",
    "    \"COX_PANEL\" = \"COX PANEL\", \n",
    "    \"DS_PANEL+Metabolomics\" = \"PANEL+MET\"\n",
    "               )"
   ]
  },
  {
   "cell_type": "code",
   "execution_count": null,
   "metadata": {},
   "outputs": [],
   "source": [
    "options(repr.plot.width = 8, repr.plot.height = 8)\n",
    "library(ggbeeswarm)\n",
    "scores_plot = names(color_map)\n",
    "\n",
    "temp = benchmark_cindex_general %>% \n",
    "    mutate_at(vars(score), list(~ factor(., levels=names(scores_map)))) %>% filter(score==score) %>% filter(score %in% names(scores_map))\n",
    "temp_wide = temp %>% select(-module, -features) %>% pivot_wider(names_from=\"score\", values_from=\"cindex\") %>% mutate(delta=`DS_Metabolomics`-`COX_Age+Sex`)\n",
    "temp_desc = temp %>% group_by(endpoint, score) %>% summarise(mean=median(cindex, na.rm=TRUE), max = max(cindex), .groups=\"drop\")\n",
    "temp_desc = temp_desc %>% select(-max) %>% pivot_wider(names_from=\"score\", values_from=\"mean\") %>% mutate(delta=`DS_Metabolomics`-`COX_Age+Sex`) %>% mutate(endpoint=fct_reorder(endpoint, desc(delta)))\n",
    "endpoint_order_desc = levels(temp_desc$endpoint)"
   ]
  },
  {
   "cell_type": "code",
   "execution_count": null,
   "metadata": {},
   "outputs": [],
   "source": [
    "library(ggdist)"
   ]
  },
  {
   "cell_type": "code",
   "execution_count": null,
   "metadata": {},
   "outputs": [],
   "source": [
    "library(ggtext)"
   ]
  },
  {
   "cell_type": "code",
   "execution_count": null,
   "metadata": {},
   "outputs": [],
   "source": [
    "library(ggforestplot)"
   ]
  },
  {
   "cell_type": "code",
   "execution_count": null,
   "metadata": {},
   "outputs": [],
   "source": [
    "library(cowplot)"
   ]
  },
  {
   "cell_type": "markdown",
   "metadata": {},
   "source": [
    "NMR vs. PANEL Metabolites"
   ]
  },
  {
   "cell_type": "code",
   "execution_count": null,
   "metadata": {},
   "outputs": [],
   "source": [
    "#MET(PANEL) = ['albumin', 'cholesterol', 'hdl_cholesterol', 'ldl_direct', 'triglycerides', 'glucose', 'creatinine']"
   ]
  },
  {
   "cell_type": "code",
   "execution_count": null,
   "metadata": {},
   "outputs": [],
   "source": [
    "library(scales)"
   ]
  },
  {
   "cell_type": "code",
   "execution_count": null,
   "metadata": {},
   "outputs": [],
   "source": [
    "scores_plot = c(\n",
    "        \"COX_Age+Sex\",\n",
    "    \"DS_PANELmetabolitesOverlap\",\n",
    "    \"DS_Metabolomics\",\n",
    "    \"DS_Age+Sex+PANELmetabolitesOverlap\",\n",
    "    \"DS_Age+Sex+Metabolomics\"\n",
    "               )\n",
    "\n",
    "endpoint_order = c(\"M_MACE\", \"M_coronary_heart_disease\", \"M_cerebral_stroke\", \"M_all_cause_dementia\", \"M_heart_failure\", \"M_atrial_fibrillation\",\n",
    "                   \"M_type_2_diabetes\", \"M_liver_disease\", \"M_renal_disease\", \"M_peripheral_arterial_disease\", \"M_venous_thrombosis\",  \"M_abdominal_aortic_aneurysm\",\n",
    "                   \"M_chronic_obstructuve_pulmonary_disease\", \"M_asthma\", 'M_parkinsons_disease', 'M_cataracts', 'M_glaucoma', 'M_fractures',\n",
    "                    \"M_lung_cancer\",\"M_non_melanoma_skin_cancer\",\"M_colon_cancer\",\"M_rectal_cancer\",\"M_prostate_cancer\",\"M_breast_cancer\"\n",
    "                   \n",
    ")\n",
    "\n",
    "\n",
    "temp = benchmark_cindex_general %>% \n",
    "   mutate_at(vars(score), list(~ factor(., levels=scores_plot))) %>% filter(score==score) %>% filter(score %in% scores_plot) %>% \n",
    "    mutate(endpoint = factor(endpoint, levels=endpoint_order)) #%>% #filter(endpoint %in% endpoint_selection)\n",
    "temp_desc = temp %>% group_by(endpoint, score) %>% summarise(mean=median(cindex, na.rm=TRUE), max = max(cindex), .groups=\"drop\")"
   ]
  },
  {
   "cell_type": "markdown",
   "metadata": {},
   "source": [
    "### Diff endpoints"
   ]
  },
  {
   "cell_type": "code",
   "execution_count": null,
   "metadata": {},
   "outputs": [],
   "source": [
    "ep_table  = temp %>% select(endpoint, features, iteration, cindex) %>% \n",
    "    group_by(endpoint, features) %>% median_qi(cindex) %>% mutate(result = glue(\"{round(cindex, 3)} ({round(.lower, 3)}, {round(.upper, 3)})\")) %>% \n",
    "    select(endpoint, features, cindex, result)"
   ]
  },
  {
   "cell_type": "code",
   "execution_count": null,
   "metadata": {},
   "outputs": [],
   "source": [
    "agg_table = temp %>% group_by(features, iteration) %>% \n",
    "    summarise(cindex = mean(cindex)) %>% group_by(features) %>% \n",
    "    median_qi(cindex) %>% ungroup() %>% mutate(result = glue(\"{round(cindex, 3)} ({round(.lower, 3)}, {round(.upper, 3)})\")) %>% mutate(endpoint = \"Overall\") %>% \n",
    "    select(endpoint, features, cindex, result)\n",
    "#agg_table"
   ]
  },
  {
   "cell_type": "code",
   "execution_count": null,
   "metadata": {},
   "outputs": [],
   "source": [
    "perf_table = bind_rows(ep_table, agg_table) %>% select(-cindex) %>% pivot_wider(names_from=\"features\", values_from=\"result\")\n",
    "perf_table$endpoint = recode(perf_table$endpoint, !!!endpoint_map)"
   ]
  },
  {
   "cell_type": "code",
   "execution_count": null,
   "metadata": {},
   "outputs": [],
   "source": [
    "plot_width=8.25; plot_height=5.5; plot_dpi=320\n",
    "options(repr.plot.width = plot_width, repr.plot.height = plot_height, repr.plot.res=plot_dpi)\n",
    "\n",
    "met_discrimination = ggplot(temp, aes(x=score)) +\n",
    "    labs(x=NULL, y=\"Absolute C-Index\")+\n",
    "    stat_gradientinterval(mapping = aes(y=cindex, color=score, fill=score), alpha=0.7, fatten_point=0.8, interval_size_range=c(0.3, 0.6), slab_alpha=0)+\n",
    "    scale_x_discrete(labels=scores_map)+\n",
    "    scale_y_continuous(breaks=scales::extended_breaks())+\n",
    "    scale_color_manual(values=color_map)+scale_fill_manual(values=color_map)+\n",
    "    facet_wrap(~endpoint, scales=\"free_y\", labeller = labeller(endpoint = endpoint_map), ncol=6) +theme(legend.position=\"none\")+theme(axis.text.x = element_text(angle =90, vjust=0.5, hjust=1))+#, vjust=00))+#, hjust = 0.0))+#+#+\n",
    "    theme(panel.spacing = unit(0.8, \"lines\"), panel.grid.major.y = element_line())#, axis.text.x = element_text(size=5.5, hjust=1))\n",
    "\n",
    "met_discrimination"
   ]
  },
  {
   "cell_type": "code",
   "execution_count": null,
   "metadata": {},
   "outputs": [],
   "source": [
    "library(gt)\n",
    "plot_name = \"Suppl_Figures_2B_PANELMetabolites\"\n",
    "met_discrimination %>% ggsave(filename=glue(\"/home/steinfej/code/21_metabolomics_analysis/Round1/Figures/outputs/{plot_name}.pdf\"), device=\"pdf\", width=plot_width, height=plot_height, dpi=plot_dpi)"
   ]
  },
  {
   "cell_type": "markdown",
   "metadata": {},
   "source": [
    "## PANEL predictors in multitask model"
   ]
  },
  {
   "cell_type": "code",
   "execution_count": null,
   "metadata": {},
   "outputs": [],
   "source": [
    "library(scales)"
   ]
  },
  {
   "cell_type": "code",
   "execution_count": null,
   "metadata": {},
   "outputs": [],
   "source": [
    "scores_plot = c(\n",
    "    \"COX_Age+Sex\",\n",
    "    \"COX_PANEL\",\n",
    "    \"DS_PANEL\"\n",
    "               )\n",
    "\n",
    "endpoint_order = c(\"M_MACE\", \"M_coronary_heart_disease\", \"M_cerebral_stroke\", \"M_all_cause_dementia\", \"M_heart_failure\", \"M_atrial_fibrillation\",\n",
    "                   \"M_type_2_diabetes\", \"M_liver_disease\", \"M_renal_disease\", \"M_peripheral_arterial_disease\", \"M_venous_thrombosis\",  \"M_abdominal_aortic_aneurysm\",\n",
    "                   \"M_chronic_obstructuve_pulmonary_disease\", \"M_asthma\", 'M_parkinsons_disease', 'M_cataracts', 'M_glaucoma', 'M_fractures',\n",
    "                    \"M_lung_cancer\",\"M_non_melanoma_skin_cancer\",\"M_colon_cancer\",\"M_rectal_cancer\",\"M_prostate_cancer\",\"M_breast_cancer\"\n",
    "                   \n",
    ")\n",
    "\n",
    "\n",
    "temp = benchmark_cindex_general %>% \n",
    "   mutate_at(vars(score), list(~ factor(., levels=scores_plot))) %>% filter(score==score) %>% filter(score %in% scores_plot) %>% \n",
    "    mutate(endpoint = factor(endpoint, levels=endpoint_order)) #%>% #filter(endpoint %in% endpoint_selection)\n",
    "temp_desc = temp %>% group_by(endpoint, score) %>% summarise(mean=median(cindex, na.rm=TRUE), max = max(cindex), .groups=\"drop\")"
   ]
  },
  {
   "cell_type": "markdown",
   "metadata": {},
   "source": [
    "### Diff endpoints"
   ]
  },
  {
   "cell_type": "code",
   "execution_count": null,
   "metadata": {},
   "outputs": [],
   "source": [
    "ep_table  = temp %>% select(endpoint, features, iteration, cindex) %>% \n",
    "    group_by(endpoint, features) %>% median_qi(cindex) %>% mutate(result = glue(\"{round(cindex, 3)} ({round(.lower, 3)}, {round(.upper, 3)})\")) %>% \n",
    "    select(endpoint, features, cindex, result)"
   ]
  },
  {
   "cell_type": "code",
   "execution_count": null,
   "metadata": {},
   "outputs": [],
   "source": [
    "agg_table = temp %>% group_by(features, iteration) %>% \n",
    "    summarise(cindex = mean(cindex)) %>% group_by(features) %>% \n",
    "    median_qi(cindex) %>% ungroup() %>% mutate(result = glue(\"{round(cindex, 3)} ({round(.lower, 3)}, {round(.upper, 3)})\")) %>% mutate(endpoint = \"Overall\") %>% \n",
    "    select(endpoint, features, cindex, result)\n",
    "#agg_table"
   ]
  },
  {
   "cell_type": "code",
   "execution_count": null,
   "metadata": {},
   "outputs": [],
   "source": [
    "perf_table = bind_rows(ep_table, agg_table) %>% select(-cindex) %>% pivot_wider(names_from=\"features\", values_from=\"result\")\n",
    "perf_table$endpoint = recode(perf_table$endpoint, !!!endpoint_map)"
   ]
  },
  {
   "cell_type": "code",
   "execution_count": null,
   "metadata": {},
   "outputs": [],
   "source": [
    "plot_width=8.25; plot_height=5.5; plot_dpi=320\n",
    "options(repr.plot.width = plot_width, repr.plot.height = plot_height, repr.plot.res=plot_dpi)\n",
    "\n",
    "met_discrimination = ggplot(temp, aes(x=score)) +\n",
    "    labs(x=NULL, y=\"Absolute C-Index\")+#, title=\"Metabolomics (orange) vs. Age+Sex (grey) vs. AgeSexMetabolomic (red)\")+\n",
    "    stat_gradientinterval(mapping = aes(y=cindex, color=score, fill=score), alpha=0.7, fatten_point=0.8, interval_size_range=c(0.3, 0.6), slab_alpha=0)+\n",
    "    #geom_quasirandom(mapping = aes(y=`DS_AgeSexMetabolomics`-`COX_Age+Sex`), color=alpha(color_map[['DS_Age+Sex+Metabolomics']], 0.4), size=1)+\n",
    "    scale_x_discrete(labels=scores_map)+\n",
    "    scale_y_continuous(breaks=scales::extended_breaks())+#labels = scales::number_format(accuracy = 0.01,\n",
    "                               #  decimal.mark = '.'))+#limits = quantile(temp$cindex, c(0.1, 0.9)))+#scale_y_continuous(guide = guide_axis(n.dodge=3))+#guide = guide_axis(check.overlap = TRUE), expand = expansion(mult = .05))+\n",
    "    scale_color_manual(values=color_map)+scale_fill_manual(values=color_map)+\n",
    "    #coord_flip() + \n",
    "    facet_wrap(~endpoint, scales=\"free_y\", labeller = labeller(endpoint = endpoint_map), ncol=6) +theme(legend.position=\"none\")+theme(axis.text.x = element_text(angle =90, vjust=0.5, hjust=1))+#, hjust = 0.0))+#+#+\n",
    "    theme(panel.spacing = unit(0.8, \"lines\"), panel.grid.major.y = element_line())#, axis.text.x = element_text(size=5.5, hjust=1))\n",
    "\n",
    "met_discrimination"
   ]
  },
  {
   "cell_type": "code",
   "execution_count": null,
   "metadata": {},
   "outputs": [],
   "source": [
    "library(gt)\n",
    "plot_name = \"Suppl_Figures_3_NNPanel\"\n",
    "met_discrimination %>% ggsave(filename=glue(\"/home/steinfej/code/21_metabolomics_analysis/Round1/Figures/outputs/{plot_name}.pdf\"), device=\"pdf\", width=plot_width, height=plot_height, dpi=plot_dpi)"
   ]
  }
 ],
 "metadata": {
  "hide_input": false,
  "kernelspec": {
   "display_name": "R [conda env:r_env]",
   "language": "R",
   "name": "conda-env-r_env-r"
  },
  "language_info": {
   "codemirror_mode": "r",
   "file_extension": ".r",
   "mimetype": "text/x-r-source",
   "name": "R",
   "pygments_lexer": "r",
   "version": "4.0.2"
  },
  "toc-autonumbering": false
 },
 "nbformat": 4,
 "nbformat_minor": 4
}
