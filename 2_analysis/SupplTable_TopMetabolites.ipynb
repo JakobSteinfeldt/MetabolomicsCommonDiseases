{
 "cells": [
  {
   "cell_type": "markdown",
   "metadata": {},
   "source": [
    "## Initialize"
   ]
  },
  {
   "cell_type": "code",
   "execution_count": null,
   "metadata": {
    "ExecuteTime": {
     "end_time": "2021-01-05T11:03:09.852316Z",
     "start_time": "2021-01-05T11:03:07.701Z"
    }
   },
   "outputs": [],
   "source": [
    "#library(Rmisc)\n",
    "library(tidyverse)\n",
    "library(glue)\n",
    "library(arrow)\n",
    "library(patchwork)"
   ]
  },
  {
   "cell_type": "code",
   "execution_count": null,
   "metadata": {
    "ExecuteTime": {
     "end_time": "2021-01-05T11:03:10.932312Z",
     "start_time": "2021-01-05T11:03:10.882Z"
    }
   },
   "outputs": [],
   "source": [
    "if (grepl(\"sc\", Sys.info()[[\"nodename\"]], fixed=TRUE)) {\n",
    "    base_path = \"/sc-projects/sc-proj-ukb-cvd\"\n",
    "} else {\n",
    "    base_path = \"/data/analysis/ag-reils/ag-reils-shared/cardioRS\"}\n",
    "print(base_path)\n",
    "\n",
    "dataset_name = \"210714_metabolomics\"\n",
    "path = \"/data/analysis/ag-reils/steinfej/code/umbrella/pre/ukbb\"\n",
    "data_path = glue(\"{base_path}/data\")\n",
    "dataset_path = glue(\"{data_path}/3_datasets_post/{dataset_name}\")\n",
    "\n",
    "project_label=\"21_metabolomics_multitask\"\n",
    "project_path = glue(\"{base_path}/results/projects/{project_label}\")\n",
    "figures_path = glue(\"{project_path}/figures\")\n",
    "data_results_path = glue(\"{project_path}/data\")"
   ]
  },
  {
   "cell_type": "markdown",
   "metadata": {},
   "source": [
    "## Load data"
   ]
  },
  {
   "cell_type": "code",
   "execution_count": null,
   "metadata": {
    "ExecuteTime": {
     "end_time": "2021-01-05T11:03:12.470354Z",
     "start_time": "2021-01-05T11:03:11.387Z"
    }
   },
   "outputs": [],
   "source": [
    "list.dirs(path = project_path, full.names = TRUE, recursive = TRUE)"
   ]
  },
  {
   "cell_type": "code",
   "execution_count": null,
   "metadata": {
    "ExecuteTime": {
     "end_time": "2021-01-05T11:03:23.212936Z",
     "start_time": "2021-01-05T11:03:11.689Z"
    }
   },
   "outputs": [],
   "source": [
    "run = \"211007\"\n",
    "data = arrow::read_feather(glue(\"{dataset_path}/data_merged.feather\")) \n",
    "data_description = arrow::read_feather(glue(\"{dataset_path}/description_merged.feather\"))\n",
    "\n",
    "predictions = arrow::read_feather(glue(\"{data_results_path}/predictions_{run}_metabolomics.feather\")) \n",
    "loghazards = arrow::read_feather(glue(\"{data_results_path}/loghazards_model_{run}_metabolomics.feather\")) %>% pivot_longer(starts_with(\"logh\"), names_to=c(\"endpoint\", \"features\"), values_to=\"logh\", names_pattern=\"logh_?(.*)_(.*)$\")"
   ]
  },
  {
   "cell_type": "code",
   "execution_count": null,
   "metadata": {},
   "outputs": [],
   "source": [
    "colnames(predictions)"
   ]
  },
  {
   "cell_type": "code",
   "execution_count": null,
   "metadata": {},
   "outputs": [],
   "source": [
    "base_size = 8\n",
    "title_size = 10\n",
    "facet_size = 10\n",
    "geom_text_size=3\n",
    "library(ggplot2); \n",
    "theme_set(theme_classic(base_size = base_size) + \n",
    "          theme(strip.background = element_blank(), plot.title=element_text(size=title_size, hjust=0), \n",
    "                strip.text.x = element_text(size = facet_size),axis.title=element_text(size=10), axis.text=element_text(size=8, color=\"black\"),\n",
    "                legend.position=\"bottom\", axis.line = element_line(size = 0.2), axis.ticks=element_line(size=0.2)))"
   ]
  },
  {
   "cell_type": "code",
   "execution_count": null,
   "metadata": {},
   "outputs": [],
   "source": [
    "logh_NMR = loghazards %>% filter(split==\"test\") %>% left_join(data %>% select(eid, starts_with(\"NMR_\"), -c(`NMR_measurement_quality_flagged`, `NMR_spectrometer`)) %>% filter(NMR_FLAG==TRUE), by=\"eid\")\n",
    "logh_NMR_long = logh_NMR %>% pivot_longer(starts_with(\"NMR_\"), names_to=\"marker\", values_to=\"value\")"
   ]
  },
  {
   "cell_type": "raw",
   "metadata": {},
   "source": [
    "marker_order = (corrs %>% group_by(marker) %>% summarise(m=mean(cor)) %>% arrange(desc(m)))$marker\n",
    "marker_order"
   ]
  },
  {
   "cell_type": "code",
   "execution_count": null,
   "metadata": {},
   "outputs": [],
   "source": [
    "library(ggforestplot)"
   ]
  },
  {
   "cell_type": "code",
   "execution_count": null,
   "metadata": {},
   "outputs": [],
   "source": [
    "# Deepexplainer\n",
    "attributions_de = arrow::read_feather(glue(\"{data_results_path}/attributions_211026.feather\")) %>% mutate(explainer=\"DeepExplainer\")"
   ]
  },
  {
   "cell_type": "raw",
   "metadata": {},
   "source": [
    "# Kernelexplainer\n",
    "attributions_ke = arrow::read_feather(glue(\"{data_results_path}/attributions_211014_Kernelexplainer.feather\")) %>% mutate(explainer=\"KernelExplainer\") "
   ]
  },
  {
   "cell_type": "code",
   "execution_count": null,
   "metadata": {},
   "outputs": [],
   "source": [
    "attributions = attributions_de"
   ]
  },
  {
   "cell_type": "markdown",
   "metadata": {},
   "source": [
    "## Attributions by shap"
   ]
  },
  {
   "cell_type": "code",
   "execution_count": null,
   "metadata": {},
   "outputs": [],
   "source": [
    "library(\"ggbeeswarm\")"
   ]
  },
  {
   "cell_type": "code",
   "execution_count": null,
   "metadata": {},
   "outputs": [],
   "source": [
    "run=\"211007\"\n",
    "name = glue(\"benchmark_cindex_{run}\")\n",
    "benchmark_cindex_general = read_feather(glue(\"{data_results_path}/{name}.feather\"))  %>% distinct() %>% unite(\"score\", c(module, features), remove=FALSE) %>%  distinct()"
   ]
  },
  {
   "cell_type": "code",
   "execution_count": null,
   "metadata": {},
   "outputs": [],
   "source": [
    "library(ggdist)\n",
    "perf_order = benchmark_cindex_general %>% filter(module==\"DS\", features==\"Metabolomics\") %>% group_by(endpoint) %>% median_qi(cindex) %>% arrange(desc(cindex))\n",
    "endpoint_order_perf = perf_order$endpoint"
   ]
  },
  {
   "cell_type": "code",
   "execution_count": null,
   "metadata": {},
   "outputs": [],
   "source": [
    "endpoint_order_perf "
   ]
  },
  {
   "cell_type": "code",
   "execution_count": null,
   "metadata": {},
   "outputs": [],
   "source": [
    "library(ggthemes)\n",
    "endpoint_map = c(\n",
    "    'M_MACE'='MACE',\n",
    "    'M_all_cause_dementia'='Dementia',\n",
    "    'M_type_2_diabetes'='T2 Diabetes',\n",
    "    'M_liver_disease'='Liver Disease',\n",
    "    'M_renal_disease'='Renal Disease',\n",
    "    'M_atrial_fibrillation'='Atrial Fibrillation',\n",
    "    'M_heart_failure'= 'Heart Failure',\n",
    "    'M_coronary_heart_disease'='CHD',\n",
    "    'M_venous_thrombosis'='Ven. Thrombosis',\n",
    "    'M_cerebral_stroke'='Cerebral Stroke',\n",
    "    'M_abdominal_aortic_aneurysm'='AAA',\n",
    "    'M_peripheral_arterial_disease'='PAD',\n",
    "    \"M_chronic_obstructuve_pulmonary_disease\" = \"COPD\",\n",
    "    \"M_asthma\" = \"Asthma\",\n",
    "    'M_parkinsons_disease' = \"Parkinson's\",    \n",
    "    \"M_lung_cancer\" = \"Lung Cancer\",\n",
    "    \"M_non_melanoma_skin_cancer\" = \"Skin Cancer\",\n",
    "    \"M_colon_cancer\"= \"Colon Cancer\",\n",
    "    \"M_rectal_cancer\" = \"Rectal Cancer\",\n",
    "    \"M_prostate_cancer\"= \"Prostate Cancer\",\n",
    "    \"M_breast_cancer\" = \"Breast Cancer\",\n",
    "    'M_cataracts' = \"Cataracts\", \n",
    "    'M_glaucoma' = \"Glaucoma\",\n",
    "    'M_fractures' = \"Fractures\"\n",
    ")\n",
    "\n",
    "endpoint_order = c(\"M_MACE\", \"M_coronary_heart_disease\", \"M_cerebral_stroke\", \"M_all_cause_dementia\", \"M_heart_failure\", \"M_atrial_fibrillation\",\n",
    "                   \"M_type_2_diabetes\", \"M_liver_disease\", \"M_renal_disease\", \"M_peripheral_arterial_disease\", \"M_venous_thrombosis\",  \"M_abdominal_aortic_aneurysm\",\n",
    "                   \"M_chronic_obstructuve_pulmonary_disease\", \"M_asthma\", 'M_parkinsons_disease', 'M_cataracts', 'M_glaucoma', 'M_fractures',\n",
    "                    \"M_lung_cancer\",\"M_non_melanoma_skin_cancer\",\"M_colon_cancer\",\"M_rectal_cancer\",\"M_prostate_cancer\",\"M_breast_cancer\"\n",
    "                   \n",
    ")"
   ]
  },
  {
   "cell_type": "code",
   "execution_count": null,
   "metadata": {},
   "outputs": [],
   "source": [
    "library(ggforestplot)\n",
    "ng_names = df_NG_biomarker_metadata %>% mutate(metabolite = str_replace_all(tolower(description), \" \", \"_\"))\n",
    "ng_names %>% sample_n(10)"
   ]
  },
  {
   "cell_type": "code",
   "execution_count": null,
   "metadata": {},
   "outputs": [],
   "source": [
    "ng_names %>% select(group, subgroup) %>% distinct() %>% arrange(group, subgroup)"
   ]
  },
  {
   "cell_type": "code",
   "execution_count": null,
   "metadata": {},
   "outputs": [],
   "source": [
    "library(fuzzyjoin)"
   ]
  },
  {
   "cell_type": "code",
   "execution_count": null,
   "metadata": {},
   "outputs": [],
   "source": [
    "library(fuzzyjoin)\n",
    "mets1 = attributions %>% select(metabolite) %>% distinct() %>% left_join(ng_names, by = \"metabolite\")\n",
    "mets2 = mets1 %>% filter(is.na(name)) %>% select(metabolite) %>% stringdist_left_join(ng_names, by = \"metabolite\", max_dist = 1) %>% \n",
    "    rename(metabolite = metabolite.x) %>% select(-metabolite.y) %>% distinct()\n",
    "mets3 = mets2 %>% filter(is.na(name)) %>% select(metabolite) %>% stringdist_left_join(ng_names, by = \"metabolite\", max_dist = 8) %>% \n",
    "    rename(metabolite = metabolite.x) %>% select(-metabolite.y) %>% distinct()\n",
    "mets = bind_rows(mets1 %>% filter(!is.na(name)), mets2 %>% filter(!is.na(name)), mets3)\n",
    "mets %>% sample_n(5)"
   ]
  },
  {
   "cell_type": "code",
   "execution_count": null,
   "metadata": {},
   "outputs": [],
   "source": [
    "attributions_metadata = attributions %>% left_join(mets %>% select(metabolite, abbreviation, group, subgroup), by=\"metabolite\") %>% mutate(eid=as.integer(as.character(eid)))"
   ]
  },
  {
   "cell_type": "code",
   "execution_count": null,
   "metadata": {},
   "outputs": [],
   "source": [
    "library(gghighlight)"
   ]
  },
  {
   "cell_type": "code",
   "execution_count": null,
   "metadata": {},
   "outputs": [],
   "source": [
    "nmr_real = data %>% select(eid, starts_with(\"NMR_\"), -`NMR_measurement_quality_flagged`, -`NMR_spectrometer`) %>% \n",
    "    filter(NMR_FLAG==TRUE) %>% pivot_longer(contains(\"NMR_\"), names_to=\"metabolite\", values_to=\"met_real\") %>% \n",
    "    mutate(metabolite = str_remove_all(metabolite, \"NMR_\"))"
   ]
  },
  {
   "cell_type": "code",
   "execution_count": null,
   "metadata": {},
   "outputs": [],
   "source": [
    "prev_events = data %>% select(eid, starts_with(\"M_\"), -ends_with(\"_event\"), -ends_with(\"_time\")) %>% \n",
    "    pivot_longer(contains(\"M_\"), names_to=\"endpoint\", values_to=\"event\") %>% distinct()#%>% \n",
    "    #mutate(metabolite = str_remove_all(metabolite, \"NMR_\"))\n",
    "prev_events %>% head()"
   ]
  },
  {
   "cell_type": "code",
   "execution_count": null,
   "metadata": {},
   "outputs": [],
   "source": [
    "clean_label = function(label){return(stringr::str_wrap(str_replace_all(label, \"_\", \" \"), 20))}"
   ]
  },
  {
   "cell_type": "code",
   "execution_count": null,
   "metadata": {},
   "outputs": [],
   "source": [
    "hrs = loghazards %>% filter(features==\"Metabolomics\") %>% mutate(hr = exp(logh)) %>% filter(split==\"test\") %>% select(eid, endpoint, hr)"
   ]
  },
  {
   "cell_type": "markdown",
   "metadata": {},
   "source": [
    "## Global attributions"
   ]
  },
  {
   "cell_type": "code",
   "execution_count": null,
   "metadata": {},
   "outputs": [],
   "source": [
    "#n_eids = 10000\n",
    "#eids = (attributions_metadata %>% select(eid) %>% distinct() %>% sample_n(n_eids))$eid\n",
    "met_order_df = attributions_metadata %>% select(group, subgroup, metabolite, abbreviation) %>% distinct() %>% arrange(group, subgroup, abbreviation) %>% mutate(group_id = as.integer(factor(group)))\n",
    "met_order = met_order_df$metabolite\n",
    "abbrev_order = met_order_df$abbreviation\n",
    "group_order = (met_order_df %>% select(group) %>% distinct())$group\n",
    "attrib_raw = attributions_metadata %>% #filter(eid %in% eids)  %>% \n",
    "    left_join(prev_events, by=c(\"eid\", \"endpoint\")) %>% \n",
    "    ungroup() %>% mutate(metabolite=factor(metabolite, levels=met_order)) %>%\n",
    "    mutate(abbreviation=factor(abbreviation, levels=abbrev_order))#%>% mutate(shap=raster::clamp(shap, -2, +2))"
   ]
  },
  {
   "cell_type": "code",
   "execution_count": null,
   "metadata": {},
   "outputs": [],
   "source": [
    "subgroup_order = c( 'Amino acids',\n",
    "                    'Branched-chain amino acids',\n",
    "                   'Aromatic amino acids',\n",
    "                   'Fluid balance',\n",
    "                   'Inflammation',\n",
    "                    'Fatty acids',\n",
    "                    'Glycolysis related metabolites',\n",
    "                    'Ketone bodies',\n",
    "         \n",
    "                   'Total lipids',\n",
    "                    'Cholesterol',\n",
    "                    'Free cholesterol',\n",
    "                   'Cholesteryl esters',\n",
    "                   'Phospholipids',\n",
    "                   'Triglycerides',\n",
    "                   'Other lipids',\n",
    "                   \n",
    "                    'Lipoprotein particle sizes',\n",
    "                    'Lipoprotein particle concentrations',\n",
    "                    'Chylomicrons and extremely large VLDL',\n",
    "                   'Very large VLDL',\n",
    "                   'Large VLDL',\n",
    "                   'Medium VLDL',\n",
    "                   'Small VLDL',\n",
    "                   'Very small VLDL',\n",
    "              \n",
    "                   'Large LDL',\n",
    "                   'Medium LDL',\n",
    "                   'Small LDL',\n",
    "                    'IDL',\n",
    "                   'Very large HDL',\n",
    "                   'Large HDL',\n",
    "                   'Medium HDL',\n",
    "                   'Small HDL',\n",
    "                   'Apolipoproteins'\n",
    "                  )"
   ]
  },
  {
   "cell_type": "code",
   "execution_count": null,
   "metadata": {},
   "outputs": [],
   "source": [
    "attrib_sample = attrib_raw %>% group_by(endpoint, metabolite, explainer) %>% \n",
    "    mutate(shap_quantile=ntile(shap, 100), met_quantile=ntile(met_value, 100)) "
   ]
  },
  {
   "cell_type": "code",
   "execution_count": null,
   "metadata": {},
   "outputs": [],
   "source": [
    "attrib_sample_mean = attrib_sample %>% ungroup() %>% \n",
    "    group_by(endpoint, metabolite, abbreviation, group, subgroup, explainer, shap_quantile) %>% \n",
    "    summarise(met_quantile=mean(met_quantile), mean_shap = mean(shap), mean_met=mean(met_value)) "
   ]
  },
  {
   "cell_type": "code",
   "execution_count": null,
   "metadata": {},
   "outputs": [],
   "source": [
    "library(ggforce)"
   ]
  },
  {
   "cell_type": "code",
   "execution_count": null,
   "metadata": {},
   "outputs": [],
   "source": [
    "temp_global = attrib_sample %>% group_by(endpoint, subgroup, metabolite, abbreviation) %>% summarise(global_shap = sum(abs(shap)))"
   ]
  },
  {
   "cell_type": "code",
   "execution_count": null,
   "metadata": {},
   "outputs": [],
   "source": [
    "top = temp_global %>% ungroup() %>% group_by(endpoint) %>% slice_max(global_shap, n=25) %>% mutate(rank = row_number()) %>% mutate(endpoint=factor(endpoint, levels=endpoint_order)) \n",
    "top$endpoint = recode(top$endpoint, !!!endpoint_map)"
   ]
  },
  {
   "cell_type": "code",
   "execution_count": null,
   "metadata": {},
   "outputs": [],
   "source": [
    "options(repr.matrix.max.rows=60, repr.matrix.max.cols=200)\n",
    "top_print = top %>% select(endpoint, abbreviation, rank) %>% ungroup() %>% pivot_wider(names_from=\"rank\", values_from=\"abbreviation\") %>% arrange(endpoint)\n",
    "top_print"
   ]
  }
 ],
 "metadata": {
  "hide_input": false,
  "kernelspec": {
   "display_name": "R [conda env:r_env]",
   "language": "R",
   "name": "conda-env-r_env-r"
  },
  "language_info": {
   "codemirror_mode": "r",
   "file_extension": ".r",
   "mimetype": "text/x-r-source",
   "name": "R",
   "pygments_lexer": "r",
   "version": "4.0.2"
  },
  "toc-autonumbering": false
 },
 "nbformat": 4,
 "nbformat_minor": 4
}
