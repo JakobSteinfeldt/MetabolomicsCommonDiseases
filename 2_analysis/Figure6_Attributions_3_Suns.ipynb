{
 "cells": [
  {
   "cell_type": "markdown",
   "metadata": {},
   "source": [
    "## Initialize"
   ]
  },
  {
   "cell_type": "code",
   "execution_count": null,
   "metadata": {
    "ExecuteTime": {
     "end_time": "2021-01-05T11:03:09.852316Z",
     "start_time": "2021-01-05T11:03:07.701Z"
    }
   },
   "outputs": [],
   "source": [
    "#library(Rmisc)\n",
    "library(tidyverse)\n",
    "library(glue)\n",
    "library(arrow)\n",
    "library(patchwork)\n",
    "library(\"ggbeeswarm\")"
   ]
  },
  {
   "cell_type": "code",
   "execution_count": null,
   "metadata": {
    "ExecuteTime": {
     "end_time": "2021-01-05T11:03:10.932312Z",
     "start_time": "2021-01-05T11:03:10.882Z"
    }
   },
   "outputs": [],
   "source": [
    "if (grepl(\"sc\", Sys.info()[[\"nodename\"]], fixed=TRUE)) {\n",
    "    base_path = \"/sc-projects/sc-proj-ukb-cvd\"\n",
    "} else {\n",
    "    base_path = \"/data/analysis/ag-reils/ag-reils-shared/cardioRS\"}\n",
    "print(base_path)\n",
    "\n",
    "dataset_name = \"210714_metabolomics\"\n",
    "path = \"/data/analysis/ag-reils/steinfej/code/umbrella/pre/ukbb\"\n",
    "data_path = glue(\"{base_path}/data\")\n",
    "dataset_path = glue(\"{data_path}/3_datasets_post/{dataset_name}\")\n",
    "\n",
    "project_label=\"21_metabolomics_multitask\"\n",
    "project_path = glue(\"{base_path}/results/projects/{project_label}\")\n",
    "figures_path = glue(\"{project_path}/figures\")\n",
    "data_results_path = glue(\"{project_path}/data\")"
   ]
  },
  {
   "cell_type": "markdown",
   "metadata": {},
   "source": [
    "## Load data"
   ]
  },
  {
   "cell_type": "code",
   "execution_count": null,
   "metadata": {
    "ExecuteTime": {
     "end_time": "2021-01-05T11:03:12.470354Z",
     "start_time": "2021-01-05T11:03:11.387Z"
    }
   },
   "outputs": [],
   "source": [
    "list.dirs(path = project_path, full.names = TRUE, recursive = TRUE)"
   ]
  },
  {
   "cell_type": "code",
   "execution_count": null,
   "metadata": {
    "ExecuteTime": {
     "end_time": "2021-01-05T11:03:23.212936Z",
     "start_time": "2021-01-05T11:03:11.689Z"
    }
   },
   "outputs": [],
   "source": [
    "run = \"211007\"\n",
    "data = arrow::read_feather(glue(\"{dataset_path}/data_merged.feather\")) \n",
    "data_description = arrow::read_feather(glue(\"{dataset_path}/description_merged.feather\"))\n",
    "\n",
    "predictions = arrow::read_feather(glue(\"{data_results_path}/predictions_{run}_metabolomics.feather\")) \n",
    "loghazards = arrow::read_feather(glue(\"{data_results_path}/loghazards_model_{run}_metabolomics.feather\")) %>% pivot_longer(starts_with(\"logh\"), names_to=c(\"endpoint\", \"features\"), values_to=\"logh\", names_pattern=\"logh_?(.*)_(.*)$\")"
   ]
  },
  {
   "cell_type": "code",
   "execution_count": null,
   "metadata": {},
   "outputs": [],
   "source": [
    "base_size = 8\n",
    "title_size = 10\n",
    "facet_size = 10\n",
    "geom_text_size=3\n",
    "library(ggplot2); \n",
    "theme_set(theme_classic(base_size = base_size) + \n",
    "          theme(strip.background = element_blank(), plot.title=element_text(size=title_size, hjust=0), \n",
    "                strip.text.x = element_text(size = facet_size),axis.title=element_text(size=10), axis.text=element_text(size=8, color=\"black\"),\n",
    "                legend.position=\"bottom\", axis.line = element_line(size = 0.2), axis.ticks=element_line(size=0.2)))"
   ]
  },
  {
   "cell_type": "code",
   "execution_count": null,
   "metadata": {},
   "outputs": [],
   "source": [
    "logh_NMR = loghazards %>% filter(split==\"test\") %>% left_join(data %>% select(eid, starts_with(\"NMR_\"), -c(`NMR_measurement_quality_flagged`, `NMR_spectrometer`)) %>% filter(NMR_FLAG==TRUE), by=\"eid\")\n",
    "logh_NMR_long = logh_NMR %>% pivot_longer(starts_with(\"NMR_\"), names_to=\"marker\", values_to=\"value\")"
   ]
  },
  {
   "cell_type": "raw",
   "metadata": {},
   "source": [
    "marker_order = (corrs %>% group_by(marker) %>% summarise(m=mean(cor)) %>% arrange(desc(m)))$marker\n",
    "marker_order"
   ]
  },
  {
   "cell_type": "code",
   "execution_count": null,
   "metadata": {},
   "outputs": [],
   "source": [
    "library(ggforestplot)"
   ]
  },
  {
   "cell_type": "code",
   "execution_count": null,
   "metadata": {},
   "outputs": [],
   "source": [
    "# Deepexplainer\n",
    "attributions = arrow::read_feather(glue(\"{data_results_path}/attributions_211026.feather\")) %>% mutate(explainer=\"DeepExplainer\")"
   ]
  },
  {
   "cell_type": "markdown",
   "metadata": {},
   "source": [
    "## Attributions by shap"
   ]
  },
  {
   "cell_type": "code",
   "execution_count": null,
   "metadata": {},
   "outputs": [],
   "source": [
    "library(ggthemes)\n",
    "endpoint_map = c(\n",
    "    'M_MACE'='MACE',\n",
    "    'M_all_cause_dementia'='Dementia',\n",
    "    'M_type_2_diabetes'='T2 Diabetes',\n",
    "    'M_liver_disease'='Liver Disease',\n",
    "    'M_renal_disease'='Renal Disease',\n",
    "    'M_atrial_fibrillation'='Atrial Fibrillation',\n",
    "    'M_heart_failure'= 'Heart Failure',\n",
    "    'M_coronary_heart_disease'='CHD',\n",
    "    'M_venous_thrombosis'='Ven. Thrombosis',\n",
    "    'M_cerebral_stroke'='Cerebral Stroke',\n",
    "    'M_abdominal_aortic_aneurysm'='AAA',\n",
    "    'M_peripheral_arterial_disease'='PAD',\n",
    "    \"M_chronic_obstructuve_pulmonary_disease\" = \"COPD\",\n",
    "    \"M_asthma\" = \"Asthma\",\n",
    "    'M_parkinsons_disease' = \"Parkinson's\",    \n",
    "    \"M_lung_cancer\" = \"Lung Cancer\",\n",
    "    \"M_non_melanoma_skin_cancer\" = \"Skin Cancer\",\n",
    "    \"M_colon_cancer\"= \"Colon Cancer\",\n",
    "    \"M_rectal_cancer\" = \"Rectal Cancer\",\n",
    "    \"M_prostate_cancer\"= \"Prostate Cancer\",\n",
    "    \"M_breast_cancer\" = \"Breast Cancer\",\n",
    "    'M_cataracts' = \"Cataracts\", \n",
    "    'M_glaucoma' = \"Glaucoma\",\n",
    "    'M_fractures' = \"Fractures\"\n",
    ")\n",
    "\n",
    "endpoint_order = c(\"M_MACE\", \"M_coronary_heart_disease\", \"M_cerebral_stroke\", \"M_all_cause_dementia\", \"M_heart_failure\", \"M_atrial_fibrillation\",\n",
    "                   \"M_type_2_diabetes\", \"M_liver_disease\", \"M_renal_disease\", \"M_peripheral_arterial_disease\", \"M_venous_thrombosis\",  \"M_abdominal_aortic_aneurysm\",\n",
    "                   \"M_chronic_obstructuve_pulmonary_disease\", \"M_asthma\", 'M_parkinsons_disease', 'M_cataracts', 'M_glaucoma', 'M_fractures',\n",
    "                    \"M_lung_cancer\",\"M_non_melanoma_skin_cancer\",\"M_colon_cancer\",\"M_rectal_cancer\",\"M_prostate_cancer\",\"M_breast_cancer\"\n",
    "                   \n",
    ")"
   ]
  },
  {
   "cell_type": "code",
   "execution_count": null,
   "metadata": {},
   "outputs": [],
   "source": [
    "library(ggforestplot)\n",
    "ng_names = df_NG_biomarker_metadata %>% mutate(metabolite = str_replace_all(tolower(description), \" \", \"_\"))\n",
    "ng_names %>% sample_n(10)"
   ]
  },
  {
   "cell_type": "code",
   "execution_count": null,
   "metadata": {},
   "outputs": [],
   "source": [
    "library(fuzzyjoin)"
   ]
  },
  {
   "cell_type": "code",
   "execution_count": null,
   "metadata": {},
   "outputs": [],
   "source": [
    "library(fuzzyjoin)\n",
    "mets1 = attributions %>% select(metabolite) %>% distinct() %>% left_join(ng_names, by = \"metabolite\")\n",
    "mets2 = mets1 %>% filter(is.na(name)) %>% select(metabolite) %>% stringdist_left_join(ng_names, by = \"metabolite\", max_dist = 1) %>% \n",
    "    rename(metabolite = metabolite.x) %>% select(-metabolite.y) %>% distinct()\n",
    "mets3 = mets2 %>% filter(is.na(name)) %>% select(metabolite) %>% stringdist_left_join(ng_names, by = \"metabolite\", max_dist = 8) %>% \n",
    "    rename(metabolite = metabolite.x) %>% select(-metabolite.y) %>% distinct()\n",
    "mets = bind_rows(mets1 %>% filter(!is.na(name)), mets2 %>% filter(!is.na(name)), mets3)\n",
    "mets %>% sample_n(5)"
   ]
  },
  {
   "cell_type": "code",
   "execution_count": null,
   "metadata": {},
   "outputs": [],
   "source": [
    "attributions_metadata = attributions %>% left_join(mets %>% select(metabolite, abbreviation, group, subgroup), by=\"metabolite\") %>% mutate(eid=as.integer(as.character(eid)))"
   ]
  },
  {
   "cell_type": "code",
   "execution_count": null,
   "metadata": {},
   "outputs": [],
   "source": [
    "library(gghighlight)"
   ]
  },
  {
   "cell_type": "code",
   "execution_count": null,
   "metadata": {},
   "outputs": [],
   "source": [
    "nmr_real = data %>% select(eid, starts_with(\"NMR_\"), -`NMR_measurement_quality_flagged`, -`NMR_spectrometer`) %>% \n",
    "    filter(NMR_FLAG==TRUE) %>% pivot_longer(contains(\"NMR_\"), names_to=\"metabolite\", values_to=\"met_real\") %>% \n",
    "    mutate(metabolite = str_remove_all(metabolite, \"NMR_\"))"
   ]
  },
  {
   "cell_type": "code",
   "execution_count": null,
   "metadata": {},
   "outputs": [],
   "source": [
    "prev_events = data %>% select(eid, starts_with(\"M_\"), -ends_with(\"_event\"), -ends_with(\"_time\")) %>% \n",
    "    pivot_longer(contains(\"M_\"), names_to=\"endpoint\", values_to=\"event\") %>% distinct()#%>% \n",
    "    #mutate(metabolite = str_remove_all(metabolite, \"NMR_\"))\n",
    "prev_events %>% head()"
   ]
  },
  {
   "cell_type": "code",
   "execution_count": null,
   "metadata": {},
   "outputs": [],
   "source": [
    "clean_label = function(label){return(stringr::str_wrap(str_replace_all(label, \"_\", \" \"), 20))}"
   ]
  },
  {
   "cell_type": "code",
   "execution_count": null,
   "metadata": {},
   "outputs": [],
   "source": [
    "hrs = loghazards %>% filter(features==\"Metabolomics\") %>% mutate(hr = exp(logh)) %>% filter(split==\"test\") %>% select(eid, endpoint, hr)"
   ]
  },
  {
   "cell_type": "markdown",
   "metadata": {},
   "source": [
    "## Global attributions"
   ]
  },
  {
   "cell_type": "code",
   "execution_count": null,
   "metadata": {},
   "outputs": [],
   "source": [
    "#n_eids = 10000\n",
    "#eids = (attributions_metadata %>% select(eid) %>% distinct() %>% sample_n(n_eids))$eid\n",
    "met_order_df = attributions_metadata %>% select(group, subgroup, metabolite, abbreviation) %>% distinct() %>% arrange(group, subgroup, abbreviation) %>% mutate(group_id = as.integer(factor(group)))\n",
    "met_order = met_order_df$metabolite\n",
    "abbrev_order = met_order_df$abbreviation\n",
    "group_order = (met_order_df %>% select(group) %>% distinct())$group\n",
    "#subgroup_order = (met_order_df %>% select(group, subgroup) %>% distinct())$subgroup\n",
    "attrib_raw = attributions_metadata %>% #filter(eid %in% eids)  %>% \n",
    "    left_join(nmr_real, by=c(\"eid\", \"metabolite\")) %>% \n",
    "    left_join(hrs, by=c(\"eid\", \"endpoint\")) %>% \n",
    "    left_join(prev_events, by=c(\"eid\", \"endpoint\")) %>% \n",
    "    ungroup() %>% mutate(metabolite=factor(metabolite, levels=met_order)) %>%\n",
    "    mutate(abbreviation=factor(abbreviation, levels=abbrev_order))#%>% mutate(shap=raster::clamp(shap, -2, +2))"
   ]
  },
  {
   "cell_type": "code",
   "execution_count": null,
   "metadata": {},
   "outputs": [],
   "source": [
    "subgroup_order = c( 'Amino acids',\n",
    "                    'Branched-chain amino acids',\n",
    "                   'Aromatic amino acids',\n",
    "                   'Fluid balance',\n",
    "                   'Inflammation',\n",
    "                    'Fatty acids',\n",
    "                    'Glycolysis related metabolites',\n",
    "                    'Ketone bodies',\n",
    "         \n",
    "                   'Total lipids',\n",
    "                    'Cholesterol',\n",
    "                    'Free cholesterol',\n",
    "                   'Cholesteryl esters',\n",
    "                   'Phospholipids',\n",
    "                   'Triglycerides',\n",
    "                   'Other lipids',\n",
    "                   \n",
    "                    'Lipoprotein particle sizes',\n",
    "                    'Lipoprotein particle concentrations',\n",
    "                    'Chylomicrons and extremely large VLDL',\n",
    "                   'Very large VLDL',\n",
    "                   'Large VLDL',\n",
    "                   'Medium VLDL',\n",
    "                   'Small VLDL',\n",
    "                   'Very small VLDL',\n",
    "              \n",
    "                   'Large LDL',\n",
    "                   'Medium LDL',\n",
    "                   'Small LDL',\n",
    "                    'IDL',\n",
    "                   'Very large HDL',\n",
    "                   'Large HDL',\n",
    "                   'Medium HDL',\n",
    "                   'Small HDL',\n",
    "                   'Apolipoproteins'\n",
    "                  )"
   ]
  },
  {
   "cell_type": "code",
   "execution_count": null,
   "metadata": {},
   "outputs": [],
   "source": [
    "attrib_sample = attrib_raw %>% group_by(endpoint, metabolite, explainer) %>% \n",
    "    mutate(shap_quantile=ntile(shap, 100), met_quantile=ntile(met_value, 100))"
   ]
  },
  {
   "cell_type": "code",
   "execution_count": null,
   "metadata": {},
   "outputs": [],
   "source": [
    "attrib_sample_mean = attrib_sample %>% ungroup() %>% \n",
    "    group_by(endpoint, metabolite, abbreviation, group, subgroup, explainer, shap_quantile) %>% \n",
    "    summarise(met_quantile=mean(met_quantile), mean_shap = mean(shap), mean_met=mean(met_value)) "
   ]
  },
  {
   "cell_type": "markdown",
   "metadata": {},
   "source": [
    "## Specific Endpoints"
   ]
  },
  {
   "cell_type": "code",
   "execution_count": null,
   "metadata": {},
   "outputs": [],
   "source": [
    "suppressPackageStartupMessages(library(circlize))"
   ]
  },
  {
   "cell_type": "code",
   "execution_count": null,
   "metadata": {},
   "outputs": [],
   "source": [
    "library(purrr)"
   ]
  },
  {
   "cell_type": "code",
   "execution_count": null,
   "metadata": {},
   "outputs": [],
   "source": [
    "library(plotly)"
   ]
  },
  {
   "cell_type": "code",
   "execution_count": null,
   "metadata": {},
   "outputs": [],
   "source": [
    "library(scales)"
   ]
  },
  {
   "cell_type": "code",
   "execution_count": null,
   "metadata": {},
   "outputs": [],
   "source": [
    "endpoint = \"M_all_cause_dementia\""
   ]
  },
  {
   "cell_type": "code",
   "execution_count": null,
   "metadata": {},
   "outputs": [],
   "source": [
    "add.alpha <- function(col, alpha=1){\n",
    "  if(missing(col))\n",
    "    stop(\"Please provide a vector of colours.\")\n",
    "  apply(sapply(col, col2rgb)/255, 2, \n",
    "                     function(x) \n",
    "                       rgb(x[1], x[2], x[3], alpha=alpha))  \n",
    "}"
   ]
  },
  {
   "cell_type": "code",
   "execution_count": null,
   "metadata": {},
   "outputs": [],
   "source": [
    "library(scales)"
   ]
  },
  {
   "cell_type": "code",
   "execution_count": null,
   "metadata": {},
   "outputs": [],
   "source": [
    "sectors = attrib_sample_mean %>% ungroup() %>% select(subgroup, metabolite) %>% \n",
    "    distinct() %>% group_by(subgroup) %>% tally() %>% \n",
    "    mutate(subgroup=factor(subgroup, levels=subgroup_order)) %>% arrange(subgroup) %>% mutate(x1=0, x2=n+1)# %>% purrr::discard(~ .x %in% c(\"Inflammation\")))) %>%"
   ]
  },
  {
   "cell_type": "code",
   "execution_count": null,
   "metadata": {},
   "outputs": [],
   "source": [
    "options(repr.plot.width = 12, repr.plot.height = 12, repr.plot.res=320)\n",
    "library(circlize)\n",
    "library(scales)\n",
    "endpoint = \"M_all_cause_dementia\"\n",
    "\n",
    "col_fun = colorRamp2(c(-1, 0, 1), c(\"blue\", \"white\", \"red\"))\n",
    "\n",
    "plot_endpoint = function(endpoint){\n",
    "    \n",
    "    add = 0.2\n",
    "    if (endpoint==\"M_type_2_diabetes\"){add=.2}\n",
    "    if (endpoint==\"M_all_cause_dementia\"){add=.06}\n",
    "\n",
    "    circos.clear()\n",
    "    circos.par(\"track.height\" = 0.2, cell.padding = c(0, 0, 0, 0), gap.degree = 0., track.margin=c(.001,.001), start.degree=90, clock.wise=T)\n",
    "\n",
    "    temp_all = attrib_sample_mean %>% ungroup() %>%\n",
    "      mutate(alpha=rescale(log1p(log1p(abs(mean_shap))), to=c(0, 1))) %>%\n",
    "        filter(endpoint==!!endpoint) %>%\n",
    "       #filter(subgroup!=\"Inflammation\") %>%\n",
    "      mutate(subgroup=factor(subgroup, levels=subgroup_order))# %>% purrr::discard(~ .x %in% c(\"Inflammation\")))) %>%\n",
    "       #filter(!is.na(subgroup))\n",
    "\n",
    "    circos.initialize(sectors=levels(temp_all$subgroup), xlim=sectors %>% select(x1, x2))\n",
    "    \n",
    "    # Metabolite groups\n",
    "    circos.par(\"track.height\"=0.16)\n",
    "    circos.track(temp_all$subgroup, y = temp_all$mean_shap)\n",
    "    circos.trackPlotRegion(track.index = 1, panel.fun = function(x, y) {\n",
    "        \n",
    "        temp_label = temp_all %>% ungroup() %>% dplyr::select(subgroup, metabolite, abbreviation) %>% distinct() %>% \n",
    "            filter(subgroup == get.cell.meta.data(\"sector.index\"))\n",
    "        \n",
    "        xlim = get.cell.meta.data(\"xlim\")\n",
    "        size = as.integer(xlim[2]-xlim[1]) +1\n",
    "        \n",
    "        if (size<4){sector.name = get.cell.meta.data(\"sector.index\")}\n",
    "        else{sector.name = str_wrap(get.cell.meta.data(\"sector.index\"), 15)}\n",
    "        \n",
    "        circos.text(get.cell.meta.data(\"xcenter\")+0.5, get.cell.meta.data(\"ylim\")[1]+add, sector.name, facing = \"clockwise\", \n",
    "                 niceFacing = TRUE, adj = c(0, 0.5), cex=1, col = add.alpha(\"black\", 0.7), font=2)\n",
    "        \n",
    "        temp_met = temp_all %>% ungroup() %>% filter(subgroup == get.cell.meta.data(\"sector.index\"))\n",
    "        x = seq(get.cell.meta.data(\"xlim\")[1]+1,get.cell.meta.data(\"xlim\")[2])\n",
    "        circos.lines(x=x, y=rep(get.cell.meta.data(\"ylim\")[1], length(x)), col=add.alpha(\"gray50\", 0.5), pch = 20, cex = 0.5)\n",
    "        #circos.text(mean(xlim), get.cell.meta.data(\"ylim\")[1]+.15, sector.name, facing = \"outside\", \n",
    "            #     niceFacing = TRUE, adj = c(0.5, 1), cex=0.8, col = \"black\")\n",
    "    \n",
    "    }, bg.border =\"white\", bg.col=\"white\")\n",
    "    \n",
    "    #rand_color(n, hue = NULL, luminosity = \"random\", transparency = 0)\n",
    "    \n",
    "    # Metabolite labels\n",
    "    circos.par(\"track.height\"=0.2)\n",
    "    circos.track(temp_all$subgroup, y = temp_all$mean_shap)\n",
    "circos.trackPlotRegion(track.index = 2, panel.fun = function(x, y) {\n",
    "        \n",
    "        temp_label = temp_all %>% ungroup() %>% dplyr::select(subgroup, metabolite, abbreviation) %>% distinct() %>% \n",
    "            filter(subgroup == get.cell.meta.data(\"sector.index\"))\n",
    "        \n",
    "        xlim = get.cell.meta.data(\"xlim\")\n",
    "        size = as.integer(xlim[2]-xlim[1]) +1\n",
    "        \n",
    "        if (size<4){sector.name = get.cell.meta.data(\"sector.index\")}\n",
    "        else{sector.name = str_wrap(get.cell.meta.data(\"sector.index\"), 15)}\n",
    "        \n",
    "        circos.text(x=seq(get.cell.meta.data(\"xlim\")[1]+1,get.cell.meta.data(\"xlim\")[2]), y=get.cell.meta.data(\"ylim\")[1]+add, temp_label$abbreviation, facing = \"clockwise\", \n",
    "                 niceFacing = TRUE, adj = c(0, 0.5), cex=0.75, col = add.alpha(\"black\", 0.7))\n",
    "        \n",
    "        temp_met = temp_all %>% ungroup() %>% filter(subgroup == get.cell.meta.data(\"sector.index\"))\n",
    "        x = seq(get.cell.meta.data(\"xlim\")[1]+1,get.cell.meta.data(\"xlim\")[2])\n",
    "        circos.lines(x=x, y=rep(get.cell.meta.data(\"ylim\")[1], length(x)), col=add.alpha(\"gray50\", 0.5), pch = 20, cex = 0.5)\n",
    "        #circos.text(mean(xlim), get.cell.meta.data(\"ylim\")[1]+.15, sector.name, facing = \"outside\", \n",
    "            #     niceFacing = TRUE, adj = c(0.5, 1), cex=0.8, col = \"black\")\n",
    "    \n",
    "    }, bg.border = \"white\", bg.col=\"white\")\n",
    "\n",
    "    circos.par(\"track.height\"=0.4)\n",
    "    circos.track(temp_all$subgroup, y = temp_all$mean_shap, ylim = c(-1, +1.2))\n",
    "\n",
    "    circos.trackPlotRegion(track.index = 3, panel.fun = function(x, y) {\n",
    "        temp_met = temp_all %>% ungroup() %>% filter(subgroup == get.cell.meta.data(\"sector.index\")) %>%\n",
    "            mutate(color=col_fun(mean_met)) %>% \n",
    "            rowwise() %>%\n",
    "            mutate(color_a=add.alpha(color, alpha=alpha))\n",
    "            ##mutate(color_a=add.alpha(toRGB(color), alpha=alpha))mutate(color_a=add.alpha(toRGB(color), alpha=alpha))\n",
    "            #mutate(color_a=GISTools::add.alpha(str_sub(color, start=1L, end=-3L), alpha=alpha)\n",
    "        #print(y)\n",
    "        #print(color)\n",
    "        x = seq(get.cell.meta.data(\"xlim\")[1],get.cell.meta.data(\"xlim\")[2])\n",
    "        #print(x)\n",
    "        circos.lines(x=x, rep(get.cell.meta.data(\"ylim\")[1], length(x)), col=add.alpha(\"gray50\", 0.5), pch = 20, cex = 0.5)\n",
    "    \n",
    "        qs = unique(temp_met$shap_quantile)\n",
    "        for (q in qs){\n",
    "            temp_met_ind = temp_met %>% filter(shap_quantile==!!q)\n",
    "            y = c(NA, (temp_met_ind %>% group_by(metabolite) %>% slice_head(n=1))$mean_shap, NA)\n",
    "            color = c(NA, (temp_met_ind %>% group_by(metabolite) %>% slice_head(n=1))$color_a, NA)\n",
    "            circos.points(jitter(x, 1), y=y, cex=0.8, pch=16, col = color)\n",
    "            }\n",
    "\n",
    "        circos.lines(x, rep(0.2, length(x)), col=add.alpha(\"firebrick\", 0.5), pch = 20, cex = 0.5)\n",
    "        circos.lines(x, rep(0, length(x)), col=add.alpha(\"grey50\", 0.5), pch = 20, cex = 0.5)\n",
    "        circos.lines(x, rep(-0.2, length(x)), col=add.alpha(\"forestgreen\", 0.5), pch = 20, cex = 0.5)   \n",
    "        \n",
    "\n",
    "    }, bg.border = \"white\", bg.col=\"white\")\n",
    "    \n",
    "text(0, 0, endpoint_map[[endpoint]], cex = 1.5, col=add.alpha(\"black\", 0.7))\n",
    " \n",
    "}"
   ]
  },
  {
   "cell_type": "code",
   "execution_count": null,
   "metadata": {},
   "outputs": [],
   "source": [
    "pdf(\"outputs/Figures_6_B_T2D.pdf\", width=12, height=12)\n",
    "plot_endpoint(\"M_type_2_diabetes\")\n",
    "dev.off()"
   ]
  },
  {
   "cell_type": "code",
   "execution_count": null,
   "metadata": {},
   "outputs": [],
   "source": [
    "pdf(\"outputs/Figures_6_C_Dementia.pdf\", width=12, height=12)\n",
    "plot_endpoint(\"M_all_cause_dementia\")\n",
    "dev.off()"
   ]
  },
  {
   "cell_type": "code",
   "execution_count": null,
   "metadata": {},
   "outputs": [],
   "source": [
    "for (endpoint in endpoint_order){\n",
    "    endpoint_label = endpoint_map[[endpoint]]\n",
    "    pdf(glue(\"outputs/GlobalAttributions/GlobalAttributions_{endpoint_label}.pdf\"), width=12, height=12)\n",
    "    plot_endpoint(endpoint)\n",
    "    dev.off()\n",
    "    }"
   ]
  }
 ],
 "metadata": {
  "hide_input": false,
  "kernelspec": {
   "display_name": "R [conda env:r_env]",
   "language": "R",
   "name": "conda-env-r_env-r"
  },
  "language_info": {
   "codemirror_mode": "r",
   "file_extension": ".r",
   "mimetype": "text/x-r-source",
   "name": "R",
   "pygments_lexer": "r",
   "version": "4.0.2"
  },
  "toc-autonumbering": false
 },
 "nbformat": 4,
 "nbformat_minor": 4
}
