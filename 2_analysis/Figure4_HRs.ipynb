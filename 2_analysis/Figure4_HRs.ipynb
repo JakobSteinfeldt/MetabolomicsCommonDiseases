{
 "cells": [
  {
   "cell_type": "markdown",
   "metadata": {},
   "source": [
    "## Initialize"
   ]
  },
  {
   "cell_type": "code",
   "execution_count": null,
   "metadata": {
    "ExecuteTime": {
     "end_time": "2021-01-05T11:03:09.852316Z",
     "start_time": "2021-01-05T11:03:07.701Z"
    }
   },
   "outputs": [],
   "source": [
    "#library(Rmisc)\n",
    "library(tidyverse)\n",
    "library(glue)\n",
    "library(arrow)\n",
    "library(patchwork)\n",
    "library(ggalt)\n",
    "library(ggdist)\n",
    "library(ggtext)\n",
    "library(ggforestplot)\n",
    "library(cowplot)\n",
    "library(\"jsonlite\")"
   ]
  },
  {
   "cell_type": "code",
   "execution_count": null,
   "metadata": {
    "ExecuteTime": {
     "end_time": "2021-01-05T11:03:10.932312Z",
     "start_time": "2021-01-05T11:03:10.882Z"
    }
   },
   "outputs": [],
   "source": [
    "if (grepl(\"sc\", Sys.info()[[\"nodename\"]], fixed=TRUE)) {\n",
    "    base_path = \"/sc-projects/sc-proj-ukb-cvd\"\n",
    "} else {\n",
    "    base_path = \"/data/analysis/ag-reils/ag-reils-shared/cardioRS\"}\n",
    "print(base_path)\n",
    "\n",
    "dataset_name = \"210714_metabolomics\"\n",
    "path = \"/data/analysis/ag-reils/steinfej/code/umbrella/pre/ukbb\"\n",
    "data_path = glue(\"{base_path}/data\")\n",
    "dataset_path = glue(\"{data_path}/3_datasets_post/{dataset_name}\")\n",
    "\n",
    "project_label=\"21_metabolomics_multitask\"\n",
    "project_path = glue(\"{base_path}/results/projects/{project_label}\")\n",
    "figures_path = glue(\"{project_path}/figures\")\n",
    "data_results_path = glue(\"{project_path}/data\")"
   ]
  },
  {
   "cell_type": "markdown",
   "metadata": {},
   "source": [
    "## Load data"
   ]
  },
  {
   "cell_type": "code",
   "execution_count": null,
   "metadata": {
    "ExecuteTime": {
     "end_time": "2021-01-05T11:03:12.470354Z",
     "start_time": "2021-01-05T11:03:11.387Z"
    }
   },
   "outputs": [],
   "source": [
    "list.dirs(path = project_path, full.names = TRUE, recursive = TRUE)"
   ]
  },
  {
   "cell_type": "code",
   "execution_count": null,
   "metadata": {},
   "outputs": [],
   "source": [
    "run = \"220126\""
   ]
  },
  {
   "cell_type": "code",
   "execution_count": null,
   "metadata": {
    "ExecuteTime": {
     "end_time": "2021-01-05T11:03:23.212936Z",
     "start_time": "2021-01-05T11:03:11.689Z"
    }
   },
   "outputs": [],
   "source": [
    "DSM = \"MultiTaskSurvivalTraining\"\n",
    "data = arrow::read_feather(glue(\"{dataset_path}/data_merged.feather\")) \n",
    "data_description = arrow::read_feather(glue(\"{dataset_path}/description_merged.feather\"))\n",
    "#predictions = arrow::read_feather(glue(\"{data_results_path}/predictions_210803_metabolomics.feather\")) \n",
    "predictions = arrow::read_feather(glue(\"{data_results_path}/predictions_{run}_metabolomics.feather\")) \n",
    "loghazards = arrow::read_feather(glue(\"{data_results_path}/loghazards_model_{run}_metabolomics.feather\")) %>% \n",
    "    pivot_longer(starts_with(\"logh\"), names_to=c(\"endpoint\", \"features\"), values_to=\"logh\", names_pattern=\"logh_?(.*)_(.*)$\")"
   ]
  },
  {
   "cell_type": "code",
   "execution_count": null,
   "metadata": {},
   "outputs": [],
   "source": [
    "data_events = data %>% select(eid, ends_with(\"event\"), ends_with(\"event_time\")) %>% \n",
    "    pivot_longer(-eid, names_to=c(\"endpoint\", \"type\"), values_to=\"value\", names_pattern=\"(.*)(event_time|event)\") %>% \n",
    "    mutate(endpoint = stringr::str_sub(endpoint, end=-2)) %>% pivot_wider(names_from=\"type\", values_from=\"value\")"
   ]
  },
  {
   "cell_type": "code",
   "execution_count": null,
   "metadata": {},
   "outputs": [],
   "source": [
    "loghazards_tte = loghazards %>% left_join(data_events, by=c(\"endpoint\", \"eid\"))"
   ]
  },
  {
   "cell_type": "code",
   "execution_count": null,
   "metadata": {},
   "outputs": [],
   "source": [
    "logh_T = loghazards_tte %>% filter(split==\"test\") %>% mutate(hr=exp(logh))"
   ]
  },
  {
   "cell_type": "code",
   "execution_count": null,
   "metadata": {},
   "outputs": [],
   "source": [
    "logh_T = logh_T %>% group_by(endpoint, features) %>% mutate(logh_perc = ntile(logh, 100))\n",
    "logh_T_agg = logh_T %>% group_by(endpoint, features) %>% mutate(logh_perc = ntile(logh, 100)) %>% group_by(endpoint, features, logh_perc) %>% summarise(ratio = mean(event))"
   ]
  },
  {
   "cell_type": "code",
   "execution_count": null,
   "metadata": {},
   "outputs": [],
   "source": [
    "labels = logh_T %>% group_by(endpoint, event) %>% summarise(median_logh = mean(logh)) %>% pivot_wider(names_from=\"event\", values_from=\"median_logh\") %>% mutate(delta = `1`-`0`) %>% arrange(desc(delta))"
   ]
  },
  {
   "cell_type": "code",
   "execution_count": null,
   "metadata": {},
   "outputs": [],
   "source": [
    "scores = c(\"COX_Age+Sex\", \n",
    "                \"COX_Metabolomics\",\n",
    "                \"DS_Metabolomics\",\n",
    "                \"DS_Age+Sex+Metabolomics\",\n",
    "               \"DS_AgeSexMetabolomics\")"
   ]
  },
  {
   "cell_type": "code",
   "execution_count": null,
   "metadata": {},
   "outputs": [],
   "source": [
    "colors_path = \"colors.json\"\n",
    "colors_dict = read_json(colors_path)"
   ]
  },
  {
   "cell_type": "code",
   "execution_count": null,
   "metadata": {},
   "outputs": [],
   "source": [
    "color_map <- c(\"all\" = \"grey\", \"none\" = \"black\",\n",
    "\n",
    "               \"SCORE_SCORE2\" = colors_dict$pastel$grey$light, \n",
    "               'SCORE_ASCVD' = colors_dict$pastel$grey$mid, \n",
    "                   \n",
    "               'COX_Age+Sex' = colors_dict$pastel$grey$light, \n",
    "               \n",
    "               'PCA_Metabolomics' = \"#4F8EC1\",\n",
    "               'COX_Metabolomics' = \"#4F8EC1\",\n",
    "               'DS_Metabolomics' = \"#4F8EC1\",  #colors_dict$pastel$orange$dark,\n",
    "                \n",
    "                'COX_SCORE2' = colors_dict$pastel$grey$light, \n",
    "               'COX_ASCVD' = colors_dict$pastel$grey$light, \n",
    "               'COX_PANEL' = colors_dict$pastel$grey$light, \n",
    "\n",
    "               'DS_Age+Sex+Metabolomics' = \"#53dd6c\",#colors_dict$pastel$orange$mid,\n",
    "               'DS_SCORE2+Metabolomics' = colors_dict$pastel$red$mid,\n",
    "               'DS_ASCVD+Metabolomics' = \"#d8315b\",#colors_dict$pastel$red$mid,\n",
    "\n",
    "               'DS_PANEL+Metabolomics' = \"#1e1b18\" #colors_dict$pastel$red$dark\n",
    "      )"
   ]
  },
  {
   "cell_type": "code",
   "execution_count": null,
   "metadata": {},
   "outputs": [],
   "source": [
    "scores_full = names(color_map)"
   ]
  },
  {
   "cell_type": "code",
   "execution_count": null,
   "metadata": {},
   "outputs": [],
   "source": [
    "name = glue(\"benchmark_cindex_{run}\")\n",
    "benchmark_cindex_general = read_feather(glue(\"{data_results_path}/{name}.feather\"))  %>% distinct() %>% unite(\"score\", c(module, features), remove=FALSE) %>%  distinct()"
   ]
  },
  {
   "cell_type": "code",
   "execution_count": null,
   "metadata": {},
   "outputs": [],
   "source": [
    "base_size = 8\n",
    "title_size = 8\n",
    "facet_size = 8\n",
    "geom_text_size=3\n",
    "library(ggplot2); \n",
    "theme_set(theme_classic(base_size = base_size) + \n",
    "          theme(strip.background = element_blank(), plot.title=element_text(size=title_size, hjust=0), \n",
    "                strip.text.x = element_text(size = facet_size),axis.title=element_text(size=8), axis.text=element_text(size=8, color=\"black\"), axis.text.x=element_text(size=8, color=\"black\"),\n",
    "                legend.position=\"bottom\", axis.line = element_line(size = 0.2), axis.ticks=element_line(size=0.2)))"
   ]
  },
  {
   "cell_type": "code",
   "execution_count": null,
   "metadata": {},
   "outputs": [],
   "source": [
    "library(ggthemes)\n",
    "endpoint_map = c(\n",
    "    'M_MACE'='MACE',\n",
    "    'M_all_cause_dementia'='Dementia',\n",
    "    'M_type_2_diabetes'='T2 Diabetes',\n",
    "    'M_liver_disease'='Liver Disease',\n",
    "    'M_renal_disease'='Renal Disease',\n",
    "    'M_atrial_fibrillation'='Atrial Fibrillation',\n",
    "    'M_heart_failure'= 'Heart Failure',\n",
    "    'M_coronary_heart_disease'='CHD',\n",
    "    'M_venous_thrombosis'='Ven. Thrombosis',\n",
    "    'M_cerebral_stroke'='Cerebral Stroke',\n",
    "    'M_abdominal_aortic_aneurysm'='AAA',\n",
    "    'M_peripheral_arterial_disease'='PAD',\n",
    "    \"M_chronic_obstructuve_pulmonary_disease\" = \"COPD\",\n",
    "    \"M_asthma\" = \"Asthma\",\n",
    "    'M_parkinsons_disease' = \"Parkinson's\",    \n",
    "    \"M_lung_cancer\" = \"Lung Cancer\",\n",
    "    \"M_non_melanoma_skin_cancer\" = \"Skin Cancer\",\n",
    "    \"M_colon_cancer\"= \"Colon Cancer\",\n",
    "    \"M_rectal_cancer\" = \"Rectal Cancer\",\n",
    "    \"M_prostate_cancer\"= \"Prostate Cancer\",\n",
    "    \"M_breast_cancer\" = \"Breast Cancer\",\n",
    "    'M_cataracts' = \"Cataracts\", \n",
    "    'M_glaucoma' = \"Glaucoma\",\n",
    "    'M_fractures' = \"Fractures\"\n",
    ")\n",
    "\n",
    "endpoint_order = c(\"M_MACE\", \"M_coronary_heart_disease\", \"M_cerebral_stroke\", \"M_all_cause_dementia\", \"M_heart_failure\", \"M_atrial_fibrillation\",\n",
    "                   \"M_type_2_diabetes\", \"M_liver_disease\", \"M_renal_disease\", \"M_peripheral_arterial_disease\", \"M_venous_thrombosis\",  \"M_abdominal_aortic_aneurysm\",\n",
    "                   \"M_chronic_obstructuve_pulmonary_disease\", \"M_asthma\", 'M_parkinsons_disease', 'M_cataracts', 'M_glaucoma', 'M_fractures',\n",
    "                    \"M_lung_cancer\",\"M_non_melanoma_skin_cancer\",\"M_colon_cancer\",\"M_rectal_cancer\",\"M_prostate_cancer\",\"M_breast_cancer\"\n",
    "                   \n",
    ")"
   ]
  },
  {
   "cell_type": "code",
   "execution_count": null,
   "metadata": {},
   "outputs": [],
   "source": [
    "em_wrap = endpoint_map\n",
    "em_wrap[names(endpoint_map)] <- str_wrap(unname(endpoint_map), 20)\n",
    "em_wrap"
   ]
  },
  {
   "cell_type": "code",
   "execution_count": null,
   "metadata": {},
   "outputs": [],
   "source": [
    "options(repr.plot.width = 8, repr.plot.height = 8)\n",
    "library(ggbeeswarm)\n",
    "scores_plot = names(color_map)\n",
    "\n",
    "temp = benchmark_cindex_general %>% \n",
    "    mutate_at(vars(score), list(~ factor(., levels=scores_full))) %>% filter(score==score) %>% filter(score %in% scores_plot)\n",
    "temp_wide = temp %>% select(-module, -features) %>% pivot_wider(names_from=\"score\", values_from=\"cindex\") %>% mutate(delta=`DS_Metabolomics`-`COX_Age+Sex`)\n",
    "temp_desc = temp %>% group_by(endpoint, score) %>% summarise(mean=median(cindex, na.rm=TRUE), max = max(cindex), .groups=\"drop\")\n",
    "temp_desc = temp_desc %>% select(-max) %>% pivot_wider(names_from=\"score\", values_from=\"mean\") %>% mutate(delta=`DS_Metabolomics`-`COX_Age+Sex`) %>% mutate(endpoint=fct_reorder(endpoint, desc(delta)))\n",
    "endpoint_order_desc = levels(temp_desc$endpoint)"
   ]
  },
  {
   "cell_type": "code",
   "execution_count": null,
   "metadata": {},
   "outputs": [],
   "source": [
    "scores_map = c(\n",
    "    \"DS_Metabolomics\" = \"MET\",\n",
    "    \n",
    "    \"COX_Age+Sex\" = \"AgeSex\",\n",
    "    \"DS_Age+Sex+Metabolomics\" = \"AgeSex+MET\",\n",
    "    \n",
    "    \"DS_ASCVDnoblood+Metabolomics\" = \"ASCVD(noblood)+MET\",\n",
    "    \n",
    "    \"COX_ASCVD\" = \"ASCVD\",\n",
    "    \"DS_ASCVD+Metabolomics\" = \"ASCVD+MET\",\n",
    "    \n",
    "    \"COX_PANEL\" = \"PANEL\", \n",
    "    \"DS_PANEL+Metabolomics\" = \"PANEL+MET\"\n",
    "               )"
   ]
  },
  {
   "cell_type": "code",
   "execution_count": null,
   "metadata": {
    "tags": []
   },
   "outputs": [],
   "source": [
    "endpoint_selection = (temp_wide %>% mutate(delta=`DS_Age+Sex+Metabolomics`-`COX_Age+Sex`) %>% \n",
    "    group_by(endpoint) %>% median_qi(delta) %>% filter(.lower>0))$endpoint"
   ]
  },
  {
   "cell_type": "markdown",
   "metadata": {},
   "source": [
    "## Trajectories"
   ]
  },
  {
   "cell_type": "code",
   "execution_count": null,
   "metadata": {},
   "outputs": [],
   "source": [
    "partial_effects = arrow::read_feather(glue(\"{data_results_path}/adj_partial_effects_metabolomics_{run}.feather\"))"
   ]
  },
  {
   "cell_type": "code",
   "execution_count": null,
   "metadata": {},
   "outputs": [],
   "source": [
    "temp_prep = partial_effects %>% #filter(partition==0) %>% \n",
    "    filter(quantile %in% c(0.1, 0.5, 0.9)) %>% \n",
    "    filter(features %in% c(\"Age+Sex\", \"ASCVD\", \"PANEL\")) %>%\n",
    "    mutate(time=ntile(time, round(max(time)*10, 1))/10) %>% \n",
    "    group_by(endpoint, features, quantile, time) #%>% sample_n(27, replace=TRUE)"
   ]
  },
  {
   "cell_type": "code",
   "execution_count": null,
   "metadata": {},
   "outputs": [],
   "source": [
    "purrr::map_dfr(integer(1000), ~ temp_prep %>% sample_n(22, replace=TRUE), .id=\"i\") -> temp_prep_bs\n",
    "    \n",
    "temp_prep_bs %>% head()"
   ]
  },
  {
   "cell_type": "code",
   "execution_count": null,
   "metadata": {},
   "outputs": [],
   "source": [
    "trajectory_plots = list()\n",
    "ncol=3\n",
    "i=0\n",
    "endpoint_order_panel = (temp_wide %>% group_by(endpoint) %>% \n",
    "                        mutate(delta = `DS_PANEL+Metabolomics`-`COX_PANEL`) %>% \n",
    "                        summarise(delta=mean(delta)) %>% arrange(delta))$endpoint\n",
    "ep_sel = intersect(rev(endpoint_order_panel), endpoint_selection)\n",
    "for (endpoint in ep_sel){\n",
    "    temp_time = temp_prep %>% ungroup() %>% \n",
    "        filter(endpoint==!!endpoint) %>% #sample_n(1000) %>%# mutate(time=ntile(time, round(max(time)*10, 1))/10) %>%\n",
    "        group_by(endpoint, features, quantile, time) %>% \n",
    "        median_qi(Ft, na.rm=TRUE) # %>% ungroup() %>% sample(1000)\n",
    "    \n",
    "trajectory_plots[[endpoint]] = ggplot(temp_time, aes(x = time, y=Ft, color=fct_rev(factor(quantile)), fill=fct_rev(factor(quantile)))) +\n",
    "        labs(title=endpoint_map[[endpoint]])+\n",
    "        theme(plot.title = element_text(size=facet_size, hjust=0.5))+\n",
    "        geom_lineribbon(aes(ymin = .lower, ymax = .upper), size=0.5)+\n",
    "\n",
    "        labs(x=\"Time [Years]\", y=\"Cumulative Risk [%]\")+\n",
    "\n",
    "        scale_x_continuous(expand=c(0, 0))+\n",
    "        scale_y_continuous(labels = function(x) round(x*100, 1), expand=c(0, 0))+\n",
    "        scale_color_manual(values=c(`0.1`=\"#7AC6FF\", `0.5`=\"#4F8EC1\", `0.9`=\"#023768\"))+ \n",
    "        scale_fill_manual(values=c(`0.1`=alpha(\"#7AC6FF\", 0.3), `0.5`=alpha(\"#4F8EC1\", 0.3), `0.9`=alpha(\"#023768\", 0.3)))+                    \n",
    "                           theme(legend.position=\"none\")+               \n",
    "        facet_grid(~factor(features))+theme(axis.title.y = element_blank(), axis.title.x = element_blank())\n",
    "\n",
    "    if (i>=2){trajectory_plots[[endpoint]] = trajectory_plots[[endpoint]] + theme(strip.text.x = element_blank())}\n",
    "    i=i+1\n",
    "}"
   ]
  },
  {
   "cell_type": "code",
   "execution_count": null,
   "metadata": {},
   "outputs": [],
   "source": [
    "plot_width=4.25; plot_height=10; plot_dpi=320\n",
    "options(repr.plot.width = plot_width, repr.plot.height = plot_height, repr.plot.res=plot_dpi)\n",
    "trajectories = wrap_plots(trajectory_plots, ncol=2)\n",
    "trajectories"
   ]
  },
  {
   "cell_type": "code",
   "execution_count": null,
   "metadata": {},
   "outputs": [],
   "source": [
    "plot_name = \"Figures_4_A_AdjustedTrajectories_long\"\n",
    "trajectories %>% ggsave(filename=glue(\"outputs/{plot_name}.pdf\"), device=\"pdf\", width=plot_width, height=plot_height, dpi=plot_dpi)"
   ]
  },
  {
   "cell_type": "markdown",
   "metadata": {},
   "source": [
    "## Calculate HRs"
   ]
  },
  {
   "cell_type": "code",
   "execution_count": null,
   "metadata": {},
   "outputs": [],
   "source": [
    "temp_agg = temp_diff_calc %>% \n",
    "    pivot_longer(-c(endpoint, iteration), names_to=\"comparison\", values_to=\"delta\") %>% group_by(endpoint, comparison) %>% \n",
    "    median_qi(delta) %>%\n",
    "    mutate(different = case_when((0!=delta & 0 >= `.lower` & 0 <= `.upper`) ~ \"\", TRUE ~ \"*\")) %>%\n",
    "    mutate(delta_cindex = glue(\"{round(delta, 3)} ({round(.lower, 3)}, {round(.upper, 3)}){different}\")) %>%\n",
    "    select(endpoint, comparison, delta_cindex) %>% pivot_wider(names_from=\"comparison\", values_from=\"delta_cindex\") \n",
    "temp_agg$endpoint = recode(temp_agg$endpoint, !!!endpoint_map)"
   ]
  },
  {
   "cell_type": "code",
   "execution_count": null,
   "metadata": {},
   "outputs": [],
   "source": [
    "hrs = arrow::read_feather(glue(\"{data_results_path}/hrs_metabolomics_{run}.feather\")) %>% \n",
    "    mutate(features = str_remove_all(str_sub(str_remove(str_remove(features, endpoint), \"DS__\"), end=-3), \"_\")) %>%\n",
    "    filter(str_detect(covariate, \"logh_\"))"
   ]
  },
  {
   "cell_type": "code",
   "execution_count": null,
   "metadata": {},
   "outputs": [],
   "source": [
    "hrs %>% group_by(endpoint, features) %>% median_qi(`exp(coef)`, na.rm=TRUE) %>% mutate(HR_Metabolomics = glue(\"{`exp(coef)`} ({.lower}, {.upper})\")) %>% \n",
    "    select(endpoint, features, HR_Metabolomics) "
   ]
  },
  {
   "cell_type": "code",
   "execution_count": null,
   "metadata": {},
   "outputs": [],
   "source": [
    "ep_sel = c(\n",
    "    'M_type_2_diabetes',\n",
    "'M_all_cause_dementia',\n",
    "'M_heart_failure',\n",
    "'M_chronic_obstructuve_pulmonary_disease',\n",
    "'M_renal_disease',\n",
    "'M_coronary_heart_disease',\n",
    "'M_fractures',\n",
    "'M_peripheral_arterial_disease',\n",
    "'M_liver_disease',\n",
    "'M_MACE',\n",
    "'M_asthma',\n",
    "'M_venous_thrombosis',\n",
    "'M_cerebral_stroke',\n",
    "'M_atrial_fibrillation',\n",
    "'M_cataracts',\n",
    "'M_prostate_cancer',\n",
    "'M_abdominal_aortic_aneurysm',\n",
    "'M_lung_cancer')"
   ]
  },
  {
   "cell_type": "code",
   "execution_count": null,
   "metadata": {},
   "outputs": [],
   "source": [
    "purrr::map_dfr(integer(1000), ~ hrs %>% group_by(endpoint, features) %>% sample_frac(1, replace=TRUE), .id=\"i\") -> temp_hrs"
   ]
  },
  {
   "cell_type": "code",
   "execution_count": null,
   "metadata": {},
   "outputs": [],
   "source": [
    "temp_hrs_agg = temp_hrs %>% filter(endpoint %in% ep_sel) %>%\n",
    "    group_by(endpoint, features) %>% median_qi(`exp(coef)`, na.rm=TRUE) %>% rename(hr = `exp(coef)`) %>%\n",
    "    mutate(hr = round(hr, 2), .lower=round(.lower, 2), .upper=round(.upper, 2)) %>%#c(hr, .lower, .upper), round, 1) %>%\n",
    "    mutate(HR_Metabolomics = glue(\"{hr} ({.lower}, {.upper})\")) %>% \n",
    "    select(endpoint, features, HR_Metabolomics) %>%\n",
    "    pivot_wider(names_from=\"features\", values_from=\"HR_Metabolomics\") %>% \n",
    "    select(all_of(c(\"endpoint\", 'Age+Sex+Metabolomics', \n",
    "                    #'SCORE2+Metabolomics', \n",
    "                    'ASCVD+Metabolomics', \n",
    "                   \"PANEL+Metabolomics\"))) %>% \n",
    "    mutate(endpoint = factor(endpoint, levels = endpoint_order)) %>% arrange(endpoint) %>%\n",
    "    mutate(endpoint = recode(endpoint, !!!endpoint_map)) %>%\n",
    "    ungroup()\n",
    "temp_hrs_agg"
   ]
  },
  {
   "cell_type": "code",
   "execution_count": null,
   "metadata": {},
   "outputs": [],
   "source": [
    "fts_map = c(\n",
    "    \"Metabolomics\" = \"MET\",\n",
    "    \"COX_Age+Sex\" = \"AgeSex\",\n",
    "    \"Age+Sex+Metabolomics\" = \"AgeSex+MET\",\n",
    "    \"COX_ASCVD\" = \"ASCVD\",\n",
    "    \"ASCVD+Metabolomics\" = \"ASCVD+MET\",\n",
    "    \"COX_PANEL\" = \"PANEL\", \n",
    "    \"PANEL+Metabolomics\" = \"PANEL+MET\"\n",
    "               )"
   ]
  },
  {
   "cell_type": "code",
   "execution_count": null,
   "metadata": {},
   "outputs": [],
   "source": [
    "hr_labels = temp_hrs_agg %>% \n",
    "    pivot_longer(-endpoint, names_to=\"features\", values_to=\"HR\")\n",
    "hr_labels"
   ]
  },
  {
   "cell_type": "code",
   "execution_count": null,
   "metadata": {},
   "outputs": [],
   "source": [
    "temp = temp_hrs %>% filter(endpoint %in% ep_sel)   %>%  mutate(endpoint = factor(endpoint, levels = ep_sel)) %>% arrange(endpoint) %>%\n",
    "    mutate(endpoint = recode(endpoint, !!!endpoint_map)) %>% filter(features %in% c(\"Age+Sex+Metabolomics\", \"ASCVD+Metabolomics\", \"PANEL+Metabolomics\")) %>%\n",
    "    ungroup() \n",
    "temp %>% head()"
   ]
  },
  {
   "cell_type": "code",
   "execution_count": null,
   "metadata": {},
   "outputs": [],
   "source": [
    "## 66%, 95%\n",
    "#endpoint_order_panel = (temp_wide %>% group_by(endpoint) %>% mutate(delta = `DS_PANEL+Metabolomics`-`COX_PANEL`) %>% summarise(delta=mean(delta)) %>% arrange(delta))$endpoint\n",
    "plot_width=4; plot_height=10; plot_dpi=320\n",
    "options(repr.plot.width = plot_width, repr.plot.height = plot_height, repr.plot.res=plot_dpi)\n",
    "\n",
    "hr_plot = ggplot(temp, aes(x=fct_rev(factor(features, levels=c(\"Age+Sex+Metabolomics\", \"ASCVD+Metabolomics\", \"PANEL+Metabolomics\"))), y=`exp(coef)`))+#levels=endpoint_order_desc))) +\n",
    "    labs(x=NULL, y=\"Adjusted Hazard Ratio / SD metabolomic state\")+\n",
    "    #geom_boxplot()+\n",
    "    stat_gradientinterval(color=\"black\", alpha=0.7, fatten_point=0.8, interval_size_range=c(0.3, 0.6), fill=\"white\")+\n",
    "    geom_hline(yintercept=1, alpha=0.7, color=\"black\", size=0.25)+\n",
    "    geom_hline(yintercept=1.5, alpha=0.3, color=\"black\", size=0.25, linetype=\"22\")+\n",
    "    geom_hline(yintercept=2, alpha=0.4, color=\"black\", size=0.25, linetype=\"22\")+\n",
    "    geom_hline(yintercept=3, alpha=0.5, color=\"black\", size=0.25, linetype=\"22\")+\n",
    "    scale_x_discrete(labels=fts_map)+\n",
    "    coord_flip(ylim=c(-0.6, 4))+#ylim=c(-0.02, 0.02))+\n",
    "    #scale_y_continuous()+ \n",
    "    theme(plot.title = element_text(hjust=0.5))+\n",
    "    facet_grid(rows=vars(endpoint), space=\"free\", switch = \"y\") +\n",
    "      theme(strip.placement = \"outside\")+\n",
    "    theme(strip.text.y.left = element_text(angle = 0))+\n",
    "    theme(axis.text.y = element_text(size=5.5))+\n",
    "    geom_text(data=hr_labels, mapping=aes(x=fct_rev(factor(features, levels=c(\"Age+Sex+Metabolomics\", \"ASCVD+Metabolomics\", \"PANEL+Metabolomics\"))), label=glue(\"HR: {HR}\")), y=-0.65, size=2, hjust=0)\n",
    "hr_plot"
   ]
  },
  {
   "cell_type": "code",
   "execution_count": null,
   "metadata": {},
   "outputs": [],
   "source": [
    "plot_name = \"Figures_4_B_AdjustedHRs_long\"\n",
    "hr_plot %>% ggsave(filename=glue(\"outputs/{plot_name}.pdf\"), device=\"pdf\", width=plot_width, height=plot_height, dpi=plot_dpi)"
   ]
  }
 ],
 "metadata": {
  "hide_input": false,
  "kernelspec": {
   "display_name": "R [conda env:r_env]",
   "language": "R",
   "name": "conda-env-r_env-r"
  },
  "language_info": {
   "codemirror_mode": "r",
   "file_extension": ".r",
   "mimetype": "text/x-r-source",
   "name": "R",
   "pygments_lexer": "r",
   "version": "4.0.2"
  },
  "toc-autonumbering": false
 },
 "nbformat": 4,
 "nbformat_minor": 4
}
