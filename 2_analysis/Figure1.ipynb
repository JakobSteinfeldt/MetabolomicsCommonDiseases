{
 "cells": [
  {
   "cell_type": "markdown",
   "metadata": {},
   "source": [
    "# 2. Exploration"
   ]
  },
  {
   "cell_type": "code",
   "execution_count": null,
   "metadata": {
    "ExecuteTime": {
     "end_time": "2021-01-05T07:55:18.706103Z",
     "start_time": "2021-01-05T07:55:03.465Z"
    }
   },
   "outputs": [],
   "source": [
    "try(library(tidyverse), silent=TRUE)\n",
    "library(lubridate)\n",
    "library(glue)\n",
    "library(cowplot)\n",
    "library(survminer)\n",
    "library(survival)\n",
    "library(ggsci)\n",
    "library(arsenal)\n",
    "library(yaml)"
   ]
  },
  {
   "cell_type": "code",
   "execution_count": null,
   "metadata": {
    "ExecuteTime": {
     "end_time": "2021-01-05T07:55:18.725125Z",
     "start_time": "2021-01-05T07:55:03.658Z"
    }
   },
   "outputs": [],
   "source": [
    "if (grepl(\"sc\", Sys.info()[[\"nodename\"]], fixed=TRUE)) {\n",
    "    base_path = \"/sc-projects/sc-proj-ukb-cvd\"\n",
    "} else {\n",
    "    base_path = \"/data/analysis/ag-reils/ag-reils-shared/cardioRS\"}\n",
    "print(base_path)\n",
    "\n",
    "dataset_name = \"210714_metabolomics\"\n",
    "path = \"/data/analysis/ag-reils/steinfej/code/umbrella/pre/ukbb\"\n",
    "data_path = glue(\"{base_path}/data\")\n",
    "dataset_path = glue(\"{data_path}/3_datasets_post/{dataset_name}\")\n",
    "\n",
    "project_label=\"21_metabolomics_multitask\"\n",
    "project_path = glue(\"{base_path}/results/projects/{project_label}\")\n",
    "figures_path = glue(\"{project_path}/figures\")\n",
    "data_results_path = glue(\"{project_path}/data\")\n",
    "\n",
    "figure_path = glue(\"{figures_path}/Figure1\")"
   ]
  },
  {
   "cell_type": "markdown",
   "metadata": {},
   "source": [
    "## Load data"
   ]
  },
  {
   "cell_type": "code",
   "execution_count": null,
   "metadata": {
    "ExecuteTime": {
     "end_time": "2021-01-05T07:55:31.574426Z",
     "start_time": "2021-01-05T07:55:04.259Z"
    }
   },
   "outputs": [],
   "source": [
    "data = arrow::read_feather(glue(\"{dataset_path}/data_merged.feather\")) %>% filter(NMR_FLAG == TRUE)\n",
    "data_description = arrow::read_feather(glue(\"{dataset_path}/description.feather\"))"
   ]
  },
  {
   "cell_type": "code",
   "execution_count": null,
   "metadata": {},
   "outputs": [],
   "source": [
    "eids_withdraws = c(\"XXX\")"
   ]
  },
  {
   "cell_type": "code",
   "execution_count": null,
   "metadata": {},
   "outputs": [],
   "source": [
    "data = data %>% filter(!eid %in% eids_withdraws) %>% mutate(erectile_dysfunction = case_when(sex==\"Female\" ~ FALSE, TRUE ~ erectile_dysfunction))\n",
    "data"
   ]
  },
  {
   "cell_type": "code",
   "execution_count": null,
   "metadata": {
    "ExecuteTime": {
     "end_time": "2021-01-05T07:55:32.132013Z",
     "start_time": "2021-01-05T07:55:04.794Z"
    }
   },
   "outputs": [],
   "source": [
    "covariates = (data_description %>% filter(isTarget==FALSE) %>% filter(based_on!=\"PGS\"))$covariate[-1]\n",
    "targets = (data_description %>% filter(isTarget==TRUE))$covariate[-1]\n",
    "pgs = (data_description %>% filter(isTarget==FALSE) %>% filter(based_on==\"PGS\") %>% filter(!dtype==\"Date\"))$covariate"
   ]
  },
  {
   "cell_type": "code",
   "execution_count": null,
   "metadata": {
    "ExecuteTime": {
     "end_time": "2021-01-05T07:55:32.625039Z",
     "start_time": "2021-01-05T07:55:06.938Z"
    }
   },
   "outputs": [],
   "source": [
    "data = data %>% mutate_at(c(\"sex\", \"overall_health_rating\", \"smoking_status\", \"ethnic_background\"), as.factor)\n",
    "data = data %>% mutate(sex=fct_relevel(sex, c(\"Male\", \"Female\")),\n",
    "                       overall_health_rating=fct_relevel(overall_health_rating, c(\"Excellent\", \"Good\", \"Fair\", \"Poor\")),\n",
    "                       smoking_status=fct_relevel(smoking_status, c(\"Current\", \"Previous\", \"Never\")))"
   ]
  },
  {
   "cell_type": "code",
   "execution_count": null,
   "metadata": {},
   "outputs": [],
   "source": [
    "f = list()\n",
    "f$basics = c('age_at_recruitment','sex', 'ethnic_background',\"townsend_deprivation_index_at_recruitment\")\n",
    "f$questionnaire = c('overall_health_rating','smoking_status')\n",
    "f$measurements = c('body_mass_index_bmi','weight',\"standing_height\",'systolic_blood_pressure','diastolic_blood_pressure')\n",
    "f$labs = c(\"cholesterol\", \"hdl_cholesterol\", \"ldl_direct\",\"triglycerides\")\n",
    "f$family_history = c('fh_heart_disease')\n",
    "f$diagnoses = c(\"diabetes1\", \"diabetes2\", \"chronic_kidney_disease\", \"atrial_fibrillation\", \"migraine\", \n",
    "                      \"rheumatoid_arthritis\", \"systemic_lupus_erythematosus\", \"severe_mental_illness\", \"erectile_dysfunction\")\n",
    "f$medications = c(\"antihypertensives\", \"ass\", \"atypical_antipsychotics\", \"glucocorticoids\")\n",
    "f$metabolomics = c(\n",
    "'NMR_3hydroxybutyrate',\n",
    " 'NMR_acetate',\n",
    " 'NMR_acetoacetate',\n",
    " 'NMR_acetone',\n",
    " 'NMR_alanine',\n",
    " 'NMR_albumin',\n",
    " 'NMR_apolipoprotein_a1',\n",
    " 'NMR_apolipoprotein_b',\n",
    " 'NMR_average_diameter_for_hdl_particles',\n",
    " 'NMR_average_diameter_for_ldl_particles',\n",
    " 'NMR_average_diameter_for_vldl_particles',\n",
    " 'NMR_cholesterol_in_chylomicrons_and_extremely_large_vldl',\n",
    " 'NMR_cholesterol_in_idl',\n",
    " 'NMR_cholesterol_in_large_hdl',\n",
    " 'NMR_cholesterol_in_large_ldl',\n",
    " 'NMR_cholesterol_in_large_vldl',\n",
    " 'NMR_cholesterol_in_medium_hdl',\n",
    " 'NMR_cholesterol_in_medium_ldl',\n",
    " 'NMR_cholesterol_in_medium_vldl',\n",
    " 'NMR_cholesterol_in_small_hdl',\n",
    " 'NMR_cholesterol_in_small_ldl',\n",
    " 'NMR_cholesterol_in_small_vldl',\n",
    " 'NMR_cholesterol_in_very_large_hdl',\n",
    " 'NMR_cholesterol_in_very_large_vldl',\n",
    " 'NMR_cholesterol_in_very_small_vldl',\n",
    " 'NMR_cholesteryl_esters_in_chylomicrons_and_extremely_large_vldl',\n",
    " 'NMR_cholesteryl_esters_in_hdl',\n",
    " 'NMR_cholesteryl_esters_in_idl',\n",
    " 'NMR_cholesteryl_esters_in_ldl',\n",
    " 'NMR_cholesteryl_esters_in_large_hdl',\n",
    " 'NMR_cholesteryl_esters_in_large_ldl',\n",
    " 'NMR_cholesteryl_esters_in_large_vldl',\n",
    " 'NMR_cholesteryl_esters_in_medium_hdl',\n",
    " 'NMR_cholesteryl_esters_in_medium_ldl',\n",
    " 'NMR_cholesteryl_esters_in_medium_vldl',\n",
    " 'NMR_cholesteryl_esters_in_small_hdl',\n",
    " 'NMR_cholesteryl_esters_in_small_ldl',\n",
    " 'NMR_cholesteryl_esters_in_small_vldl',\n",
    " 'NMR_cholesteryl_esters_in_vldl',\n",
    " 'NMR_cholesteryl_esters_in_very_large_hdl',\n",
    " 'NMR_cholesteryl_esters_in_very_large_vldl',\n",
    " 'NMR_cholesteryl_esters_in_very_small_vldl',\n",
    " 'NMR_citrate',\n",
    " 'NMR_clinical_ldl_cholesterol',\n",
    " 'NMR_concentration_of_chylomicrons_and_extremely_large_vldl_particles',\n",
    " 'NMR_concentration_of_hdl_particles',\n",
    " 'NMR_concentration_of_idl_particles',\n",
    " 'NMR_concentration_of_ldl_particles',\n",
    " 'NMR_concentration_of_large_hdl_particles',\n",
    " 'NMR_concentration_of_large_ldl_particles',\n",
    " 'NMR_concentration_of_large_vldl_particles',\n",
    " 'NMR_concentration_of_medium_hdl_particles',\n",
    " 'NMR_concentration_of_medium_ldl_particles',\n",
    " 'NMR_concentration_of_medium_vldl_particles',\n",
    " 'NMR_concentration_of_small_hdl_particles',\n",
    " 'NMR_concentration_of_small_ldl_particles',\n",
    " 'NMR_concentration_of_small_vldl_particles',\n",
    " 'NMR_concentration_of_vldl_particles',\n",
    " 'NMR_concentration_of_very_large_hdl_particles',\n",
    " 'NMR_concentration_of_very_large_vldl_particles',\n",
    " 'NMR_concentration_of_very_small_vldl_particles',\n",
    " 'NMR_creatinine',\n",
    " 'NMR_degree_of_unsaturation',\n",
    " 'NMR_docosahexaenoic_acid',\n",
    " 'NMR_free_cholesterol_in_chylomicrons_and_extremely_large_vldl',\n",
    " 'NMR_free_cholesterol_in_hdl',\n",
    " 'NMR_free_cholesterol_in_idl',\n",
    " 'NMR_free_cholesterol_in_ldl',\n",
    " 'NMR_free_cholesterol_in_large_hdl',\n",
    " 'NMR_free_cholesterol_in_large_ldl',\n",
    " 'NMR_free_cholesterol_in_large_vldl',\n",
    " 'NMR_free_cholesterol_in_medium_hdl',\n",
    " 'NMR_free_cholesterol_in_medium_ldl',\n",
    " 'NMR_free_cholesterol_in_medium_vldl',\n",
    " 'NMR_free_cholesterol_in_small_hdl',\n",
    " 'NMR_free_cholesterol_in_small_ldl',\n",
    " 'NMR_free_cholesterol_in_small_vldl',\n",
    " 'NMR_free_cholesterol_in_vldl',\n",
    " 'NMR_free_cholesterol_in_very_large_hdl',\n",
    " 'NMR_free_cholesterol_in_very_large_vldl',\n",
    " 'NMR_free_cholesterol_in_very_small_vldl',\n",
    " 'NMR_glucose',\n",
    " 'NMR_glutamine',\n",
    " 'NMR_glycine',\n",
    " 'NMR_glycoprotein_acetyls',\n",
    " 'NMR_hdl_cholesterol',\n",
    " 'NMR_histidine',\n",
    " 'NMR_isoleucine',\n",
    " 'NMR_ldl_cholesterol',\n",
    " 'NMR_lactate',\n",
    " 'NMR_leucine',\n",
    " 'NMR_linoleic_acid',\n",
    " 'NMR_monounsaturated_fatty_acids',\n",
    " 'NMR_omega3_fatty_acids',\n",
    " 'NMR_omega6_fatty_acids',\n",
    " 'NMR_phenylalanine',\n",
    " 'NMR_phosphatidylcholines',\n",
    " 'NMR_phosphoglycerides',\n",
    " 'NMR_phospholipids_in_chylomicrons_and_extremely_large_vldl',\n",
    " 'NMR_phospholipids_in_hdl',\n",
    " 'NMR_phospholipids_in_idl',\n",
    " 'NMR_phospholipids_in_ldl',\n",
    " 'NMR_phospholipids_in_large_hdl',\n",
    " 'NMR_phospholipids_in_large_ldl',\n",
    " 'NMR_phospholipids_in_large_vldl',\n",
    " 'NMR_phospholipids_in_medium_hdl',\n",
    " 'NMR_phospholipids_in_medium_ldl',\n",
    " 'NMR_phospholipids_in_medium_vldl',\n",
    " 'NMR_phospholipids_in_small_hdl',\n",
    " 'NMR_phospholipids_in_small_ldl',\n",
    " 'NMR_phospholipids_in_small_vldl',\n",
    " 'NMR_phospholipids_in_vldl',\n",
    " 'NMR_phospholipids_in_very_large_hdl',\n",
    " 'NMR_phospholipids_in_very_large_vldl',\n",
    " 'NMR_phospholipids_in_very_small_vldl',\n",
    " 'NMR_polyunsaturated_fatty_acids',\n",
    " 'NMR_pyruvate',\n",
    " 'NMR_remnant_cholesterol_nonhdl_nonldl_cholesterol',\n",
    " 'NMR_saturated_fatty_acids',\n",
    " 'NMR_sphingomyelins',\n",
    " 'NMR_total_cholesterol',\n",
    " 'NMR_total_cholesterol_minus_hdlc',\n",
    " 'NMR_total_cholines',\n",
    " 'NMR_total_concentration_of_branchedchain_amino_acids_leucine_isoleucine_valine',\n",
    " 'NMR_total_concentration_of_lipoprotein_particles',\n",
    " 'NMR_total_esterified_cholesterol',\n",
    " 'NMR_total_fatty_acids',\n",
    " 'NMR_total_free_cholesterol',\n",
    " 'NMR_total_lipids_in_chylomicrons_and_extremely_large_vldl',\n",
    " 'NMR_total_lipids_in_hdl',\n",
    " 'NMR_total_lipids_in_idl',\n",
    " 'NMR_total_lipids_in_ldl',\n",
    " 'NMR_total_lipids_in_large_hdl',\n",
    " 'NMR_total_lipids_in_large_ldl',\n",
    " 'NMR_total_lipids_in_large_vldl',\n",
    " 'NMR_total_lipids_in_lipoprotein_particles',\n",
    " 'NMR_total_lipids_in_medium_hdl',\n",
    " 'NMR_total_lipids_in_medium_ldl',\n",
    " 'NMR_total_lipids_in_medium_vldl',\n",
    " 'NMR_total_lipids_in_small_hdl',\n",
    " 'NMR_total_lipids_in_small_ldl',\n",
    " 'NMR_total_lipids_in_small_vldl',\n",
    " 'NMR_total_lipids_in_vldl',\n",
    " 'NMR_total_lipids_in_very_large_hdl',\n",
    " 'NMR_total_lipids_in_very_large_vldl',\n",
    " 'NMR_total_lipids_in_very_small_vldl',\n",
    " 'NMR_total_phospholipids_in_lipoprotein_particles',\n",
    " 'NMR_total_triglycerides',\n",
    " 'NMR_triglycerides_in_chylomicrons_and_extremely_large_vldl',\n",
    " 'NMR_triglycerides_in_hdl',\n",
    " 'NMR_triglycerides_in_idl',\n",
    " 'NMR_triglycerides_in_ldl',\n",
    " 'NMR_triglycerides_in_large_hdl',\n",
    " 'NMR_triglycerides_in_large_ldl',\n",
    " 'NMR_triglycerides_in_large_vldl',\n",
    " 'NMR_triglycerides_in_medium_hdl',\n",
    " 'NMR_triglycerides_in_medium_ldl',\n",
    " 'NMR_triglycerides_in_medium_vldl',\n",
    " 'NMR_triglycerides_in_small_hdl',\n",
    " 'NMR_triglycerides_in_small_ldl',\n",
    " 'NMR_triglycerides_in_small_vldl',\n",
    " 'NMR_triglycerides_in_vldl',\n",
    " 'NMR_triglycerides_in_very_large_hdl',\n",
    " 'NMR_triglycerides_in_very_large_vldl',\n",
    " 'NMR_triglycerides_in_very_small_vldl',\n",
    " 'NMR_tyrosine',\n",
    " 'NMR_vldl_cholesterol',\n",
    " 'NMR_valine')"
   ]
  },
  {
   "cell_type": "code",
   "execution_count": null,
   "metadata": {},
   "outputs": [],
   "source": [
    "library(ggforestplot)\n",
    "ng_names = df_NG_biomarker_metadata %>% mutate(metabolite = str_replace_all(tolower(description), \" \", \"_\"))\n",
    "ng_names %>% sample_n(10)"
   ]
  },
  {
   "cell_type": "code",
   "execution_count": null,
   "metadata": {},
   "outputs": [],
   "source": [
    "library(fuzzyjoin)\n",
    "mets1 = tibble(metabolite=f$metabolomics) %>% mutate(metabolite=str_remove_all(metabolite, \"NMR_\")) %>% distinct() %>% select(metabolite) %>% distinct() %>% left_join(ng_names, by = \"metabolite\")\n",
    "mets2 = mets1 %>% filter(is.na(name)) %>% select(metabolite) %>% stringdist_left_join(ng_names, by = \"metabolite\", max_dist = 1) %>% \n",
    "    rename(metabolite = metabolite.x) %>% select(-metabolite.y) %>% distinct()\n",
    "mets3 = mets2 %>% filter(is.na(name)) %>% select(metabolite) %>% stringdist_left_join(ng_names, by = \"metabolite\", max_dist = 8) %>% \n",
    "    rename(metabolite = metabolite.x) %>% select(-metabolite.y) %>% distinct()\n",
    "mets = bind_rows(mets1 %>% filter(!is.na(name)), mets2 %>% filter(!is.na(name)), mets3) %>% arrange(group, subgroup, description)\n",
    "mets %>% head()\n",
    "\n",
    "metabolites = paste0(\"NMR_\", mets$metabolite)\n",
    "names(metabolites) = mets$description"
   ]
  },
  {
   "cell_type": "code",
   "execution_count": null,
   "metadata": {},
   "outputs": [],
   "source": [
    "PANEL = c( # 38 clinical predictors\n",
    "    # basics\n",
    "    \"age_at_recruitment\", \n",
    "    \"sex\", \n",
    "   # \"ethnic_background\", # added\n",
    "    \"education_years\",\n",
    "    'smoking_status', # current smoker\n",
    "    'alcohol_intake_frequency', # 'Daily or almost daily'\n",
    "    \"daily_physical_activity\",\n",
    "\n",
    "    \"daily_healthy_food\",\n",
    "    \n",
    "    # family history\n",
    "    \"fh_diabetes\",\n",
    "    \n",
    "    # diagnoses\n",
    "    \"diabetes2\",\n",
    "        \n",
    "    # physical\n",
    "    \"weight\", \n",
    "    \"standing_height\", \n",
    "    \"body_mass_index_bmi\", \n",
    "    'waist_hip_ratio',\n",
    "    \"waist_circumference\",\n",
    "    \"systolic_blood_pressure\", \n",
    "    \n",
    "    # lipids\n",
    "    \"cholesterol\", \n",
    "    \"ldl_direct\", \n",
    "    \"hdl_cholesterol\",\n",
    "    \"triglycerides\",\n",
    "    \n",
    "    # diabetes\n",
    "    'glucose',\n",
    "    'glycated_haemoglobin_hba1c',\n",
    "    \n",
    "    # kidney\n",
    "    'creatinine',\n",
    "    'cystatin_c',\n",
    "    'urea',\n",
    "    'urate',\n",
    "        \n",
    "    # liver\n",
    "    'aspartate_aminotransferase',\n",
    "    'alanine_aminotransferase',\n",
    "    'alkaline_phosphatase',\n",
    "    'albumin',\n",
    "    \n",
    "    # inflammation\n",
    "    'creactive_protein',\n",
    "    \n",
    "    # Blood counts\n",
    "    'red_blood_cell_erythrocyte_count',\n",
    "    'white_blood_cell_leukocyte_count',\n",
    "    'platelet_count',\n",
    "    'haemoglobin_concentration',\n",
    "    'haematocrit_percentage',\n",
    "        'mean_corpuscular_volume',\n",
    "    'mean_corpuscular_haemoglobin',\n",
    "    'mean_corpuscular_haemoglobin_concentration',\n",
    "    \n",
    "    # medications\n",
    "    'antihypertensives'\n",
    "        )"
   ]
  },
  {
   "cell_type": "code",
   "execution_count": null,
   "metadata": {},
   "outputs": [],
   "source": [
    "extra_data = arrow::read_feather(glue(\"{data_results_path}/extra_data_211015.feather\"))\n",
    "table_data = data %>% left_join(extra_data, by=\"eid\") %>% select(all_of(PANEL))"
   ]
  },
  {
   "cell_type": "code",
   "execution_count": null,
   "metadata": {},
   "outputs": [],
   "source": [
    "library(gtsummary)"
   ]
  },
  {
   "cell_type": "code",
   "execution_count": null,
   "metadata": {},
   "outputs": [],
   "source": [
    "table1 = table_data %>% mutate(education_years=jitter(as.numeric(as.character(education_years)), 0.0001), \n",
    "                               smoking_status=case_when(smoking_status==\"Current\" ~ 1, TRUE ~ 0),\n",
    "                            alcohol_intake_frequency=case_when(alcohol_intake_frequency==\"Daily or almost daily\" ~ 1, TRUE ~ 0) \n",
    "                              ) %>%\n",
    "    tbl_summary(by=\"sex\", \n",
    "                                    label=list(\n",
    "                                       age_at_recruitment ~\"Age at Recruitment\",\n",
    "                                        #ethnic_background ~\"Ethnicity\",\n",
    "                                       smoking_status ~ \"Current Smoker\",\n",
    "                                       alcohol_intake_frequency ~ \"Daily Alcohol Intake\",\n",
    "                                       daily_physical_activity ~ \"Daily Moderate to Vigorous Physical Activity\",\n",
    "                                       education_years ~ \"Education years\",\n",
    "                                       daily_healthy_food ~ \"Daily Healthy Food\",\n",
    "                                       fh_diabetes ~ \"Family History Diabetes\",\n",
    "                                       diabetes2 ~ \"Type 2 Diabetes\",\n",
    "                                       body_mass_index_bmi ~ \"BMI\",\n",
    "                                       waist_hip_ratio ~ \"Waist-Hip-Ratio\",\n",
    "                                       waist_circumference ~ \"Waist Circumference\",\n",
    "                                       weight ~ \"Weight (kg)\",\n",
    "                                       standing_height ~ \"Standing Height (cm)\",\n",
    "                                       systolic_blood_pressure ~ \"Systolic Blood Pressure (mmHg)\",\n",
    "                                    cholesterol~\"Total Cholesterol (mmol/L)\",\n",
    "                                       hdl_cholesterol ~\"HDL Cholesterol (mmol/L)\",\n",
    "                                       ldl_direct~\"LDL Cholesterol (mmol/L)\",\n",
    "                                       triglycerides~\"Triglycerides (mmol/L)\",                                   \n",
    "                                       glucose ~ \"Glucose (mmol/L)\",\n",
    "                                       glycated_haemoglobin_hba1c ~ \"Glycated Hemoglobin (%)\",\n",
    "                                       creatinine ~ \"Creatinine (umol/L)\",\n",
    "                                       cystatin_c ~ \"Cystatin C (mg/L)\",\n",
    "                                       urea ~ \"Urea (mmol/L)\", \n",
    "                                       urate ~ \"Urate (umol/L)\",\n",
    "                                       aspartate_aminotransferase ~ \"Aspartate Aminotransferase (U/L)\",\n",
    "                                       alanine_aminotransferase ~ \"Alanine Aminotransferase (U/L)\",\n",
    "                                       alkaline_phosphatase ~ \"Alkaline Phosphatase (U/L)\",\n",
    "                                       albumin ~ \"Albumin (g/L)\",\n",
    "                                       creactive_protein ~ \"C-Reactive Protein (mg/L)\",\n",
    "                                       red_blood_cell_erythrocyte_count ~ \"Erythrocytes (10^12 cells/L)\",\n",
    "                                       white_blood_cell_leukocyte_count ~ \"Leucocytes (10^9 cells/L)\",\n",
    "                                       platelet_count ~ \"Platelets (10^9 cells/L)\",\n",
    "                                       haemoglobin_concentration ~ \"Haemoglobin (g/dL)\",\n",
    "                                       haematocrit_percentage ~ \"Haematocrit (%)\",\n",
    "                                         mean_corpuscular_volume ~ \"Mean Corpuscular Volume\",\n",
    "                                       mean_corpuscular_haemoglobin ~ \"Mean Corpuscular Haemaglobin (pg)\",\n",
    "                                        mean_corpuscular_haemoglobin_concentration ~ \"Mean Corpuscular Haemaglobin (g/dL)\",\n",
    "                                       antihypertensives ~\"Antihypertensives\"\n",
    "                                              ),\n",
    "                                    missing=\"no\"\n",
    "                                   ) %>% add_overall(last=TRUE) %>% bold_labels()"
   ]
  },
  {
   "cell_type": "code",
   "execution_count": null,
   "metadata": {},
   "outputs": [],
   "source": [
    "library(gt)\n",
    "plot_name = \"Table1\"\n",
    "table1 %>% as_gt() %>% tab_header(title = \"Table 1\") %>% \n",
    "    gt::gtsave(glue(\"{plot_name}.html\"))"
   ]
  },
  {
   "cell_type": "markdown",
   "metadata": {},
   "source": [
    "# Observation time"
   ]
  },
  {
   "cell_type": "code",
   "execution_count": null,
   "metadata": {
    "ExecuteTime": {
     "end_time": "2021-01-05T08:54:57.329092Z",
     "start_time": "2021-01-05T08:54:45.260Z"
    }
   },
   "outputs": [],
   "source": [
    "plot_width=10; plot_height=3; plot_dpi=300\n",
    "options(repr.plot.width=plot_width, repr.plot.height=plot_height)\n",
    "\n",
    "theme_set(theme_classic(base_size = base_size) + \n",
    "    theme(strip.background = element_blank(), plot.title=element_text(size=25, hjust=0), \n",
    "          strip.text.x = element_text(size = facet_size)) + theme(legend.position=\"bottom\", axis.line = element_line(size = 0.2), axis.ticks=element_line(size=0.2)))\n"
   ]
  },
  {
   "cell_type": "code",
   "execution_count": null,
   "metadata": {},
   "outputs": [],
   "source": [
    "temp = data %>% filter(MACE_event==0)  %>% select(c(eid, MACE_event_time))\n",
    "mean = round((temp %>% summarise(mean=median(MACE_event_time)))$mean, 1)\n",
    "obs_time = ggplot(temp, aes(x=MACE_event_time)) + ggtitle(\"Observation Time\") + \n",
    "    geom_density(fill=\"gray70\", alpha=0.5) +\n",
    "    labs(x=\"Years\", y=\"Density\") +\n",
    "    geom_vline(aes(xintercept=mean(MACE_event_time)),color=\"black\", linetype=\"dashed\", size=1)+\n",
    "    #geom_text(x=mean, label=mean, y=0.15, hjust=-0.5)+\n",
    "    #ylab(\"Prevalence in [%]\") +\n",
    "    scale_x_continuous(expand=c(0,0))+\n",
    "    scale_y_continuous(expand=c(0,0))+\n",
    "    coord_cartesian(xlim=c(0, 15))+\n",
    "    annotate(\"text\", x=mean-5, y=0.2, label=paste0(\"Median: \", mean, \" years\"), size = geom_text_size)\n",
    "obs_time"
   ]
  },
  {
   "cell_type": "markdown",
   "metadata": {},
   "source": [
    "# Aggregated person years"
   ]
  },
  {
   "cell_type": "code",
   "execution_count": null,
   "metadata": {},
   "outputs": [],
   "source": [
    "py_data = data %>% select(\"eid\", all_of(paste0(names(endpoint_map), \"_event_time\"))) %>% pivot_longer(-eid, names_to=\"endpoint\", values_to=\"person_years\") %>% mutate(endpoint = str_remove_all(endpoint, \"_event\"))"
   ]
  },
  {
   "cell_type": "code",
   "execution_count": null,
   "metadata": {},
   "outputs": [],
   "source": [
    "py_data %>% group_by(eid) %>% arrange(desc(person_years)) %>% slice(1) %>% ungroup() %>% summarise(sum_years=sum(person_years))"
   ]
  },
  {
   "cell_type": "markdown",
   "metadata": {},
   "source": [
    "# Endpoint frequencies"
   ]
  },
  {
   "cell_type": "code",
   "execution_count": null,
   "metadata": {},
   "outputs": [],
   "source": [
    "library(ggthemes)\n",
    "endpoint_map = c(\n",
    "    'M_MACE'='MACE',\n",
    "    'M_all_cause_dementia'='Dementia',\n",
    "    'M_type_2_diabetes'='T2 Diabetes',\n",
    "    'M_liver_disease'='Liver Disease',\n",
    "    'M_renal_disease'='Renal Disease',\n",
    "    'M_atrial_fibrillation'='Atrial Fibrillation',\n",
    "    'M_heart_failure'= 'Heart Failure',\n",
    "    'M_coronary_heart_disease'='CHD',\n",
    "    'M_venous_thrombosis'='Ven. Thrombosis',\n",
    "    'M_cerebral_stroke'='Cerebral Stroke',\n",
    "    'M_abdominal_aortic_aneurysm'='AAA',\n",
    "    'M_peripheral_arterial_disease'='PAD',\n",
    "    \"M_chronic_obstructuve_pulmonary_disease\" = \"COPD\",\n",
    "    \"M_asthma\" = \"Asthma\",\n",
    "    'M_parkinsons_disease' = \"Parkinson's\",    \n",
    "    \"M_lung_cancer\" = \"Lung Cancer\",\n",
    "    \"M_non_melanoma_skin_cancer\" = \"Skin Cancer\",\n",
    "    \"M_colon_cancer\"= \"Colon Cancer\",\n",
    "    \"M_rectal_cancer\" = \"Rectal Cancer\",\n",
    "    \"M_prostate_cancer\"= \"Prostate Cancer\",\n",
    "    \"M_breast_cancer\" = \"Breast Cancer\",\n",
    "    'M_cataracts' = \"Cataracts\", \n",
    "    'M_glaucoma' = \"Glaucoma\",\n",
    "    'M_fractures' = \"Fractures\"\n",
    ")\n",
    "\n",
    "endpoint_order = c(\"M_MACE\", \"M_coronary_heart_disease\", \"M_cerebral_stroke\", \"M_all_cause_dementia\", \"M_heart_failure\", \"M_atrial_fibrillation\",\n",
    "                   \"M_type_2_diabetes\", \"M_liver_disease\", \"M_renal_disease\", \"M_peripheral_arterial_disease\", \"M_venous_thrombosis\",  \"M_abdominal_aortic_aneurysm\",\n",
    "                   \"M_chronic_obstructuve_pulmonary_disease\", \"M_asthma\", 'M_parkinsons_disease', 'M_cataracts', 'M_glaucoma', 'M_fractures',\n",
    "                    \"M_lung_cancer\",\"M_non_melanoma_skin_cancer\",\"M_colon_cancer\",\"M_rectal_cancer\",\"M_prostate_cancer\",\"M_breast_cancer\"\n",
    "                   \n",
    ")"
   ]
  },
  {
   "cell_type": "code",
   "execution_count": null,
   "metadata": {},
   "outputs": [],
   "source": [
    "temp_endpoints = data %>% select(starts_with(\"M_\")) %>% select(ends_with(\"_event\"), -contains(\"-time\"), -contains(\"comp\")) %>% \n",
    "    pivot_longer(everything()) %>% group_by(name) %>% summarise(frequency=mean(value)) %>% arrange(frequency) %>% ungroup() %>% as.data.frame() %>%\n",
    "    mutate(name = str_remove_all(name, \"_event\")) %>% filter(name %in% endpoints) %>% mutate(name = factor(name, levels=endpoint_order))"
   ]
  },
  {
   "cell_type": "code",
   "execution_count": null,
   "metadata": {},
   "outputs": [],
   "source": [
    "inc_data = data %>% select(\"eid\", all_of(paste0(names(endpoint_map), \"_event\"))) %>% pivot_longer(-eid, names_to=\"endpoint\", values_to=\"Incident\") %>% mutate(endpoint = str_remove_all(endpoint, \"_event\"))\n",
    "prev_data = data %>% select(eid, all_of(names(endpoint_map))) %>% pivot_longer(-eid, names_to=\"endpoint\", values_to=\"Prevalent\") %>% mutate(Prevalent = as.integer(Prevalent))\n",
    "agg_data = prev_data %>% left_join(inc_data, by=c(\"eid\", \"endpoint\")) \n",
    "agg_data$endpoint = recode(agg_data$endpoint, !!!endpoint_map)\n",
    "agg_data %>% head()"
   ]
  },
  {
   "cell_type": "code",
   "execution_count": null,
   "metadata": {},
   "outputs": [],
   "source": [
    "agg_data %>% filter(Prevalent==0) %>% group_by(endpoint) %>% summarise(frequency=sum(Incident)/n()) %>% arrange(frequency) %>% mutate(f = round(frequency*100, 2)) # %>% mutate(sum=n()) %>% group_by(frequency, sum) %>% tally() %>% mutate(freq=n*100/sum)"
   ]
  }
 ],
 "metadata": {
  "hide_input": false,
  "kernelspec": {
   "display_name": "R [conda env:r_env]",
   "language": "R",
   "name": "conda-env-r_env-r"
  },
  "language_info": {
   "codemirror_mode": "r",
   "file_extension": ".r",
   "mimetype": "text/x-r-source",
   "name": "R",
   "pygments_lexer": "r",
   "version": "4.0.2"
  },
  "toc-autonumbering": true,
  "toc-showcode": false,
  "toc-showmarkdowntxt": true
 },
 "nbformat": 4,
 "nbformat_minor": 4
}
