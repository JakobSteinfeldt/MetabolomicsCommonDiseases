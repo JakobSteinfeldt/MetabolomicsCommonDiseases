{
 "cells": [
  {
   "cell_type": "markdown",
   "metadata": {},
   "source": [
    "# 2. Exploration"
   ]
  },
  {
   "cell_type": "code",
   "execution_count": null,
   "metadata": {
    "ExecuteTime": {
     "end_time": "2021-01-05T07:55:18.706103Z",
     "start_time": "2021-01-05T07:55:03.465Z"
    }
   },
   "outputs": [],
   "source": [
    "try(library(tidyverse), silent=TRUE)\n",
    "library(lubridate)\n",
    "library(glue)\n",
    "library(cowplot)\n",
    "library(survminer)\n",
    "library(survival)\n",
    "library(ggsci)\n",
    "library(arsenal)\n",
    "library(yaml)"
   ]
  },
  {
   "cell_type": "code",
   "execution_count": null,
   "metadata": {
    "ExecuteTime": {
     "end_time": "2021-01-05T07:55:18.725125Z",
     "start_time": "2021-01-05T07:55:03.658Z"
    }
   },
   "outputs": [],
   "source": [
    "if (grepl(\"sc\", Sys.info()[[\"nodename\"]], fixed=TRUE)) {\n",
    "    base_path = \"/sc-projects/sc-proj-ukb-cvd\"\n",
    "} else {\n",
    "    base_path = \"/data/analysis/ag-reils/ag-reils-shared/cardioRS\"}\n",
    "print(base_path)\n",
    "\n",
    "dataset_name = \"210714_metabolomics\"\n",
    "path = \"/data/analysis/ag-reils/steinfej/code/umbrella/pre/ukbb\"\n",
    "data_path = glue(\"{base_path}/data\")\n",
    "dataset_path = glue(\"{data_path}/3_datasets_post/{dataset_name}\")\n",
    "\n",
    "project_label=\"21_metabolomics_multitask\"\n",
    "project_path = glue(\"{base_path}/results/projects/{project_label}\")\n",
    "figures_path = glue(\"{project_path}/figures\")\n",
    "data_results_path = glue(\"{project_path}/data\")\n",
    "\n",
    "figure_path = glue(\"{figures_path}/Figure1\")"
   ]
  },
  {
   "cell_type": "code",
   "execution_count": null,
   "metadata": {},
   "outputs": [],
   "source": []
  },
  {
   "cell_type": "code",
   "execution_count": null,
   "metadata": {},
   "outputs": [],
   "source": [
    "library(data.table)\n",
    "metabolite_map = fread(\"ExternalCohorts/metabolite_map.csv\", header=TRUE)"
   ]
  },
  {
   "cell_type": "markdown",
   "metadata": {},
   "source": [
    "## UKB"
   ]
  },
  {
   "cell_type": "code",
   "execution_count": null,
   "metadata": {},
   "outputs": [],
   "source": [
    "data = arrow::read_feather(glue(\"{dataset_path}/data_merged.feather\")) "
   ]
  },
  {
   "cell_type": "code",
   "execution_count": null,
   "metadata": {},
   "outputs": [],
   "source": [
    "ukb_abbreviation_map = metabolite_map$abbreviation\n",
    "names(ukb_abbreviation_map) = metabolite_map$UKB_names\n",
    "nmr_ukb = data %>% filter(NMR_FLAG==TRUE) %>% mutate(id = as.character(eid)) %>% select(id, all_of(metabolite_map$UKB_names)) %>%\n",
    "    pivot_longer(all_of(metabolite_map$UKB_names), names_to=\"metabolite\", values_to=\"value\") %>% \n",
    "    mutate(metabolite = recode(metabolite, !!!ukb_abbreviation_map)) %>% \n",
    "    pivot_wider(names_from=\"metabolite\", values_from=\"value\") %>%\n",
    "    mutate(biobank = \"UKB\")\n",
    "nmr_ukb"
   ]
  },
  {
   "cell_type": "markdown",
   "metadata": {},
   "source": [
    "## WHII"
   ]
  },
  {
   "cell_type": "code",
   "execution_count": null,
   "metadata": {},
   "outputs": [],
   "source": [
    "library(\"readxl\")"
   ]
  },
  {
   "cell_type": "code",
   "execution_count": null,
   "metadata": {},
   "outputs": [],
   "source": [
    "metabolite_map_whii = read_excel(\"ExternalCohorts/csv-excel-biomarker names.xlsx\")"
   ]
  },
  {
   "cell_type": "code",
   "execution_count": null,
   "metadata": {},
   "outputs": [],
   "source": [
    "metabolite_map_units = metabolite_map %>% left_join(metabolite_map_whii %>% mutate(WHII_name = `CSV column name`) %>% select(WHII_name, `Biomarker name`, Unit), by=c(\"name\"=\"Biomarker name\")) %>% filter(WHII_name==WHII_name)"
   ]
  },
  {
   "cell_type": "code",
   "execution_count": null,
   "metadata": {},
   "outputs": [],
   "source": [
    "nmr_whii_raw = fread(\"/sc-projects/sc-proj-ukb-cvd/data/3_datasets_post/210714_metabolomics/review_round1/whii_metabolites_anonymized.csv\") %>% mutate(id=row_number()) #%>% select(id, all_of(metabolite_map$abbreviations))\n",
    "nmr_whii_raw %>% head()"
   ]
  },
  {
   "cell_type": "code",
   "execution_count": null,
   "metadata": {},
   "outputs": [],
   "source": [
    "whii_abbreviation_map = metabolite_map$abbreviation\n",
    "names(whii_abbreviation_map) = metabolite_map$machine_readable_name"
   ]
  },
  {
   "cell_type": "code",
   "execution_count": null,
   "metadata": {},
   "outputs": [],
   "source": [
    "nmr_whii = nmr_whii_raw  %>% mutate(id = as.character(V1)) %>%\n",
    "    select(id, all_of(metabolite_map$machine_readable_name))  %>%\n",
    "    pivot_longer(all_of(metabolite_map$machine_readable_name), names_to=\"metabolite\", values_to=\"value\") %>% \n",
    "    mutate(metabolite = recode(metabolite, !!!whii_abbreviation_map)) %>% \n",
    "    pivot_wider(names_from=\"metabolite\", values_from=\"value\") %>%\n",
    "    mutate(biobank = \"WHII\")\n",
    "nmr_whii %>% head()"
   ]
  },
  {
   "cell_type": "markdown",
   "metadata": {},
   "source": [
    "## BBMRI"
   ]
  },
  {
   "cell_type": "code",
   "execution_count": null,
   "metadata": {},
   "outputs": [],
   "source": [
    "nmr_bbmri_raw = readRDS(\"/home/steinfej/code/MetabolomicsCommonDiseases/2_analysis/ExternalCohorts/metabolites_summary_statistics_220408.RData\")$inputs$data"
   ]
  },
  {
   "cell_type": "code",
   "execution_count": null,
   "metadata": {},
   "outputs": [],
   "source": [
    "nmr_bbmri_raw$id <- rownames(nmr_bbmri_raw)"
   ]
  },
  {
   "cell_type": "code",
   "execution_count": null,
   "metadata": {},
   "outputs": [],
   "source": [
    "nmr_bbmri_raw %>% group_by(biobank) %>% tally()"
   ]
  },
  {
   "cell_type": "code",
   "execution_count": null,
   "metadata": {},
   "outputs": [],
   "source": [
    "bbmri_abbreviation_map = metabolite_map$abbreviation\n",
    "names(bbmri_abbreviation_map) = metabolite_map$BBMRI_names\n",
    "nmr_bbmri = nmr_bbmri_raw %>% select(id, everything()) %>% \n",
    "    pivot_longer(all_of(metabolite_map$BBMRI_names), names_to=\"metabolite\", values_to=\"value\") %>% \n",
    "    mutate(metabolite = recode(metabolite, !!!bbmri_abbreviation_map)) %>% \n",
    "    pivot_wider(names_from=\"metabolite\", values_from=\"value\")"
   ]
  },
  {
   "cell_type": "markdown",
   "metadata": {},
   "source": [
    "### All cohorts"
   ]
  },
  {
   "cell_type": "code",
   "execution_count": null,
   "metadata": {},
   "outputs": [],
   "source": [
    "nmr_all = bind_rows(nmr_ukb, nmr_bbmri, nmr_whii)"
   ]
  },
  {
   "cell_type": "code",
   "execution_count": null,
   "metadata": {},
   "outputs": [],
   "source": [
    "nmr_all_calc = nmr_all %>% pivot_longer(all_of(metabolite_map$abbreviation), names_to=\"metabolite\", values_to=\"values\") %>% \n",
    "    group_by(biobank, metabolite) %>% \n",
    "    summarise(n=n(), x = quantile(values, c(0.25, 0.5, 0.75), na.rm=TRUE), q = c(\"Q25\", \"Median\", \"Q75\")) %>%\n",
    "    #pivot_wider(names_from=\"metabolite\", values_from=\"x\") %>%\n",
    "    pivot_wider(names_from=\"q\", values_from=\"x\") %>%\n",
    "    mutate(IQR = glue(\"{Median} ({Q25}, {Q75})\")) %>%\n",
    "    mutate(bb_label = glue(\"{biobank} (n={n})\")) %>%\n",
    "    ungroup() %>%\n",
    "    select(bb_label, metabolite, `Median`, `Q25`, `Q75`) %>%\n",
    "    pivot_wider(names_from=\"bb_label\", values_from=c(\"Median\", \"Q25\", \"Q75\"), names_glue=\"{bb_label}_{.value}\") %>%\n",
    "    select(sort(current_vars())) %>% select(metabolite, everything()) %>% arrange(metabolite) %>%\n",
    "    left_join(metabolite_map_whii %>% select(`Excel column name`, Unit), by=c(\"metabolite\"=\"Excel column name\")) %>%\n",
    "    mutate(label = glue(\"{metabolite} ({Unit})\")) %>% select(-metabolite, -Unit) %>%\n",
    "    select(label, everything())\n",
    "    #select(metabolite, `UKB (n=117981)`, `RS (n=2949)`, `LLS_PARTOFFS (n=2313)`, `PROSPER (n=960)`)"
   ]
  },
  {
   "cell_type": "code",
   "execution_count": null,
   "metadata": {},
   "outputs": [],
   "source": [
    "nmr_all_calc %>% write_csv(\"outputs/nmr_dist.csv\")"
   ]
  },
  {
   "cell_type": "code",
   "execution_count": null,
   "metadata": {},
   "outputs": [],
   "source": []
  },
  {
   "cell_type": "code",
   "execution_count": null,
   "metadata": {},
   "outputs": [],
   "source": [
    "library(gtsummary)"
   ]
  },
  {
   "cell_type": "code",
   "execution_count": null,
   "metadata": {},
   "outputs": [],
   "source": [
    "nmr_table = nmr_all %>% \n",
    "    tbl_summary(by=\"biobank\", missing=\"no\")  %>%\n",
    "    bold_labels()"
   ]
  },
  {
   "cell_type": "code",
   "execution_count": null,
   "metadata": {},
   "outputs": [],
   "source": [
    "library(gt)\n",
    "plot_name = \"nmr_dist\"\n",
    "nmr_table %>% as_gt() %>% \n",
    "    tab_header(title = \"NMR metabolites\") %>% \n",
    "    gt::gtsave(glue(\"outputs/{plot_name}.html\"))"
   ]
  },
  {
   "cell_type": "markdown",
   "metadata": {},
   "source": [
    "# Observation time"
   ]
  },
  {
   "cell_type": "code",
   "execution_count": null,
   "metadata": {
    "ExecuteTime": {
     "end_time": "2021-01-05T08:54:57.329092Z",
     "start_time": "2021-01-05T08:54:45.260Z"
    }
   },
   "outputs": [],
   "source": [
    "plot_width=10; plot_height=3; plot_dpi=300\n",
    "options(repr.plot.width=plot_width, repr.plot.height=plot_height)\n",
    "\n",
    "theme_set(theme_classic(base_size = base_size) + \n",
    "    theme(strip.background = element_blank(), plot.title=element_text(size=25, hjust=0), \n",
    "          strip.text.x = element_text(size = facet_size)) + theme(legend.position=\"bottom\", axis.line = element_line(size = 0.2), axis.ticks=element_line(size=0.2)))\n"
   ]
  },
  {
   "cell_type": "code",
   "execution_count": null,
   "metadata": {},
   "outputs": [],
   "source": [
    "temp = data %>% filter(MACE_event==0)  %>% select(c(eid, MACE_event_time))\n",
    "mean = round((temp %>% summarise(mean=median(MACE_event_time)))$mean, 1)\n",
    "obs_time = ggplot(temp, aes(x=MACE_event_time)) + ggtitle(\"Observation Time\") + \n",
    "    geom_density(fill=\"gray70\", alpha=0.5) +\n",
    "    labs(x=\"Years\", y=\"Density\") +\n",
    "    geom_vline(aes(xintercept=mean(MACE_event_time)),color=\"black\", linetype=\"dashed\", size=1)+\n",
    "    #geom_text(x=mean, label=mean, y=0.15, hjust=-0.5)+\n",
    "    #ylab(\"Prevalence in [%]\") +\n",
    "    scale_x_continuous(expand=c(0,0))+\n",
    "    scale_y_continuous(expand=c(0,0))+\n",
    "    coord_cartesian(xlim=c(0, 15))+\n",
    "    annotate(\"text\", x=mean-5, y=0.2, label=paste0(\"Median: \", mean, \" years\"), size = geom_text_size)\n",
    "obs_time"
   ]
  },
  {
   "cell_type": "markdown",
   "metadata": {},
   "source": [
    "# Aggregated person years"
   ]
  },
  {
   "cell_type": "code",
   "execution_count": null,
   "metadata": {},
   "outputs": [],
   "source": [
    "py_data = data %>% select(\"eid\", all_of(paste0(names(endpoint_map), \"_event_time\"))) %>% pivot_longer(-eid, names_to=\"endpoint\", values_to=\"person_years\") %>% mutate(endpoint = str_remove_all(endpoint, \"_event\"))"
   ]
  },
  {
   "cell_type": "code",
   "execution_count": null,
   "metadata": {},
   "outputs": [],
   "source": [
    "py_data %>% group_by(eid) %>% arrange(desc(person_years)) %>% slice(1) %>% ungroup() %>% summarise(sum_years=sum(person_years))"
   ]
  },
  {
   "cell_type": "markdown",
   "metadata": {},
   "source": [
    "# Endpoint frequencies"
   ]
  },
  {
   "cell_type": "code",
   "execution_count": null,
   "metadata": {},
   "outputs": [],
   "source": [
    "library(ggthemes)\n",
    "endpoint_map = c(\n",
    "    'M_MACE'='MACE',\n",
    "    'M_all_cause_dementia'='Dementia',\n",
    "    'M_type_2_diabetes'='T2 Diabetes',\n",
    "    'M_liver_disease'='Liver Disease',\n",
    "    'M_renal_disease'='Renal Disease',\n",
    "    'M_atrial_fibrillation'='Atrial Fibrillation',\n",
    "    'M_heart_failure'= 'Heart Failure',\n",
    "    'M_coronary_heart_disease'='CHD',\n",
    "    'M_venous_thrombosis'='Ven. Thrombosis',\n",
    "    'M_cerebral_stroke'='Cerebral Stroke',\n",
    "    'M_abdominal_aortic_aneurysm'='AAA',\n",
    "    'M_peripheral_arterial_disease'='PAD',\n",
    "    \"M_chronic_obstructuve_pulmonary_disease\" = \"COPD\",\n",
    "    \"M_asthma\" = \"Asthma\",\n",
    "    'M_parkinsons_disease' = \"Parkinson's\",    \n",
    "    \"M_lung_cancer\" = \"Lung Cancer\",\n",
    "    \"M_non_melanoma_skin_cancer\" = \"Skin Cancer\",\n",
    "    \"M_colon_cancer\"= \"Colon Cancer\",\n",
    "    \"M_rectal_cancer\" = \"Rectal Cancer\",\n",
    "    \"M_prostate_cancer\"= \"Prostate Cancer\",\n",
    "    \"M_breast_cancer\" = \"Breast Cancer\",\n",
    "    'M_cataracts' = \"Cataracts\", \n",
    "    'M_glaucoma' = \"Glaucoma\",\n",
    "    'M_fractures' = \"Fractures\"\n",
    ")\n",
    "\n",
    "endpoint_order = c(\"M_MACE\", \"M_coronary_heart_disease\", \"M_cerebral_stroke\", \"M_all_cause_dementia\", \"M_heart_failure\", \"M_atrial_fibrillation\",\n",
    "                   \"M_type_2_diabetes\", \"M_liver_disease\", \"M_renal_disease\", \"M_peripheral_arterial_disease\", \"M_venous_thrombosis\",  \"M_abdominal_aortic_aneurysm\",\n",
    "                   \"M_chronic_obstructuve_pulmonary_disease\", \"M_asthma\", 'M_parkinsons_disease', 'M_cataracts', 'M_glaucoma', 'M_fractures',\n",
    "                    \"M_lung_cancer\",\"M_non_melanoma_skin_cancer\",\"M_colon_cancer\",\"M_rectal_cancer\",\"M_prostate_cancer\",\"M_breast_cancer\"\n",
    "                   \n",
    ")"
   ]
  },
  {
   "cell_type": "code",
   "execution_count": null,
   "metadata": {},
   "outputs": [],
   "source": [
    "temp_endpoints = data %>% select(starts_with(\"M_\")) %>% select(ends_with(\"_event\"), -contains(\"-time\"), -contains(\"comp\")) %>% \n",
    "    pivot_longer(everything()) %>% group_by(name) %>% summarise(frequency=mean(value)) %>% arrange(frequency) %>% ungroup() %>% as.data.frame() %>%\n",
    "    mutate(name = str_remove_all(name, \"_event\")) %>% filter(name %in% endpoints) %>% mutate(name = factor(name, levels=endpoint_order))"
   ]
  },
  {
   "cell_type": "code",
   "execution_count": null,
   "metadata": {},
   "outputs": [],
   "source": [
    "inc_data = data %>% select(\"eid\", all_of(paste0(names(endpoint_map), \"_event\"))) %>% pivot_longer(-eid, names_to=\"endpoint\", values_to=\"Incident\") %>% mutate(endpoint = str_remove_all(endpoint, \"_event\"))\n",
    "prev_data = data %>% select(eid, all_of(names(endpoint_map))) %>% pivot_longer(-eid, names_to=\"endpoint\", values_to=\"Prevalent\") %>% mutate(Prevalent = as.integer(Prevalent))\n",
    "agg_data = prev_data %>% left_join(inc_data, by=c(\"eid\", \"endpoint\")) \n",
    "agg_data$endpoint = recode(agg_data$endpoint, !!!endpoint_map)\n",
    "agg_data %>% head()"
   ]
  },
  {
   "cell_type": "code",
   "execution_count": null,
   "metadata": {},
   "outputs": [],
   "source": [
    "agg_data %>% filter(Prevalent==0) %>% group_by(endpoint) %>% summarise(frequency=sum(Incident)/n()) %>% arrange(frequency) %>% mutate(f = round(frequency*100, 2)) # %>% mutate(sum=n()) %>% group_by(frequency, sum) %>% tally() %>% mutate(freq=n*100/sum)"
   ]
  }
 ],
 "metadata": {
  "hide_input": false,
  "kernelspec": {
   "display_name": "R [conda env:r_env]",
   "language": "R",
   "name": "conda-env-r_env-r"
  },
  "language_info": {
   "codemirror_mode": "r",
   "file_extension": ".r",
   "mimetype": "text/x-r-source",
   "name": "R",
   "pygments_lexer": "r",
   "version": "4.0.2"
  },
  "toc-autonumbering": true,
  "toc-showcode": false,
  "toc-showmarkdowntxt": true
 },
 "nbformat": 4,
 "nbformat_minor": 4
}
