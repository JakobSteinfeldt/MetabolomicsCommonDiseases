{
 "cells": [
  {
   "cell_type": "markdown",
   "metadata": {},
   "source": [
    "## Initialize"
   ]
  },
  {
   "cell_type": "code",
   "execution_count": null,
   "metadata": {},
   "outputs": [],
   "source": [
    "getwd()"
   ]
  },
  {
   "cell_type": "code",
   "execution_count": null,
   "metadata": {
    "ExecuteTime": {
     "end_time": "2021-01-05T11:03:09.852316Z",
     "start_time": "2021-01-05T11:03:07.701Z"
    }
   },
   "outputs": [],
   "source": [
    "#library(Rmisc)\n",
    "library(tidyverse)\n",
    "library(glue)\n",
    "library(arrow)\n",
    "library(patchwork)"
   ]
  },
  {
   "cell_type": "code",
   "execution_count": null,
   "metadata": {
    "ExecuteTime": {
     "end_time": "2021-01-05T11:03:10.932312Z",
     "start_time": "2021-01-05T11:03:10.882Z"
    }
   },
   "outputs": [],
   "source": [
    "if (grepl(\"sc\", Sys.info()[[\"nodename\"]], fixed=TRUE)) {\n",
    "    base_path = \"/sc-projects/sc-proj-ukb-cvd\"\n",
    "} else {\n",
    "    base_path = \"/data/analysis/ag-reils/ag-reils-shared/cardioRS\"}\n",
    "print(base_path)\n",
    "\n",
    "dataset_name = \"210714_metabolomics\"\n",
    "path = \"/data/analysis/ag-reils/steinfej/code/umbrella/pre/ukbb\"\n",
    "data_path = glue(\"{base_path}/data\")\n",
    "dataset_path = glue(\"{data_path}/3_datasets_post/{dataset_name}\")\n",
    "\n",
    "project_label=\"21_metabolomics_multitask\"\n",
    "project_path = glue(\"{base_path}/results/projects/{project_label}\")\n",
    "figures_path = glue(\"{project_path}/figures\")\n",
    "data_results_path = glue(\"{project_path}/data\")"
   ]
  },
  {
   "cell_type": "markdown",
   "metadata": {},
   "source": [
    "## Load data"
   ]
  },
  {
   "cell_type": "code",
   "execution_count": null,
   "metadata": {
    "ExecuteTime": {
     "end_time": "2021-01-05T11:03:12.470354Z",
     "start_time": "2021-01-05T11:03:11.387Z"
    }
   },
   "outputs": [],
   "source": [
    "list.dirs(path = project_path, full.names = TRUE, recursive = TRUE)"
   ]
  },
  {
   "cell_type": "code",
   "execution_count": null,
   "metadata": {},
   "outputs": [],
   "source": [
    "run = \"220126\""
   ]
  },
  {
   "cell_type": "code",
   "execution_count": null,
   "metadata": {
    "ExecuteTime": {
     "end_time": "2021-01-05T11:03:23.212936Z",
     "start_time": "2021-01-05T11:03:11.689Z"
    }
   },
   "outputs": [],
   "source": [
    "DSM = \"MultiTaskSurvivalTraining\"\n",
    "data = arrow::read_feather(glue(\"{dataset_path}/data_merged.feather\")) \n",
    "data_description = arrow::read_feather(glue(\"{dataset_path}/description_merged.feather\"))\n",
    "predictions = arrow::read_feather(glue(\"{data_results_path}/predictions_{run}_metabolomics.feather\")) "
   ]
  },
  {
   "cell_type": "code",
   "execution_count": null,
   "metadata": {},
   "outputs": [],
   "source": [
    "data_events = data %>% select(eid, ends_with(\"event\"), ends_with(\"event_time\")) %>% \n",
    "    pivot_longer(-eid, names_to=c(\"endpoint\", \"type\"), values_to=\"value\", names_pattern=\"(.*)(event_time|event)\") %>% \n",
    "    mutate(endpoint = stringr::str_sub(endpoint, end=-2)) %>% pivot_wider(names_from=\"type\", values_from=\"value\")"
   ]
  },
  {
   "cell_type": "code",
   "execution_count": null,
   "metadata": {},
   "outputs": [],
   "source": [
    "predictions_tte = predictions %>% left_join(data_events, by=c(\"endpoint\", \"eid\"))"
   ]
  },
  {
   "cell_type": "code",
   "execution_count": null,
   "metadata": {},
   "outputs": [],
   "source": [
    "library(ggthemes)\n",
    "endpoint_map = c(\n",
    "    'M_MACE'='MACE',\n",
    "    'M_all_cause_dementia'='Dementia',\n",
    "    'M_type_2_diabetes'='T2 Diabetes',\n",
    "    'M_liver_disease'='Liver Disease',\n",
    "    'M_renal_disease'='Renal Disease',\n",
    "    'M_atrial_fibrillation'='Atrial Fibrillation',\n",
    "    'M_heart_failure'= 'Heart Failure',\n",
    "    'M_coronary_heart_disease'='CHD',\n",
    "    'M_venous_thrombosis'='Ven. Thrombosis',\n",
    "    'M_cerebral_stroke'='Cerebral Stroke',\n",
    "    'M_abdominal_aortic_aneurysm'='AAA',\n",
    "    'M_peripheral_arterial_disease'='PAD',\n",
    "    \"M_chronic_obstructuve_pulmonary_disease\" = \"COPD\",\n",
    "    \"M_asthma\" = \"Asthma\",\n",
    "    'M_parkinsons_disease' = \"Parkinson's\",    \n",
    "    \"M_lung_cancer\" = \"Lung Cancer\",\n",
    "    \"M_non_melanoma_skin_cancer\" = \"Skin Cancer\",\n",
    "    \"M_colon_cancer\"= \"Colon Cancer\",\n",
    "    \"M_rectal_cancer\" = \"Rectal Cancer\",\n",
    "    \"M_prostate_cancer\"= \"Prostate Cancer\",\n",
    "    \"M_breast_cancer\" = \"Breast Cancer\",\n",
    "    'M_cataracts' = \"Cataracts\", \n",
    "    'M_glaucoma' = \"Glaucoma\",\n",
    "    'M_fractures' = \"Fractures\"\n",
    ")\n",
    "\n",
    "endpoint_order = c(\"M_type_2_diabetes\", \"M_all_cause_dementia\", \"M_heart_failure\")"
   ]
  },
  {
   "cell_type": "code",
   "execution_count": null,
   "metadata": {},
   "outputs": [],
   "source": [
    "library(\"jsonlite\")\n",
    "colors_path = \"colors.json\"\n",
    "colors_dict = read_json(colors_path)\n",
    "\n",
    "color_map <- c('COX_Age+Sex' = colors_dict$pastel$grey$light, \n",
    "               'DS_Metabolomics' = \"#4F8EC1\",  #colors_dict$pastel$orange$dark,\n",
    "               'COX_ASCVD' = colors_dict$pastel$grey$mid, \n",
    "               'COX_PANEL' = colors_dict$pastel$grey$dark, \n",
    "               'DS_Age+Sex+Metabolomics' = \"#53dd6c\",#colors_dict$pastel$orange$mid,\n",
    "               'DS_ASCVD+Metabolomics' = \"#d8315b\",#colors_dict$pastel$red$mid,\n",
    "               'DS_PANELnoblood+Metabolomics' = \"forestgreen\",\n",
    "               'DS_PANEL+Metabolomics' = \"#1e1b18\" #colors_dict$pastel$red$dark\n",
    "      )\n",
    "\n",
    "type_map <- c('COX_Age+Sex' = \"dashed\", \n",
    "               'DS_Metabolomics' = \"solid\",  #colors_dict$pastel$orange$dark,\n",
    "               'COX_ASCVD' = \"dashed\", \n",
    "               'COX_PANEL' = \"dashed\", \n",
    "               'DS_Age+Sex+Metabolomics' = \"solid\",#colors_dict$pastel$orange$mid,\n",
    "               'DS_ASCVD+Metabolomics' = \"solid\",#colors_dict$pastel$red$mid,\n",
    "               'DS_PANEL+Metabolomics' = \"solid\", #colors_dict$pastel$red$dark\n",
    "                'DS_PANELnoblood+Metabolomics' = \"solid\",\n",
    "              \"Treat All\" = \"solid\",\n",
    "              \"Treat None\" = \"solid\"\n",
    "      )\n",
    "\n",
    "size_map <- c('COX_Age+Sex' = 0.25, \n",
    "               'DS_Metabolomics' = 0.25,  #colors_dict$pastel$orange$dark,\n",
    "               'COX_ASCVD' = 0.25, \n",
    "               'COX_PANEL' = 0.25, \n",
    "               'DS_Age+Sex+Metabolomics' = 0.25,#colors_dict$pastel$orange$mid,\n",
    "               'DS_ASCVD+Metabolomics' = 0.25,#colors_dict$pastel$red$mid,\n",
    "               'DS_PANEL+Metabolomics' = 0.25, #colors_dict$pastel$red$dark\n",
    "                'DS_PANELnoblood+Metabolomics' = 0.25,\n",
    "              \"Treat All\" = 0.25,\n",
    "              \"Treat None\" = 0.25\n",
    "      )"
   ]
  },
  {
   "cell_type": "code",
   "execution_count": null,
   "metadata": {},
   "outputs": [],
   "source": [
    "library(foreach)"
   ]
  },
  {
   "cell_type": "code",
   "execution_count": null,
   "metadata": {},
   "outputs": [],
   "source": [
    "library(doParallel)"
   ]
  },
  {
   "cell_type": "code",
   "execution_count": null,
   "metadata": {},
   "outputs": [],
   "source": [
    "scores_dca = c(\"DS_Metabolomics\",\n",
    "    \"COX_Age+Sex\",\n",
    "    \"DS_Age+Sex+Metabolomics\" ,\n",
    "    \"COX_ASCVD\",\n",
    "    \"DS_ASCVD+Metabolomics\",\n",
    "    \"COX_PANEL\",\n",
    "    \"DS_PANEL+Metabolomics\",\n",
    "     \"DS_PANELjustbloodcount+Metabolomics\",          \n",
    "    \"DS_PANELnoblood+Metabolomics\"  \n",
    "              )"
   ]
  },
  {
   "cell_type": "code",
   "execution_count": null,
   "metadata": {},
   "outputs": [],
   "source": [
    "calculate_dca = function(endpoint){\n",
    "    dca_temp = predictions_tte %>% filter(endpoint==!!endpoint) %>% \n",
    "        mutate(score=glue(\"{module}_{features}\")) %>% \n",
    "        select(eid, score, Ft_10, event, event_time) %>% \n",
    "        filter(score %in% scores_dca) %>%\n",
    "        pivot_wider(names_from=\"score\", values_from=\"Ft_10\") %>% \n",
    "        distinct()\n",
    "    \n",
    "    print(glue(\"{endpoint} n={nrow(dca_temp)}\"))\n",
    "    flush.console()\n",
    "    \n",
    "    dca_endpoint = dca(\n",
    "        Surv(event_time, event) ~ DS_Metabolomics + `COX_Age+Sex` + `DS_Age+Sex+Metabolomics` + COX_ASCVD + `DS_ASCVD+Metabolomics` + COX_PANEL + `DS_PANEL+Metabolomics` + `DS_PANELjustbloodcount+Metabolomics` + `DS_PANELnoblood+Metabolomics`, \n",
    "        data = dca_temp,\n",
    "        time = 10,\n",
    "        thresholds = seq(0, 0.5, by=0.001)\n",
    "           )$dca\n",
    "    return(dca_endpoint %>% mutate(st_net_benefit = net_benefit/prevalence))\n",
    "}"
   ]
  },
  {
   "cell_type": "code",
   "execution_count": null,
   "metadata": {},
   "outputs": [],
   "source": [
    "registerDoParallel(length(endpoint_order))"
   ]
  },
  {
   "cell_type": "code",
   "execution_count": null,
   "metadata": {},
   "outputs": [],
   "source": [
    "library(dcurves)\n",
    "dca_data = foreach(key=endpoint_order, endpoint=endpoint_order) %dopar% {\n",
    "    calculate_dca(endpoint)\n",
    "}"
   ]
  },
  {
   "cell_type": "code",
   "execution_count": null,
   "metadata": {},
   "outputs": [],
   "source": [
    "names(dca_data) = endpoint_order\n",
    "for (endpoint in endpoint_order){\n",
    "    dca_data[[endpoint]][\"endpoint\"] = endpoint\n",
    "    }"
   ]
  },
  {
   "cell_type": "code",
   "execution_count": null,
   "metadata": {},
   "outputs": [],
   "source": [
    "dca_data_agg = bind_rows(dca_data) "
   ]
  },
  {
   "cell_type": "code",
   "execution_count": null,
   "metadata": {},
   "outputs": [],
   "source": [
    "base_size = 8\n",
    "title_size = 10\n",
    "facet_size = 10\n",
    "geom_text_size=3\n",
    "library(ggplot2); \n",
    "theme_set(theme_classic(base_size = base_size) + \n",
    "          theme(strip.background = element_blank(), plot.title=element_text(size=title_size, hjust=0), \n",
    "                strip.text.x = element_text(size = facet_size),axis.title=element_text(size=10), axis.text=element_text(size=8, color=\"black\"),\n",
    "                legend.position=\"bottom\", axis.line = element_line(size = 0.2), axis.ticks=element_line(size=0.2), panel.grid.major.y = element_line()))"
   ]
  },
  {
   "cell_type": "markdown",
   "metadata": {
    "tags": []
   },
   "source": [
    "## AgeSex + Metabolomics vs PANEL"
   ]
  },
  {
   "cell_type": "code",
   "execution_count": null,
   "metadata": {},
   "outputs": [],
   "source": [
    "endpoints_plot = c(\n",
    "         \"M_type_2_diabetes\", #s\n",
    "                  \"M_all_cause_dementia\", #s\n",
    "                  \"M_heart_failure\" #s\n",
    "\n",
    "scores_plot = c(\n",
    "    \"Treat All\", \n",
    "    \"Treat None\",\n",
    "    \"COX_Age+Sex\",\n",
    "    \"DS_Age+Sex+Metabolomics\",\n",
    "    \"DS_PANELnoblood+Metabolomics\",\n",
    "    \"COX_ASCVD\",\n",
    "    \"COX_PANEL\",\n",
    "    \"DS_PANEL+Metabolomics\"\n",
    ")"
   ]
  },
  {
   "cell_type": "code",
   "execution_count": null,
   "metadata": {},
   "outputs": [],
   "source": [
    "calibration_df = predictions_tte %>% \n",
    "    filter(endpoint %in% endpoints_plot) %>% \n",
    "    mutate(score = glue(\"{module}_{features}\")) %>% \n",
    "    filter(score %in% scores_plot) %>% \n",
    "    select(eid, endpoint, score, Ft_10, event, event_time) %>%\n",
    "    group_by(endpoint, score) %>% mutate(risk_group = ntile(Ft_10, 10), \n",
    "                                         event_10 = case_when(event == 0 ~ 0,\n",
    "                                                              ((event==1)&(event_time>10)) ~ 0,\n",
    "                                                              ((event==1)&(event_time<=10)) ~ 1\n",
    "                                                             )\n",
    "                                        ) %>% \n",
    "    group_by(endpoint, score, risk_group) %>% \n",
    "    mutate(mean_risk = mean(Ft_10), mean_events = mean(event_10)) %>%\n",
    "    mutate(endpoint = factor(endpoint, levels=endpoints_plot))"
   ]
  },
  {
   "cell_type": "code",
   "execution_count": null,
   "metadata": {},
   "outputs": [],
   "source": [
    "library(lemon)"
   ]
  },
  {
   "cell_type": "code",
   "execution_count": null,
   "metadata": {},
   "outputs": [],
   "source": [
    "plots_cal = c()\n",
    "for (endpoint in endpoints_plot){\n",
    "    temp = calibration_df %>% filter(as.character(endpoint) == !!endpoint)\n",
    "    endpoint_label = endpoint_map[[endpoint]]\n",
    "    plots_cal[[endpoint]] = \n",
    "        ggplot(temp, aes(x=mean_risk*100, y=mean_events*100, color=score, size=score, linetype=score)) + \n",
    "        geom_point() + \n",
    "        geom_line()+\n",
    "        labs(title=endpoint_label, x=\"Predicted Risk [%]\", y=\"Observed Event Rate [%]\") +\n",
    "        geom_abline(intercept=0, slope=1, color=\"red\", alpha=0.7)+    \n",
    "        scale_color_manual(values=color_map)+\n",
    "        scale_linetype_manual(values=type_map)+\n",
    "        scale_size_manual(values=size_map)+\n",
    "        coord_cartesian(xlim=c(0, NA, ylim=c(0, NA))+\n",
    "        theme(legend.position=\"none\", axis.title = element_text())\n",
    "    #print(plotsA[[endpoint]])\n",
    "    flush.console()\n",
    "    }"
   ]
  },
  {
   "cell_type": "raw",
   "metadata": {},
   "source": [
    "fig5_cal = wrap_plots(plots_cal, ncol=1)\n",
    "plot_width=8.25; plot_height=10; plot_dpi=320\n",
    "options(repr.plot.width = plot_width, repr.plot.height = plot_height, repr.plot.res=plot_dpi)\n",
    "fig5_cal"
   ]
  },
  {
   "cell_type": "code",
   "execution_count": null,
   "metadata": {},
   "outputs": [],
   "source": [
    "fig5_cal = wrap_plots(plots_cal, ncol=3)\n",
    "plot_width=8.25; plot_height=3.25; plot_dpi=320\n",
    "options(repr.plot.width = plot_width, repr.plot.height = plot_height, repr.plot.res=plot_dpi)\n",
    "fig5_cal"
   ]
  },
  {
   "cell_type": "code",
   "execution_count": null,
   "metadata": {},
   "outputs": [],
   "source": [
    "scores_plot = c(\n",
    "    \"Treat All\", \n",
    "    \"Treat None\",\n",
    "    \"COX_Age+Sex\",\n",
    "    \"DS_Age+Sex+Metabolomics\",\n",
    "    \"DS_PANELnoblood+Metabolomics\",\n",
    "    \"COX_ASCVD\",\n",
    "    \"COX_PANEL\"\n",
    ")\n",
    "\n",
    "plotsA = c()\n",
    "for (endpoint in endpoints_plot){\n",
    "    temp = dca_data[[endpoint]] %>% mutate(st_net_benefit = st_net_benefit*100) %>% mutate(st_net_benefit = case_when((label == \"COX_Age+Sex\")&is.na(st_net_benefit) ~ 0, TRUE ~ st_net_benefit))\n",
    "    if (min((temp %>% filter(label==\"DS_PANEL+Metabolomics\"))$st_net_benefit, na.rm=TRUE)>0){\n",
    "        threshold_max = (temp %>% filter(label==\"DS_PANEL+Metabolomics\") %>% slice_min(st_net_benefit))$threshold\n",
    "        }\n",
    "    else{\n",
    "        threshold_max = min((temp %>% filter(label==\"DS_PANEL+Metabolomics\") %>% filter(st_net_benefit<0))$threshold, na.rm=TRUE)\n",
    "        }\n",
    "    endpoint_label = endpoint_map[[endpoint]]\n",
    "        temp_plot = temp %>% filter(label %in% scores_plot)\n",
    "    temp_plot_wide = temp_plot %>%  select(threshold, label, st_net_benefit) %>% pivot_wider(names_from=\"label\", values_from=\"st_net_benefit\")\n",
    "    plotsA[[endpoint]] = \n",
    "        ggplot(temp_plot)+\n",
    "          labs(title=endpoint_label, x=\"Threshold Probability [%]\", y=\"Standardized Net Benefit [%]\")+\n",
    "          geom_line(data=temp_plot, mapping=aes(x=threshold, y=st_net_benefit, color=label, linetype=label, size=label)) + \n",
    "        geom_ribbon(data=temp_plot_wide, mapping=aes(x=threshold, ymin=`COX_Age+Sex`, ymax=`DS_Age+Sex+Metabolomics`), fill=colors_dict$pastel$green$mid, alpha=0.1, colour = NA)+\n",
    "        geom_ribbon(data=temp_plot_wide, mapping=aes(x=threshold, ymin=`DS_Age+Sex+Metabolomics`, ymax=`DS_PANELnoblood+Metabolomics`), fill=colors_dict$pastel$green$dark, alpha=0.2, colour = NA)+\n",
    "          coord_cartesian(xlim=c(0, threshold_max), ylim=c(0, max(temp$st_net_benefit, na.rm=TRUE)))+\n",
    "          scale_x_continuous(labels = function(x){x*100})+#labels = scales::percent_format(accuracy=1))+\n",
    "          scale_color_manual(values=color_map)+\n",
    "          scale_linetype_manual(values=type_map)+\n",
    "    scale_size_manual(values=size_map)+\n",
    "        theme(legend.position=\"none\")\n",
    "    #print(plotsA[[endpoint]])\n",
    "    flush.console()\n",
    "    }"
   ]
  },
  {
   "cell_type": "code",
   "execution_count": null,
   "metadata": {},
   "outputs": [],
   "source": [
    "scores_plot = c(\n",
    "    \"Treat All\", \n",
    "    \"Treat None\",\n",
    "      \"COX_Age+Sex\",\n",
    "      \"COX_ASCVD\",\n",
    "    \"COX_PANEL\",\n",
    "    \"DS_PANEL+Metabolomics\"\n",
    ")\n",
    "\n",
    "plotsB = c()\n",
    "for (endpoint in endpoints_plot){\n",
    "    temp = dca_data[[endpoint]] %>% mutate(st_net_benefit = st_net_benefit*100) \n",
    "    if (min((temp %>% filter(label==\"DS_PANEL+Metabolomics\"))$st_net_benefit, na.rm=TRUE)>0){\n",
    "        threshold_max = (temp %>% filter(label==\"DS_PANEL+Metabolomics\") %>% slice_min(st_net_benefit))$threshold\n",
    "        }\n",
    "    else{\n",
    "        threshold_max = min((temp %>% filter(label==\"DS_PANEL+Metabolomics\") %>% filter(st_net_benefit<0))$threshold, na.rm=TRUE)\n",
    "        }\n",
    "    endpoint_label = endpoint_map[[endpoint]]\n",
    "        temp_plot = temp %>% filter(label %in% scores_plot)\n",
    "    temp_plot_wide = temp_plot %>%  select(threshold, label, st_net_benefit) %>% pivot_wider(names_from=\"label\", values_from=\"st_net_benefit\")\n",
    "    plotsB[[endpoint]] = \n",
    "        ggplot(data=temp_plot) + \n",
    "             labs(title=endpoint_label, x=\"Threshold Probability [%]\", y=\"Standardized Net Benefit [%]\")+\n",
    "            geom_line(data=temp_plot, mapping=aes(x=threshold, y=st_net_benefit, color=label, linetype=label, size=label)) + \n",
    "            geom_ribbon(data=temp_plot_wide, mapping=aes(x=threshold, ymin=COX_PANEL, ymax=`DS_PANEL+Metabolomics`), fill=\"black\", alpha=0.1, colour = NA)+\n",
    "            coord_cartesian(xlim=c(0, threshold_max), ylim=c(0, max(temp$st_net_benefit, na.rm=TRUE)))+\n",
    "            scale_x_continuous(labels = function(x){x*100})+#scales::percent_format(accuracy=1))+\n",
    "            scale_color_manual(values=color_map)+\n",
    "            scale_linetype_manual(values=type_map)+\n",
    "            scale_size_manual(values=size_map)+\n",
    "            theme(legend.position=\"none\")\n",
    "    #print(plotsB[[endpoint]])\n",
    "    flush.console()\n",
    "    }"
   ]
  },
  {
   "cell_type": "code",
   "execution_count": null,
   "metadata": {},
   "outputs": [],
   "source": [
    "base_size = 8\n",
    "title_size = 10\n",
    "facet_size = 10\n",
    "geom_text_size=3\n",
    "library(ggplot2); \n",
    "theme_set(theme_classic(base_size = base_size) + \n",
    "          theme(strip.background = element_blank(), plot.title=element_text(size=title_size, hjust=0), \n",
    "                strip.text.x = element_text(size = facet_size),axis.title=element_text(size=10), axis.text=element_text(size=8, color=\"black\"),\n",
    "                legend.position=\"bottom\", axis.line = element_line(size = 0.2), axis.ticks=element_line(size=0.2), panel.grid.major.y = element_line()))"
   ]
  },
  {
   "cell_type": "code",
   "execution_count": null,
   "metadata": {},
   "outputs": [],
   "source": [
    "zip <- function(...) {\n",
    "  mapply(list, ..., SIMPLIFY = TRUE)\n",
    "}\n",
    "plots = c(plotsA, plotsB)\n",
    "fig5_dca = wrap_plots(plots, ncol=3)\n",
    "plot_width=8.25; plot_height=6.5; plot_dpi=320\n",
    "options(repr.plot.width = plot_width, repr.plot.height = plot_height, repr.plot.res=plot_dpi)\n",
    "fig5_dca"
   ]
  },
  {
   "cell_type": "code",
   "execution_count": null,
   "metadata": {},
   "outputs": [],
   "source": [
    "fig5 = (fig5_cal / fig5_dca) +  plot_layout(height = c(1, 2.5)) & theme(plot.title = element_text(hjust = 0.5))\n",
    "plot_width=8.25; plot_height=9; plot_dpi=320\n",
    "options(repr.plot.width = plot_width, repr.plot.height = plot_height, repr.plot.res=plot_dpi)\n",
    "fig5"
   ]
  },
  {
   "cell_type": "code",
   "execution_count": null,
   "metadata": {},
   "outputs": [],
   "source": [
    "library(gt)\n",
    "plot_name = \"Figures_5_ABC_ClinicalUtility\"\n",
    "fig5 %>% ggsave(filename=glue(\"outputs/{plot_name}.pdf\"), device=\"pdf\", width=plot_width, height=plot_height, dpi=plot_dpi)"
   ]
  },
  {
   "cell_type": "code",
   "execution_count": null,
   "metadata": {},
   "outputs": [],
   "source": [
    "library(gt)\n",
    "plot_name = \"Figures_5_ABC_ClinicalUtility\"\n",
    "fig5 %>% ggsave(filename=glue(\"outputs/{plot_name}.png\"), device=\"png\", width=plot_width, height=plot_height, dpi=plot_dpi)"
   ]
  }
 ],
 "metadata": {
  "hide_input": false,
  "kernelspec": {
   "display_name": "R [conda env:r_env]",
   "language": "R",
   "name": "conda-env-r_env-r"
  },
  "language_info": {
   "codemirror_mode": "r",
   "file_extension": ".r",
   "mimetype": "text/x-r-source",
   "name": "R",
   "pygments_lexer": "r",
   "version": "4.0.2"
  },
  "toc-autonumbering": false
 },
 "nbformat": 4,
 "nbformat_minor": 4
}
