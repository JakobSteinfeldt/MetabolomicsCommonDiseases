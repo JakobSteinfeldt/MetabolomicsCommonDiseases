{
 "cells": [
  {
   "cell_type": "markdown",
   "metadata": {},
   "source": [
    "## Initialize"
   ]
  },
  {
   "cell_type": "code",
   "execution_count": null,
   "metadata": {
    "ExecuteTime": {
     "end_time": "2021-01-05T11:03:09.852316Z",
     "start_time": "2021-01-05T11:03:07.701Z"
    }
   },
   "outputs": [],
   "source": [
    "#library(Rmisc)\n",
    "library(tidyverse)\n",
    "library(glue)\n",
    "library(arrow)\n",
    "library(patchwork)\n",
    "library(ggdist)\n",
    "library(ggtext)\n",
    "library(ggforestplot)\n",
    "library(cowplot)"
   ]
  },
  {
   "cell_type": "code",
   "execution_count": null,
   "metadata": {
    "ExecuteTime": {
     "end_time": "2021-01-05T11:03:10.932312Z",
     "start_time": "2021-01-05T11:03:10.882Z"
    }
   },
   "outputs": [],
   "source": [
    "if (grepl(\"sc\", Sys.info()[[\"nodename\"]], fixed=TRUE)) {\n",
    "    base_path = \"/sc-projects/sc-proj-ukb-cvd\"\n",
    "} else {\n",
    "    base_path = \"/data/analysis/ag-reils/ag-reils-shared/cardioRS\"}\n",
    "print(base_path)\n",
    "\n",
    "dataset_name = \"210714_metabolomics\"\n",
    "path = \"/data/analysis/ag-reils/steinfej/code/umbrella/pre/ukbb\"\n",
    "data_path = glue(\"{base_path}/data\")\n",
    "dataset_path = glue(\"{data_path}/3_datasets_post/{dataset_name}\")\n",
    "\n",
    "project_label=\"21_metabolomics_multitask\"\n",
    "project_path = glue(\"{base_path}/results/projects/{project_label}\")\n",
    "figures_path = glue(\"{project_path}/figures\")\n",
    "data_results_path = glue(\"{project_path}/data\")"
   ]
  },
  {
   "cell_type": "markdown",
   "metadata": {},
   "source": [
    "## Load data"
   ]
  },
  {
   "cell_type": "code",
   "execution_count": null,
   "metadata": {
    "ExecuteTime": {
     "end_time": "2021-01-05T11:03:12.470354Z",
     "start_time": "2021-01-05T11:03:11.387Z"
    }
   },
   "outputs": [],
   "source": [
    "list.dirs(path = project_path, full.names = TRUE, recursive = TRUE)"
   ]
  },
  {
   "cell_type": "code",
   "execution_count": null,
   "metadata": {},
   "outputs": [],
   "source": [
    "run = \"211007\""
   ]
  },
  {
   "cell_type": "code",
   "execution_count": null,
   "metadata": {
    "ExecuteTime": {
     "end_time": "2021-01-05T11:03:23.212936Z",
     "start_time": "2021-01-05T11:03:11.689Z"
    }
   },
   "outputs": [],
   "source": [
    "DSM = \"MultiTaskSurvivalTraining\"\n",
    "data = arrow::read_feather(glue(\"{dataset_path}/data_merged.feather\")) \n",
    "data_description = arrow::read_feather(glue(\"{dataset_path}/description_merged.feather\"))"
   ]
  },
  {
   "cell_type": "code",
   "execution_count": null,
   "metadata": {},
   "outputs": [],
   "source": [
    "library(ggalt)"
   ]
  },
  {
   "cell_type": "code",
   "execution_count": null,
   "metadata": {},
   "outputs": [],
   "source": [
    "library(\"jsonlite\")\n",
    "colors_path = \"colors.json\"\n",
    "colors_dict = read_json(colors_path)"
   ]
  },
  {
   "cell_type": "code",
   "execution_count": null,
   "metadata": {},
   "outputs": [],
   "source": [
    "color_map <- c(\"all\" = \"grey\", \"none\" = \"black\",\n",
    "          \n",
    "               \"SCORE_SCORE2\" = colors_dict$pastel$grey$light, \n",
    "               'SCORE_ASCVD' = colors_dict$pastel$grey$mid, \n",
    "    \n",
    "               \n",
    "               'COX_Age+Sex' = colors_dict$pastel$grey$light, \n",
    "               \n",
    "               'PCA_Metabolomics' = \"#4F8EC1\",\n",
    "               'COX_Metabolomics' = \"#4F8EC1\",\n",
    "               'DS_Metabolomics' = \"#4F8EC1\",  \n",
    "               \n",
    "                'COX_SCORE2' = colors_dict$pastel$grey$light, \n",
    "               'COX_ASCVD' = colors_dict$pastel$grey$light, \n",
    " \n",
    "               'COX_PANEL' = colors_dict$pastel$grey$light, \n",
    "  \n",
    "               'DS_Age+Sex+Metabolomics' = \"#53dd6c\",#colors_dict$pastel$orange$mid,\n",
    "               'DS_SCORE2+Metabolomics' = colors_dict$pastel$red$mid,\n",
    "               'DS_ASCVD+Metabolomics' = \"#d8315b\",#colors_dict$pastel$red$mid,\n",
    "\n",
    "               'DS_PANEL+Metabolomics' = \"#1e1b18\" #colors_dict$pastel$red$dark\n",
    "      )"
   ]
  },
  {
   "cell_type": "code",
   "execution_count": null,
   "metadata": {},
   "outputs": [],
   "source": [
    "scores_full = names(color_map)"
   ]
  },
  {
   "cell_type": "code",
   "execution_count": null,
   "metadata": {},
   "outputs": [],
   "source": [
    "name = glue(\"benchmark1000_cindex_subgroups_220106\")\n",
    "benchmark_cindex_sg = read_feather(glue(\"{data_results_path}/{name}.feather\"))  %>% distinct() %>% unite(\"score\", c(module, features), remove=FALSE) %>%  distinct()"
   ]
  },
  {
   "cell_type": "code",
   "execution_count": null,
   "metadata": {},
   "outputs": [],
   "source": [
    "base_size = 8\n",
    "title_size = 8\n",
    "facet_size = 8\n",
    "geom_text_size=3\n",
    "library(ggplot2); \n",
    "theme_set(theme_classic(base_size = base_size) + \n",
    "          theme(strip.background = element_blank(), plot.title=element_text(size=title_size, hjust=0), \n",
    "                strip.text.x = element_text(size = facet_size),axis.title=element_text(size=8), axis.text=element_text(size=8, color=\"black\"), axis.text.x=element_text(size=8, color=\"black\"),\n",
    "                legend.position=\"bottom\", axis.line = element_line(size = 0.2), axis.ticks=element_line(size=0.2)))"
   ]
  },
  {
   "cell_type": "code",
   "execution_count": null,
   "metadata": {},
   "outputs": [],
   "source": [
    "library(ggthemes)\n",
    "endpoint_map = c(\n",
    "    'M_MACE'='MACE',\n",
    "    'M_all_cause_dementia'='Dementia',\n",
    "    'M_type_2_diabetes'='T2 Diabetes',\n",
    "    'M_liver_disease'='Liver Disease',\n",
    "    'M_renal_disease'='Renal Disease',\n",
    "    'M_atrial_fibrillation'='Atrial Fibrillation',\n",
    "    'M_heart_failure'= 'Heart Failure',\n",
    "    'M_coronary_heart_disease'='CHD',\n",
    "    'M_venous_thrombosis'='Ven. Thrombosis',\n",
    "    'M_cerebral_stroke'='Cerebral Stroke',\n",
    "    'M_abdominal_aortic_aneurysm'='AAA',\n",
    "    'M_peripheral_arterial_disease'='PAD',\n",
    "    \"M_chronic_obstructuve_pulmonary_disease\" = \"COPD\",\n",
    "    \"M_asthma\" = \"Asthma\",\n",
    "    'M_parkinsons_disease' = \"Parkinson's\",    \n",
    "    \"M_lung_cancer\" = \"Lung Cancer\",\n",
    "    \"M_non_melanoma_skin_cancer\" = \"Skin Cancer\",\n",
    "    \"M_colon_cancer\"= \"Colon Cancer\",\n",
    "    \"M_rectal_cancer\" = \"Rectal Cancer\",\n",
    "    \"M_prostate_cancer\"= \"Prostate Cancer\",\n",
    "    \"M_breast_cancer\" = \"Breast Cancer\",\n",
    "    'M_cataracts' = \"Cataracts\", \n",
    "    'M_glaucoma' = \"Glaucoma\",\n",
    "    'M_fractures' = \"Fractures\"\n",
    ")\n",
    "\n",
    "endpoint_order = c(\"M_MACE\", \"M_coronary_heart_disease\", \"M_cerebral_stroke\", \"M_all_cause_dementia\", \"M_heart_failure\", \"M_atrial_fibrillation\",\n",
    "                   \"M_type_2_diabetes\", \"M_liver_disease\", \"M_renal_disease\", \"M_peripheral_arterial_disease\", \"M_venous_thrombosis\",  \"M_abdominal_aortic_aneurysm\",\n",
    "                   \"M_chronic_obstructuve_pulmonary_disease\", \"M_asthma\", 'M_parkinsons_disease', 'M_cataracts', 'M_glaucoma', 'M_fractures',\n",
    "                    \"M_lung_cancer\",\"M_non_melanoma_skin_cancer\",\"M_colon_cancer\",\"M_rectal_cancer\",\"M_prostate_cancer\",\"M_breast_cancer\"\n",
    "                   \n",
    ")"
   ]
  },
  {
   "cell_type": "code",
   "execution_count": null,
   "metadata": {},
   "outputs": [],
   "source": [
    "eids_included = c()\n",
    "for (endpoint in endpoint_order){\n",
    "    data_temp = data %>% filter(NMR_FLAG==TRUE)\n",
    "    endpoint_label = glue(\"{endpoint}\")\n",
    "    eids = (data_temp %>% filter(!!sym(endpoint_label)==0))$eid\n",
    "    if (endpoint==\"M_MACE\"){eids = (data_temp %>% filter(!!sym(endpoint_label)==0&statins==0))$eid} \n",
    "    if (endpoint==\"M_breast_cancer\"){eids = (data_temp %>% filter(!!sym(endpoint_label)==0&sex==\"Female\"))$eid} \n",
    "    if (endpoint==\"M_prostate_cancer\"){eids = (data_temp %>% filter(!!sym(endpoint_label)==0&sex==\"Male\"))$eid} \n",
    "    eids_included[[endpoint]] = eids\n",
    "\n",
    "    }"
   ]
  },
  {
   "cell_type": "code",
   "execution_count": null,
   "metadata": {},
   "outputs": [],
   "source": [
    "em_wrap = endpoint_map\n",
    "em_wrap[names(endpoint_map)] <- str_wrap(unname(endpoint_map), 20)\n",
    "em_wrap"
   ]
  },
  {
   "cell_type": "code",
   "execution_count": null,
   "metadata": {},
   "outputs": [],
   "source": [
    "options(repr.plot.width = 8, repr.plot.height = 8)\n",
    "library(ggbeeswarm)\n",
    "scores_plot = names(color_map)\n",
    "\n",
    "temp = benchmark_cindex_sg %>% \n",
    "    mutate_at(vars(score), list(~ factor(., levels=scores_full))) %>% filter(score==score) %>% filter(score %in% scores_plot)\n",
    "temp_wide = temp %>% select(-module, -features) %>% pivot_wider(names_from=\"score\", values_from=\"cindex\") %>% mutate(delta=`DS_Metabolomics`-`COX_Age+Sex`)\n",
    "temp_desc = temp %>% group_by(endpoint, score) %>% summarise(mean=median(cindex, na.rm=TRUE), max = max(cindex), .groups=\"drop\")\n",
    "temp_desc = temp_desc %>% select(-max) %>% pivot_wider(names_from=\"score\", values_from=\"mean\") %>% mutate(delta=`DS_Metabolomics`-`COX_Age+Sex`) %>% mutate(endpoint=fct_reorder(endpoint, desc(delta)))\n",
    "endpoint_order_desc = levels(temp_desc$endpoint)"
   ]
  },
  {
   "cell_type": "code",
   "execution_count": null,
   "metadata": {},
   "outputs": [],
   "source": [
    "scores_map = c(\n",
    "    \"DS_Metabolomics\" = \"MET\",\n",
    "    \"COX_Age+Sex\" = \"AgeSex\",\n",
    "    \"DS_Age+Sex+Metabolomics\" = \"AgeSex+MET\",\n",
    "    \"COX_ASCVD\" = \"ASCVD\",\n",
    "    \"DS_ASCVD+Metabolomics\" = \"ASCVD+MET\",\n",
    "    \"COX_PANEL\" = \"PANEL\", \n",
    "    \"DS_PANEL+Metabolomics\" = \"PANEL+MET\"\n",
    "               )"
   ]
  },
  {
   "cell_type": "markdown",
   "metadata": {},
   "source": [
    "## Figure 3 - Performance in Context"
   ]
  },
  {
   "cell_type": "code",
   "execution_count": null,
   "metadata": {},
   "outputs": [],
   "source": [
    "library(scales)"
   ]
  },
  {
   "cell_type": "code",
   "execution_count": null,
   "metadata": {},
   "outputs": [],
   "source": [
    "plot_width=8.25; plot_height=5.5; plot_dpi=320\n",
    "options(repr.plot.width = plot_width, repr.plot.height = plot_height, repr.plot.res=plot_dpi)\n",
    "\n",
    "scores_plot = c(\n",
    "    \"DS_Metabolomics\",\n",
    "    \"COX_Age+Sex\",\n",
    "    \"DS_Age+Sex+Metabolomics\",\n",
    "    \"COX_ASCVD\",\n",
    "    \"DS_ASCVD+Metabolomics\",\n",
    "    \"COX_PANEL\", \n",
    "    \"DS_PANEL+Metabolomics\"\n",
    "               )\n",
    "\n",
    "endpoint_order = c(\"M_MACE\", \"M_coronary_heart_disease\", \"M_cerebral_stroke\", \"M_all_cause_dementia\", \"M_heart_failure\", \"M_atrial_fibrillation\",\n",
    "                   \"M_type_2_diabetes\", \"M_liver_disease\", \"M_renal_disease\", \"M_peripheral_arterial_disease\", \"M_venous_thrombosis\",  \"M_abdominal_aortic_aneurysm\",\n",
    "                   \"M_chronic_obstructuve_pulmonary_disease\", \"M_asthma\", 'M_parkinsons_disease', 'M_cataracts', 'M_glaucoma', 'M_fractures',\n",
    "                    \"M_lung_cancer\",\"M_non_melanoma_skin_cancer\",\"M_colon_cancer\",\"M_rectal_cancer\",\"M_prostate_cancer\",\"M_breast_cancer\"     \n",
    ")"
   ]
  },
  {
   "cell_type": "code",
   "execution_count": null,
   "metadata": {},
   "outputs": [],
   "source": [
    "library(tidybayes)"
   ]
  },
  {
   "cell_type": "code",
   "execution_count": null,
   "metadata": {},
   "outputs": [],
   "source": [
    "## check that cohort sums up!\n",
    "temp %>% group_by(endpoint, score, group, iteration) %>% summarise(sum(len_sg)) %>% filter(iteration==0) %>% ungroup() %>% sample_n(3)"
   ]
  },
  {
   "cell_type": "code",
   "execution_count": null,
   "metadata": {},
   "outputs": [],
   "source": [
    "group_map = c(\n",
    "    \"age\"=\"Age\",\n",
    "    \"sex\"=\"Biological\\nSex\",\n",
    "    \"ethnic_background\"=\"Ethnic\\nBackground\")"
   ]
  },
  {
   "cell_type": "code",
   "execution_count": null,
   "metadata": {},
   "outputs": [],
   "source": [
    "endpoint_order %>% head(12)"
   ]
  },
  {
   "cell_type": "markdown",
   "metadata": {},
   "source": [
    "## Get Subgroup information"
   ]
  },
  {
   "cell_type": "code",
   "execution_count": null,
   "metadata": {},
   "outputs": [],
   "source": [
    "data_prev = data %>% select(eid, all_of(endpoint_order)) %>% pivot_longer(all_of(endpoint_order), names_to=\"endpoint\", values_to=\"prev\")"
   ]
  },
  {
   "cell_type": "code",
   "execution_count": null,
   "metadata": {},
   "outputs": [],
   "source": [
    "data_event = data %>% select(eid, ends_with(\"_event\")) %>% pivot_longer(ends_with(\"_event\"), names_to=\"endpoint\", values_to=\"event\") %>% mutate(endpoint = str_replace_all(endpoint, \"_event\", \"\"))\n",
    "data_event_time = data %>% select(eid, ends_with(\"_event_time\")) %>% pivot_longer(ends_with(\"_event_time\"), names_to=\"endpoint\", values_to=\"event_time\") %>% mutate(endpoint = str_replace_all(endpoint, \"_event_time\", \"\"))"
   ]
  },
  {
   "cell_type": "code",
   "execution_count": null,
   "metadata": {},
   "outputs": [],
   "source": [
    "data_n_event = data_event %>% left_join(data_prev, by=c(\"eid\", \"endpoint\")) %>% left_join(data_event_time, by=c(\"eid\", \"endpoint\")) %>% \n",
    "    mutate(event_10 = case_when(event==0 ~ 0, event==1&event_time>10 ~ 0, event==1&event_time<=10 ~1)) %>% \n",
    "    select(eid, endpoint, prev, event_10) %>% filter(endpoint %in% endpoint_order)"
   ]
  },
  {
   "cell_type": "code",
   "execution_count": null,
   "metadata": {},
   "outputs": [],
   "source": [
    "data_sgs = data %>% filter(NMR_FLAG==TRUE) %>% \n",
    "    mutate(age=case_when(age_at_recruitment<50 ~ \"<50\", age_at_recruitment>=50&age_at_recruitment<=60 ~ \"50-60\", age_at_recruitment>60 ~ \">60\")) %>% \n",
    "    select(eid, age, sex, ethnic_background) %>%\n",
    "    left_join(data_n_event, by=\"eid\") %>% pivot_longer(c(age, sex, ethnic_background), names_to=\"group\", values_to=\"subgroup\") "
   ]
  },
  {
   "cell_type": "code",
   "execution_count": null,
   "metadata": {},
   "outputs": [],
   "source": [
    "data_sgs_included = c()\n",
    "for (endpoint in endpoint_order){\n",
    "    eids_endpoint = eids_included[[endpoint]]\n",
    "    data_sgs_included[[endpoint]] = data_sgs %>% filter(endpoint==!!endpoint) %>% filter(eid %in% eids_endpoint) %>% ungroup()\n",
    "    }\n",
    "data_sgs_included = bind_rows(data_sgs_included)"
   ]
  },
  {
   "cell_type": "code",
   "execution_count": null,
   "metadata": {},
   "outputs": [],
   "source": [
    "data_sgs_agg = data_sgs %>% group_by(endpoint, group, subgroup) %>% summarise(len_sg=n(), events_sg=sum(event_10)) %>% ungroup() %>% mutate(label = glue(\"n={events_sg}/{len_sg}\")) %>%\n",
    "    mutate(endpoint = factor(endpoint, levels=endpoint_order)) %>%\n",
    "    mutate(group = factor(group, levels=c('age','sex','ethnic_background'))) %>%\n",
    "    mutate(subgroup = factor(subgroup, levels=c('Female', 'Male', '<50', '50-60', '>60', 'White', 'Asian', 'Black', 'Mixed', 'Chinese'))) %>% filter(!is.na(subgroup))\n",
    "data_sgs_agg "
   ]
  },
  {
   "cell_type": "code",
   "execution_count": null,
   "metadata": {},
   "outputs": [],
   "source": [
    "temp = benchmark_cindex_sg %>% \n",
    "   mutate_at(vars(score), list(~ factor(., levels=scores_plot))) %>% filter(score==score) %>% filter(score %in% scores_plot) %>% \n",
    "    mutate(endpoint = factor(endpoint, levels=endpoint_order)) %>%\n",
    "    mutate(group = factor(group, levels=c('age','sex','ethnic_background'))) %>%\n",
    "    mutate(subgroup = factor(subgroup, levels=c('Female', 'Male', '<50', '50-60', '>60', 'White', 'Asian', 'Black', 'Mixed', 'Chinese'))) %>% \n",
    "    left_join(data_sgs_agg, on=c(endpoint, group, subgroup)) %>%\n",
    "    filter(events_sg>=100)"
   ]
  },
  {
   "cell_type": "code",
   "execution_count": null,
   "metadata": {},
   "outputs": [],
   "source": [
    "plot_width=10; plot_height=25; plot_dpi=320\n",
    "options(repr.plot.width = plot_width, repr.plot.height = plot_height, repr.plot.res=plot_dpi)\n",
    "\n",
    "temp_1 = temp %>% filter(endpoint %in% (endpoint_order %>% head(12)))\n",
    "temp_labels = temp_1 %>% filter(score==\"DS_PANEL+Metabolomics\") %>% group_by(endpoint, group, subgroup, events_sg, len_sg, label) %>% summarise(median_cindex = median(cindex))\n",
    "\n",
    "met_1 = ggplot(temp_1, aes(x=score)) +\n",
    "    labs(x=NULL, y=\"C-Index\")+\n",
    "    geom_label(data=temp_labels, mapping=aes(label=glue(\"{events_sg}/{len_sg}\"), x=4, y=Inf), hjust=0.5, vjust=1, size=2.5, fill=\"grey90\", alpha=0.7)+\n",
    "    geom_violin(mapping = aes(y=cindex, color=score, fill=score), alpha=0.7)+\n",
    "\n",
    "    scale_x_discrete(labels=scores_map)+\n",
    "    scale_y_continuous(breaks=scales::extended_breaks())+\n",
    "    scale_color_manual(values=color_map)+scale_fill_manual(values=color_map)+ \n",
    "    facet_grid(endpoint~group+subgroup, scales=\"free_y\", labeller = labeller(endpoint = endpoint_map, group=group_map), switch=\"y\", drop=TRUE) +\n",
    "    theme(\n",
    "        legend.position=\"none\",\n",
    "        axis.text.x = element_text(angle =90, hjust = 1, vjust=0.5),\n",
    "        panel.spacing = unit(0.8, \"lines\"), \n",
    "        panel.grid.major = element_line(colour = \"grey50\", size=0.1),\n",
    "        strip.text = element_text(size = 10),\n",
    "    strip.placement = \"outside\")\n",
    "\n",
    "met_1"
   ]
  },
  {
   "cell_type": "code",
   "execution_count": null,
   "metadata": {},
   "outputs": [],
   "source": [
    "plot_width=10; plot_height=25; plot_dpi=320\n",
    "options(repr.plot.width = plot_width, repr.plot.height = plot_height, repr.plot.res=plot_dpi)\n",
    "\n",
    "temp_2 = temp %>% filter(endpoint %in% (endpoint_order %>% tail(12)))\n",
    "temp_labels = temp_2 %>% filter(score==\"DS_PANEL+Metabolomics\") %>% group_by(endpoint, group, subgroup, events_sg, len_sg, label) %>% summarise(median_cindex = median(cindex))\n",
    "\n",
    "met_2 = ggplot(temp_2, aes(x=score)) +\n",
    "    labs(x=NULL, y=\"C-Index\")+#, title=\"Metabolomics (orange) vs. Age+Sex (grey) vs. AgeSexMetabolomic (red)\")+\n",
    "    geom_label(data=temp_labels, mapping=aes(label=glue(\"{events_sg}/{len_sg}\"), x=4, y=Inf), hjust=0.5, vjust=1, size=2.5, fill=\"grey90\", alpha=0.7)+\n",
    "    geom_violin(mapping = aes(y=cindex, color=score, fill=score), alpha=0.7)+\n",
    "\n",
    "    scale_x_discrete(labels=scores_map)+\n",
    "    scale_y_continuous(breaks=scales::extended_breaks())+\n",
    "    \n",
    "    scale_color_manual(values=color_map)+scale_fill_manual(values=color_map)+\n",
    "    #coord_flip() + \n",
    "    facet_grid(endpoint~group+subgroup, scales=\"free_y\", labeller = labeller(endpoint = endpoint_map, group=group_map), switch=\"y\", drop=TRUE) +\n",
    "    theme(\n",
    "        legend.position=\"none\",\n",
    "        axis.text.x = element_text(angle =90, hjust = 1, vjust=0.5),\n",
    "        panel.spacing = unit(0.8, \"lines\"), \n",
    "        panel.grid.major = element_line(colour = \"grey50\", size=0.1),\n",
    "        strip.text = element_text(size = 10),\n",
    "    strip.placement = \"outside\")#, axis.text.x = element_text(size=5.5, hjust=0.5))\n",
    "\n",
    "met_2"
   ]
  },
  {
   "cell_type": "code",
   "execution_count": null,
   "metadata": {},
   "outputs": [],
   "source": [
    "plot_width=15; plot_height=20; plot_dpi=320\n",
    "options(repr.plot.width = plot_width, repr.plot.height = plot_height, repr.plot.res=plot_dpi)\n",
    "fig_sgs = met_1|met_2\n",
    "fig_sgs"
   ]
  },
  {
   "cell_type": "code",
   "execution_count": null,
   "metadata": {},
   "outputs": [],
   "source": [
    "library(gt)\n",
    "plot_name = \"Suppl_Figures_5_SubgroupPerformance\"\n",
    "fig_sgs %>% ggsave(filename=glue(\"/home/steinfej/code/21_metabolomics_analysis/Round1/Figures/outputs/{plot_name}.pdf\"), device=\"pdf\", width=plot_width, height=plot_height, dpi=plot_dpi)"
   ]
  }
 ],
 "metadata": {
  "hide_input": false,
  "kernelspec": {
   "display_name": "R [conda env:r_env]",
   "language": "R",
   "name": "conda-env-r_env-r"
  },
  "language_info": {
   "codemirror_mode": "r",
   "file_extension": ".r",
   "mimetype": "text/x-r-source",
   "name": "R",
   "pygments_lexer": "r",
   "version": "4.0.2"
  },
  "toc-autonumbering": false
 },
 "nbformat": 4,
 "nbformat_minor": 4
}
