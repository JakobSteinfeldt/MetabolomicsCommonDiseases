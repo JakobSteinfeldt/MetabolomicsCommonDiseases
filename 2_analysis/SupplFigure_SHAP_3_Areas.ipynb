{
 "cells": [
  {
   "cell_type": "markdown",
   "metadata": {},
   "source": [
    "## Initialize"
   ]
  },
  {
   "cell_type": "code",
   "execution_count": null,
   "metadata": {
    "ExecuteTime": {
     "end_time": "2021-01-05T11:03:09.852316Z",
     "start_time": "2021-01-05T11:03:07.701Z"
    },
    "tags": []
   },
   "outputs": [],
   "source": [
    "#library(Rmisc)\n",
    "library(tidyverse)\n",
    "library(glue)\n",
    "library(arrow)\n",
    "library(patchwork)"
   ]
  },
  {
   "cell_type": "code",
   "execution_count": null,
   "metadata": {
    "ExecuteTime": {
     "end_time": "2021-01-05T11:03:10.932312Z",
     "start_time": "2021-01-05T11:03:10.882Z"
    },
    "tags": []
   },
   "outputs": [],
   "source": [
    "if (grepl(\"sc\", Sys.info()[[\"nodename\"]], fixed=TRUE)) {\n",
    "    base_path = \"/sc-projects/sc-proj-ukb-cvd\"\n",
    "} else {\n",
    "    base_path = \"/data/analysis/ag-reils/ag-reils-shared/cardioRS\"}\n",
    "print(base_path)\n",
    "\n",
    "dataset_name = \"210714_metabolomics\"\n",
    "path = \"/data/analysis/ag-reils/steinfej/code/umbrella/pre/ukbb\"\n",
    "data_path = glue(\"{base_path}/data\")\n",
    "dataset_path = glue(\"{data_path}/3_datasets_post/{dataset_name}\")\n",
    "\n",
    "project_label=\"21_metabolomics_multitask\"\n",
    "project_path = glue(\"{base_path}/results/projects/{project_label}\")\n",
    "figures_path = glue(\"{project_path}/figures\")\n",
    "data_results_path = glue(\"{project_path}/data\")"
   ]
  },
  {
   "cell_type": "code",
   "execution_count": null,
   "metadata": {
    "tags": []
   },
   "outputs": [],
   "source": [
    "data_results_path"
   ]
  },
  {
   "cell_type": "markdown",
   "metadata": {},
   "source": [
    "## Load data"
   ]
  },
  {
   "cell_type": "code",
   "execution_count": null,
   "metadata": {
    "ExecuteTime": {
     "end_time": "2021-01-05T11:03:12.470354Z",
     "start_time": "2021-01-05T11:03:11.387Z"
    },
    "tags": []
   },
   "outputs": [],
   "source": [
    "list.dirs(path = project_path, full.names = TRUE, recursive = TRUE)"
   ]
  },
  {
   "cell_type": "code",
   "execution_count": null,
   "metadata": {
    "ExecuteTime": {
     "end_time": "2021-01-05T11:03:23.212936Z",
     "start_time": "2021-01-05T11:03:11.689Z"
    },
    "tags": []
   },
   "outputs": [],
   "source": [
    "run = \"211007\"\n",
    "data = arrow::read_feather(glue(\"{dataset_path}/data_merged.feather\")) \n",
    "data_description = arrow::read_feather(glue(\"{dataset_path}/description_merged.feather\"))\n",
    "\n",
    "predictions = arrow::read_feather(glue(\"{data_results_path}/predictions_{run}_metabolomics.feather\")) \n",
    "loghazards = arrow::read_feather(glue(\"{data_results_path}/loghazards_model_{run}_metabolomics.feather\")) %>% pivot_longer(starts_with(\"logh\"), names_to=c(\"endpoint\", \"features\"), values_to=\"logh\", names_pattern=\"logh_?(.*)_(.*)$\")"
   ]
  },
  {
   "cell_type": "code",
   "execution_count": null,
   "metadata": {
    "tags": []
   },
   "outputs": [],
   "source": [
    "colnames(predictions)"
   ]
  },
  {
   "cell_type": "code",
   "execution_count": null,
   "metadata": {
    "tags": []
   },
   "outputs": [],
   "source": []
  },
  {
   "cell_type": "markdown",
   "metadata": {},
   "source": [
    "## Attributions by correlation"
   ]
  },
  {
   "cell_type": "code",
   "execution_count": null,
   "metadata": {
    "tags": []
   },
   "outputs": [],
   "source": [
    "library(ggforestplot)"
   ]
  },
  {
   "cell_type": "code",
   "execution_count": null,
   "metadata": {
    "tags": []
   },
   "outputs": [],
   "source": [
    "# Deepexplainer\n",
    "attributions_de = arrow::read_feather(glue(\"{data_results_path}/attributions_211026.feather\")) %>% mutate(explainer=\"DeepExplainer\")"
   ]
  },
  {
   "cell_type": "code",
   "execution_count": null,
   "metadata": {
    "tags": []
   },
   "outputs": [],
   "source": [
    "attributions = attributions_de#bind_rows(attributions_de, attributions_ke)"
   ]
  },
  {
   "cell_type": "markdown",
   "metadata": {},
   "source": [
    "## Attributions by shap"
   ]
  },
  {
   "cell_type": "code",
   "execution_count": null,
   "metadata": {
    "tags": []
   },
   "outputs": [],
   "source": [
    "library(\"ggbeeswarm\")"
   ]
  },
  {
   "cell_type": "code",
   "execution_count": null,
   "metadata": {
    "tags": []
   },
   "outputs": [],
   "source": [
    "library(ggthemes)\n",
    "endpoint_map = c(\n",
    "    'M_MACE'='MACE',\n",
    "    'M_all_cause_dementia'='Dementia',\n",
    "    'M_type_2_diabetes'='T2 Diabetes',\n",
    "    'M_liver_disease'='Liver Disease',\n",
    "    'M_renal_disease'='Renal Disease',\n",
    "    'M_atrial_fibrillation'='Atrial Fibrillation',\n",
    "    'M_heart_failure'= 'Heart Failure',\n",
    "    'M_coronary_heart_disease'='CHD',\n",
    "    'M_venous_thrombosis'='Ven. Thrombosis',\n",
    "    'M_cerebral_stroke'='Cerebral Stroke',\n",
    "    'M_abdominal_aortic_aneurysm'='AAA',\n",
    "    'M_peripheral_arterial_disease'='PAD',\n",
    "    \"M_chronic_obstructuve_pulmonary_disease\" = \"COPD\",\n",
    "    \"M_asthma\" = \"Asthma\",\n",
    "    'M_parkinsons_disease' = \"Parkinson's\",    \n",
    "    \"M_lung_cancer\" = \"Lung Cancer\",\n",
    "    \"M_non_melanoma_skin_cancer\" = \"Skin Cancer\",\n",
    "    \"M_colon_cancer\"= \"Colon Cancer\",\n",
    "    \"M_rectal_cancer\" = \"Rectal Cancer\",\n",
    "    \"M_prostate_cancer\"= \"Prostate Cancer\",\n",
    "    \"M_breast_cancer\" = \"Breast Cancer\",\n",
    "    'M_cataracts' = \"Cataracts\", \n",
    "    'M_glaucoma' = \"Glaucoma\",\n",
    "    'M_fractures' = \"Fractures\"\n",
    ")\n",
    "\n",
    "endpoint_order = c(\"M_MACE\", \"M_coronary_heart_disease\", \"M_cerebral_stroke\", \"M_all_cause_dementia\", \"M_heart_failure\", \"M_atrial_fibrillation\",\n",
    "                   \"M_type_2_diabetes\", \"M_liver_disease\", \"M_renal_disease\", \"M_peripheral_arterial_disease\", \"M_venous_thrombosis\",  \"M_abdominal_aortic_aneurysm\",\n",
    "                   \"M_chronic_obstructuve_pulmonary_disease\", \"M_asthma\", 'M_parkinsons_disease', 'M_cataracts', 'M_glaucoma', 'M_fractures',\n",
    "                    \"M_lung_cancer\",\"M_non_melanoma_skin_cancer\",\"M_colon_cancer\",\"M_rectal_cancer\",\"M_prostate_cancer\",\"M_breast_cancer\"\n",
    "                   \n",
    ")"
   ]
  },
  {
   "cell_type": "code",
   "execution_count": null,
   "metadata": {
    "tags": []
   },
   "outputs": [],
   "source": [
    "library(ggforestplot)\n",
    "ng_names = df_NG_biomarker_metadata %>% mutate(metabolite = str_replace_all(tolower(description), \" \", \"_\"))\n",
    "ng_names %>% sample_n(10)"
   ]
  },
  {
   "cell_type": "code",
   "execution_count": null,
   "metadata": {
    "tags": []
   },
   "outputs": [],
   "source": [
    "ng_names %>% select(group, subgroup) %>% distinct() %>% arrange(group, subgroup)"
   ]
  },
  {
   "cell_type": "code",
   "execution_count": null,
   "metadata": {
    "tags": []
   },
   "outputs": [],
   "source": [
    "library(fuzzyjoin)"
   ]
  },
  {
   "cell_type": "code",
   "execution_count": null,
   "metadata": {},
   "outputs": [],
   "source": [
    "subgroup_order = c( 'Amino acids',\n",
    "                    'Branched-chain amino acids',\n",
    "                   'Aromatic amino acids',\n",
    "                   'Fluid balance',\n",
    "                   'Inflammation',\n",
    "                    'Fatty acids',\n",
    "                    'Glycolysis related metabolites',\n",
    "                    'Ketone bodies',\n",
    "         \n",
    "                   'Total lipids',\n",
    "                    'Cholesterol',\n",
    "                    'Free cholesterol',\n",
    "                   'Cholesteryl esters',\n",
    "                   'Phospholipids',\n",
    "                   'Triglycerides',\n",
    "                   'Other lipids',\n",
    "                   \n",
    "                    'Lipoprotein particle sizes',\n",
    "                    'Lipoprotein particle concentrations',\n",
    "                    'Chylomicrons and extremely large VLDL',\n",
    "                   'Very large VLDL',\n",
    "                   'Large VLDL',\n",
    "                   'Medium VLDL',\n",
    "                   'Small VLDL',\n",
    "                   'Very small VLDL',\n",
    "              \n",
    "                   'Large LDL',\n",
    "                   'Medium LDL',\n",
    "                   'Small LDL',\n",
    "                    'IDL',\n",
    "                   'Very large HDL',\n",
    "                   'Large HDL',\n",
    "                   'Medium HDL',\n",
    "                   'Small HDL',\n",
    "                   'Apolipoproteins'\n",
    "                  )"
   ]
  },
  {
   "cell_type": "code",
   "execution_count": null,
   "metadata": {
    "tags": []
   },
   "outputs": [],
   "source": [
    "mets1 = attributions %>% select(metabolite) %>% distinct() %>% left_join(ng_names, by = \"metabolite\")\n",
    "mets2 = mets1 %>% filter(is.na(name)) %>% select(metabolite) %>% stringdist_left_join(ng_names, by = \"metabolite\", max_dist = 1) %>% \n",
    "    rename(metabolite = metabolite.x) %>% select(-metabolite.y) %>% distinct()\n",
    "mets3 = mets2 %>% filter(is.na(name)) %>% select(metabolite) %>% stringdist_left_join(ng_names, by = \"metabolite\", max_dist = 8) %>% \n",
    "    rename(metabolite = metabolite.x) %>% select(-metabolite.y) %>% distinct() \n",
    "mets = bind_rows(mets1 %>% filter(!is.na(name)), mets2 %>% filter(!is.na(name)), mets3) %>% mutate(subgroup = factor(subgroup, levels=subgroup_order)) %>% arrange(subgroup, abbreviation)\n",
    "abbreviation_order = mets$abbreviation\n",
    "metabolite_order = mets$metabolite\n",
    "mets %>% sample_n(5)"
   ]
  },
  {
   "cell_type": "code",
   "execution_count": null,
   "metadata": {
    "tags": []
   },
   "outputs": [],
   "source": [
    "attributions_metadata = attributions %>% left_join(mets %>% select(metabolite, abbreviation, group, subgroup), by=\"metabolite\") %>% mutate(eid=as.integer(as.character(eid)))"
   ]
  },
  {
   "cell_type": "code",
   "execution_count": null,
   "metadata": {
    "tags": []
   },
   "outputs": [],
   "source": [
    "library(gghighlight)"
   ]
  },
  {
   "cell_type": "markdown",
   "metadata": {},
   "source": [
    "## Global attributions"
   ]
  },
  {
   "cell_type": "code",
   "execution_count": null,
   "metadata": {
    "tags": []
   },
   "outputs": [],
   "source": [
    "attrib_raw = arrow::read_feather(glue(\"{data_results_path}/REVISION_220110_attrib_raw.feather\"))"
   ]
  },
  {
   "cell_type": "code",
   "execution_count": null,
   "metadata": {
    "tags": []
   },
   "outputs": [],
   "source": [
    "attrib_sample = attrib_raw %>% group_by(endpoint, metabolite, explainer) %>% \n",
    "    mutate(shap_quantile=ntile(shap, 100), met_quantile=ntile(met_value, 100)) #%>% "
   ]
  },
  {
   "cell_type": "code",
   "execution_count": null,
   "metadata": {
    "tags": []
   },
   "outputs": [],
   "source": [
    "library(ggforce)"
   ]
  },
  {
   "cell_type": "markdown",
   "metadata": {},
   "source": [
    "## UMAP"
   ]
  },
  {
   "cell_type": "code",
   "execution_count": null,
   "metadata": {
    "tags": []
   },
   "outputs": [],
   "source": [
    "temp_umap_shap = arrow::read_feather(glue(\"{data_results_path}/REVISION_220111_temp_umap_shap.feather\"))"
   ]
  },
  {
   "cell_type": "code",
   "execution_count": null,
   "metadata": {
    "tags": []
   },
   "outputs": [],
   "source": [
    "endpoint=\"M_type_2_diabetes\""
   ]
  },
  {
   "cell_type": "code",
   "execution_count": null,
   "metadata": {
    "tags": []
   },
   "outputs": [],
   "source": [
    "temp_ep = temp_umap_shap %>% filter(endpoint==!!endpoint) %>% filter(x>2&x<12) %>% filter(hr>5)#&hr<12) #'%>% filter(event==FALSE)"
   ]
  },
  {
   "cell_type": "code",
   "execution_count": null,
   "metadata": {},
   "outputs": [],
   "source": [
    "tempA = temp_ep %>% filter(eid == 2475864)\n",
    "tempB = temp_ep %>% filter(eid == 1239178)\n",
    "tempC = temp_ep %>% filter(eid == 1690024)"
   ]
  },
  {
   "cell_type": "code",
   "execution_count": null,
   "metadata": {},
   "outputs": [],
   "source": [
    "calc_dist = function(xref, yref, x, y){sqrt((x-xref)^2+(y-yref)^2)}\n",
    "temp_areas = temp_ep %>% mutate(distA = calc_dist(tempA$x, tempA$y, x, y), distB = calc_dist(tempB$x, tempB$y, x, y), distC = calc_dist(tempC$x, tempC$y, x, y)) %>%\n",
    "    pivot_longer(c(starts_with(\"dist\"), -contains(\"disturbance\")), names_to=\"reference\", values_to=\"dist\", names_prefix=\"dist\") %>%\n",
    "    mutate(area = case_when(reference==\"A\"&dist<1 ~ \"A\", reference==\"B\"&dist<1 ~ \"B\", reference==\"C\"&dist<1 ~ \"C\", dist>=1 ~ \"None\")) %>% select(-dist, -reference) %>% distinct()"
   ]
  },
  {
   "cell_type": "code",
   "execution_count": null,
   "metadata": {},
   "outputs": [],
   "source": [
    "temp_plot = temp_areas %>% filter(area != \"None\") %>%\n",
    "    select(eid, x, y, endpoint, hr, event, incident_event, age_at_recruitment, sex, area, starts_with(\"NMR_\"), \n",
    "           -NMR_measurement_quality_flagged, -NMR_spectrometer, -NMR_FLAG) %>% \n",
    "    pivot_longer(c(starts_with(\"NMR_\")), names_to=\"metabolite\", values_to=\"value\") %>%\n",
    "    mutate(metabolite=str_remove_all(metabolite, \"NMR_\")) %>% \n",
    "    left_join(mets %>% select(metabolite, abbreviation, subgroup)) %>% \n",
    "    mutate(subgroup = factor(subgroup, levels=subgroup_order)) %>% \n",
    "    mutate(metabolite = factor(metabolite, levels=metabolite_order)) %>% \n",
    "    mutate(abbreviation = factor(abbreviation, levels=abbreviation_order))"
   ]
  },
  {
   "cell_type": "code",
   "execution_count": null,
   "metadata": {},
   "outputs": [],
   "source": [
    "library(ggdist)"
   ]
  },
  {
   "cell_type": "code",
   "execution_count": null,
   "metadata": {},
   "outputs": [],
   "source": [
    "base_size = 10\n",
    "title_size = 10\n",
    "facet_size = 10\n",
    "geom_text_size=3\n",
    "library(ggplot2); \n",
    "theme_set(theme_classic(base_size = base_size) + \n",
    "          theme(strip.background = element_blank(), plot.title=element_text(size=title_size, hjust=0), \n",
    "                strip.text.x = element_text(size = facet_size),axis.title=element_text(size=10), axis.text=element_text(size=10, color=\"black\"),\n",
    "                legend.position=\"bottom\", axis.line = element_line(size = 0.2), axis.ticks=element_line(size=0.2)))"
   ]
  },
  {
   "cell_type": "code",
   "execution_count": null,
   "metadata": {
    "tags": []
   },
   "outputs": [],
   "source": [
    "plot_width=17.5; plot_height=22; plot_dpi=320\n",
    "options(repr.plot.width = plot_width, repr.plot.height = plot_height, repr.plot.res=plot_dpi)\n",
    "\n",
    "\n",
    "met_diffs = ggplot(temp_plot, aes(x=factor(area, levels=c(\"A\", \"B\", \"C\")), y=value)) +\n",
    "    labs(x=NULL, y=\"Metabolite value\")+\n",
    "    geom_violin(alpha=0.7, size=0.25, color=\"#023768\", fill=\"#023768\")+\n",
    "    facet_wrap(~abbreviation, scales=\"free\", ncol=10)+\n",
    "    theme(legend.position=\"none\") + theme(strip.text.x = element_text(size = 11))\n",
    "\n",
    "met_diffs"
   ]
  },
  {
   "cell_type": "code",
   "execution_count": null,
   "metadata": {},
   "outputs": [],
   "source": [
    "library(gt)\n",
    "plot_name = \"Suppl_Figures_9_UMAPAreas\"\n",
    "met_diffs %>% ggsave(filename=glue(\"outputs/{plot_name}.pdf\"), device=\"pdf\", width=plot_width, height=plot_height, dpi=plot_dpi)"
   ]
  },
  {
   "cell_type": "code",
   "execution_count": null,
   "metadata": {},
   "outputs": [],
   "source": []
  }
 ],
 "metadata": {
  "hide_input": false,
  "kernelspec": {
   "display_name": "R [conda env:r_env]",
   "language": "R",
   "name": "conda-env-r_env-r"
  },
  "language_info": {
   "codemirror_mode": "r",
   "file_extension": ".r",
   "mimetype": "text/x-r-source",
   "name": "R",
   "pygments_lexer": "r",
   "version": "4.0.2"
  },
  "toc-autonumbering": false
 },
 "nbformat": 4,
 "nbformat_minor": 4
}
