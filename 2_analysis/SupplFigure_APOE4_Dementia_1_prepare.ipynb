{
 "cells": [
  {
   "cell_type": "markdown",
   "metadata": {},
   "source": [
    "# 4. Scores"
   ]
  },
  {
   "cell_type": "code",
   "execution_count": null,
   "metadata": {},
   "outputs": [],
   "source": [
    "try(library(tidyverse), silent=TRUE)\n",
    "library(lubridate)\n",
    "library(data.table)\n",
    "library(glue)\n",
    "library(jsonlite)"
   ]
  },
  {
   "cell_type": "code",
   "execution_count": null,
   "metadata": {},
   "outputs": [],
   "source": [
    "if (grepl(\"sc\", Sys.info()[[\"nodename\"]], fixed=TRUE)) {\n",
    "    base_path = \"/sc-projects/sc-proj-ukb-cvd\"\n",
    "} else {\n",
    "    base_path = \"/data/analysis/ag-reils/ag-reils-shared/cardioRS\"}\n",
    "print(base_path)\n",
    "\n",
    "dataset_name = \"210714_metabolomics\"\n",
    "path = \"/data/analysis/ag-reils/steinfej/code/umbrella/pre/ukbb\"\n",
    "data_path = glue(\"{base_path}/data\")\n",
    "dataset_path = glue(\"{data_path}/3_datasets_post/{dataset_name}\")\n",
    "\n",
    "project_label=\"21_metabolomics_multitask\"\n",
    "project_path = glue(\"{base_path}/results/projects/{project_label}\")\n",
    "figures_path = glue(\"{project_path}/figures\")\n",
    "data_results_path = glue(\"{project_path}/data\")"
   ]
  },
  {
   "cell_type": "code",
   "execution_count": null,
   "metadata": {
    "ExecuteTime": {
     "end_time": "2020-11-04T09:37:19.066784Z",
     "start_time": "2020-11-04T09:37:16.560Z"
    }
   },
   "outputs": [],
   "source": [
    "#data = arrow::read_feather(glue(\"{dataset_path}/data_merged.feather\"))\n",
    "description = arrow::read_feather(glue(\"{dataset_path}/description.feather\"))"
   ]
  },
  {
   "cell_type": "code",
   "execution_count": null,
   "metadata": {},
   "outputs": [],
   "source": [
    "description %>% filter"
   ]
  },
  {
   "cell_type": "code",
   "execution_count": null,
   "metadata": {},
   "outputs": [],
   "source": [
    "files = c()\n",
    "for (i in 0:21){\n",
    "    files = c(files, glue(\"{dataset_path}/partition_{i}/test/data_imputed.feather\"))\n",
    "}"
   ]
  },
  {
   "cell_type": "code",
   "execution_count": null,
   "metadata": {},
   "outputs": [],
   "source": [
    "data_master = map(files, arrow::read_feather) %>% bind_rows()"
   ]
  },
  {
   "cell_type": "code",
   "execution_count": null,
   "metadata": {},
   "outputs": [],
   "source": [
    "data_master %>% count(eid) %>% summarize(sum = sum(n), max= max(n))"
   ]
  },
  {
   "cell_type": "code",
   "execution_count": null,
   "metadata": {},
   "outputs": [],
   "source": [
    "data = copy(data_master)"
   ]
  },
  {
   "cell_type": "markdown",
   "metadata": {},
   "source": [
    "## Additional data"
   ]
  },
  {
   "cell_type": "code",
   "execution_count": null,
   "metadata": {},
   "outputs": [],
   "source": [
    "fields = arrow::read_feather(glue(\"{base_path}/data/1_decoded/ukb_data_field_210517.feather\"))"
   ]
  },
  {
   "cell_type": "code",
   "execution_count": null,
   "metadata": {},
   "outputs": [],
   "source": [
    "decoded = arrow::read_feather(glue(\"{base_path}/data/1_decoded/ukb_data_210517.feather\"))"
   ]
  },
  {
   "cell_type": "code",
   "execution_count": null,
   "metadata": {},
   "outputs": [],
   "source": [
    "fields %>% filter(str_detect(col.name, \"school\")) %>% filter(str_detect(col.name, \"_0_0\"))"
   ]
  },
  {
   "cell_type": "code",
   "execution_count": null,
   "metadata": {},
   "outputs": [],
   "source": [
    "eid_link = fread(\"ssh steinfej@172.16.120.129 cat /data/analysis/uk_bb/UKBB.application.link.file.20210608.txt\")"
   ]
  },
  {
   "cell_type": "code",
   "execution_count": null,
   "metadata": {},
   "outputs": [],
   "source": [
    "head(eid_link)"
   ]
  },
  {
   "cell_type": "code",
   "execution_count": null,
   "metadata": {},
   "outputs": [],
   "source": [
    "eid_link %>% count(EID.44448) %>% summarize(sum = sum(n), max=max(n))"
   ]
  },
  {
   "cell_type": "code",
   "execution_count": null,
   "metadata": {},
   "outputs": [],
   "source": [
    "eid_link %>% group_by(sex.49966) %>% distinct() %>% tally()"
   ]
  },
  {
   "cell_type": "markdown",
   "metadata": {},
   "source": [
    "### APOE4 - CAIDE (Dementia)"
   ]
  },
  {
   "cell_type": "code",
   "execution_count": null,
   "metadata": {},
   "outputs": [],
   "source": [
    "apoe4 = fread(\"ssh steinfej@172.16.120.129 cat /data/analysis/uk_bb/intergenics/development/hollmann/data/apoe4.csv\")"
   ]
  },
  {
   "cell_type": "code",
   "execution_count": null,
   "metadata": {},
   "outputs": [],
   "source": [
    "apoe4_clean = apoe4 %>% distinct() %>% left_join(eid_link %>% select(EID.49966, sex.49966, EID.51157), by=c(\"index\"=\"EID.49966\")) %>% \n",
    "    left_join(data %>% select(eid, sex), by=c(\"EID.51157\"=\"eid\")) %>% filter(sex==sex) %>% rename(\"eid\"=\"EID.51157\") %>% select(eid, rs429358, rs7412)\n",
    "head(apoe4_clean)"
   ]
  },
  {
   "cell_type": "code",
   "execution_count": null,
   "metadata": {},
   "outputs": [],
   "source": [
    "data = data_master %>% left_join(apoe4_clean, by=\"eid\")"
   ]
  },
  {
   "cell_type": "code",
   "execution_count": null,
   "metadata": {},
   "outputs": [],
   "source": [
    "# The imputed genotypes are aligned to the + strand of the reference and the positions are in GRCh37 coordinates\n",
    "# rs7412 C>T\n",
    "# rs429358 T>C"
   ]
  },
  {
   "cell_type": "code",
   "execution_count": null,
   "metadata": {},
   "outputs": [],
   "source": [
    "data = data %>% mutate(apoe = case_when(\n",
    "    rs429358>=1&rs7412>=1 ~ \"e1\",\n",
    "    rs429358==0&rs7412>=1 ~ \"e2\",\n",
    "    rs429358==0&rs7412==0 ~ \"e3\",\n",
    "    rs429358>=1&rs7412==0 ~ \"e4\",\n",
    "    TRUE ~ \"NA\")) "
   ]
  },
  {
   "cell_type": "code",
   "execution_count": null,
   "metadata": {},
   "outputs": [],
   "source": [
    "# check allele frequencies\n",
    "data %>% select(eid, rs429358, rs7412) %>% summarise(rs429358=mean(rs429358, na.rm=TRUE), rs7412 = mean(rs7412, na.rm=TRUE))"
   ]
  },
  {
   "cell_type": "code",
   "execution_count": null,
   "metadata": {},
   "outputs": [],
   "source": [
    "# check carrier frequencies\n",
    "data_check = data %>% select(eid, rs429358, rs7412, M_all_cause_dementia_event) %>% \n",
    "    mutate(apoe = case_when(\n",
    "        rs429358>=1&rs7412>=1 ~ \"e1\",\n",
    "        rs429358==0&rs7412>=1 ~ \"e2\",\n",
    "        rs429358==0&rs7412==0 ~ \"e3\",\n",
    "        rs429358>=1&rs7412==0 ~ \"e4\",\n",
    "        TRUE ~ \"NA\")) %>% \n",
    "    group_by(apoe)"
   ]
  },
  {
   "cell_type": "code",
   "execution_count": null,
   "metadata": {},
   "outputs": [],
   "source": [
    "data %>% count(eid) %>% summarize(sum = sum(n), max= max(n))"
   ]
  },
  {
   "cell_type": "code",
   "execution_count": null,
   "metadata": {},
   "outputs": [],
   "source": [
    "data_apoe4 = data_check %>% select(eid, all_of(\"apoe\")) %>% ungroup() %>% mutate(apoe4 = case_when(apoe==\"e4\" ~ TRUE, TRUE ~FALSE)) %>% select(eid, apoe4)# %>% summarise(mean(apoe4))"
   ]
  },
  {
   "cell_type": "code",
   "execution_count": null,
   "metadata": {},
   "outputs": [],
   "source": [
    "data_apoe4"
   ]
  },
  {
   "cell_type": "code",
   "execution_count": null,
   "metadata": {},
   "outputs": [],
   "source": [
    "data_apoe4 %>% arrow::write_feather(glue(\"{data_results_path}/data_apoe4_220104.feather\"))"
   ]
  },
  {
   "cell_type": "code",
   "execution_count": null,
   "metadata": {},
   "outputs": [],
   "source": []
  }
 ],
 "metadata": {
  "kernelspec": {
   "display_name": "R [conda env:r_env]",
   "language": "R",
   "name": "conda-env-r_env-r"
  },
  "language_info": {
   "codemirror_mode": "r",
   "file_extension": ".r",
   "mimetype": "text/x-r-source",
   "name": "R",
   "pygments_lexer": "r",
   "version": "4.0.2"
  }
 },
 "nbformat": 4,
 "nbformat_minor": 4
}
