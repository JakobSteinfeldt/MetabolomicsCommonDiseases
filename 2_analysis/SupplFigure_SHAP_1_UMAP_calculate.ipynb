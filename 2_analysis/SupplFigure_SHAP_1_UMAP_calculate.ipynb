{
 "cells": [
  {
   "cell_type": "markdown",
   "id": "c018c44e-8062-444e-8323-ca2b2f40e665",
   "metadata": {},
   "source": [
    "# UMAP preparation"
   ]
  },
  {
   "cell_type": "code",
   "execution_count": null,
   "id": "b525c254-48b7-46db-9eb0-a6b3ce13dce2",
   "metadata": {},
   "outputs": [],
   "source": [
    "%load_ext autoreload\n",
    "%autoreload 2\n",
    "\n",
    "import os\n",
    "from tqdm.auto import tqdm\n",
    "import pathlib\n",
    "\n",
    "import numpy as np\n",
    "import pandas as pd\n",
    "import lifelines\n",
    "import pandas as pd\n",
    "\n",
    "from joblib import Parallel, delayed\n",
    "from tqdm.notebook import tqdm\n",
    "import warnings\n",
    "warnings.filterwarnings(\"ignore\")\n",
    "import shutil\n",
    "\n",
    "import plotly.express as px\n",
    "import plotly.graph_objects as go\n",
    "from plotly.graph_objects import Box\n",
    "\n",
    "import matplotlib.pyplot as plt\n",
    "from lifelines import CRCSplineFitter\n",
    "import warnings\n",
    "from lifelines.utils import CensoringType\n",
    "\n",
    "import plotly.graph_objects as go\n",
    "from plotly.subplots import make_subplots\n",
    "import math\n",
    "\n",
    "from IPython.display import clear_output\n",
    "import pathlib\n",
    "\n",
    "from lifelines.utils import concordance_index"
   ]
  },
  {
   "cell_type": "code",
   "execution_count": null,
   "id": "0455e116-b566-4a72-bf25-2d8dd4f980f6",
   "metadata": {},
   "outputs": [],
   "source": [
    "node = !hostname\n",
    "if \"sc\" in node[0]:\n",
    "    base_path = \"/sc-projects/sc-proj-ukb-cvd\"\n",
    "else: base_path = \"/data/analysis/ag-reils/ag-reils-shared/cardioRS\"\n",
    "print(base_path)\n",
    "\n",
    "project_name = \"210714_metabolomics\"\n",
    "#data_path = \"/data/analysis/ag-reils/steinfej\"\n",
    "data_pre = f\"{base_path}/data/2_datasets_pre/{project_name}\"\n",
    "data_post = f\"{base_path}/data/3_datasets_post/{project_name}\"\n",
    "\n",
    "project_label = \"21_metabolomics_multitask\"\n",
    "project_path = f\"{base_path}/results/projects/{project_label}\"\n",
    "figures_path = f\"{project_path}/figures\"\n",
    "data_results_path = f\"{project_path}/data\"\n",
    "pathlib.Path(figures_path).mkdir(parents=True, exist_ok=True)\n",
    "pathlib.Path(data_results_path).mkdir(parents=True, exist_ok=True)"
   ]
  },
  {
   "cell_type": "code",
   "execution_count": null,
   "id": "4b3950d8-fdd2-494b-aa13-092605b394a0",
   "metadata": {},
   "outputs": [],
   "source": [
    "endpoints = [\n",
    "    #Cardiovascular\n",
    "    'M_MACE',\n",
    "    'M_coronary_heart_disease',\n",
    "    'M_cerebral_stroke',\n",
    "    'M_peripheral_arterial_disease',\n",
    "    'M_atrial_fibrillation',\n",
    "    'M_heart_failure',\n",
    "    'M_abdominal_aortic_aneurysm',\n",
    "    'M_venous_thrombosis',\n",
    "    \n",
    "    # General IM\n",
    "    'M_type_2_diabetes',\n",
    "    'M_liver_disease',\n",
    "    'M_renal_disease',\n",
    "    \n",
    "    # Pulmological\n",
    "    'M_asthma', \n",
    "    'M_chronic_obstructuve_pulmonary_disease',  \n",
    "    \n",
    "    # Psychiatric/Neurological\n",
    "    'M_all_cause_dementia',\n",
    "    'M_parkinsons_disease',   \n",
    "    \n",
    "    # Cancers\n",
    "    \"M_lung_cancer\",\n",
    "    \"M_non_melanoma_skin_cancer\",\n",
    "    \"M_colon_cancer\",\n",
    "    \"M_rectal_cancer\",\n",
    "    \"M_prostate_cancer\",\n",
    "    \"M_breast_cancer\",\n",
    "    \n",
    "    # Ophtalmological\n",
    "    'M_cataracts', \n",
    "    'M_glaucoma',\n",
    "    \n",
    "    # Traumatology\n",
    "    'M_fractures',\n",
    "]"
   ]
  },
  {
   "cell_type": "code",
   "execution_count": null,
   "id": "e61aa278-0be7-436a-84a9-3ea3008f8cd0",
   "metadata": {},
   "outputs": [],
   "source": [
    "import numpy as np\n",
    "from sklearn.datasets import load_digits\n",
    "from sklearn.model_selection import train_test_split\n",
    "from sklearn.preprocessing import StandardScaler\n",
    "import matplotlib.pyplot as plt\n",
    "import seaborn as sns\n",
    "import pandas as pd"
   ]
  },
  {
   "cell_type": "code",
   "execution_count": null,
   "id": "2ce0fd54-acbb-4d14-9a80-6b2b84e2f8d7",
   "metadata": {},
   "outputs": [],
   "source": [
    "umap_wide = pd.read_feather(f\"{data_results_path}/umap_prep_211026_2.feather\").set_index([\"endpoint\", \"eid\"]).loc[:, \"acetone\":]"
   ]
  },
  {
   "cell_type": "code",
   "execution_count": null,
   "id": "c6547644-0d9a-4c17-ab8d-28e5786d9efd",
   "metadata": {},
   "outputs": [],
   "source": [
    "import umap"
   ]
  },
  {
   "cell_type": "code",
   "execution_count": null,
   "id": "bb2dc06e-3189-464a-95d1-404c2ec8a66e",
   "metadata": {},
   "outputs": [],
   "source": [
    "def calc_umap(endpoint, umap_data):\n",
    "    reducer = umap.UMAP(min_dist=0.5, n_neighbors=1000)\n",
    "    embedding_matrix = reducer.fit_transform(umap_data.values)\n",
    "    embedding_df = pd.DataFrame(data=embedding_matrix, columns=[\"x\", \"y\"], index=umap_data.index).assign(endpoint=endpoint)\n",
    "    return embedding_df    "
   ]
  },
  {
   "cell_type": "raw",
   "id": "59175ce8-813d-4efd-b9f8-818613040cec",
   "metadata": {},
   "source": [
    "umap_dfs_raw = [calc_umap(endpoint, umap_wide.loc[(endpoint, )]) for endpoint in tqdm(endpoints)]"
   ]
  },
  {
   "cell_type": "code",
   "execution_count": null,
   "id": "4a486e9d-cc13-4845-8794-0313ef3f73fa",
   "metadata": {},
   "outputs": [],
   "source": [
    "umap_dfs_raw = [calc_umap(endpoint, umap_wide.loc[(endpoint, )]) for endpoint in tqdm([\"M_type_2_diabetes\"])]"
   ]
  },
  {
   "cell_type": "code",
   "execution_count": null,
   "id": "fc78f316-c8bf-401b-b751-dcf89dd8069f",
   "metadata": {},
   "outputs": [],
   "source": [
    "umap_df = pd.concat(umap_dfs_raw, axis=0).reset_index()"
   ]
  },
  {
   "cell_type": "code",
   "execution_count": null,
   "id": "6f2f8347-85ad-4b25-8efe-87a30b70aab4",
   "metadata": {},
   "outputs": [],
   "source": [
    "umap_df.to_feather(f\"{data_results_path}/umap_embeddings_211028.feather\")"
   ]
  }
 ],
 "metadata": {
  "kernelspec": {
   "display_name": "Python [conda env:riskiano_py39]",
   "language": "python",
   "name": "conda-env-riskiano_py39-py"
  },
  "language_info": {
   "codemirror_mode": {
    "name": "ipython",
    "version": 3
   },
   "file_extension": ".py",
   "mimetype": "text/x-python",
   "name": "python",
   "nbconvert_exporter": "python",
   "pygments_lexer": "ipython3",
   "version": "3.9.6"
  }
 },
 "nbformat": 4,
 "nbformat_minor": 5
}
