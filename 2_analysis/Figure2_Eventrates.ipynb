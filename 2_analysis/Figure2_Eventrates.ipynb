{
 "cells": [
  {
   "cell_type": "markdown",
   "metadata": {},
   "source": [
    "# Benchmarks"
   ]
  },
  {
   "cell_type": "markdown",
   "metadata": {},
   "source": [
    "## Initialize"
   ]
  },
  {
   "cell_type": "code",
   "execution_count": null,
   "metadata": {
    "ExecuteTime": {
     "end_time": "2021-01-05T11:03:09.852316Z",
     "start_time": "2021-01-05T11:03:07.701Z"
    }
   },
   "outputs": [],
   "source": [
    "#library(Rmisc)\n",
    "library(tidyverse)\n",
    "library(glue)\n",
    "library(arrow)\n",
    "library(patchwork)"
   ]
  },
  {
   "cell_type": "code",
   "execution_count": null,
   "metadata": {
    "ExecuteTime": {
     "end_time": "2021-01-05T11:03:10.491477Z",
     "start_time": "2021-01-05T11:03:10.445Z"
    }
   },
   "outputs": [],
   "source": [
    "if (grepl(\"sc\", Sys.info()[[\"nodename\"]], fixed=TRUE)) {\n",
    "    base_path = \"/sc-projects/sc-proj-ukb-cvd\"\n",
    "} else {\n",
    "    base_path = \"/data/analysis/ag-reils/ag-reils-shared/cardioRS\"}\n",
    "print(base_path)\n",
    "\n",
    "dataset_name = \"210714_metabolomics\"\n",
    "path = \"/data/analysis/ag-reils/steinfej/code/umbrella/pre/ukbb\"\n",
    "data_path = glue(\"{base_path}/data\")\n",
    "dataset_path = glue(\"{data_path}/3_datasets_post/{dataset_name}\")\n",
    "\n",
    "project_label=\"21_metabolomics_multitask\"\n",
    "project_path = glue(\"{base_path}/results/projects/{project_label}\")\n",
    "figures_path = glue(\"{project_path}/figures\")\n",
    "data_results_path = glue(\"{project_path}/data\")"
   ]
  },
  {
   "cell_type": "code",
   "execution_count": null,
   "metadata": {},
   "outputs": [],
   "source": [
    "base_size = 8\n",
    "title_size = 10\n",
    "facet_size = 10\n",
    "geom_text_size=3\n",
    "library(ggplot2); \n",
    "theme_set(theme_classic(base_size = base_size) + \n",
    "          theme(strip.background = element_blank(), plot.title=element_text(size=title_size, hjust=0), \n",
    "                strip.text.x = element_text(size = facet_size),axis.title=element_text(size=10), axis.text=element_text(size=8, color=\"black\"),\n",
    "                legend.position=\"bottom\", axis.line = element_line(size = 0.2), axis.ticks=element_line(size=0.2)))"
   ]
  },
  {
   "cell_type": "code",
   "execution_count": null,
   "metadata": {
    "ExecuteTime": {
     "end_time": "2021-01-05T11:03:23.502025Z",
     "start_time": "2021-01-05T11:03:19.778Z"
    }
   },
   "outputs": [],
   "source": [
    "library(\"jsonlite\")\n",
    "colors_dict = read_json(\"colors.json\")"
   ]
  },
  {
   "cell_type": "code",
   "execution_count": null,
   "metadata": {
    "ExecuteTime": {
     "end_time": "2021-01-05T11:03:23.526022Z",
     "start_time": "2021-01-05T11:03:20.042Z"
    }
   },
   "outputs": [],
   "source": [
    "color_map <- c(\"all\" = \"grey\", \"none\" = \"black\",\n",
    "               \n",
    "               'COX_Age+Sex' = colors_dict$pastel$red$mid, \n",
    "               'COX_Metabolomics' = colors_dict$pastel$blue$light,\n",
    "               \n",
    "               'DS_Metabolomics' = colors_dict$pastel$blue$mid,\n",
    "               'DS_Age+Sex+Metabolomics' = colors_dict$pastel$green$mid,\n",
    "                'DS_AgeSexMetabolomics' = colors_dict$pastel$green$dark\n",
    "      )"
   ]
  },
  {
   "cell_type": "code",
   "execution_count": null,
   "metadata": {},
   "outputs": [],
   "source": [
    "library(data.table)"
   ]
  },
  {
   "cell_type": "code",
   "execution_count": null,
   "metadata": {},
   "outputs": [],
   "source": [
    "library(ggthemes)\n",
    "endpoint_map = c(\n",
    "    'M_MACE'='MACE',\n",
    "    'M_all_cause_dementia'='Dementia',\n",
    "    'M_type_2_diabetes'='T2 Diabetes',\n",
    "    'M_liver_disease'='Liver Disease',\n",
    "    'M_renal_disease'='Renal Disease',\n",
    "    'M_atrial_fibrillation'='Atrial Fibrillation',\n",
    "    'M_heart_failure'= 'Heart Failure',\n",
    "    'M_coronary_heart_disease'='CHD',\n",
    "    'M_venous_thrombosis'='Ven. Thrombosis',\n",
    "    'M_cerebral_stroke'='Cerebral Stroke',\n",
    "    'M_abdominal_aortic_aneurysm'='AAA',\n",
    "    'M_peripheral_arterial_disease'='PAD',\n",
    "    \"M_chronic_obstructuve_pulmonary_disease\" = \"COPD\",\n",
    "    \"M_asthma\" = \"Asthma\",\n",
    "    'M_parkinsons_disease' = \"Parkinson's\",    \n",
    "    \"M_lung_cancer\" = \"Lung Cancer\",\n",
    "    \"M_non_melanoma_skin_cancer\" = \"Skin Cancer\",\n",
    "    \"M_colon_cancer\"= \"Colon Cancer\",\n",
    "    \"M_rectal_cancer\" = \"Rectal Cancer\",\n",
    "    \"M_prostate_cancer\"= \"Prostate Cancer\",\n",
    "    \"M_breast_cancer\" = \"Breast Cancer\",\n",
    "    'M_cataracts' = \"Cataracts\", \n",
    "    'M_glaucoma' = \"Glaucoma\",\n",
    "    'M_fractures' = \"Fractures\"\n",
    ")\n",
    "\n",
    "endpoint_order = c(\"M_MACE\", \"M_coronary_heart_disease\", \"M_cerebral_stroke\", \"M_all_cause_dementia\", \"M_heart_failure\", \"M_atrial_fibrillation\",\n",
    "                   \"M_type_2_diabetes\", \"M_liver_disease\", \"M_renal_disease\", \"M_peripheral_arterial_disease\", \"M_venous_thrombosis\",  \"M_abdominal_aortic_aneurysm\",\n",
    "                   \"M_chronic_obstructuve_pulmonary_disease\", \"M_asthma\", 'M_parkinsons_disease', 'M_cataracts', 'M_glaucoma', 'M_fractures',\n",
    "                    \"M_lung_cancer\",\"M_non_melanoma_skin_cancer\",\"M_colon_cancer\",\"M_rectal_cancer\",\"M_prostate_cancer\",\"M_breast_cancer\"\n",
    "                   \n",
    ")"
   ]
  },
  {
   "cell_type": "code",
   "execution_count": null,
   "metadata": {},
   "outputs": [],
   "source": [
    "endpoint_selection = c(\"M_MACE\", 'M_coronary_heart_disease', 'M_cerebral_stroke', \"M_all_cause_dementia\", \"M_type_2_diabetes\", \"M_liver_disease\", \"M_renal_disease\", \"M_venous_thrombosis\", \"M_asthma\", \"M_chronic_obstructuve_pulmonary_disease\", 'M_parkinsons_disease', 'M_cataracts')"
   ]
  },
  {
   "cell_type": "markdown",
   "metadata": {},
   "source": [
    "## Load data"
   ]
  },
  {
   "cell_type": "code",
   "execution_count": null,
   "metadata": {
    "ExecuteTime": {
     "end_time": "2021-01-05T11:03:12.470354Z",
     "start_time": "2021-01-05T11:03:11.387Z"
    }
   },
   "outputs": [],
   "source": [
    "list.dirs(path = project_path, full.names = TRUE, recursive = TRUE)"
   ]
  },
  {
   "cell_type": "code",
   "execution_count": null,
   "metadata": {
    "ExecuteTime": {
     "end_time": "2021-01-05T11:03:23.212936Z",
     "start_time": "2021-01-05T11:03:11.689Z"
    }
   },
   "outputs": [],
   "source": [
    "run = \"211007\"\n",
    "DSM = \"MultiTaskSurvivalTraining\"\n",
    "data = arrow::read_feather(glue(\"{dataset_path}/data_merged.feather\")) \n",
    "data_description = arrow::read_feather(glue(\"{dataset_path}/description_merged.feather\"))\n",
    "predictions = arrow::read_feather(glue(\"{data_results_path}/predictions_{run}_metabolomics.feather\")) \n",
    "loghazards = arrow::read_feather(glue(\"{data_results_path}/loghazards_model_{run}_metabolomics.feather\")) %>% pivot_longer(starts_with(\"logh\"), names_to=c(\"endpoint\", \"features\"), values_to=\"logh\", names_pattern=\"logh_?(.*)_(.*)$\")"
   ]
  },
  {
   "cell_type": "code",
   "execution_count": null,
   "metadata": {},
   "outputs": [],
   "source": [
    "colnames(data %>% select(starts_with(\"M_\"), -contains(\"_event\")))"
   ]
  },
  {
   "cell_type": "code",
   "execution_count": null,
   "metadata": {},
   "outputs": [],
   "source": [
    "data_events = data %>% select(eid, ends_with(\"event\"), ends_with(\"event_time\")) %>% \n",
    "    pivot_longer(-eid, names_to=c(\"endpoint\", \"type\"), values_to=\"value\", names_pattern=\"(.*)(event_time|event)\") %>% \n",
    "    mutate(endpoint = stringr::str_sub(endpoint, end=-2)) %>% pivot_wider(names_from=\"type\", values_from=\"value\")"
   ]
  },
  {
   "cell_type": "code",
   "execution_count": null,
   "metadata": {},
   "outputs": [],
   "source": [
    "loghazards_tte = loghazards %>% left_join(data_events, by=c(\"endpoint\", \"eid\"))\n",
    "predictions_tte = predictions %>% left_join(data_events, by=c(\"endpoint\", \"eid\"))"
   ]
  },
  {
   "cell_type": "code",
   "execution_count": null,
   "metadata": {},
   "outputs": [],
   "source": [
    "head(predictions_tte)"
   ]
  },
  {
   "cell_type": "code",
   "execution_count": null,
   "metadata": {},
   "outputs": [],
   "source": [
    "loghazards_tte %>% colnames() "
   ]
  },
  {
   "cell_type": "code",
   "execution_count": null,
   "metadata": {},
   "outputs": [],
   "source": [
    "logh_T_raw = loghazards_tte %>% filter(split==\"test\") %>% mutate(hr=exp(logh)) %>% select(-module, -datamodule)"
   ]
  },
  {
   "cell_type": "code",
   "execution_count": null,
   "metadata": {},
   "outputs": [],
   "source": [
    "prev_data = data %>% select(eid, all_of(names(endpoint_map))) %>% pivot_longer(-eid, names_to=\"endpoint\", values_to=\"Prevalent\") %>% mutate(Prevalent = as.integer(Prevalent))"
   ]
  },
  {
   "cell_type": "code",
   "execution_count": null,
   "metadata": {},
   "outputs": [],
   "source": [
    "# get information on prevalent disease\n",
    "prev_data = data %>% select(eid, all_of(names(endpoint_map))) %>% \n",
    "    pivot_longer(-eid, names_to=\"endpoint\", values_to=\"Prevalent\") %>% \n",
    "    mutate(Prevalent = as.integer(Prevalent))\n",
    "\n",
    "# calculate met percentile for complete and for excluded set\n",
    "logh_T_inc = logh_T_raw %>% left_join(prev_data, by=c(\"eid\", \"endpoint\")) %>% \n",
    "    filter(Prevalent==0) %>% group_by(endpoint, features) %>% mutate(logh_perc = ntile(logh, 100))\n",
    "logh_T_all = logh_T_raw %>% left_join(prev_data, by=c(\"eid\", \"endpoint\")) %>% \n",
    "    group_by(endpoint, features) %>% mutate(logh_perc = ntile(logh, 100)) %>% ungroup()"
   ]
  },
  {
   "cell_type": "markdown",
   "metadata": {},
   "source": [
    "# Figure 2: Selected Endpoints"
   ]
  },
  {
   "cell_type": "markdown",
   "metadata": {},
   "source": [
    "## Metabolic state and incident disease"
   ]
  },
  {
   "cell_type": "code",
   "execution_count": null,
   "metadata": {},
   "outputs": [],
   "source": [
    "logh_T_agg = logh_T_inc %>% group_by(endpoint, features) %>% mutate(logh_perc = ntile(logh, 100))%>% group_by(endpoint, features, logh_perc) %>% summarise(ratio = mean(event))\n",
    "labels = logh_T_inc %>% group_by(endpoint, event) %>% summarise(median_logh = mean(logh)) %>% pivot_wider(names_from=\"event\", values_from=\"median_logh\") %>% mutate(delta = `1`-`0`) %>% arrange(desc(delta))"
   ]
  },
  {
   "cell_type": "code",
   "execution_count": null,
   "metadata": {},
   "outputs": [],
   "source": [
    "options(repr.plot.width = 8, repr.plot.height = 5, repr.plot.res=320)\n",
    "features = \"Metabolomics\"\n",
    "#temp_rank = event_rest %>% filter(features==\"Metabolomics\") %>% arrange(desc(MET10PercvsREST))\n",
    "temp = logh_T_agg %>% filter(features==\"Metabolomics\") %>% mutate(endpoint = factor(endpoint, levels=endpoint_order)) %>% ungroup()\n",
    "\n",
    "met_events = ggplot(temp, aes(x=logh_perc, y=ratio*100, color=logh_perc)) + \n",
    "    labs(title=NULL, x=\"Metabolomics State Percentile [%]\", y=\"Observed Event Rate [%]\") +\n",
    "    geom_point(alpha=0.7, size=0.1) + \n",
    "    scale_colour_gradient(\n",
    "  low = \"#7AC6FF\",\n",
    "  high = \"#023768\",\n",
    "  space = \"Lab\",\n",
    "  na.value = \"grey50\",\n",
    "  guide = \"colourbar\",\n",
    "  aesthetics = \"colour\"\n",
    ")+\n",
    "    #scale_color_manual(values=c(\"Metabolomics\"=\"black\"))+\n",
    "    scale_y_continuous(limits=c(0, NA), expand=expansion(mult=c(0, .05)))+#, limits=c(0, NA))+\n",
    "    scale_x_continuous(expand=expansion(add=c(0, 1)))+\n",
    "    facet_wrap(~endpoint, scale=\"free\", labeller = labeller(endpoint = endpoint_map), ncol=6) + theme(legend.position=\"none\")\n",
    "met_events "
   ]
  },
  {
   "cell_type": "markdown",
   "metadata": {},
   "source": [
    "### Bootstrapping"
   ]
  },
  {
   "cell_type": "code",
   "execution_count": null,
   "metadata": {},
   "outputs": [],
   "source": [
    "## bootstrapped CIs for percentiles\n",
    "df_times = logh_T_inc %>% ungroup() %>% select(eid, endpoint, logh) %>% pivot_wider(names_from=endpoint, values_from=logh)\n",
    "\n",
    "datalist = list()\n",
    "\n",
    "for (i in 1:1000) {\n",
    "    # ... make some data\n",
    "    dat <- df_times %>% sample_frac(replace=TRUE)\n",
    "    dat$i <- i  # maybe you want to keep track of which iteration produced it?\n",
    "    datalist[[i]] <- dat # add it to your list\n",
    "}\n",
    "\n",
    "df_boot = dplyr::bind_rows(datalist) %>% pivot_longer(-c(eid, i), names_to=\"endpoint\", values_to=\"logh\") %>% \n",
    "    filter(!is.na(logh)) %>% left_join(logh_T_inc %>% select(eid, endpoint, event), by=c(\"eid\", \"endpoint\"))"
   ]
  },
  {
   "cell_type": "code",
   "execution_count": null,
   "metadata": {},
   "outputs": [],
   "source": [
    "logh_T_all_bs = df_boot %>% \n",
    "    group_by(endpoint, i) %>% \n",
    "    mutate(logh_perc = ntile(logh, 10)) %>% \n",
    "    ungroup()"
   ]
  },
  {
   "cell_type": "code",
   "execution_count": null,
   "metadata": {},
   "outputs": [],
   "source": [
    "temp_bs = logh_T_all_bs %>% #sample_n(1000000) %>%\n",
    "    group_by(endpoint, i, logh_perc) %>% \n",
    "    summarise(rate=mean(event))"
   ]
  },
  {
   "cell_type": "code",
   "execution_count": null,
   "metadata": {},
   "outputs": [],
   "source": [
    "temp_bs_finished = temp_bs %>% filter(logh_perc %in% c(1, 10)) %>% ungroup() %>% \n",
    "    #mutate(ratio = case_when(is.na(ratio) ~ 0.0, TRUE ~ ratio)) %>% \n",
    "    select(endpoint, logh_perc, rate, i) %>% pivot_wider(names_from=logh_perc, values_from=rate) %>% \n",
    "    select(endpoint, i, `1`, `10`) %>% mutate(ratio = `10`/`1`) %>% \n",
    "    group_by(endpoint) %>% summarise(\n",
    "        ratio = quantile(ratio, c(0.025, 0.5, 0.975), na.rm=TRUE), \n",
    "        `1` = quantile(`1`, c(0.025, 0.5, 0.975), na.rm=TRUE),\n",
    "        `10` = quantile(`10`, c(0.025, 0.5, 0.975), na.rm=TRUE),\n",
    "        probs = c(\"CI025\", \"Median\", \"CI975\")#,\n",
    "        #`1` = quantile(`1`, c(0.25, 0.5, 0.75), na.rm=TRUE), prob = c(\"CI025\", \"Median\", \"CI975\")\n",
    "        ) %>% mutate(`1` = `1`*100, `10` = `10`*100)%>% ungroup() %>% \n",
    "    pivot_longer(c(ratio, `1`, `10`), names_to=\"type\", values_to=\"value\") %>% \n",
    "    pivot_wider(names_from=probs, values_from=value) %>% \n",
    "    mutate(string = case_when(type==\"ratio\" ~ glue(\"{round(Median, 2)} ({round(CI025, 2)}, {round(CI975, 2)})\"),\n",
    "                             type !=\"ratio\" ~ glue(\"{format(round(Median, 2), nsmall=2)}% ({format(round(CI025, 2), nsmall=2)}%, {format(round(CI975, 2), nsmall=2)}%)\"))) %>%\n",
    "    select(endpoint, type, string) %>% pivot_wider(names_from=type, values_from=string) %>% \n",
    "    select(endpoint, `1`, `10`, ratio) %>% \n",
    "    mutate(endpoint = factor(endpoint, levels = endpoint_order)) %>% arrange(endpoint) %>%\n",
    "    mutate(endpoint = recode(endpoint, !!!endpoint_map))"
   ]
  },
  {
   "cell_type": "code",
   "execution_count": null,
   "metadata": {},
   "outputs": [],
   "source": [
    "library(gt)\n",
    "temp_bs_finished %>% gt(rowname_col=\"endpoint\") %>% \n",
    "    tab_stubhead(label = \"Endpoint\") %>%\n",
    "    tab_header(\n",
    "        title = \"Metabolomic State and Incident Disease in UK Biobank\"\n",
    "    ) %>% \n",
    "  cols_label(\n",
    "    `1` = md(\"Bottom 10%\"),\n",
    "    `10` = md(\"Top 10%\"),\n",
    "      `ratio` = md(\"OR\")\n",
    "  ) %>%\n",
    " #  tab_style(\n",
    " #   style = list(\n",
    " #     cell_text(weight = \"bold\")\n",
    "#      ),\n",
    "#    locations = cells_body(\n",
    "#      columns = ratio\n",
    " #   )) %>%\n",
    "    cols_align(\n",
    "    align = \"right\",\n",
    "    columns = c(`1`, `10`, ratio)) %>%\n",
    " #   locations = cells_stub()\n",
    " # ) %>%\n",
    "gtsave(\"outputs/Suppl_Table5_EventRateRatios.html\")"
   ]
  },
  {
   "cell_type": "markdown",
   "metadata": {
    "tags": []
   },
   "source": [
    "## Metabolomic State and Event Trajectories"
   ]
  },
  {
   "cell_type": "code",
   "execution_count": null,
   "metadata": {},
   "outputs": [],
   "source": [
    "logh_T_metabolomics = logh_T_inc %>% select(endpoint, features, eid, logh_perc, event, event_time) %>% group_by(endpoint, features) %>% mutate(MET=case_when(logh_perc %in% 91:100 ~ \"High\", \n",
    "                                                                                   logh_perc %in% 45:55 ~ \"Mid\", \n",
    "                                                                                   logh_perc %in% 1:10 ~ \"Low\", TRUE ~ \"NA\")) %>% mutate(MET = fct_rev(factor(MET, levels=c(\"Low\", \"Mid\", \"High\")))) %>% ungroup() %>% \n",
    "    filter(features==\"Metabolomics\", MET!=\"NA\") #%>% select(eid, endpoint, logh, logh_group)"
   ]
  },
  {
   "cell_type": "code",
   "execution_count": null,
   "metadata": {},
   "outputs": [],
   "source": [
    "require(\"ggquickeda\")\n",
    "options(repr.plot.width = 8, repr.plot.height = 5, repr.plot.res=320)\n",
    "met_map = c(\"High\"=\"#023768\", \"Mid\"=\"#4F8EC1\", \"Low\"=\"#7AC6FF\")\n",
    "km_plot = ggplot(logh_T_metabolomics %>% mutate(endpoint = factor(endpoint, levels=endpoint_order)), aes(time = event_time, status = event, fill=MET, color=MET,group=MET)) +\n",
    "    geom_km(trans = \"event\") + \n",
    "    geom_kmticks(trans = \"event\", size=0.3) + geom_kmband(trans = \"event\") + \n",
    "    labs(x=\"Time [Years]\", y=\"Cumulative Events [%]\")+\n",
    "    scale_color_manual(values=met_map)+scale_fill_manual(values=met_map)+\n",
    "    scale_y_continuous(labels = function(x) round(x*100, 1), expand=c(0, 0))+\n",
    "    scale_x_continuous(expand=expansion(add=c(0, .1)), breaks=c(5, 10))+\n",
    "    facet_wrap(~ endpoint, scale=\"free\", labeller = labeller(endpoint = endpoint_map), ncol=6) + theme(legend.position=\"none\")"
   ]
  },
  {
   "cell_type": "markdown",
   "metadata": {},
   "source": [
    "# Figure 2"
   ]
  },
  {
   "cell_type": "code",
   "execution_count": null,
   "metadata": {},
   "outputs": [],
   "source": [
    "plot_width=8.25; plot_height=10; plot_dpi=320\n",
    "options(repr.plot.width = plot_width, repr.plot.height = plot_height, repr.plot.res=plot_dpi)\n",
    "fig2 = met_events / km_plot# +plot_annotation(tag_levels = 'A')"
   ]
  },
  {
   "cell_type": "code",
   "execution_count": null,
   "metadata": {},
   "outputs": [],
   "source": [
    "fig2"
   ]
  },
  {
   "cell_type": "code",
   "execution_count": null,
   "metadata": {},
   "outputs": [],
   "source": [
    "library(gt)\n",
    "plot_name = \"Figures_2_AB\"\n",
    "fig2 %>% ggsave(filename=glue(\"outputs/{plot_name}.pdf\"), device=\"pdf\", width=plot_width, height=plot_height, dpi=320)"
   ]
  },
  {
   "cell_type": "code",
   "execution_count": null,
   "metadata": {},
   "outputs": [],
   "source": []
  }
 ],
 "metadata": {
  "hide_input": false,
  "kernelspec": {
   "display_name": "R [conda env:r_env]",
   "language": "R",
   "name": "conda-env-r_env-r"
  },
  "language_info": {
   "codemirror_mode": "r",
   "file_extension": ".r",
   "mimetype": "text/x-r-source",
   "name": "R",
   "pygments_lexer": "r",
   "version": "4.0.2"
  },
  "toc-autonumbering": false
 },
 "nbformat": 4,
 "nbformat_minor": 4
}
