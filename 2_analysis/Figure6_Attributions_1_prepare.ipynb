{
 "cells": [
  {
   "cell_type": "code",
   "execution_count": null,
   "id": "d68d99c0-dbf4-4f3f-8388-e0f4272aa414",
   "metadata": {},
   "outputs": [],
   "source": [
    "import pickle\n",
    "import pandas as pd\n",
    "import os\n",
    "import glob\n",
    "import numpy as np\n",
    "import pathlib"
   ]
  },
  {
   "cell_type": "code",
   "execution_count": null,
   "id": "5fa136a4-b7ff-4ee9-b9b4-8507352b0211",
   "metadata": {},
   "outputs": [],
   "source": [
    "node = !hostname\n",
    "if \"sc\" in node[0]:\n",
    "    base_path = \"/sc-projects/sc-proj-ukb-cvd\"\n",
    "else: base_path = \"/data/analysis/ag-reils/ag-reils-shared/cardioRS\"\n",
    "print(base_path)\n",
    "\n",
    "project_name = \"210714_metabolomics\"\n",
    "#data_path = \"/data/analysis/ag-reils/steinfej\"\n",
    "data_pre = f\"{base_path}/data/2_datasets_pre/{project_name}\"\n",
    "data_post = f\"{base_path}/data/3_datasets_post/{project_name}\"\n",
    "\n",
    "project_label = \"21_metabolomics_multitask\"\n",
    "project_path = f\"{base_path}/results/projects/{project_label}\"\n",
    "figures_path = f\"{project_path}/figures\"\n",
    "data_results_path = f\"{project_path}/data\"\n",
    "pathlib.Path(figures_path).mkdir(parents=True, exist_ok=True)\n",
    "pathlib.Path(data_results_path).mkdir(parents=True, exist_ok=True)"
   ]
  },
  {
   "cell_type": "code",
   "execution_count": null,
   "id": "571004d5-e56a-49c2-a364-ad71c9e2031d",
   "metadata": {},
   "outputs": [],
   "source": [
    "from dask.distributed import Client, LocalCluster\n",
    "cluster = LocalCluster(n_workers=1, threads_per_worker=20)\n",
    "client = Client(cluster)"
   ]
  },
  {
   "cell_type": "code",
   "execution_count": null,
   "id": "68a96547-6a82-4c0f-8b63-544f2ff3697f",
   "metadata": {},
   "outputs": [],
   "source": [
    "tag = \"211006\"\n",
    "path = os.getcwd()\n",
    "base_path = \"/sc-projects/sc-proj-ukb-cvd\"\n",
    "csv_files = glob.glob(os.path.join(f\"/sc-projects/sc-proj-ukb-cvd/results/models/NeptuneLogger/interpretability/211026/shap/DeepExplainer/\", \"attribution*.csv\"))\n",
    "charite_path = \"/sc-projects/sc-proj-ukb-cvd/results/models/NeptuneLogger/interpretability/shap/DeepExplainer/\""
   ]
  },
  {
   "cell_type": "code",
   "execution_count": null,
   "id": "fc809733-ad82-4d79-ba32-618bbe43fef0",
   "metadata": {},
   "outputs": [],
   "source": [
    "def get_endpoint(s):\n",
    "    return s.str.replace(f\"/sc-projects/sc-proj-ukb-cvd/results/models/NeptuneLogger/interpretability/211026/shap/DeepExplainer/attribution_\", \"\").str.replace(\"DeepExplainer_\", \"\").str.replace(\"_10.csv\", \"\")\n",
    "\n",
    "def adapt_paths(s):\n",
    "    return s.str.replace(f\"{charite_path}\", f\"{base_path}\").replace(\"_10.0.csv\", \"\")"
   ]
  },
  {
   "cell_type": "code",
   "execution_count": null,
   "id": "1d549101-27b6-46dc-a6b1-6d9360276fa4",
   "metadata": {},
   "outputs": [],
   "source": [
    "df = pd.concat([pd.read_csv(p, index_col=\"run_id\").assign(endpoint=p) for p in csv_files]).drop(columns=[\"Unnamed: 0\"])"
   ]
  },
  {
   "cell_type": "code",
   "execution_count": null,
   "id": "b0e1f455-0edc-48eb-8775-82d2d14c71ce",
   "metadata": {},
   "outputs": [],
   "source": [
    "def load_pickle(p):\n",
    "    with open(p, 'rb') as f:\n",
    "        x = pickle.load(f)\n",
    "    return x"
   ]
  },
  {
   "cell_type": "code",
   "execution_count": null,
   "id": "725bc6af-c65f-4c03-bee8-2ec501255da3",
   "metadata": {},
   "outputs": [],
   "source": [
    "def aggregate_attributions(i):\n",
    "    run = df.iloc[i].copy()\n",
    "    run[\"feature_names\"] = [\"_\".join(s.split(\"_\")[2:]) for s in eval(run[\"feature_names\"])]#[12:-1]#+replace(r'Partition[0-9]+_[a-zA-Z]+_*', \"\")#.replace(\"Partition\", \"\")\n",
    "    shap = pd.read_csv(run[\"shap_filepath\"], names=run[\"feature_names\"]).assign(eid=eval(run[\"eids\"])).melt(id_vars=\"eid\", value_vars = run[\"feature_names\"], var_name=\"metabolite\", value_name=\"shap\")\n",
    "    met_values = pd.read_csv(run[\"data_filepath\"], names=run[\"feature_names\"]).assign(eid=eval(run[\"eids\"])).melt(id_vars=\"eid\",value_vars = run[\"feature_names\"], var_name=\"metabolite\", value_name=\"met_value\")\n",
    "    data = shap.merge(met_values, on=[\"eid\", \"metabolite\"], how=\"left\").assign(partition=run[\"partition\"], endpoint=run[\"endpoint\"], run_id=run.name)\n",
    "    return data"
   ]
  },
  {
   "cell_type": "code",
   "execution_count": null,
   "id": "6b88f674-1d4f-4683-baf0-ec42cbc8742e",
   "metadata": {},
   "outputs": [],
   "source": [
    "from tqdm.auto import tqdm\n",
    "import joblib"
   ]
  },
  {
   "cell_type": "code",
   "execution_count": null,
   "id": "da1ac75c-bd45-4498-b559-c5c4b69ebed0",
   "metadata": {},
   "outputs": [],
   "source": [
    "df.endpoint = get_endpoint(df.endpoint)"
   ]
  },
  {
   "cell_type": "code",
   "execution_count": null,
   "id": "f9a2fc86-d88a-408b-bf1f-ec50f39dac97",
   "metadata": {},
   "outputs": [],
   "source": [
    "with joblib.parallel_backend('dask'):\n",
    "    df_agg_list = joblib.Parallel(verbose=100)(\n",
    "        joblib.delayed(aggregate_attributions)(i)\n",
    "        for i in tqdm(range(len(df))))"
   ]
  },
  {
   "cell_type": "code",
   "execution_count": null,
   "id": "592c4ebb-7673-4325-87ba-0f104668eabc",
   "metadata": {},
   "outputs": [],
   "source": [
    "df_agg = pd.concat(df_agg_list).reset_index(drop=True)"
   ]
  },
  {
   "cell_type": "code",
   "execution_count": null,
   "id": "6c9d0c2f-36ea-4699-9543-62b81f866d36",
   "metadata": {},
   "outputs": [],
   "source": [
    "df_agg.eid.nunique()"
   ]
  },
  {
   "cell_type": "code",
   "execution_count": null,
   "id": "b24af67b-99d2-4261-a6af-034c57c1b7ee",
   "metadata": {},
   "outputs": [],
   "source": [
    "for col in [\"eid\", \"metabolite\", \"partition\", \"endpoint\", \"run_id\"]: df_agg[col] = df_agg[col].astype(\"category\")"
   ]
  },
  {
   "cell_type": "code",
   "execution_count": null,
   "id": "9b587827-3f1b-4e0d-8888-9a5af1c81758",
   "metadata": {},
   "outputs": [],
   "source": [
    "df_agg.to_feather(f\"{data_results_path}/attributions_211026.feather\")"
   ]
  }
 ],
 "metadata": {
  "kernelspec": {
   "display_name": "Python [conda env:riskiano_py39]",
   "language": "python",
   "name": "conda-env-riskiano_py39-py"
  },
  "language_info": {
   "codemirror_mode": {
    "name": "ipython",
    "version": 3
   },
   "file_extension": ".py",
   "mimetype": "text/x-python",
   "name": "python",
   "nbconvert_exporter": "python",
   "pygments_lexer": "ipython3",
   "version": "3.9.6"
  }
 },
 "nbformat": 4,
 "nbformat_minor": 5
}
