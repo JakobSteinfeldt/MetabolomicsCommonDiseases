{
 "cells": [
  {
   "cell_type": "markdown",
   "metadata": {},
   "source": [
    "# Benchmarks"
   ]
  },
  {
   "cell_type": "markdown",
   "metadata": {},
   "source": [
    "## Initialize"
   ]
  },
  {
   "cell_type": "code",
   "execution_count": null,
   "metadata": {},
   "outputs": [],
   "source": [
    "%load_ext autoreload\n",
    "%autoreload 2\n",
    "\n",
    "import os\n",
    "from tqdm.auto import tqdm\n",
    "import pathlib\n",
    "\n",
    "import numpy as np\n",
    "import pandas as pd\n",
    "import lifelines\n",
    "import pandas as pd\n",
    "\n",
    "from joblib import Parallel, delayed\n",
    "from tqdm.notebook import tqdm\n",
    "import warnings\n",
    "warnings.filterwarnings(\"ignore\")\n",
    "import shutil\n",
    "\n",
    "import plotly.express as px\n",
    "import plotly.graph_objects as go\n",
    "from plotly.graph_objects import Box\n",
    "\n",
    "import matplotlib.pyplot as plt\n",
    "from lifelines import CRCSplineFitter\n",
    "import warnings\n",
    "from lifelines.utils import CensoringType\n",
    "\n",
    "import plotly.graph_objects as go\n",
    "from plotly.subplots import make_subplots\n",
    "import math\n",
    "\n",
    "from IPython.display import clear_output\n",
    "import pathlib\n",
    "\n",
    "from lifelines.utils import concordance_index"
   ]
  },
  {
   "cell_type": "code",
   "execution_count": null,
   "metadata": {},
   "outputs": [],
   "source": [
    "from dask.distributed import Client, LocalCluster\n",
    "cluster = LocalCluster(n_workers=1, threads_per_worker=10)\n",
    "client = Client(cluster)"
   ]
  },
  {
   "cell_type": "code",
   "execution_count": null,
   "metadata": {},
   "outputs": [],
   "source": [
    "!hostname"
   ]
  },
  {
   "cell_type": "code",
   "execution_count": null,
   "metadata": {},
   "outputs": [],
   "source": [
    "node = !hostname\n",
    "if \"sc\" in node[0]:\n",
    "    base_path = \"/sc-projects/sc-proj-ukb-cvd\"\n",
    "else: base_path = \"/data/analysis/ag-reils/ag-reils-shared/cardioRS\"\n",
    "print(base_path)\n",
    "\n",
    "project_name = \"210714_metabolomics\"\n",
    "#data_path = \"/data/analysis/ag-reils/steinfej\"\n",
    "data_pre = f\"{base_path}/data/2_datasets_pre/{project_name}\"\n",
    "data_post = f\"{base_path}/data/3_datasets_post/{project_name}\"\n",
    "\n",
    "project_label = \"21_metabolomics_multitask\"\n",
    "project_path = f\"{base_path}/results/projects/{project_label}\"\n",
    "figures_path = f\"{project_path}/figures\"\n",
    "data_results_path = f\"{project_path}/data\"\n",
    "pathlib.Path(figures_path).mkdir(parents=True, exist_ok=True)\n",
    "pathlib.Path(data_results_path).mkdir(parents=True, exist_ok=True)"
   ]
  },
  {
   "cell_type": "code",
   "execution_count": null,
   "metadata": {},
   "outputs": [],
   "source": [
    "endpoints = [\n",
    "    #Cardiovascular\n",
    "    'M_MACE',\n",
    "    'M_coronary_heart_disease',\n",
    "    'M_cerebral_stroke',\n",
    "    'M_peripheral_arterial_disease',\n",
    "    'M_atrial_fibrillation',\n",
    "    'M_heart_failure',\n",
    "    'M_abdominal_aortic_aneurysm',\n",
    "    'M_venous_thrombosis',\n",
    "    \n",
    "    # General IM\n",
    "    'M_type_2_diabetes',\n",
    "    'M_liver_disease',\n",
    "    'M_renal_disease',\n",
    "    \n",
    "    # Pulmological\n",
    "    'M_asthma', \n",
    "    'M_chronic_obstructuve_pulmonary_disease',  \n",
    "    \n",
    "    # Psychiatric/Neurological\n",
    "    'M_all_cause_dementia',\n",
    "    'M_parkinsons_disease',   \n",
    "    \n",
    "    # Cancers\n",
    "    \"M_lung_cancer\",\n",
    "    \"M_non_melanoma_skin_cancer\",\n",
    "    \"M_colon_cancer\",\n",
    "    \"M_rectal_cancer\",\n",
    "    \"M_prostate_cancer\",\n",
    "    \"M_breast_cancer\",\n",
    "    \n",
    "    # Ophtalmological\n",
    "    'M_cataracts', \n",
    "    'M_glaucoma',\n",
    "    \n",
    "    # Traumatology\n",
    "    'M_fractures',\n",
    "]"
   ]
  },
  {
   "cell_type": "code",
   "execution_count": null,
   "metadata": {},
   "outputs": [],
   "source": [
    "partitions = [str(p) for p in range(0, 22)]\n",
    "splits = [\"train\", \"valid\", \"test\"]"
   ]
  },
  {
   "cell_type": "code",
   "execution_count": null,
   "metadata": {},
   "outputs": [],
   "source": [
    "!ls {data_results_path}"
   ]
  },
  {
   "cell_type": "markdown",
   "metadata": {},
   "source": [
    "### Load models"
   ]
  },
  {
   "cell_type": "code",
   "execution_count": null,
   "metadata": {},
   "outputs": [],
   "source": [
    "import joblib\n",
    "def get_cph(path): \n",
    "    with open(path,'rb') as f:\n",
    "        cph = pickle.load(f)\n",
    "    return cph"
   ]
  },
  {
   "cell_type": "code",
   "execution_count": null,
   "metadata": {},
   "outputs": [],
   "source": [
    "run = \"220126\""
   ]
  },
  {
   "cell_type": "code",
   "execution_count": null,
   "metadata": {},
   "outputs": [],
   "source": [
    "loghs = pd.read_feather(f\"{data_results_path}/loghazards_model_{run}_metabolomics.feather\").query(\"split=='test'\")\n",
    "cols = [col for col in loghs.columns if not \"AgeSex\" in col]\n",
    "loghs = loghs[cols]"
   ]
  },
  {
   "cell_type": "code",
   "execution_count": null,
   "metadata": {},
   "outputs": [],
   "source": [
    "version=f\"COX_{run}\"\n",
    "dump_path = f\"{data_post}/{version}\"\n",
    "pathlib.Path(dump_path).mkdir(parents=True, exist_ok=True)"
   ]
  },
  {
   "cell_type": "code",
   "execution_count": null,
   "metadata": {},
   "outputs": [],
   "source": [
    "feature_sets = [\"Age+Sex\", \"ASCVDnoblood\", \"ASCVD\", \"PANELnoblood\", \"PANELjustbloodcount\", \"PANEL\"]"
   ]
  },
  {
   "cell_type": "code",
   "execution_count": null,
   "metadata": {},
   "outputs": [],
   "source": [
    "paths = [f\"{dump_path}/DS_{endpoint}_{features}+Metabolomics_{partition}.p\" \n",
    "         for features in feature_sets \n",
    "         for partition in partitions\n",
    "        for endpoint in endpoints]"
   ]
  },
  {
   "cell_type": "code",
   "execution_count": null,
   "metadata": {},
   "outputs": [],
   "source": [
    "import glob, os\n",
    "import glob\n",
    "import pickle\n",
    "import re\n",
    "cph_dict = {}\n",
    "for path in tqdm(paths):\n",
    "    cph_dict[pathlib.Path(path).stem] = get_cph(path)"
   ]
  },
  {
   "cell_type": "code",
   "execution_count": null,
   "metadata": {},
   "outputs": [],
   "source": [
    "from lifelines import utils\n",
    "from lifelines.fitters import RegressionFitter, SemiParametricRegressionFitter\n",
    "from lifelines.plotting import set_kwargs_drawstyle\n",
    "def plot_partial_effects_on_outcome(cph, covariates, values, plot_baseline=True, y=\"survival_function\", **kwargs):\n",
    "    \n",
    "        from matplotlib import pyplot as plt\n",
    "\n",
    "        covariates = utils._to_list(covariates)\n",
    "        n_covariates = len(covariates)\n",
    "        values = np.asarray(values)\n",
    "        if len(values.shape) == 1:\n",
    "            values = values[None, :].T\n",
    "\n",
    "        if n_covariates != values.shape[1]:\n",
    "            raise ValueError(\"The number of covariates must equal to second dimension of the values array.\")\n",
    "\n",
    "        for covariate in covariates:\n",
    "            if covariate not in cph._central_values.columns:\n",
    "                raise KeyError(\"covariate `%s` is not present in the original dataset\" % covariate)\n",
    "#\n",
    "        if cph.strata is None:\n",
    "            data_exp = []\n",
    "            #axes = kwargs.pop(\"ax\", None) or plt.figure().add_subplot(111)\n",
    "            x_bar = cph._central_values\n",
    "            X = pd.concat([x_bar] * values.shape[0])\n",
    "\n",
    "            if np.array_equal(np.eye(n_covariates), values) or np.array_equal(\n",
    "                np.append(np.eye(n_covariates), np.zeros((n_covariates, 1)), axis=1), values\n",
    "            ):\n",
    "                X.index = [\"%s=1\" % c for c in covariates]\n",
    "            else:\n",
    "                X.index = [\", \".join(\"%s=%s\" % (c, v) for (c, v) in zip(covariates, row)) for row in values]\n",
    "            for covariate, value in zip(covariates, values.T):\n",
    "                X[covariate] = value\n",
    "\n",
    "            X = X.astype(cph._central_values.dtypes)\n",
    "\n",
    "            data_exp = getattr(cph, \"predict_%s\" % y)(X)\n",
    "\n",
    "        return data_exp"
   ]
  },
  {
   "cell_type": "code",
   "execution_count": null,
   "metadata": {},
   "outputs": [],
   "source": [
    "def get_part_effects_df(endpoint=\"M_MACE\", features=\"Age+Sex\", quantiles=[0.01, 0.1, 0.5, 0.9, 0.99], partition=0):\n",
    "    cph = cph_dict[f'DS_{endpoint}_{features}+Metabolomics_{partition}']\n",
    "    values = loghs[f'logh_{endpoint}_Metabolomics'].quantile(q=quantiles).to_list()\n",
    "    data_exp = plot_partial_effects_on_outcome(cph,covariates=f'logh_{endpoint}_Metabolomics', values=values, cmap='coolwarm')\n",
    "    return data_exp\n",
    "\n",
    "def clean_df(df, quantiles):\n",
    "    df.columns = quantiles+[\"endpoint\", \"features\", \"partition\"]\n",
    "    return df\n",
    "    \n",
    "quantiles=[0.01, 0.1, 0.5, 0.9, 0.99]\n",
    "partial_effects = pd.concat([clean_df(get_part_effects_df(endpoint, features, quantiles, partition).assign(endpoint=endpoint, features=features, partition=partition), quantiles)\n",
    "                             for endpoint in tqdm(endpoints)\n",
    "                             for features in feature_sets\n",
    "                             for partition in partitions\n",
    "                            ])\n",
    "partial_effects = partial_effects.reset_index().rename(columns={\"index\" : \"time\"})"
   ]
  },
  {
   "cell_type": "code",
   "execution_count": null,
   "metadata": {},
   "outputs": [],
   "source": [
    "import plotly.express as px\n",
    "\n",
    "df = partial_effects.melt(id_vars=[\"time\", \"endpoint\", \"features\", \"partition\"], value_vars=quantiles, var_name=\"quantile\", value_name=\"surv\").assign(Ft=lambda x: 1-x.surv)"
   ]
  },
  {
   "cell_type": "code",
   "execution_count": null,
   "metadata": {},
   "outputs": [],
   "source": [
    "df.to_feather(f\"{data_results_path}/adj_partial_effects_metabolomics_{run}.feather\")"
   ]
  },
  {
   "cell_type": "code",
   "execution_count": null,
   "metadata": {},
   "outputs": [],
   "source": [
    "hrs = []\n",
    "for key, cph in tqdm(cph_dict.items()):\n",
    "    endpoint = cph.event_col[:-6]\n",
    "    if \"DS\" in key:\n",
    "        if \"Metabolomics\" in key:\n",
    "            partition=int(key[-2:].replace(\"_\", \"\"))\n",
    "            hrs.append(cph.summary.assign(module=\"DS\", endpoint=endpoint, features=key, partition=partition).reset_index())"
   ]
  },
  {
   "cell_type": "code",
   "execution_count": null,
   "metadata": {},
   "outputs": [],
   "source": [
    "hrs_df = pd.concat(hrs, axis=0).reset_index(drop=True)"
   ]
  },
  {
   "cell_type": "code",
   "execution_count": null,
   "metadata": {},
   "outputs": [],
   "source": [
    "hrs_df.to_feather(f\"{data_results_path}/hrs_metabolomics_{run}.feather\")"
   ]
  }
 ],
 "metadata": {
  "kernelspec": {
   "display_name": "Python [conda env:riskiano_py39]",
   "language": "python",
   "name": "conda-env-riskiano_py39-py"
  },
  "language_info": {
   "codemirror_mode": {
    "name": "ipython",
    "version": 3
   },
   "file_extension": ".py",
   "mimetype": "text/x-python",
   "name": "python",
   "nbconvert_exporter": "python",
   "pygments_lexer": "ipython3",
   "version": "3.9.6"
  },
  "toc-autonumbering": false
 },
 "nbformat": 4,
 "nbformat_minor": 4
}
