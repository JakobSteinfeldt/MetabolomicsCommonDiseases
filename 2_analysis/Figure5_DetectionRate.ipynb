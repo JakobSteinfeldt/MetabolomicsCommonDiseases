{
 "cells": [
  {
   "cell_type": "markdown",
   "metadata": {},
   "source": [
    "## Initialize"
   ]
  },
  {
   "cell_type": "code",
   "execution_count": null,
   "metadata": {},
   "outputs": [],
   "source": [
    "getwd()"
   ]
  },
  {
   "cell_type": "code",
   "execution_count": null,
   "metadata": {
    "ExecuteTime": {
     "end_time": "2021-01-05T11:03:09.852316Z",
     "start_time": "2021-01-05T11:03:07.701Z"
    }
   },
   "outputs": [],
   "source": [
    "#library(Rmisc)\n",
    "library(tidyverse)\n",
    "library(glue)\n",
    "library(arrow)\n",
    "library(patchwork)"
   ]
  },
  {
   "cell_type": "code",
   "execution_count": null,
   "metadata": {
    "ExecuteTime": {
     "end_time": "2021-01-05T11:03:10.932312Z",
     "start_time": "2021-01-05T11:03:10.882Z"
    }
   },
   "outputs": [],
   "source": [
    "if (grepl(\"sc\", Sys.info()[[\"nodename\"]], fixed=TRUE)) {\n",
    "    base_path = \"/sc-projects/sc-proj-ukb-cvd\"\n",
    "} else {\n",
    "    base_path = \"/data/analysis/ag-reils/ag-reils-shared/cardioRS\"}\n",
    "print(base_path)\n",
    "\n",
    "dataset_name = \"210714_metabolomics\"\n",
    "path = \"/data/analysis/ag-reils/steinfej/code/umbrella/pre/ukbb\"\n",
    "data_path = glue(\"{base_path}/data\")\n",
    "dataset_path = glue(\"{data_path}/3_datasets_post/{dataset_name}\")\n",
    "\n",
    "project_label=\"21_metabolomics_multitask\"\n",
    "project_path = glue(\"{base_path}/results/projects/{project_label}\")\n",
    "figures_path = glue(\"{project_path}/figures\")\n",
    "data_results_path = glue(\"{project_path}/data\")"
   ]
  },
  {
   "cell_type": "markdown",
   "metadata": {},
   "source": [
    "## Load data"
   ]
  },
  {
   "cell_type": "code",
   "execution_count": null,
   "metadata": {
    "ExecuteTime": {
     "end_time": "2021-01-05T11:03:12.470354Z",
     "start_time": "2021-01-05T11:03:11.387Z"
    }
   },
   "outputs": [],
   "source": [
    "list.dirs(path = project_path, full.names = TRUE, recursive = TRUE)"
   ]
  },
  {
   "cell_type": "code",
   "execution_count": null,
   "metadata": {},
   "outputs": [],
   "source": [
    "run = \"220126\""
   ]
  },
  {
   "cell_type": "code",
   "execution_count": null,
   "metadata": {
    "ExecuteTime": {
     "end_time": "2021-01-05T11:03:23.212936Z",
     "start_time": "2021-01-05T11:03:11.689Z"
    }
   },
   "outputs": [],
   "source": [
    "DSM = \"MultiTaskSurvivalTraining\"\n",
    "data = arrow::read_feather(glue(\"{dataset_path}/data_merged.feather\")) \n",
    "data_description = arrow::read_feather(glue(\"{dataset_path}/description_merged.feather\"))\n",
    "predictions = arrow::read_feather(glue(\"{data_results_path}/predictions_{run}_metabolomics.feather\")) "
   ]
  },
  {
   "cell_type": "code",
   "execution_count": null,
   "metadata": {},
   "outputs": [],
   "source": [
    "data_events = data %>% select(eid, ends_with(\"event\"), ends_with(\"event_time\")) %>% \n",
    "    pivot_longer(-eid, names_to=c(\"endpoint\", \"type\"), values_to=\"value\", names_pattern=\"(.*)(event_time|event)\") %>% \n",
    "    mutate(endpoint = stringr::str_sub(endpoint, end=-2)) %>% pivot_wider(names_from=\"type\", values_from=\"value\")"
   ]
  },
  {
   "cell_type": "code",
   "execution_count": null,
   "metadata": {},
   "outputs": [],
   "source": [
    "predictions_tte = predictions %>% left_join(data_events, by=c(\"endpoint\", \"eid\"))"
   ]
  },
  {
   "cell_type": "code",
   "execution_count": null,
   "metadata": {},
   "outputs": [],
   "source": [
    "library(ggthemes)\n",
    "endpoint_map = c(\n",
    "    'M_MACE'='MACE',\n",
    "    'M_all_cause_dementia'='Dementia',\n",
    "    'M_type_2_diabetes'='T2 Diabetes',\n",
    "    'M_liver_disease'='Liver Disease',\n",
    "    'M_renal_disease'='Renal Disease',\n",
    "    'M_atrial_fibrillation'='Atrial Fibrillation',\n",
    "    'M_heart_failure'= 'Heart Failure',\n",
    "    'M_coronary_heart_disease'='CHD',\n",
    "    'M_venous_thrombosis'='Ven. Thrombosis',\n",
    "    'M_cerebral_stroke'='Cerebral Stroke',\n",
    "    'M_abdominal_aortic_aneurysm'='AAA',\n",
    "    'M_peripheral_arterial_disease'='PAD',\n",
    "    \"M_chronic_obstructuve_pulmonary_disease\" = \"COPD\",\n",
    "    \"M_asthma\" = \"Asthma\",\n",
    "    'M_parkinsons_disease' = \"Parkinson's\",    \n",
    "    \"M_lung_cancer\" = \"Lung Cancer\",\n",
    "    \"M_non_melanoma_skin_cancer\" = \"Skin Cancer\",\n",
    "    \"M_colon_cancer\"= \"Colon Cancer\",\n",
    "    \"M_rectal_cancer\" = \"Rectal Cancer\",\n",
    "    \"M_prostate_cancer\"= \"Prostate Cancer\",\n",
    "    \"M_breast_cancer\" = \"Breast Cancer\",\n",
    "    'M_cataracts' = \"Cataracts\", \n",
    "    'M_glaucoma' = \"Glaucoma\",\n",
    "    'M_fractures' = \"Fractures\"\n",
    ")\n",
    "\n",
    "#endpoint_order = c(\"M_type_2_diabetes\", \"M_all_cause_dementia\", \"M_heart_failure\")\n",
    "endpoint_order = c(\"M_MACE\", \"M_coronary_heart_disease\", \"M_cerebral_stroke\", \"M_all_cause_dementia\", \"M_heart_failure\", \"M_atrial_fibrillation\",\n",
    "                   \"M_type_2_diabetes\", \"M_liver_disease\", \"M_renal_disease\", \"M_peripheral_arterial_disease\", \"M_venous_thrombosis\",  \"M_abdominal_aortic_aneurysm\",\n",
    "                   \"M_chronic_obstructuve_pulmonary_disease\", \"M_asthma\", 'M_parkinsons_disease', 'M_cataracts', 'M_glaucoma', 'M_fractures',\n",
    "                    \"M_lung_cancer\",\"M_non_melanoma_skin_cancer\",\"M_colon_cancer\",\"M_rectal_cancer\",\"M_prostate_cancer\",\"M_breast_cancer\")"
   ]
  },
  {
   "cell_type": "code",
   "execution_count": null,
   "metadata": {},
   "outputs": [],
   "source": [
    "library(\"jsonlite\")\n",
    "colors_path = \"colors.json\"\n",
    "colors_dict = read_json(colors_path)\n",
    "\n",
    "color_map <- c('COX_Age+Sex' = colors_dict$pastel$grey$light, \n",
    "               'DS_Metabolomics' = \"#4F8EC1\",  #colors_dict$pastel$orange$dark,\n",
    "               'COX_ASCVD' = colors_dict$pastel$grey$dark, \n",
    "               'COX_PANEL' = \"black\", \n",
    "               'DS_Age+Sex+Metabolomics' = \"forestgreen\", #\"#53dd6c\",#colors_dict$pastel$orange$mid,\n",
    "               'DS_ASCVD+Metabolomics' = \"#d8315b\",#colors_dict$pastel$red$mid,\n",
    "               'DS_PANELnoblood+Metabolomics' = \"#023768\", #\"forestgreen\",\n",
    "               'DS_PANEL+Metabolomics' = \"black\" #colors_dict$pastel$red$dark\n",
    "      )\n",
    "\n",
    "type_map <- c('COX_Age+Sex' = \"solid\", \n",
    "               'DS_Metabolomics' = \"solid\",  #colors_dict$pastel$orange$dark,\n",
    "               'COX_ASCVD' = \"dashed\", \n",
    "               'COX_PANEL' = \"dotted\", \n",
    "               'DS_Age+Sex+Metabolomics' = \"solid\",#colors_dict$pastel$orange$mid,\n",
    "               'DS_ASCVD+Metabolomics' = \"solid\",#colors_dict$pastel$red$mid,\n",
    "               'DS_PANEL+Metabolomics' = \"solid\", #colors_dict$pastel$red$dark\n",
    "                'DS_PANELnoblood+Metabolomics' = \"solid\",\n",
    "              \"Treat All\" = \"solid\",\n",
    "              \"Treat None\" = \"solid\"\n",
    "      )\n",
    "\n",
    "size_map <- c('COX_Age+Sex' = 0.25, \n",
    "               'DS_Metabolomics' = 0.25,  #colors_dict$pastel$orange$dark,\n",
    "               'COX_ASCVD' = 0.25, \n",
    "               'COX_PANEL' = 0.5, \n",
    "               'DS_Age+Sex+Metabolomics' = 0.25,#colors_dict$pastel$orange$mid,\n",
    "               'DS_ASCVD+Metabolomics' = 0.25,#colors_dict$pastel$red$mid,\n",
    "               'DS_PANEL+Metabolomics' = 0.25, #colors_dict$pastel$red$dark\n",
    "                'DS_PANELnoblood+Metabolomics' = 0.25,\n",
    "              \"Treat All\" = 0.25,\n",
    "              \"Treat None\" = 0.25\n",
    "      )"
   ]
  },
  {
   "cell_type": "code",
   "execution_count": null,
   "metadata": {},
   "outputs": [],
   "source": [
    "library(foreach)"
   ]
  },
  {
   "cell_type": "code",
   "execution_count": null,
   "metadata": {},
   "outputs": [],
   "source": [
    "library(doParallel)"
   ]
  },
  {
   "cell_type": "code",
   "execution_count": null,
   "metadata": {},
   "outputs": [],
   "source": [
    "scores_dca = c(\"DS_Metabolomics\",\n",
    "    \"COX_Age+Sex\",\n",
    "    \"DS_Age+Sex+Metabolomics\" ,\n",
    "    \"COX_ASCVD\",\n",
    "    \"DS_ASCVD+Metabolomics\",\n",
    "    \"DS_PANELnoblood+Metabolomics\",\n",
    "    \"COX_PANEL\",\n",
    "    \"DS_PANEL+Metabolomics\"\n",
    "    # \"DS_PANELjustbloodcount+Metabolomics\",          \n",
    "    \n",
    "              )"
   ]
  },
  {
   "cell_type": "code",
   "execution_count": null,
   "metadata": {},
   "outputs": [],
   "source": [
    "prepare_endpoint = function(endpoint){\n",
    "    dca_temp = predictions_tte %>% filter(endpoint==!!endpoint) %>% \n",
    "        mutate(score=glue(\"{module}_{features}\")) %>% \n",
    "        select(eid, score, Ft_10, event, event_time) %>% \n",
    "        filter(score %in% scores_dca) %>%\n",
    "        pivot_wider(names_from=\"score\", values_from=\"Ft_10\") %>% \n",
    "        distinct() %>% \n",
    "        mutate(\n",
    "            event10 = case_when(\n",
    "                (event == 1 & event_time <= 10) ~ 1,\n",
    "                (event == 1 & event_time > 10) ~ 0,\n",
    "                TRUE ~ 0)\n",
    "        ) %>%\n",
    "        mutate(endpoint=endpoint)\n",
    "    return(dca_temp)# %>% select(-event, -event_time))\n",
    "    }"
   ]
  },
  {
   "cell_type": "raw",
   "metadata": {},
   "source": [
    "library(caret)\n",
    "calc_plr = function(pred_df, pred_col, threshold){\n",
    "    tryCatch(\n",
    "        {\n",
    "        pred = ifelse(pred_df[[pred_col]]>threshold,1,0)\n",
    "        actual = pred_df$event\n",
    "        conf_matrix = table(pred, actual)\n",
    "        sens_spec = tribble(\n",
    "        ~Sensitivity, ~Specificity, \n",
    "        sensitivity(conf_matrix), specificity(conf_matrix)\n",
    "        )\n",
    "        return (sens_spec)\n",
    "        },\n",
    "        error = function(e){\n",
    "            #message(\"Caugth an error\")\n",
    "            #print(e)\n",
    "            error_tribble =  tribble(\n",
    "                ~Sensitivity, ~Specificity, \n",
    "                NA, NA)\n",
    "            return (error_tribble)\n",
    "        }\n",
    "        )\n",
    "        }"
   ]
  },
  {
   "cell_type": "code",
   "execution_count": null,
   "metadata": {},
   "outputs": [],
   "source": [
    "library(pROC)\n",
    "calc_roc = function(pred_df, pred_col){\n",
    "    tryCatch(\n",
    "        {\n",
    "        pred = pred_df[[pred_col]]#ifelse(pred_df[[pred_col]]>threshold,1,0)\n",
    "        actual = pred_df$event\n",
    "        roc_obj = roc(actual, pred)\n",
    "        x = coords(roc_obj,  ret = c(\"threshold\", \"sensitivity\", \"specificity\", \"ppv\", \"npv\"))\n",
    "        roc_df <- data.frame(\n",
    "        threshold = rev(roc_obj$thresholds),\n",
    "      sens=rev(roc_obj$sensitivities), \n",
    "      spec=rev(roc_obj$specificities),\n",
    "        ppv = rev(x$ppv)) %>%\n",
    "        mutate(lpr = sens / (1-spec))\n",
    "        return (roc_df)\n",
    "        },\n",
    "        error = function(e){\n",
    "            #message(\"Caugth an error\")\n",
    "            #print(e)\n",
    "            error_tribble =  tribble(\n",
    "                ~threshold, ~sens, ~spec, ~lpr, \n",
    "                NA, NA, NA, NA)\n",
    "            return (error_tribble)\n",
    "        }\n",
    "        )\n",
    "        }"
   ]
  },
  {
   "cell_type": "code",
   "execution_count": null,
   "metadata": {},
   "outputs": [],
   "source": [
    "dfs = tibble()\n",
    "for (endpoint in endpoint_order){\n",
    "    print(endpoint)\n",
    "    flush.console()\n",
    "    df_endpoint = prepare_endpoint(endpoint)\n",
    "    for (score in scores_dca){\n",
    "        sens_spec = calc_roc(df_endpoint, score) %>% mutate(endpoint=endpoint, score=score)\n",
    "        dfs = bind_rows(dfs, sens_spec)\n",
    "        }\n",
    "    \n",
    "    }"
   ]
  },
  {
   "cell_type": "code",
   "execution_count": null,
   "metadata": {},
   "outputs": [],
   "source": [
    "roc_df = dfs %>% filter(!is.infinite(threshold))"
   ]
  },
  {
   "cell_type": "raw",
   "metadata": {},
   "source": [
    "plot_width=15; plot_height=5; plot_dpi=320\n",
    "options(repr.plot.width = plot_width, repr.plot.height = plot_height, repr.plot.res=plot_dpi)\n",
    "ggplot(roc_df, aes(x=1-sens, y=spec, color=score, linetype=score, size=score)) + \n",
    "    geom_line() + \n",
    "    scale_color_manual(values=color_map)+\n",
    "    scale_linetype_manual(values=type_map)+\n",
    "    scale_size_manual(values=size_map)+\n",
    "    facet_grid(~endpoint)"
   ]
  },
  {
   "cell_type": "code",
   "execution_count": null,
   "metadata": {},
   "outputs": [],
   "source": [
    "# specificity"
   ]
  },
  {
   "cell_type": "code",
   "execution_count": null,
   "metadata": {},
   "outputs": [],
   "source": [
    "detection_df = roc_df %>% \n",
    "    mutate(fpr=1-spec) %>%\n",
    "    mutate(c_5 = fpr-0.05, c_10 = fpr-0.1, c_15 = fpr-0.15, c_20 = fpr-0.20, c_25 = fpr-0.25, c_30 = fpr-0.3, c_35 = fpr-0.35, c_40 = fpr-0.4, c_45 = fpr-0.45, c_50 = fpr-0.5) %>% \n",
    "    pivot_longer(starts_with(\"c_\"), names_to=\"fpr_name\", values_to=\"c_x\") %>%\n",
    "    group_by(endpoint, score, fpr_name) %>% \n",
    "    slice_min(abs(c_x)) %>% select(-c_x) %>% ungroup() %>%\n",
    "    group_by(endpoint, score, fpr_name) %>% \n",
    "    summarise(threshold = mean(threshold), sens=mean(sens), ppv=mean(ppv), lpr=mean(lpr)) %>%\n",
    "     mutate(fpr = as.numeric(str_remove(fpr_name, \"c_\"))/100) %>% \n",
    "    mutate(score = factor(score, levels= scores_dca)) %>%\n",
    "    mutate(endpoint = factor(endpoint, levels= endpoint_order)) %>%\n",
    "    select(-fpr_name) %>% select(endpoint, score, fpr, threshold, sens, ppv, lpr) %>% arrange(endpoint, fpr, score) %>% ungroup()"
   ]
  },
  {
   "cell_type": "code",
   "execution_count": null,
   "metadata": {},
   "outputs": [],
   "source": [
    "scores_map = c(\n",
    "    \"DS_Metabolomics\" = \"MET\",\n",
    "    \n",
    "    \"COX_Age+Sex\" = \"AgeSex\",\n",
    "    \"DS_Age+Sex+Metabolomics\" = \"AgeSex+MET\",\n",
    "    \n",
    "    \"COX_ASCVDnoblood\" = \"ASCVD(noblood)\",\n",
    "    \"DS_ASCVDnoblood+Metabolomics\" = \"ASCVD(noblood)+MET\",\n",
    "    \n",
    "    \"COX_ASCVD\" = \"ASCVD\",\n",
    "    \"DS_ASCVD+Metabolomics\" = \"ASCVD+MET\",\n",
    "    \n",
    "     \"COX_PANELnoblood\" = \"PANEL(noB)\", \n",
    "    \"DS_PANELnoblood+Metabolomics\" = \"PANEL(noB)+MET\",\n",
    "    \n",
    "    \"COX_PANELjustbloodcount\" = \"PANEL(jBC)\", \n",
    "    \"DS_PANELjustbloodcount+Metabolomics\" = \"PANEL(jBC)+MET\",\n",
    "    \n",
    "    \"COX_PANEL\" = \"PANEL\", \n",
    "    \"DS_PANEL+Metabolomics\" = \"PANEL+MET\"\n",
    "               )"
   ]
  },
  {
   "cell_type": "code",
   "execution_count": null,
   "metadata": {},
   "outputs": [],
   "source": [
    "base_size = 8\n",
    "title_size = 8\n",
    "facet_size = 8\n",
    "geom_text_size=3\n",
    "library(ggplot2); \n",
    "theme_set(theme_classic(base_size = base_size) + \n",
    "          theme(strip.background = element_blank(), plot.title=element_text(size=title_size, hjust=0), \n",
    "                strip.text.x = element_text(size = facet_size),axis.title=element_text(size=8), axis.text=element_text(size=8, color=\"black\"), axis.text.x=element_text(size=8, color=\"black\"),\n",
    "                legend.position=\"bottom\", axis.line = element_line(size = 0.2), axis.ticks=element_line(size=0.2)))"
   ]
  },
  {
   "cell_type": "code",
   "execution_count": null,
   "metadata": {},
   "outputs": [],
   "source": [
    "plot_width=8.25; plot_height=5.5; plot_dpi=320\n",
    "options(repr.plot.width = plot_width, repr.plot.height = plot_height, repr.plot.res=plot_dpi)\n",
    "\n",
    "library(ggdist)\n",
    "\n",
    "temp = detection_df %>% filter(fpr==0.05)\n",
    "met_lpr = ggplot(temp, aes(x=score)) +\n",
    "    labs(x=NULL, y=\"Positive Likelyhood Ratio (at 5% FPR)\")+#, title=\"Metabolomics (orange) vs. Age+Sex (grey) vs. AgeSexMetabolomic (red)\")+\n",
    "    geom_point(mapping = aes(y=lpr, color=score, fill=score), alpha=0.7, size=0.7)+\n",
    "    scale_x_discrete(labels=scores_map)+\n",
    "    scale_y_continuous(breaks=scales::extended_breaks())+\n",
    "    scale_color_manual(values=color_map)+scale_fill_manual(values=color_map)+\n",
    "    #coord_flip() + \n",
    "    facet_wrap(~endpoint, scales=\"free_y\", labeller = labeller(endpoint = endpoint_map), ncol=6) +theme(legend.position=\"none\")+theme(axis.text.x = element_text(angle =90, hjust = 1))+#+#+\n",
    "    theme(panel.spacing = unit(0.8, \"lines\"), \n",
    "          panel.grid.major.y = element_line(), \n",
    "          axis.text.x = element_text(size=5.5, hjust=1))\n",
    "\n",
    "met_lpr"
   ]
  },
  {
   "cell_type": "code",
   "execution_count": null,
   "metadata": {},
   "outputs": [],
   "source": [
    "table_nice = detection_df %>% \n",
    "    mutate(endpoint = recode(endpoint, !!!endpoint_map), score = recode(score, !!!scores_map)) %>% arrange(endpoint, score)\n",
    "table_nice %>% write_csv(\"outputs/Suppl_Table_PPV.csv\")"
   ]
  },
  {
   "cell_type": "code",
   "execution_count": null,
   "metadata": {},
   "outputs": [],
   "source": [
    "table_nice"
   ]
  },
  {
   "cell_type": "code",
   "execution_count": null,
   "metadata": {},
   "outputs": [],
   "source": [
    "table_wide = table_nice %>% rename(`1_threshold`=threshold, `2_sens`=sens, `3_ppv`=ppv, `4_lpr`=lpr) %>%\n",
    "    pivot_wider(names_from=\"fpr\", values_from=c(\"1_threshold\", \"2_sens\", \"3_ppv\", \"4_lpr\"), names_glue=\"{fpr}_{.value}\") %>% select(sort(colnames(.))) %>% select(endpoint, score, everything())\n",
    "table_wide %>% write_csv(\"outputs/Suppl_Table_PPV_wide.csv\")"
   ]
  },
  {
   "cell_type": "code",
   "execution_count": null,
   "metadata": {},
   "outputs": [],
   "source": [
    "table_wide"
   ]
  },
  {
   "cell_type": "code",
   "execution_count": null,
   "metadata": {},
   "outputs": [],
   "source": [
    "detection_df_clean = detection_df %>% select(ppv, endpoint, score, fpr) %>% \n",
    "    pivot_wider(names_from=\"score\", values_from=\"ppv\", values_fn=mean) %>% \n",
    "    arrange(endpoint, fpr)"
   ]
  },
  {
   "cell_type": "code",
   "execution_count": null,
   "metadata": {},
   "outputs": [],
   "source": [
    "detection_df_clean"
   ]
  },
  {
   "cell_type": "code",
   "execution_count": null,
   "metadata": {},
   "outputs": [],
   "source": [
    "plot_width=15; plot_height=5; plot_dpi=320\n",
    "options(repr.plot.width = plot_width, repr.plot.height = plot_height, repr.plot.res=plot_dpi)\n",
    "ggplot(detection_df, aes(x=fpr, y=ppv, color=score, linetype=score, size=score)) + geom_line() + \n",
    "    facet_wrap(~endpoint, scales=\"free_y\") +\n",
    "  scale_color_manual(values=color_map)+\n",
    "    scale_linetype_manual(values=type_map)+\n",
    "    scale_size_manual(values=size_map)"
   ]
  },
  {
   "cell_type": "code",
   "execution_count": null,
   "metadata": {},
   "outputs": [],
   "source": [
    "plot_width=15; plot_height=5; plot_dpi=320\n",
    "options(repr.plot.width = plot_width, repr.plot.height = plot_height, repr.plot.res=plot_dpi)\n",
    "ggplot(detection_df, aes(x=spec, y=sens, color=score, linetype=score, size=score)) + geom_line() + facet_grid(~endpoint) +\n",
    "  scale_color_manual(values=color_map)+\n",
    "    scale_linetype_manual(values=type_map)+\n",
    "    scale_size_manual(values=size_map)"
   ]
  },
  {
   "cell_type": "code",
   "execution_count": null,
   "metadata": {},
   "outputs": [],
   "source": [
    "plot_width=15; plot_height=5; plot_dpi=320\n",
    "options(repr.plot.width = plot_width, repr.plot.height = plot_height, repr.plot.res=plot_dpi)\n",
    "ggplot(dfs, aes(x=threshold, y=lpr, color=score, linetype=score, size=score)) + geom_line() + facet_grid(~endpoint) +\n",
    "  scale_color_manual(values=color_map)+\n",
    "    scale_linetype_manual(values=type_map)+\n",
    "    scale_size_manual(values=size_map)\n",
    "    \n",
    "    "
   ]
  },
  {
   "cell_type": "code",
   "execution_count": null,
   "metadata": {},
   "outputs": [],
   "source": [
    "roc_df_long = dfs %>% pivot_longer(c(sens, spec), names_to=\"type\", values_to=\"value\")"
   ]
  },
  {
   "cell_type": "code",
   "execution_count": null,
   "metadata": {},
   "outputs": [],
   "source": [
    "plot_width=8.25; plot_height=10; plot_dpi=320\n",
    "options(repr.plot.width = plot_width, repr.plot.height = plot_height, repr.plot.res=plot_dpi)\n",
    "ggplot(roc_df_long, aes(x=threshold, y=value, color=type)) + geom_line() + facet_grid(score~endpoint)"
   ]
  },
  {
   "cell_type": "raw",
   "metadata": {},
   "source": [
    "dfs = tibble()\n",
    "for (endpoint in endpoint_order){\n",
    "    print(endpoint)\n",
    "    flush.console()\n",
    "    df_endpoint = prepare_endpoint(endpoint)\n",
    "    for (score in scores_dca){\n",
    "        print(score)\n",
    "        flush.console()\n",
    "        for (threshold in seq(0.01, 0.50, by=0.01)){\n",
    "            #if (sens_spec$Sensitivity != sens_spec$Sensitivit) next\n",
    "            sens_spec = calc_plr(df_endpoint, score, threshold) %>% mutate(endpoint=endpoint, score=score, threshold=threshold)\n",
    "            dfs = bind_rows(dfs, sens_spec)\n",
    "            } \n",
    "        }\n",
    "    \n",
    "    }"
   ]
  },
  {
   "cell_type": "code",
   "execution_count": null,
   "metadata": {},
   "outputs": [],
   "source": []
  },
  {
   "cell_type": "code",
   "execution_count": null,
   "metadata": {},
   "outputs": [],
   "source": [
    "temp = dfs %>% mutate(lpr = Sensitivity/(1-Specificity))"
   ]
  },
  {
   "cell_type": "code",
   "execution_count": null,
   "metadata": {},
   "outputs": [],
   "source": [
    "temp "
   ]
  },
  {
   "cell_type": "code",
   "execution_count": null,
   "metadata": {},
   "outputs": [],
   "source": [
    "temp %>% \n",
    "    select(endpoint, score, threshold, lpr) %>% \n",
    "    pivot_wider(names_from=\"score\", values_from=\"lpr\") %>% \n",
    "    select(endpoint, threshold, all_of(scores_dca)) "
   ]
  },
  {
   "cell_type": "code",
   "execution_count": null,
   "metadata": {},
   "outputs": [],
   "source": [
    "plot_width=8.25; plot_height=10; plot_dpi=320\n",
    "options(repr.plot.width = plot_width, repr.plot.height = plot_height, repr.plot.res=plot_dpi)\n",
    "ggplot(temp, aes(x=threshold, y=lpr, color=score, type=score, size=score)) + \n",
    "    geom_line() + \n",
    "    scale_color_manual(values=color_map)+\n",
    "    scale_linetype_manual(values=type_map)+\n",
    "    scale_size_manual(values=size_map)+\n",
    "    facet_grid(endpoint~., scales=\"free_y\") "
   ]
  },
  {
   "cell_type": "code",
   "execution_count": null,
   "metadata": {},
   "outputs": [],
   "source": [
    "calc_plr(df_endpoint, \"DS_Metabolomics\", threshold)"
   ]
  },
  {
   "cell_type": "code",
   "execution_count": null,
   "metadata": {},
   "outputs": [],
   "source": [
    "endpoint = \"M_type_2_diabetes\"\n"
   ]
  },
  {
   "cell_type": "code",
   "execution_count": null,
   "metadata": {},
   "outputs": [],
   "source": [
    "threshold = 0.1\n",
    "calc_plr(df_endpoint, \"DS_Metabolomics\", threshold)"
   ]
  },
  {
   "cell_type": "code",
   "execution_count": null,
   "metadata": {},
   "outputs": [],
   "source": [
    "tribble(\n",
    "    ~Sensitivity, ~Specificity, \n",
    "    sensitivity(conf_matrix), specificity(conf_matrix)\n",
    ")\n",
    "    "
   ]
  },
  {
   "cell_type": "code",
   "execution_count": null,
   "metadata": {},
   "outputs": [],
   "source": [
    "sensitivity(conf_matrix)"
   ]
  },
  {
   "cell_type": "code",
   "execution_count": null,
   "metadata": {},
   "outputs": [],
   "source": [
    "specificity(conf_matrix)"
   ]
  },
  {
   "cell_type": "code",
   "execution_count": null,
   "metadata": {},
   "outputs": [],
   "source": [
    "plr = sensitivity(conf_matrix) / (1-specificity(conf_matrix))\n",
    "plr"
   ]
  },
  {
   "cell_type": "code",
   "execution_count": null,
   "metadata": {},
   "outputs": [],
   "source": [
    "temp"
   ]
  },
  {
   "cell_type": "code",
   "execution_count": null,
   "metadata": {},
   "outputs": [],
   "source": []
  },
  {
   "cell_type": "code",
   "execution_count": null,
   "metadata": {},
   "outputs": [],
   "source": [
    "library(ROCit)"
   ]
  },
  {
   "cell_type": "code",
   "execution_count": null,
   "metadata": {},
   "outputs": [],
   "source": [
    "survivalROC(temp$event_time, temp$event, temp$Ft, predict.time=10)"
   ]
  },
  {
   "cell_type": "code",
   "execution_count": null,
   "metadata": {},
   "outputs": [],
   "source": []
  },
  {
   "cell_type": "code",
   "execution_count": null,
   "metadata": {},
   "outputs": [],
   "source": [
    "calculate_dca = function(endpoint){\n",
    "    dca_temp = predictions_tte %>% filter(endpoint==!!endpoint) %>% \n",
    "        mutate(score=glue(\"{module}_{features}\")) %>% \n",
    "        select(eid, score, Ft_10, event, event_time) %>% \n",
    "        filter(score %in% scores_dca) %>%\n",
    "        pivot_wider(names_from=\"score\", values_from=\"Ft_10\") %>% \n",
    "        distinct()\n",
    "    \n",
    "    print(glue(\"{endpoint} n={nrow(dca_temp)}\"))\n",
    "    flush.console()\n",
    "    \n",
    "    dca_endpoint = dca(\n",
    "        Surv(event_time, event) ~ DS_Metabolomics + `COX_Age+Sex` + `DS_Age+Sex+Metabolomics` + COX_ASCVD + `DS_ASCVD+Metabolomics` + COX_PANEL + `DS_PANEL+Metabolomics` + `DS_PANELjustbloodcount+Metabolomics` + `DS_PANELnoblood+Metabolomics`, \n",
    "        data = dca_temp,\n",
    "        time = 10,\n",
    "        thresholds = seq(0, 0.5, by=0.001)\n",
    "           )$dca\n",
    "    return(dca_endpoint %>% mutate(st_net_benefit = net_benefit/prevalence))\n",
    "}"
   ]
  },
  {
   "cell_type": "code",
   "execution_count": null,
   "metadata": {},
   "outputs": [],
   "source": [
    "registerDoParallel(length(endpoint_order))"
   ]
  },
  {
   "cell_type": "code",
   "execution_count": null,
   "metadata": {},
   "outputs": [],
   "source": [
    "library(dcurves)\n",
    "dca_data = foreach(key=endpoint_order, endpoint=endpoint_order) %dopar% {\n",
    "    calculate_dca(endpoint)\n",
    "}"
   ]
  },
  {
   "cell_type": "code",
   "execution_count": null,
   "metadata": {},
   "outputs": [],
   "source": [
    "names(dca_data) = endpoint_order\n",
    "for (endpoint in endpoint_order){\n",
    "    dca_data[[endpoint]][\"endpoint\"] = endpoint\n",
    "    }"
   ]
  },
  {
   "cell_type": "code",
   "execution_count": null,
   "metadata": {},
   "outputs": [],
   "source": [
    "dca_data_agg = bind_rows(dca_data) "
   ]
  },
  {
   "cell_type": "code",
   "execution_count": null,
   "metadata": {},
   "outputs": [],
   "source": []
  },
  {
   "cell_type": "code",
   "execution_count": null,
   "metadata": {},
   "outputs": [],
   "source": [
    "dca_data_agg %>% mutate(detection_rate = tp_rate/fp_rate) %>% filter(fp_rate>0.95) %>% sample_n(10)"
   ]
  },
  {
   "cell_type": "code",
   "execution_count": null,
   "metadata": {},
   "outputs": [],
   "source": [
    "base_size = 8\n",
    "title_size = 10\n",
    "facet_size = 10\n",
    "geom_text_size=3\n",
    "library(ggplot2); \n",
    "theme_set(theme_classic(base_size = base_size) + \n",
    "          theme(strip.background = element_blank(), plot.title=element_text(size=title_size, hjust=0), \n",
    "                strip.text.x = element_text(size = facet_size),axis.title=element_text(size=10), axis.text=element_text(size=8, color=\"black\"),\n",
    "                legend.position=\"bottom\", axis.line = element_line(size = 0.2), axis.ticks=element_line(size=0.2), panel.grid.major.y = element_line()))"
   ]
  },
  {
   "cell_type": "markdown",
   "metadata": {
    "tags": []
   },
   "source": [
    "## AgeSex + Metabolomics vs PANEL"
   ]
  },
  {
   "cell_type": "code",
   "execution_count": null,
   "metadata": {},
   "outputs": [],
   "source": [
    "endpoints_plot = c(\n",
    "         \"M_type_2_diabetes\", #s\n",
    "                  \"M_all_cause_dementia\", #s\n",
    "                  \"M_heart_failure\") #s\n",
    "\n",
    "scores_plot = c(\n",
    "    \"Treat All\", \n",
    "    \"Treat None\",\n",
    "    \"COX_Age+Sex\",\n",
    "    \"DS_Age+Sex+Metabolomics\",\n",
    "    \"DS_PANELnoblood+Metabolomics\",\n",
    "    \"COX_ASCVD\",\n",
    "    \"COX_PANEL\",\n",
    "    \"DS_PANEL+Metabolomics\"\n",
    ")"
   ]
  },
  {
   "cell_type": "code",
   "execution_count": null,
   "metadata": {},
   "outputs": [],
   "source": [
    "calibration_df = predictions_tte %>% \n",
    "    filter(endpoint %in% endpoints_plot) %>% \n",
    "    mutate(score = glue(\"{module}_{features}\")) %>% \n",
    "    filter(score %in% scores_plot) %>% \n",
    "    select(eid, endpoint, score, Ft_10, event, event_time) %>%\n",
    "    group_by(endpoint, score) %>% mutate(risk_group = ntile(Ft_10, 10), \n",
    "                                         event_10 = case_when(event == 0 ~ 0,\n",
    "                                                              ((event==1)&(event_time>10)) ~ 0,\n",
    "                                                              ((event==1)&(event_time<=10)) ~ 1\n",
    "                                                             )\n",
    "                                        ) %>% \n",
    "    group_by(endpoint, score, risk_group) %>% \n",
    "    mutate(mean_risk = mean(Ft_10), mean_events = mean(event_10)) %>%\n",
    "    mutate(endpoint = factor(endpoint, levels=endpoints_plot))"
   ]
  },
  {
   "cell_type": "code",
   "execution_count": null,
   "metadata": {},
   "outputs": [],
   "source": [
    "library(lemon)"
   ]
  },
  {
   "cell_type": "code",
   "execution_count": null,
   "metadata": {},
   "outputs": [],
   "source": [
    "plots_cal = c()\n",
    "for (endpoint in endpoints_plot){\n",
    "    temp = calibration_df %>% filter(as.character(endpoint) == !!endpoint)\n",
    "    endpoint_label = endpoint_map[[endpoint]]\n",
    "    plots_cal[[endpoint]] = \n",
    "        ggplot(temp, aes(x=mean_risk*100, y=mean_events*100, color=score, size=score, linetype=score)) + \n",
    "        geom_abline(intercept=0, slope=1, color=\"#FA8334\", alpha=1, size=0.5)+    \n",
    "        #geom_point() + \n",
    "        geom_line(alpha=0.7)+\n",
    "        labs(title=endpoint_label, x=\"Predicted Risk [%]\", y=\"Observed Event Rate [%]\") +\n",
    "        scale_color_manual(values=color_map)+\n",
    "        scale_linetype_manual(values=type_map)+\n",
    "        scale_size_manual(values=size_map)+\n",
    "        coord_cartesian(xlim=c(0, NA), ylim=c(0, NA))+\n",
    "        theme(legend.position=\"none\", axis.title = element_text())\n",
    "    #print(plotsA[[endpoint]])\n",
    "    flush.console()\n",
    "    }"
   ]
  },
  {
   "cell_type": "raw",
   "metadata": {},
   "source": [
    "fig5_cal = wrap_plots(plots_cal, ncol=1)\n",
    "plot_width=8.25; plot_height=10; plot_dpi=320\n",
    "options(repr.plot.width = plot_width, repr.plot.height = plot_height, repr.plot.res=plot_dpi)\n",
    "fig5_cal"
   ]
  },
  {
   "cell_type": "code",
   "execution_count": null,
   "metadata": {},
   "outputs": [],
   "source": [
    "fig5_cal = wrap_plots(plots_cal, ncol=3)\n",
    "plot_width=8.25; plot_height=3.25; plot_dpi=320\n",
    "options(repr.plot.width = plot_width, repr.plot.height = plot_height, repr.plot.res=plot_dpi)\n",
    "fig5_cal"
   ]
  },
  {
   "cell_type": "code",
   "execution_count": null,
   "metadata": {},
   "outputs": [],
   "source": [
    "met_map = c(\"High\"=\"#023768\", \"Mid\"=\"#4F8EC1\", \"Low\"=\"#7AC6FF\")"
   ]
  },
  {
   "cell_type": "code",
   "execution_count": null,
   "metadata": {},
   "outputs": [],
   "source": [
    "scores_plot = c(\n",
    "    \"Treat All\", \n",
    "    \"Treat None\",\n",
    "    \"COX_Age+Sex\",\n",
    "    \"DS_Age+Sex+Metabolomics\",\n",
    "    \"DS_PANELnoblood+Metabolomics\",\n",
    "    \"COX_ASCVD\",\n",
    "    \"COX_PANEL\"\n",
    ")\n",
    "\n",
    "plotsA = c()\n",
    "for (endpoint in endpoints_plot){\n",
    "    temp = dca_data[[endpoint]] %>% mutate(st_net_benefit = st_net_benefit*100) %>% mutate(st_net_benefit = case_when((label == \"COX_Age+Sex\")&is.na(st_net_benefit) ~ 0, TRUE ~ st_net_benefit))\n",
    "    if (min((temp %>% filter(label==\"DS_PANEL+Metabolomics\"))$st_net_benefit, na.rm=TRUE)>0){\n",
    "        threshold_max = (temp %>% filter(label==\"DS_PANEL+Metabolomics\") %>% slice_min(st_net_benefit))$threshold\n",
    "        }\n",
    "    else{\n",
    "        threshold_max = min((temp %>% filter(label==\"DS_PANEL+Metabolomics\") %>% filter(st_net_benefit<0))$threshold, na.rm=TRUE)\n",
    "        }\n",
    "    endpoint_label = endpoint_map[[endpoint]]\n",
    "        temp_plot = temp %>% filter(label %in% scores_plot)\n",
    "    temp_plot_wide = temp_plot %>%  select(threshold, label, st_net_benefit) %>% pivot_wider(names_from=\"label\", values_from=\"st_net_benefit\")\n",
    "    plotsA[[endpoint]] = \n",
    "        ggplot(temp_plot)+\n",
    "          labs(title=endpoint_label, x=\"Threshold Probability [%]\", y=\"Standardized Net Benefit [%]\")+\n",
    "        geom_ribbon(data=temp_plot_wide, mapping=aes(x=threshold, ymin=`COX_Age+Sex`, ymax=`DS_Age+Sex+Metabolomics`), fill=colors_dict$pastel$green$mid, alpha=0.5, colour = NA)+\n",
    "        geom_ribbon(data=temp_plot_wide, mapping=aes(x=threshold, ymin=`DS_Age+Sex+Metabolomics`, ymax=`DS_PANELnoblood+Metabolomics`), fill=\"#023768\", alpha=0.5, colour = NA)+\n",
    "        geom_line(data=temp_plot, mapping=aes(x=threshold, y=st_net_benefit, color=label, linetype=label, size=label)) +       \n",
    "        coord_cartesian(xlim=c(0, threshold_max), ylim=c(0, max(temp$st_net_benefit, na.rm=TRUE)))+\n",
    "          scale_x_continuous(labels = function(x){x*100})+#labels = scales::percent_format(accuracy=1))+\n",
    "          scale_color_manual(values=color_map)+\n",
    "          scale_linetype_manual(values=type_map)+\n",
    "    scale_size_manual(values=size_map)+\n",
    "        theme(legend.position=\"none\")\n",
    "    #print(plotsA[[endpoint]])\n",
    "    flush.console()\n",
    "    }"
   ]
  },
  {
   "cell_type": "code",
   "execution_count": null,
   "metadata": {},
   "outputs": [],
   "source": [
    "scores_plot = c(\n",
    "    \"Treat All\", \n",
    "    \"Treat None\",\n",
    "      \"COX_Age+Sex\",\n",
    "      \"COX_ASCVD\",\n",
    "    \"COX_PANEL\",\n",
    "    \"DS_PANEL+Metabolomics\"\n",
    ")\n",
    "\n",
    "plotsB = c()\n",
    "for (endpoint in endpoints_plot){\n",
    "    temp = dca_data[[endpoint]] %>% mutate(st_net_benefit = st_net_benefit*100) \n",
    "    if (min((temp %>% filter(label==\"DS_PANEL+Metabolomics\"))$st_net_benefit, na.rm=TRUE)>0){\n",
    "        threshold_max = (temp %>% filter(label==\"DS_PANEL+Metabolomics\") %>% slice_min(st_net_benefit))$threshold\n",
    "        }\n",
    "    else{\n",
    "        threshold_max = min((temp %>% filter(label==\"DS_PANEL+Metabolomics\") %>% filter(st_net_benefit<0))$threshold, na.rm=TRUE)\n",
    "        }\n",
    "    endpoint_label = endpoint_map[[endpoint]]\n",
    "        temp_plot = temp %>% filter(label %in% scores_plot)\n",
    "    temp_plot_wide = temp_plot %>%  select(threshold, label, st_net_benefit) %>% pivot_wider(names_from=\"label\", values_from=\"st_net_benefit\")\n",
    "    plotsB[[endpoint]] = \n",
    "        ggplot(data=temp_plot) + \n",
    "             labs(title=endpoint_label, x=\"Threshold Probability [%]\", y=\"Standardized Net Benefit [%]\")+\n",
    "            \n",
    "            geom_ribbon(data=temp_plot_wide, mapping=aes(x=threshold, ymin=COX_PANEL, ymax=`DS_PANEL+Metabolomics`), fill=\"firebrick\", alpha=0.7, colour = NA)+\n",
    "            geom_line(data=temp_plot, mapping=aes(x=threshold, y=st_net_benefit, color=label, linetype=label, size=label)) +         \n",
    "            coord_cartesian(xlim=c(0, threshold_max), ylim=c(0, max(temp$st_net_benefit, na.rm=TRUE)))+\n",
    "            scale_x_continuous(labels = function(x){x*100})+#scales::percent_format(accuracy=1))+\n",
    "            scale_color_manual(values=color_map)+\n",
    "            scale_linetype_manual(values=type_map)+\n",
    "            scale_size_manual(values=size_map)+\n",
    "            theme(legend.position=\"none\")\n",
    "    #print(plotsB[[endpoint]])\n",
    "    flush.console()\n",
    "    }"
   ]
  },
  {
   "cell_type": "code",
   "execution_count": null,
   "metadata": {},
   "outputs": [],
   "source": [
    "base_size = 8\n",
    "title_size = 10\n",
    "facet_size = 10\n",
    "geom_text_size=3\n",
    "library(ggplot2); \n",
    "theme_set(theme_classic(base_size = base_size) + \n",
    "          theme(strip.background = element_blank(), plot.title=element_text(size=title_size, hjust=0), \n",
    "                strip.text.x = element_text(size = facet_size),axis.title=element_text(size=10), axis.text=element_text(size=8, color=\"black\"),\n",
    "                legend.position=\"bottom\", axis.line = element_line(size = 0.2), axis.ticks=element_line(size=0.2), panel.grid.major.y = element_line()))"
   ]
  },
  {
   "cell_type": "code",
   "execution_count": null,
   "metadata": {},
   "outputs": [],
   "source": [
    "zip <- function(...) {\n",
    "  mapply(list, ..., SIMPLIFY = TRUE)\n",
    "}\n",
    "plots = c(plotsA, plotsB)\n",
    "fig5_dca = wrap_plots(plots, ncol=3)\n",
    "plot_width=8.25; plot_height=6.5; plot_dpi=320\n",
    "options(repr.plot.width = plot_width, repr.plot.height = plot_height, repr.plot.res=plot_dpi)\n",
    "fig5_dca"
   ]
  },
  {
   "cell_type": "code",
   "execution_count": null,
   "metadata": {},
   "outputs": [],
   "source": [
    "fig5 = (fig5_cal / fig5_dca) +  plot_layout(height = c(1, 2.5)) & theme(plot.title = element_text(hjust = 0.5))\n",
    "plot_width=8.25; plot_height=9; plot_dpi=320\n",
    "options(repr.plot.width = plot_width, repr.plot.height = plot_height, repr.plot.res=plot_dpi)\n",
    "fig5"
   ]
  },
  {
   "cell_type": "code",
   "execution_count": null,
   "metadata": {},
   "outputs": [],
   "source": [
    "library(gt)\n",
    "plot_name = \"Figures_5_ABC_ClinicalUtility\"\n",
    "fig5 %>% ggsave(filename=glue(\"outputs/{plot_name}.pdf\"), device=\"pdf\", width=plot_width, height=plot_height, dpi=plot_dpi)"
   ]
  },
  {
   "cell_type": "code",
   "execution_count": null,
   "metadata": {},
   "outputs": [],
   "source": [
    "library(gt)\n",
    "plot_name = \"Figures_5_ABC_ClinicalUtility\"\n",
    "fig5 %>% ggsave(filename=glue(\"outputs/{plot_name}.png\"), device=\"png\", width=plot_width, height=plot_height, dpi=plot_dpi)"
   ]
  },
  {
   "cell_type": "code",
   "execution_count": null,
   "metadata": {},
   "outputs": [],
   "source": []
  }
 ],
 "metadata": {
  "hide_input": false,
  "kernelspec": {
   "display_name": "R [conda env:r_env]",
   "language": "R",
   "name": "conda-env-r_env-r"
  },
  "language_info": {
   "codemirror_mode": "r",
   "file_extension": ".r",
   "mimetype": "text/x-r-source",
   "name": "R",
   "pygments_lexer": "r",
   "version": "4.0.2"
  },
  "toc-autonumbering": false
 },
 "nbformat": 4,
 "nbformat_minor": 4
}
