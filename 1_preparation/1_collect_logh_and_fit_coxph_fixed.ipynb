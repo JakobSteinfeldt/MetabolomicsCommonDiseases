{
 "cells": [
  {
   "cell_type": "markdown",
   "metadata": {},
   "source": [
    "# Benchmarks"
   ]
  },
  {
   "cell_type": "markdown",
   "metadata": {},
   "source": [
    "## Initialize"
   ]
  },
  {
   "cell_type": "code",
   "execution_count": 2,
   "metadata": {},
   "outputs": [],
   "source": [
    "%load_ext autoreload\n",
    "%autoreload 2\n",
    "\n",
    "import os\n",
    "from tqdm.auto import tqdm\n",
    "import pathlib\n",
    "\n",
    "import numpy as np\n",
    "import pandas as pd\n",
    "import lifelines\n",
    "import pandas as pd\n",
    "\n",
    "from joblib import Parallel, delayed\n",
    "from tqdm.notebook import tqdm\n",
    "import warnings\n",
    "warnings.filterwarnings(\"ignore\")\n",
    "import shutil\n",
    "\n",
    "import plotly.express as px\n",
    "import plotly.graph_objects as go\n",
    "from plotly.graph_objects import Box\n",
    "\n",
    "import matplotlib.pyplot as plt\n",
    "from lifelines import CRCSplineFitter\n",
    "import warnings\n",
    "from lifelines.utils import CensoringType\n",
    "\n",
    "import plotly.graph_objects as go\n",
    "from plotly.subplots import make_subplots\n",
    "import math\n",
    "\n",
    "from IPython.display import clear_output\n",
    "import pathlib\n",
    "\n",
    "from lifelines.utils import concordance_index"
   ]
  },
  {
   "cell_type": "code",
   "execution_count": null,
   "metadata": {},
   "outputs": [],
   "source": [
    "from dask.distributed import Client, LocalCluster\n",
    "cluster = LocalCluster(n_workers=1, threads_per_worker=10)\n",
    "client = Client(cluster)"
   ]
  },
  {
   "cell_type": "code",
   "execution_count": null,
   "metadata": {},
   "outputs": [],
   "source": [
    "node = !hostname\n",
    "if \"sc\" in node[0]:\n",
    "    base_path = \"/sc-projects/sc-proj-ukb-cvd\"\n",
    "else: base_path = \"/data/analysis/ag-reils/ag-reils-shared/cardioRS\"\n",
    "print(base_path)\n",
    "\n",
    "project_name = \"210714_metabolomics\"\n",
    "#data_path = \"/data/analysis/ag-reils/steinfej\"\n",
    "data_pre = f\"{base_path}/data/2_datasets_pre/{project_name}\"\n",
    "data_post = f\"{base_path}/data/3_datasets_post/{project_name}\"\n",
    "\n",
    "project_label = \"21_metabolomics_multitask\"\n",
    "project_path = f\"{base_path}/results/projects/{project_label}\"\n",
    "figures_path = f\"{project_path}/figures\"\n",
    "data_results_path = f\"{project_path}/data\"\n",
    "pathlib.Path(figures_path).mkdir(parents=True, exist_ok=True)\n",
    "pathlib.Path(data_results_path).mkdir(parents=True, exist_ok=True)"
   ]
  },
  {
   "cell_type": "code",
   "execution_count": 5,
   "metadata": {},
   "outputs": [],
   "source": [
    "endpoints = [\n",
    "    #Cardiovascular\n",
    "    'M_MACE',\n",
    "    'M_coronary_heart_disease',\n",
    "    'M_cerebral_stroke',\n",
    "    'M_peripheral_arterial_disease',\n",
    "    'M_atrial_fibrillation',\n",
    "    'M_heart_failure',\n",
    "    'M_abdominal_aortic_aneurysm',\n",
    "    'M_venous_thrombosis',\n",
    "    \n",
    "    # General IM\n",
    "    'M_type_2_diabetes',\n",
    "    'M_liver_disease',\n",
    "    'M_renal_disease',\n",
    "    \n",
    "    # Pulmological\n",
    "    'M_asthma', \n",
    "    'M_chronic_obstructuve_pulmonary_disease',  \n",
    "    \n",
    "    # Psychiatric/Neurological\n",
    "    'M_all_cause_dementia',\n",
    "    'M_parkinsons_disease',   \n",
    "    \n",
    "    # Cancers\n",
    "    \"M_lung_cancer\",\n",
    "    \"M_non_melanoma_skin_cancer\",\n",
    "    \"M_colon_cancer\",\n",
    "    \"M_rectal_cancer\",\n",
    "    \"M_prostate_cancer\",\n",
    "    \"M_breast_cancer\",\n",
    "    \n",
    "    # Ophtalmological\n",
    "    'M_cataracts', \n",
    "    'M_glaucoma',\n",
    "    \n",
    "    # Traumatology\n",
    "    'M_fractures',\n",
    "]"
   ]
  },
  {
   "cell_type": "code",
   "execution_count": 6,
   "metadata": {},
   "outputs": [],
   "source": [
    "partitions = [str(p) for p in range(0, 22)]\n",
    "splits = [\"train\", \"valid\", \"test\"]"
   ]
  },
  {
   "cell_type": "code",
   "execution_count": 7,
   "metadata": {},
   "outputs": [],
   "source": [
    "run = \"220126\""
   ]
  },
  {
   "cell_type": "code",
   "execution_count": null,
   "metadata": {},
   "outputs": [],
   "source": [
    "!ls {data_results_path}"
   ]
  },
  {
   "cell_type": "markdown",
   "metadata": {},
   "source": [
    "### Load models"
   ]
  },
  {
   "cell_type": "code",
   "execution_count": 9,
   "metadata": {},
   "outputs": [],
   "source": [
    "project=\"CardioRS/metabolomics\"\n",
    "#modules = [\"CoxPH\", \"DeepHit\", \"DeepSurvivalMachine\"]\n",
    "task = \"MultiTaskSurvivalTask\"\n",
    "survival_task = \"DeepSurvivalMachine\"\n",
    "modules = [\"DeepSurvivalMachine\"]\n",
    "datamodules = [\"UKBBSurvivalDatamodule\"]\n",
    "#feature_sets = [\"AgeSex\", \"Metabolomics\", \"AgeSexMetabolomics\"]\n",
    "tag=\"211006_ds_multitask_cancer_24\"\n",
    "#tag=\"TaskSpecificExclusion_Debug!\"\n",
    "#https://docs.wandb.ai/ref/app/features/panels/code\n",
    "import neptune.new as neptune\n",
    "project = neptune.get_project(project, api_token)\n",
    "df = project.fetch_runs_table(tag=tag).to_pandas()"
   ]
  },
  {
   "cell_type": "code",
   "execution_count": 10,
   "metadata": {},
   "outputs": [],
   "source": [
    "log_path = f\"{base_path}/results/models/NeptuneLogger\""
   ]
  },
  {
   "cell_type": "code",
   "execution_count": 11,
   "metadata": {},
   "outputs": [],
   "source": [
    "from pathlib import Path\n",
    "pred_paths= [f\"{log_path}/{Path(*Path(p).parts[-3:])}\" for p in df[\"prediction_path\"].to_list() if p==p]"
   ]
  },
  {
   "cell_type": "code",
   "execution_count": null,
   "metadata": {},
   "outputs": [],
   "source": [
    "import joblib\n",
    "def get_df(path): return pd.read_feather(path)#return pd.read_csv(f\"{path[:-8]}.csv\", index_col=0)\n",
    "print(\"Status: \", sum(x is not None for x in pred_paths)/len(pred_paths))\n",
    "with joblib.parallel_backend('dask'):\n",
    "    dfs = Parallel(n_jobs=80)(delayed(get_df)(path) for path in tqdm(pred_paths) if path is not None if not pd.isna(path))"
   ]
  },
  {
   "cell_type": "code",
   "execution_count": 13,
   "metadata": {},
   "outputs": [],
   "source": [
    "preds_all = pd.concat(dfs, axis=0).reset_index(drop=True)"
   ]
  },
  {
   "cell_type": "code",
   "execution_count": null,
   "metadata": {},
   "outputs": [],
   "source": [
    "preds_all.query(\"split=='test'\")"
   ]
  },
  {
   "cell_type": "code",
   "execution_count": 15,
   "metadata": {},
   "outputs": [],
   "source": [
    "#preds_all.to_feather(f\"{data_results_path}/preds_all.feather\")"
   ]
  },
  {
   "cell_type": "code",
   "execution_count": 16,
   "metadata": {},
   "outputs": [],
   "source": [
    "def get_feature_string(d):\n",
    "    l = []\n",
    "    for k, v in eval(d).items():\n",
    "        for i, j in v.items():\n",
    "            for m in j:\n",
    "                if not m in l: l.extend(j)\n",
    "    return repr(l)\n",
    "\n",
    "def clean_df(df, predictions):\n",
    "   #feature_df = df[[\\\"parameters/feature_set\\\", \\\"parameters/features_yaml\\\"]].drop_duplicates().dropna()\\n\",\n",
    "   #feature_map ={row[\\\"parameters/features_yaml\\\"]: row[\\\"parameters/feature_set\\\"] for i, row in feature_df.iterrows()}\\n\",\n",
    "    predictions[\"features\"] = predictions[\"features_names\"].map(feature_map)\n",
    "    return predictions"
   ]
  },
  {
   "cell_type": "code",
   "execution_count": 17,
   "metadata": {},
   "outputs": [],
   "source": [
    "def clean_df(df, predictions):\n",
    "#feature_df = df[[\\\"parameters/feature_set\\\", \\\"parameters/features_yaml\\\"]].drop_duplicates().dropna()\\n\",\n",
    "    feature_map ={\"['age_at_recruitment', 'sex', 'NMR_3hydroxybutyrate', 'NMR_acetate', 'NMR_acetoacetate', 'NMR_acetone', 'NMR_alanine', 'NMR_albumin', 'NMR_apolipoprotein_a1', 'NMR_apolipoprotein_b', 'NMR_average_diameter_for_hdl_particles', 'NMR_average_diameter_for_ldl_particles', 'NMR_average_diameter_for_vldl_particles', 'NMR_cholesterol_in_chylomicrons_and_extremely_large_vldl', 'NMR_cholesterol_in_idl', 'NMR_cholesterol_in_large_hdl', 'NMR_cholesterol_in_large_ldl', 'NMR_cholesterol_in_large_vldl', 'NMR_cholesterol_in_medium_hdl', 'NMR_cholesterol_in_medium_ldl', 'NMR_cholesterol_in_medium_vldl', 'NMR_cholesterol_in_small_hdl', 'NMR_cholesterol_in_small_ldl', 'NMR_cholesterol_in_small_vldl', 'NMR_cholesterol_in_very_large_hdl', 'NMR_cholesterol_in_very_large_vldl', 'NMR_cholesterol_in_very_small_vldl', 'NMR_cholesteryl_esters_in_chylomicrons_and_extremely_large_vldl', 'NMR_cholesteryl_esters_in_hdl', 'NMR_cholesteryl_esters_in_idl', 'NMR_cholesteryl_esters_in_ldl', 'NMR_cholesteryl_esters_in_large_hdl', 'NMR_cholesteryl_esters_in_large_ldl', 'NMR_cholesteryl_esters_in_large_vldl', 'NMR_cholesteryl_esters_in_medium_hdl', 'NMR_cholesteryl_esters_in_medium_ldl', 'NMR_cholesteryl_esters_in_medium_vldl', 'NMR_cholesteryl_esters_in_small_hdl', 'NMR_cholesteryl_esters_in_small_ldl', 'NMR_cholesteryl_esters_in_small_vldl', 'NMR_cholesteryl_esters_in_vldl', 'NMR_cholesteryl_esters_in_very_large_hdl', 'NMR_cholesteryl_esters_in_very_large_vldl', 'NMR_cholesteryl_esters_in_very_small_vldl', 'NMR_citrate', 'NMR_clinical_ldl_cholesterol', 'NMR_concentration_of_chylomicrons_and_extremely_large_vldl_particles', 'NMR_concentration_of_hdl_particles', 'NMR_concentration_of_idl_particles', 'NMR_concentration_of_ldl_particles', 'NMR_concentration_of_large_hdl_particles', 'NMR_concentration_of_large_ldl_particles', 'NMR_concentration_of_large_vldl_particles', 'NMR_concentration_of_medium_hdl_particles', 'NMR_concentration_of_medium_ldl_particles', 'NMR_concentration_of_medium_vldl_particles', 'NMR_concentration_of_small_hdl_particles', 'NMR_concentration_of_small_ldl_particles', 'NMR_concentration_of_small_vldl_particles', 'NMR_concentration_of_vldl_particles', 'NMR_concentration_of_very_large_hdl_particles', 'NMR_concentration_of_very_large_vldl_particles', 'NMR_concentration_of_very_small_vldl_particles', 'NMR_creatinine', 'NMR_degree_of_unsaturation', 'NMR_docosahexaenoic_acid', 'NMR_free_cholesterol_in_chylomicrons_and_extremely_large_vldl', 'NMR_free_cholesterol_in_hdl', 'NMR_free_cholesterol_in_idl', 'NMR_free_cholesterol_in_ldl', 'NMR_free_cholesterol_in_large_hdl', 'NMR_free_cholesterol_in_large_ldl', 'NMR_free_cholesterol_in_large_vldl', 'NMR_free_cholesterol_in_medium_hdl', 'NMR_free_cholesterol_in_medium_ldl', 'NMR_free_cholesterol_in_medium_vldl', 'NMR_free_cholesterol_in_small_hdl', 'NMR_free_cholesterol_in_small_ldl', 'NMR_free_cholesterol_in_small_vldl', 'NMR_free_cholesterol_in_vldl', 'NMR_free_cholesterol_in_very_large_hdl', 'NMR_free_cholesterol_in_very_large_vldl', 'NMR_free_cholesterol_in_very_small_vldl', 'NMR_glucose', 'NMR_glutamine', 'NMR_glycine', 'NMR_glycoprotein_acetyls', 'NMR_hdl_cholesterol', 'NMR_histidine', 'NMR_isoleucine', 'NMR_ldl_cholesterol', 'NMR_lactate', 'NMR_leucine', 'NMR_linoleic_acid', 'NMR_monounsaturated_fatty_acids', 'NMR_omega3_fatty_acids', 'NMR_omega6_fatty_acids', 'NMR_phenylalanine', 'NMR_phosphatidylcholines', 'NMR_phosphoglycerides', 'NMR_phospholipids_in_chylomicrons_and_extremely_large_vldl', 'NMR_phospholipids_in_hdl', 'NMR_phospholipids_in_idl', 'NMR_phospholipids_in_ldl', 'NMR_phospholipids_in_large_hdl', 'NMR_phospholipids_in_large_ldl', 'NMR_phospholipids_in_large_vldl', 'NMR_phospholipids_in_medium_hdl', 'NMR_phospholipids_in_medium_ldl', 'NMR_phospholipids_in_medium_vldl', 'NMR_phospholipids_in_small_hdl', 'NMR_phospholipids_in_small_ldl', 'NMR_phospholipids_in_small_vldl', 'NMR_phospholipids_in_vldl', 'NMR_phospholipids_in_very_large_hdl', 'NMR_phospholipids_in_very_large_vldl', 'NMR_phospholipids_in_very_small_vldl', 'NMR_polyunsaturated_fatty_acids', 'NMR_pyruvate', 'NMR_remnant_cholesterol_nonhdl_nonldl_cholesterol', 'NMR_saturated_fatty_acids', 'NMR_sphingomyelins', 'NMR_total_cholesterol', 'NMR_total_cholesterol_minus_hdlc', 'NMR_total_cholines', 'NMR_total_concentration_of_branchedchain_amino_acids_leucine_isoleucine_valine', 'NMR_total_concentration_of_lipoprotein_particles', 'NMR_total_esterified_cholesterol', 'NMR_total_fatty_acids', 'NMR_total_free_cholesterol', 'NMR_total_lipids_in_chylomicrons_and_extremely_large_vldl', 'NMR_total_lipids_in_hdl', 'NMR_total_lipids_in_idl', 'NMR_total_lipids_in_ldl', 'NMR_total_lipids_in_large_hdl', 'NMR_total_lipids_in_large_ldl', 'NMR_total_lipids_in_large_vldl', 'NMR_total_lipids_in_lipoprotein_particles', 'NMR_total_lipids_in_medium_hdl', 'NMR_total_lipids_in_medium_ldl', 'NMR_total_lipids_in_medium_vldl', 'NMR_total_lipids_in_small_hdl', 'NMR_total_lipids_in_small_ldl', 'NMR_total_lipids_in_small_vldl', 'NMR_total_lipids_in_vldl', 'NMR_total_lipids_in_very_large_hdl', 'NMR_total_lipids_in_very_large_vldl', 'NMR_total_lipids_in_very_small_vldl', 'NMR_total_phospholipids_in_lipoprotein_particles', 'NMR_total_triglycerides', 'NMR_triglycerides_in_chylomicrons_and_extremely_large_vldl', 'NMR_triglycerides_in_hdl', 'NMR_triglycerides_in_idl', 'NMR_triglycerides_in_ldl', 'NMR_triglycerides_in_large_hdl', 'NMR_triglycerides_in_large_ldl', 'NMR_triglycerides_in_large_vldl', 'NMR_triglycerides_in_medium_hdl', 'NMR_triglycerides_in_medium_ldl', 'NMR_triglycerides_in_medium_vldl', 'NMR_triglycerides_in_small_hdl', 'NMR_triglycerides_in_small_ldl', 'NMR_triglycerides_in_small_vldl', 'NMR_triglycerides_in_vldl', 'NMR_triglycerides_in_very_large_hdl', 'NMR_triglycerides_in_very_large_vldl', 'NMR_triglycerides_in_very_small_vldl', 'NMR_tyrosine', 'NMR_vldl_cholesterol', 'NMR_valine']\":\"AgeSexMetabolomics\",\n",
    "                  \"['NMR_3hydroxybutyrate', 'NMR_acetate', 'NMR_acetoacetate', 'NMR_acetone', 'NMR_alanine', 'NMR_albumin', 'NMR_apolipoprotein_a1', 'NMR_apolipoprotein_b', 'NMR_average_diameter_for_hdl_particles', 'NMR_average_diameter_for_ldl_particles', 'NMR_average_diameter_for_vldl_particles', 'NMR_cholesterol_in_chylomicrons_and_extremely_large_vldl', 'NMR_cholesterol_in_idl', 'NMR_cholesterol_in_large_hdl', 'NMR_cholesterol_in_large_ldl', 'NMR_cholesterol_in_large_vldl', 'NMR_cholesterol_in_medium_hdl', 'NMR_cholesterol_in_medium_ldl', 'NMR_cholesterol_in_medium_vldl', 'NMR_cholesterol_in_small_hdl', 'NMR_cholesterol_in_small_ldl', 'NMR_cholesterol_in_small_vldl', 'NMR_cholesterol_in_very_large_hdl', 'NMR_cholesterol_in_very_large_vldl', 'NMR_cholesterol_in_very_small_vldl', 'NMR_cholesteryl_esters_in_chylomicrons_and_extremely_large_vldl', 'NMR_cholesteryl_esters_in_hdl', 'NMR_cholesteryl_esters_in_idl', 'NMR_cholesteryl_esters_in_ldl', 'NMR_cholesteryl_esters_in_large_hdl', 'NMR_cholesteryl_esters_in_large_ldl', 'NMR_cholesteryl_esters_in_large_vldl', 'NMR_cholesteryl_esters_in_medium_hdl', 'NMR_cholesteryl_esters_in_medium_ldl', 'NMR_cholesteryl_esters_in_medium_vldl', 'NMR_cholesteryl_esters_in_small_hdl', 'NMR_cholesteryl_esters_in_small_ldl', 'NMR_cholesteryl_esters_in_small_vldl', 'NMR_cholesteryl_esters_in_vldl', 'NMR_cholesteryl_esters_in_very_large_hdl', 'NMR_cholesteryl_esters_in_very_large_vldl', 'NMR_cholesteryl_esters_in_very_small_vldl', 'NMR_citrate', 'NMR_clinical_ldl_cholesterol', 'NMR_concentration_of_chylomicrons_and_extremely_large_vldl_particles', 'NMR_concentration_of_hdl_particles', 'NMR_concentration_of_idl_particles', 'NMR_concentration_of_ldl_particles', 'NMR_concentration_of_large_hdl_particles', 'NMR_concentration_of_large_ldl_particles', 'NMR_concentration_of_large_vldl_particles', 'NMR_concentration_of_medium_hdl_particles', 'NMR_concentration_of_medium_ldl_particles', 'NMR_concentration_of_medium_vldl_particles', 'NMR_concentration_of_small_hdl_particles', 'NMR_concentration_of_small_ldl_particles', 'NMR_concentration_of_small_vldl_particles', 'NMR_concentration_of_vldl_particles', 'NMR_concentration_of_very_large_hdl_particles', 'NMR_concentration_of_very_large_vldl_particles', 'NMR_concentration_of_very_small_vldl_particles', 'NMR_creatinine', 'NMR_degree_of_unsaturation', 'NMR_docosahexaenoic_acid', 'NMR_free_cholesterol_in_chylomicrons_and_extremely_large_vldl', 'NMR_free_cholesterol_in_hdl', 'NMR_free_cholesterol_in_idl', 'NMR_free_cholesterol_in_ldl', 'NMR_free_cholesterol_in_large_hdl', 'NMR_free_cholesterol_in_large_ldl', 'NMR_free_cholesterol_in_large_vldl', 'NMR_free_cholesterol_in_medium_hdl', 'NMR_free_cholesterol_in_medium_ldl', 'NMR_free_cholesterol_in_medium_vldl', 'NMR_free_cholesterol_in_small_hdl', 'NMR_free_cholesterol_in_small_ldl', 'NMR_free_cholesterol_in_small_vldl', 'NMR_free_cholesterol_in_vldl', 'NMR_free_cholesterol_in_very_large_hdl', 'NMR_free_cholesterol_in_very_large_vldl', 'NMR_free_cholesterol_in_very_small_vldl', 'NMR_glucose', 'NMR_glutamine', 'NMR_glycine', 'NMR_glycoprotein_acetyls', 'NMR_hdl_cholesterol', 'NMR_histidine', 'NMR_isoleucine', 'NMR_ldl_cholesterol', 'NMR_lactate', 'NMR_leucine', 'NMR_linoleic_acid', 'NMR_monounsaturated_fatty_acids', 'NMR_omega3_fatty_acids', 'NMR_omega6_fatty_acids', 'NMR_phenylalanine', 'NMR_phosphatidylcholines', 'NMR_phosphoglycerides', 'NMR_phospholipids_in_chylomicrons_and_extremely_large_vldl', 'NMR_phospholipids_in_hdl', 'NMR_phospholipids_in_idl', 'NMR_phospholipids_in_ldl', 'NMR_phospholipids_in_large_hdl', 'NMR_phospholipids_in_large_ldl', 'NMR_phospholipids_in_large_vldl', 'NMR_phospholipids_in_medium_hdl', 'NMR_phospholipids_in_medium_ldl', 'NMR_phospholipids_in_medium_vldl', 'NMR_phospholipids_in_small_hdl', 'NMR_phospholipids_in_small_ldl', 'NMR_phospholipids_in_small_vldl', 'NMR_phospholipids_in_vldl', 'NMR_phospholipids_in_very_large_hdl', 'NMR_phospholipids_in_very_large_vldl', 'NMR_phospholipids_in_very_small_vldl', 'NMR_polyunsaturated_fatty_acids', 'NMR_pyruvate', 'NMR_remnant_cholesterol_nonhdl_nonldl_cholesterol', 'NMR_saturated_fatty_acids', 'NMR_sphingomyelins', 'NMR_total_cholesterol', 'NMR_total_cholesterol_minus_hdlc', 'NMR_total_cholines', 'NMR_total_concentration_of_branchedchain_amino_acids_leucine_isoleucine_valine', 'NMR_total_concentration_of_lipoprotein_particles', 'NMR_total_esterified_cholesterol', 'NMR_total_fatty_acids', 'NMR_total_free_cholesterol', 'NMR_total_lipids_in_chylomicrons_and_extremely_large_vldl', 'NMR_total_lipids_in_hdl', 'NMR_total_lipids_in_idl', 'NMR_total_lipids_in_ldl', 'NMR_total_lipids_in_large_hdl', 'NMR_total_lipids_in_large_ldl', 'NMR_total_lipids_in_large_vldl', 'NMR_total_lipids_in_lipoprotein_particles', 'NMR_total_lipids_in_medium_hdl', 'NMR_total_lipids_in_medium_ldl', 'NMR_total_lipids_in_medium_vldl', 'NMR_total_lipids_in_small_hdl', 'NMR_total_lipids_in_small_ldl', 'NMR_total_lipids_in_small_vldl', 'NMR_total_lipids_in_vldl', 'NMR_total_lipids_in_very_large_hdl', 'NMR_total_lipids_in_very_large_vldl', 'NMR_total_lipids_in_very_small_vldl', 'NMR_total_phospholipids_in_lipoprotein_particles', 'NMR_total_triglycerides', 'NMR_triglycerides_in_chylomicrons_and_extremely_large_vldl', 'NMR_triglycerides_in_hdl', 'NMR_triglycerides_in_idl', 'NMR_triglycerides_in_ldl', 'NMR_triglycerides_in_large_hdl', 'NMR_triglycerides_in_large_ldl', 'NMR_triglycerides_in_large_vldl', 'NMR_triglycerides_in_medium_hdl', 'NMR_triglycerides_in_medium_ldl', 'NMR_triglycerides_in_medium_vldl', 'NMR_triglycerides_in_small_hdl', 'NMR_triglycerides_in_small_ldl', 'NMR_triglycerides_in_small_vldl', 'NMR_triglycerides_in_vldl', 'NMR_triglycerides_in_very_large_hdl', 'NMR_triglycerides_in_very_large_vldl', 'NMR_triglycerides_in_very_small_vldl', 'NMR_tyrosine', 'NMR_vldl_cholesterol', 'NMR_valine']\":\"Metabolomics\"}\n",
    "    predictions[\"features\"] = predictions[\"feature_names\"].map(feature_map)\n",
    "    return predictions"
   ]
  },
  {
   "cell_type": "code",
   "execution_count": 18,
   "metadata": {},
   "outputs": [],
   "source": [
    "preds_all_cleaned = clean_df(df, preds_all)"
   ]
  },
  {
   "cell_type": "code",
   "execution_count": 19,
   "metadata": {},
   "outputs": [],
   "source": [
    "def clean_df(df, predictions):\n",
    "    #feature_df = df[[\"parameters/feature_set\", \"parameters/features_yaml\"]].drop_duplicates().dropna()\n",
    "    feature_map ={\"['age_at_recruitment', 'sex', 'NMR_3hydroxybutyrate', 'NMR_acetate', 'NMR_acetoacetate', 'NMR_acetone', 'NMR_alanine', 'NMR_albumin', 'NMR_apolipoprotein_a1', 'NMR_apolipoprotein_b', 'NMR_average_diameter_for_hdl_particles', 'NMR_average_diameter_for_ldl_particles', 'NMR_average_diameter_for_vldl_particles', 'NMR_cholesterol_in_chylomicrons_and_extremely_large_vldl', 'NMR_cholesterol_in_idl', 'NMR_cholesterol_in_large_hdl', 'NMR_cholesterol_in_large_ldl', 'NMR_cholesterol_in_large_vldl', 'NMR_cholesterol_in_medium_hdl', 'NMR_cholesterol_in_medium_ldl', 'NMR_cholesterol_in_medium_vldl', 'NMR_cholesterol_in_small_hdl', 'NMR_cholesterol_in_small_ldl', 'NMR_cholesterol_in_small_vldl', 'NMR_cholesterol_in_very_large_hdl', 'NMR_cholesterol_in_very_large_vldl', 'NMR_cholesterol_in_very_small_vldl', 'NMR_cholesteryl_esters_in_chylomicrons_and_extremely_large_vldl', 'NMR_cholesteryl_esters_in_hdl', 'NMR_cholesteryl_esters_in_idl', 'NMR_cholesteryl_esters_in_ldl', 'NMR_cholesteryl_esters_in_large_hdl', 'NMR_cholesteryl_esters_in_large_ldl', 'NMR_cholesteryl_esters_in_large_vldl', 'NMR_cholesteryl_esters_in_medium_hdl', 'NMR_cholesteryl_esters_in_medium_ldl', 'NMR_cholesteryl_esters_in_medium_vldl', 'NMR_cholesteryl_esters_in_small_hdl', 'NMR_cholesteryl_esters_in_small_ldl', 'NMR_cholesteryl_esters_in_small_vldl', 'NMR_cholesteryl_esters_in_vldl', 'NMR_cholesteryl_esters_in_very_large_hdl', 'NMR_cholesteryl_esters_in_very_large_vldl', 'NMR_cholesteryl_esters_in_very_small_vldl', 'NMR_citrate', 'NMR_clinical_ldl_cholesterol', 'NMR_concentration_of_chylomicrons_and_extremely_large_vldl_particles', 'NMR_concentration_of_hdl_particles', 'NMR_concentration_of_idl_particles', 'NMR_concentration_of_ldl_particles', 'NMR_concentration_of_large_hdl_particles', 'NMR_concentration_of_large_ldl_particles', 'NMR_concentration_of_large_vldl_particles', 'NMR_concentration_of_medium_hdl_particles', 'NMR_concentration_of_medium_ldl_particles', 'NMR_concentration_of_medium_vldl_particles', 'NMR_concentration_of_small_hdl_particles', 'NMR_concentration_of_small_ldl_particles', 'NMR_concentration_of_small_vldl_particles', 'NMR_concentration_of_vldl_particles', 'NMR_concentration_of_very_large_hdl_particles', 'NMR_concentration_of_very_large_vldl_particles', 'NMR_concentration_of_very_small_vldl_particles', 'NMR_creatinine', 'NMR_degree_of_unsaturation', 'NMR_docosahexaenoic_acid', 'NMR_free_cholesterol_in_chylomicrons_and_extremely_large_vldl', 'NMR_free_cholesterol_in_hdl', 'NMR_free_cholesterol_in_idl', 'NMR_free_cholesterol_in_ldl', 'NMR_free_cholesterol_in_large_hdl', 'NMR_free_cholesterol_in_large_ldl', 'NMR_free_cholesterol_in_large_vldl', 'NMR_free_cholesterol_in_medium_hdl', 'NMR_free_cholesterol_in_medium_ldl', 'NMR_free_cholesterol_in_medium_vldl', 'NMR_free_cholesterol_in_small_hdl', 'NMR_free_cholesterol_in_small_ldl', 'NMR_free_cholesterol_in_small_vldl', 'NMR_free_cholesterol_in_vldl', 'NMR_free_cholesterol_in_very_large_hdl', 'NMR_free_cholesterol_in_very_large_vldl', 'NMR_free_cholesterol_in_very_small_vldl', 'NMR_glucose', 'NMR_glutamine', 'NMR_glycine', 'NMR_glycoprotein_acetyls', 'NMR_hdl_cholesterol', 'NMR_histidine', 'NMR_isoleucine', 'NMR_ldl_cholesterol', 'NMR_lactate', 'NMR_leucine', 'NMR_linoleic_acid', 'NMR_monounsaturated_fatty_acids', 'NMR_omega3_fatty_acids', 'NMR_omega6_fatty_acids', 'NMR_phenylalanine', 'NMR_phosphatidylcholines', 'NMR_phosphoglycerides', 'NMR_phospholipids_in_chylomicrons_and_extremely_large_vldl', 'NMR_phospholipids_in_hdl', 'NMR_phospholipids_in_idl', 'NMR_phospholipids_in_ldl', 'NMR_phospholipids_in_large_hdl', 'NMR_phospholipids_in_large_ldl', 'NMR_phospholipids_in_large_vldl', 'NMR_phospholipids_in_medium_hdl', 'NMR_phospholipids_in_medium_ldl', 'NMR_phospholipids_in_medium_vldl', 'NMR_phospholipids_in_small_hdl', 'NMR_phospholipids_in_small_ldl', 'NMR_phospholipids_in_small_vldl', 'NMR_phospholipids_in_vldl', 'NMR_phospholipids_in_very_large_hdl', 'NMR_phospholipids_in_very_large_vldl', 'NMR_phospholipids_in_very_small_vldl', 'NMR_polyunsaturated_fatty_acids', 'NMR_pyruvate', 'NMR_remnant_cholesterol_nonhdl_nonldl_cholesterol', 'NMR_saturated_fatty_acids', 'NMR_sphingomyelins', 'NMR_total_cholesterol', 'NMR_total_cholesterol_minus_hdlc', 'NMR_total_cholines', 'NMR_total_concentration_of_branchedchain_amino_acids_leucine_isoleucine_valine', 'NMR_total_concentration_of_lipoprotein_particles', 'NMR_total_esterified_cholesterol', 'NMR_total_fatty_acids', 'NMR_total_free_cholesterol', 'NMR_total_lipids_in_chylomicrons_and_extremely_large_vldl', 'NMR_total_lipids_in_hdl', 'NMR_total_lipids_in_idl', 'NMR_total_lipids_in_ldl', 'NMR_total_lipids_in_large_hdl', 'NMR_total_lipids_in_large_ldl', 'NMR_total_lipids_in_large_vldl', 'NMR_total_lipids_in_lipoprotein_particles', 'NMR_total_lipids_in_medium_hdl', 'NMR_total_lipids_in_medium_ldl', 'NMR_total_lipids_in_medium_vldl', 'NMR_total_lipids_in_small_hdl', 'NMR_total_lipids_in_small_ldl', 'NMR_total_lipids_in_small_vldl', 'NMR_total_lipids_in_vldl', 'NMR_total_lipids_in_very_large_hdl', 'NMR_total_lipids_in_very_large_vldl', 'NMR_total_lipids_in_very_small_vldl', 'NMR_total_phospholipids_in_lipoprotein_particles', 'NMR_total_triglycerides', 'NMR_triglycerides_in_chylomicrons_and_extremely_large_vldl', 'NMR_triglycerides_in_hdl', 'NMR_triglycerides_in_idl', 'NMR_triglycerides_in_ldl', 'NMR_triglycerides_in_large_hdl', 'NMR_triglycerides_in_large_ldl', 'NMR_triglycerides_in_large_vldl', 'NMR_triglycerides_in_medium_hdl', 'NMR_triglycerides_in_medium_ldl', 'NMR_triglycerides_in_medium_vldl', 'NMR_triglycerides_in_small_hdl', 'NMR_triglycerides_in_small_ldl', 'NMR_triglycerides_in_small_vldl', 'NMR_triglycerides_in_vldl', 'NMR_triglycerides_in_very_large_hdl', 'NMR_triglycerides_in_very_large_vldl', 'NMR_triglycerides_in_very_small_vldl', 'NMR_tyrosine', 'NMR_vldl_cholesterol', 'NMR_valine']\":\"AgeSexMetabolomics\",\n",
    "                  \"['NMR_3hydroxybutyrate', 'NMR_acetate', 'NMR_acetoacetate', 'NMR_acetone', 'NMR_alanine', 'NMR_albumin', 'NMR_apolipoprotein_a1', 'NMR_apolipoprotein_b', 'NMR_average_diameter_for_hdl_particles', 'NMR_average_diameter_for_ldl_particles', 'NMR_average_diameter_for_vldl_particles', 'NMR_cholesterol_in_chylomicrons_and_extremely_large_vldl', 'NMR_cholesterol_in_idl', 'NMR_cholesterol_in_large_hdl', 'NMR_cholesterol_in_large_ldl', 'NMR_cholesterol_in_large_vldl', 'NMR_cholesterol_in_medium_hdl', 'NMR_cholesterol_in_medium_ldl', 'NMR_cholesterol_in_medium_vldl', 'NMR_cholesterol_in_small_hdl', 'NMR_cholesterol_in_small_ldl', 'NMR_cholesterol_in_small_vldl', 'NMR_cholesterol_in_very_large_hdl', 'NMR_cholesterol_in_very_large_vldl', 'NMR_cholesterol_in_very_small_vldl', 'NMR_cholesteryl_esters_in_chylomicrons_and_extremely_large_vldl', 'NMR_cholesteryl_esters_in_hdl', 'NMR_cholesteryl_esters_in_idl', 'NMR_cholesteryl_esters_in_ldl', 'NMR_cholesteryl_esters_in_large_hdl', 'NMR_cholesteryl_esters_in_large_ldl', 'NMR_cholesteryl_esters_in_large_vldl', 'NMR_cholesteryl_esters_in_medium_hdl', 'NMR_cholesteryl_esters_in_medium_ldl', 'NMR_cholesteryl_esters_in_medium_vldl', 'NMR_cholesteryl_esters_in_small_hdl', 'NMR_cholesteryl_esters_in_small_ldl', 'NMR_cholesteryl_esters_in_small_vldl', 'NMR_cholesteryl_esters_in_vldl', 'NMR_cholesteryl_esters_in_very_large_hdl', 'NMR_cholesteryl_esters_in_very_large_vldl', 'NMR_cholesteryl_esters_in_very_small_vldl', 'NMR_citrate', 'NMR_clinical_ldl_cholesterol', 'NMR_concentration_of_chylomicrons_and_extremely_large_vldl_particles', 'NMR_concentration_of_hdl_particles', 'NMR_concentration_of_idl_particles', 'NMR_concentration_of_ldl_particles', 'NMR_concentration_of_large_hdl_particles', 'NMR_concentration_of_large_ldl_particles', 'NMR_concentration_of_large_vldl_particles', 'NMR_concentration_of_medium_hdl_particles', 'NMR_concentration_of_medium_ldl_particles', 'NMR_concentration_of_medium_vldl_particles', 'NMR_concentration_of_small_hdl_particles', 'NMR_concentration_of_small_ldl_particles', 'NMR_concentration_of_small_vldl_particles', 'NMR_concentration_of_vldl_particles', 'NMR_concentration_of_very_large_hdl_particles', 'NMR_concentration_of_very_large_vldl_particles', 'NMR_concentration_of_very_small_vldl_particles', 'NMR_creatinine', 'NMR_degree_of_unsaturation', 'NMR_docosahexaenoic_acid', 'NMR_free_cholesterol_in_chylomicrons_and_extremely_large_vldl', 'NMR_free_cholesterol_in_hdl', 'NMR_free_cholesterol_in_idl', 'NMR_free_cholesterol_in_ldl', 'NMR_free_cholesterol_in_large_hdl', 'NMR_free_cholesterol_in_large_ldl', 'NMR_free_cholesterol_in_large_vldl', 'NMR_free_cholesterol_in_medium_hdl', 'NMR_free_cholesterol_in_medium_ldl', 'NMR_free_cholesterol_in_medium_vldl', 'NMR_free_cholesterol_in_small_hdl', 'NMR_free_cholesterol_in_small_ldl', 'NMR_free_cholesterol_in_small_vldl', 'NMR_free_cholesterol_in_vldl', 'NMR_free_cholesterol_in_very_large_hdl', 'NMR_free_cholesterol_in_very_large_vldl', 'NMR_free_cholesterol_in_very_small_vldl', 'NMR_glucose', 'NMR_glutamine', 'NMR_glycine', 'NMR_glycoprotein_acetyls', 'NMR_hdl_cholesterol', 'NMR_histidine', 'NMR_isoleucine', 'NMR_ldl_cholesterol', 'NMR_lactate', 'NMR_leucine', 'NMR_linoleic_acid', 'NMR_monounsaturated_fatty_acids', 'NMR_omega3_fatty_acids', 'NMR_omega6_fatty_acids', 'NMR_phenylalanine', 'NMR_phosphatidylcholines', 'NMR_phosphoglycerides', 'NMR_phospholipids_in_chylomicrons_and_extremely_large_vldl', 'NMR_phospholipids_in_hdl', 'NMR_phospholipids_in_idl', 'NMR_phospholipids_in_ldl', 'NMR_phospholipids_in_large_hdl', 'NMR_phospholipids_in_large_ldl', 'NMR_phospholipids_in_large_vldl', 'NMR_phospholipids_in_medium_hdl', 'NMR_phospholipids_in_medium_ldl', 'NMR_phospholipids_in_medium_vldl', 'NMR_phospholipids_in_small_hdl', 'NMR_phospholipids_in_small_ldl', 'NMR_phospholipids_in_small_vldl', 'NMR_phospholipids_in_vldl', 'NMR_phospholipids_in_very_large_hdl', 'NMR_phospholipids_in_very_large_vldl', 'NMR_phospholipids_in_very_small_vldl', 'NMR_polyunsaturated_fatty_acids', 'NMR_pyruvate', 'NMR_remnant_cholesterol_nonhdl_nonldl_cholesterol', 'NMR_saturated_fatty_acids', 'NMR_sphingomyelins', 'NMR_total_cholesterol', 'NMR_total_cholesterol_minus_hdlc', 'NMR_total_cholines', 'NMR_total_concentration_of_branchedchain_amino_acids_leucine_isoleucine_valine', 'NMR_total_concentration_of_lipoprotein_particles', 'NMR_total_esterified_cholesterol', 'NMR_total_fatty_acids', 'NMR_total_free_cholesterol', 'NMR_total_lipids_in_chylomicrons_and_extremely_large_vldl', 'NMR_total_lipids_in_hdl', 'NMR_total_lipids_in_idl', 'NMR_total_lipids_in_ldl', 'NMR_total_lipids_in_large_hdl', 'NMR_total_lipids_in_large_ldl', 'NMR_total_lipids_in_large_vldl', 'NMR_total_lipids_in_lipoprotein_particles', 'NMR_total_lipids_in_medium_hdl', 'NMR_total_lipids_in_medium_ldl', 'NMR_total_lipids_in_medium_vldl', 'NMR_total_lipids_in_small_hdl', 'NMR_total_lipids_in_small_ldl', 'NMR_total_lipids_in_small_vldl', 'NMR_total_lipids_in_vldl', 'NMR_total_lipids_in_very_large_hdl', 'NMR_total_lipids_in_very_large_vldl', 'NMR_total_lipids_in_very_small_vldl', 'NMR_total_phospholipids_in_lipoprotein_particles', 'NMR_total_triglycerides', 'NMR_triglycerides_in_chylomicrons_and_extremely_large_vldl', 'NMR_triglycerides_in_hdl', 'NMR_triglycerides_in_idl', 'NMR_triglycerides_in_ldl', 'NMR_triglycerides_in_large_hdl', 'NMR_triglycerides_in_large_ldl', 'NMR_triglycerides_in_large_vldl', 'NMR_triglycerides_in_medium_hdl', 'NMR_triglycerides_in_medium_ldl', 'NMR_triglycerides_in_medium_vldl', 'NMR_triglycerides_in_small_hdl', 'NMR_triglycerides_in_small_ldl', 'NMR_triglycerides_in_small_vldl', 'NMR_triglycerides_in_vldl', 'NMR_triglycerides_in_very_large_hdl', 'NMR_triglycerides_in_very_large_vldl', 'NMR_triglycerides_in_very_small_vldl', 'NMR_tyrosine', 'NMR_vldl_cholesterol', 'NMR_valine']\":\"Metabolomics\"}\n",
    "    predictions[\"features\"] = predictions[\"feature_names\"].map(feature_map)\n",
    "    return predictions"
   ]
  },
  {
   "cell_type": "code",
   "execution_count": 20,
   "metadata": {},
   "outputs": [],
   "source": [
    "preds_all_cleaned = clean_df(df, preds_all)"
   ]
  },
  {
   "cell_type": "code",
   "execution_count": null,
   "metadata": {},
   "outputs": [],
   "source": [
    "preds_all_cleaned"
   ]
  },
  {
   "cell_type": "code",
   "execution_count": 22,
   "metadata": {},
   "outputs": [
    {
     "data": {
      "application/vnd.jupyter.widget-view+json": {
       "model_id": "a66b1433df7d45249f2b68ea200bc0d1",
       "version_major": 2,
       "version_minor": 0
      },
      "text/plain": [
       "  0%|          | 0/1856 [00:00<?, ?it/s]"
      ]
     },
     "metadata": {},
     "output_type": "display_data"
    }
   ],
   "source": [
    "def categorify(preds):\n",
    "    for col in tqdm(preds.columns.to_list()):\n",
    "        if preds[col].dtype == \"object\": preds[col]= preds[col].astype(\"category\")\n",
    "    return preds\n",
    "preds_all_cleaned = categorify(preds_all_cleaned)"
   ]
  },
  {
   "cell_type": "code",
   "execution_count": 23,
   "metadata": {},
   "outputs": [
    {
     "data": {
      "application/vnd.jupyter.widget-view+json": {
       "model_id": "a00c7aa7141a4d93aef84a8b5a1c0593",
       "version_major": 2,
       "version_minor": 0
      },
      "text/plain": [
       "  0%|          | 0/24 [00:00<?, ?it/s]"
      ]
     },
     "metadata": {},
     "output_type": "display_data"
    }
   ],
   "source": [
    "def fix_column_names(df):\n",
    "    # rename and fix time bugs!!! -> 0_11_Ft -> Ft at t=10 -> fix earlier\n",
    "    time_fix_map = dict(zip([col for col in df.columns if \"ft\" in col], [f\"ft_{col}\" for col in range(1, len([col for col in df.columns if \"ft\" in col])+1)]))\n",
    "    df = df.rename(time_fix_map, axis=\"columns\")\n",
    "    return df\n",
    "\n",
    "def wide_to_long(df, endpoint):\n",
    "    preds_endpoints = []\n",
    "    for endpoint in tqdm(endpoints):\n",
    "        time_cols = [f\"1_1_ft__{endpoint}\"]\n",
    "        temp = df[[\"eid\", 'features', 'split', 'partition', 'module', 'datamodule'] + time_cols].assign(endpoint = endpoint)[[\"eid\", \"endpoint\", 'features', 'split', 'partition', 'module', 'datamodule'] + time_cols]\n",
    "        preds_endpoints.append(fix_column_names(temp))\n",
    "    df_long = pd.concat(preds_endpoints, axis=0).reset_index(drop=True)\n",
    "    return df_long.rename(columns={\"ft_1\":\"logh\"})\n",
    "    \n",
    "preds = wide_to_long(preds_all_cleaned, endpoints)"
   ]
  },
  {
   "cell_type": "code",
   "execution_count": 24,
   "metadata": {},
   "outputs": [],
   "source": [
    "#endpoint = \"M_MACE\"; \n",
    "events=[endpoint+'_event' for endpoint in endpoints] \n",
    "times=[endpoint+'_event_time' for endpoint in endpoints]"
   ]
  },
  {
   "cell_type": "code",
   "execution_count": 25,
   "metadata": {},
   "outputs": [],
   "source": [
    "preds_wide = preds.assign(endpoint=lambda x: \"logh_\" + x.endpoint).\\\n",
    "    pivot([\"eid\", 'features', 'split', 'partition', 'module', 'datamodule'], columns=\"endpoint\", values=\"logh\").reset_index(drop=False)"
   ]
  },
  {
   "cell_type": "code",
   "execution_count": 26,
   "metadata": {},
   "outputs": [],
   "source": [
    "# get query features to get wide logh\n",
    "from functools import reduce\n",
    "def features_to_wide(predictions):\n",
    "    preds_features = []\n",
    "    cols_base = ['eid', 'split', 'partition', 'module', 'datamodule']\n",
    "    cols_loghs = [f\"logh_{endpoint}\" for endpoint in endpoints]\n",
    "    for feature_set in preds_wide.features.unique().to_list():\n",
    "        temp = preds_wide.query(\"features==@feature_set\")[cols_base+cols_loghs]\n",
    "        temp.columns = cols_base + [f\"{col}_{feature_set}\" for col in cols_loghs]\n",
    "        preds_features.append(temp)\n",
    "    preds_final = reduce(lambda left,right: pd.merge(left,right,on=cols_base), preds_features)\n",
    "    return preds_final"
   ]
  },
  {
   "cell_type": "code",
   "execution_count": null,
   "metadata": {},
   "outputs": [],
   "source": [
    "preds_wide_fs = features_to_wide(preds_wide)\n",
    "preds_wide_fs"
   ]
  },
  {
   "cell_type": "code",
   "execution_count": 28,
   "metadata": {},
   "outputs": [],
   "source": [
    "preds_wide_fs.to_feather(f\"{data_results_path}/loghazards_model_{run}_metabolomics.feather\")"
   ]
  },
  {
   "cell_type": "code",
   "execution_count": 29,
   "metadata": {},
   "outputs": [],
   "source": [
    "preds_wide_fs = pd.read_feather(f\"{data_results_path}/loghazards_model_{run}_metabolomics.feather\")"
   ]
  },
  {
   "cell_type": "code",
   "execution_count": null,
   "metadata": {},
   "outputs": [],
   "source": [
    "data_temp = pd.read_feather(f\"{data_post}/data_merged.feather\")\n",
    "eids_dict = {}\n",
    "for endpoint in tqdm(endpoints):\n",
    "    eids_incl = data_temp.query(f\"NMR_FLAG==True&{endpoint}==False\").eid.to_list()\n",
    "    if endpoint == \"M_MACE\": eids_incl = data_temp.copy().query(f\"NMR_FLAG==True&{endpoint}==False&statins==False\").eid.to_list()\n",
    "    if endpoint == \"M_breast_cancer\": eids_incl = data_temp.copy().query(f\"NMR_FLAG==True&{endpoint}==False&sex=='Female'\").eid.to_list()\n",
    "    if endpoint == \"M_ovarian_cancer\": eids_incl = data_temp.copy().query(f\"NMR_FLAG==True&{endpoint}==False&sex=='Female'\").eid.to_list()\n",
    "    if endpoint == \"M_uterus_cancer\": eids_incl = data_temp.copy().query(f\"NMR_FLAG==True&{endpoint}==False&sex=='Female'\").eid.to_list()\n",
    "    if endpoint == \"M_prostate_cancer\": eids_incl = data_temp.copy().query(f\"NMR_FLAG==True&{endpoint}==False&sex=='Male'\").eid.to_list()\n",
    "    print(endpoint, len(eids_incl))\n",
    "    eids_dict[endpoint] = eids_incl"
   ]
  },
  {
   "cell_type": "code",
   "execution_count": 31,
   "metadata": {
    "tags": []
   },
   "outputs": [],
   "source": [
    "metabolomics = [\n",
    "'NMR_3hydroxybutyrate',\n",
    " 'NMR_acetate',\n",
    " 'NMR_acetoacetate',\n",
    " 'NMR_acetone',\n",
    " 'NMR_alanine',\n",
    " 'NMR_albumin',\n",
    " 'NMR_apolipoprotein_a1',\n",
    " 'NMR_apolipoprotein_b',\n",
    " 'NMR_average_diameter_for_hdl_particles',\n",
    " 'NMR_average_diameter_for_ldl_particles',\n",
    " 'NMR_average_diameter_for_vldl_particles',\n",
    " 'NMR_cholesterol_in_chylomicrons_and_extremely_large_vldl',\n",
    " 'NMR_cholesterol_in_idl',\n",
    " 'NMR_cholesterol_in_large_hdl',\n",
    " 'NMR_cholesterol_in_large_ldl',\n",
    " 'NMR_cholesterol_in_large_vldl',\n",
    " 'NMR_cholesterol_in_medium_hdl',\n",
    " 'NMR_cholesterol_in_medium_ldl',\n",
    " 'NMR_cholesterol_in_medium_vldl',\n",
    " 'NMR_cholesterol_in_small_hdl',\n",
    " 'NMR_cholesterol_in_small_ldl',\n",
    " 'NMR_cholesterol_in_small_vldl',\n",
    " 'NMR_cholesterol_in_very_large_hdl',\n",
    " 'NMR_cholesterol_in_very_large_vldl',\n",
    " 'NMR_cholesterol_in_very_small_vldl',\n",
    " 'NMR_cholesteryl_esters_in_chylomicrons_and_extremely_large_vldl',\n",
    " 'NMR_cholesteryl_esters_in_hdl',\n",
    " 'NMR_cholesteryl_esters_in_idl',\n",
    " 'NMR_cholesteryl_esters_in_ldl',\n",
    " 'NMR_cholesteryl_esters_in_large_hdl',\n",
    " 'NMR_cholesteryl_esters_in_large_ldl',\n",
    " 'NMR_cholesteryl_esters_in_large_vldl',\n",
    " 'NMR_cholesteryl_esters_in_medium_hdl',\n",
    " 'NMR_cholesteryl_esters_in_medium_ldl',\n",
    " 'NMR_cholesteryl_esters_in_medium_vldl',\n",
    " 'NMR_cholesteryl_esters_in_small_hdl',\n",
    " 'NMR_cholesteryl_esters_in_small_ldl',\n",
    " 'NMR_cholesteryl_esters_in_small_vldl',\n",
    " 'NMR_cholesteryl_esters_in_vldl',\n",
    " 'NMR_cholesteryl_esters_in_very_large_hdl',\n",
    " 'NMR_cholesteryl_esters_in_very_large_vldl',\n",
    " 'NMR_cholesteryl_esters_in_very_small_vldl',\n",
    " 'NMR_citrate',\n",
    " 'NMR_clinical_ldl_cholesterol',\n",
    " 'NMR_concentration_of_chylomicrons_and_extremely_large_vldl_particles',\n",
    " 'NMR_concentration_of_hdl_particles',\n",
    " 'NMR_concentration_of_idl_particles',\n",
    " 'NMR_concentration_of_ldl_particles',\n",
    " 'NMR_concentration_of_large_hdl_particles',\n",
    " 'NMR_concentration_of_large_ldl_particles',\n",
    " 'NMR_concentration_of_large_vldl_particles',\n",
    " 'NMR_concentration_of_medium_hdl_particles',\n",
    " 'NMR_concentration_of_medium_ldl_particles',\n",
    " 'NMR_concentration_of_medium_vldl_particles',\n",
    " 'NMR_concentration_of_small_hdl_particles',\n",
    " 'NMR_concentration_of_small_ldl_particles',\n",
    " 'NMR_concentration_of_small_vldl_particles',\n",
    " 'NMR_concentration_of_vldl_particles',\n",
    " 'NMR_concentration_of_very_large_hdl_particles',\n",
    " 'NMR_concentration_of_very_large_vldl_particles',\n",
    " 'NMR_concentration_of_very_small_vldl_particles',\n",
    " 'NMR_creatinine',\n",
    " 'NMR_degree_of_unsaturation',\n",
    " 'NMR_docosahexaenoic_acid',\n",
    " 'NMR_free_cholesterol_in_chylomicrons_and_extremely_large_vldl',\n",
    " 'NMR_free_cholesterol_in_hdl',\n",
    " 'NMR_free_cholesterol_in_idl',\n",
    " 'NMR_free_cholesterol_in_ldl',\n",
    " 'NMR_free_cholesterol_in_large_hdl',\n",
    " 'NMR_free_cholesterol_in_large_ldl',\n",
    " 'NMR_free_cholesterol_in_large_vldl',\n",
    " 'NMR_free_cholesterol_in_medium_hdl',\n",
    " 'NMR_free_cholesterol_in_medium_ldl',\n",
    " 'NMR_free_cholesterol_in_medium_vldl',\n",
    " 'NMR_free_cholesterol_in_small_hdl',\n",
    " 'NMR_free_cholesterol_in_small_ldl',\n",
    " 'NMR_free_cholesterol_in_small_vldl',\n",
    " 'NMR_free_cholesterol_in_vldl',\n",
    " 'NMR_free_cholesterol_in_very_large_hdl',\n",
    " 'NMR_free_cholesterol_in_very_large_vldl',\n",
    " 'NMR_free_cholesterol_in_very_small_vldl',\n",
    " 'NMR_glucose',\n",
    " 'NMR_glutamine',\n",
    " 'NMR_glycine',\n",
    " 'NMR_glycoprotein_acetyls',\n",
    " 'NMR_hdl_cholesterol',\n",
    " 'NMR_histidine',\n",
    " 'NMR_isoleucine',\n",
    " 'NMR_ldl_cholesterol',\n",
    " 'NMR_lactate',\n",
    " 'NMR_leucine',\n",
    " 'NMR_linoleic_acid',\n",
    " 'NMR_monounsaturated_fatty_acids',\n",
    " 'NMR_omega3_fatty_acids',\n",
    " 'NMR_omega6_fatty_acids',\n",
    " 'NMR_phenylalanine',\n",
    " 'NMR_phosphatidylcholines',\n",
    " 'NMR_phosphoglycerides',\n",
    " 'NMR_phospholipids_in_chylomicrons_and_extremely_large_vldl',\n",
    " 'NMR_phospholipids_in_hdl',\n",
    " 'NMR_phospholipids_in_idl',\n",
    " 'NMR_phospholipids_in_ldl',\n",
    " 'NMR_phospholipids_in_large_hdl',\n",
    " 'NMR_phospholipids_in_large_ldl',\n",
    " 'NMR_phospholipids_in_large_vldl',\n",
    " 'NMR_phospholipids_in_medium_hdl',\n",
    " 'NMR_phospholipids_in_medium_ldl',\n",
    " 'NMR_phospholipids_in_medium_vldl',\n",
    " 'NMR_phospholipids_in_small_hdl',\n",
    " 'NMR_phospholipids_in_small_ldl',\n",
    " 'NMR_phospholipids_in_small_vldl',\n",
    " 'NMR_phospholipids_in_vldl',\n",
    " 'NMR_phospholipids_in_very_large_hdl',\n",
    " 'NMR_phospholipids_in_very_large_vldl',\n",
    " 'NMR_phospholipids_in_very_small_vldl',\n",
    " 'NMR_polyunsaturated_fatty_acids',\n",
    " 'NMR_pyruvate',\n",
    " 'NMR_remnant_cholesterol_nonhdl_nonldl_cholesterol',\n",
    " 'NMR_saturated_fatty_acids',\n",
    " 'NMR_sphingomyelins',\n",
    " 'NMR_total_cholesterol',\n",
    " 'NMR_total_cholesterol_minus_hdlc',\n",
    " 'NMR_total_cholines',\n",
    " 'NMR_total_concentration_of_branchedchain_amino_acids_leucine_isoleucine_valine',\n",
    " 'NMR_total_concentration_of_lipoprotein_particles',\n",
    " 'NMR_total_esterified_cholesterol',\n",
    " 'NMR_total_fatty_acids',\n",
    " 'NMR_total_free_cholesterol',\n",
    " 'NMR_total_lipids_in_chylomicrons_and_extremely_large_vldl',\n",
    " 'NMR_total_lipids_in_hdl',\n",
    " 'NMR_total_lipids_in_idl',\n",
    " 'NMR_total_lipids_in_ldl',\n",
    " 'NMR_total_lipids_in_large_hdl',\n",
    " 'NMR_total_lipids_in_large_ldl',\n",
    " 'NMR_total_lipids_in_large_vldl',\n",
    " 'NMR_total_lipids_in_lipoprotein_particles',\n",
    " 'NMR_total_lipids_in_medium_hdl',\n",
    " 'NMR_total_lipids_in_medium_ldl',\n",
    " 'NMR_total_lipids_in_medium_vldl',\n",
    " 'NMR_total_lipids_in_small_hdl',\n",
    " 'NMR_total_lipids_in_small_ldl',\n",
    " 'NMR_total_lipids_in_small_vldl',\n",
    " 'NMR_total_lipids_in_vldl',\n",
    " 'NMR_total_lipids_in_very_large_hdl',\n",
    " 'NMR_total_lipids_in_very_large_vldl',\n",
    " 'NMR_total_lipids_in_very_small_vldl',\n",
    " 'NMR_total_phospholipids_in_lipoprotein_particles',\n",
    " 'NMR_total_triglycerides',\n",
    " 'NMR_triglycerides_in_chylomicrons_and_extremely_large_vldl',\n",
    " 'NMR_triglycerides_in_hdl',\n",
    " 'NMR_triglycerides_in_idl',\n",
    " 'NMR_triglycerides_in_ldl',\n",
    " 'NMR_triglycerides_in_large_hdl',\n",
    " 'NMR_triglycerides_in_large_ldl',\n",
    " 'NMR_triglycerides_in_large_vldl',\n",
    " 'NMR_triglycerides_in_medium_hdl',\n",
    " 'NMR_triglycerides_in_medium_ldl',\n",
    " 'NMR_triglycerides_in_medium_vldl',\n",
    " 'NMR_triglycerides_in_small_hdl',\n",
    " 'NMR_triglycerides_in_small_ldl',\n",
    " 'NMR_triglycerides_in_small_vldl',\n",
    " 'NMR_triglycerides_in_vldl',\n",
    " 'NMR_triglycerides_in_very_large_hdl',\n",
    " 'NMR_triglycerides_in_very_large_vldl',\n",
    " 'NMR_triglycerides_in_very_small_vldl',\n",
    " 'NMR_tyrosine',\n",
    " 'NMR_vldl_cholesterol',\n",
    " 'NMR_valine'\n",
    "]"
   ]
  },
  {
   "cell_type": "code",
   "execution_count": 32,
   "metadata": {},
   "outputs": [],
   "source": [
    "AgeSex = [\"age_at_recruitment\", \"sex\"]\n",
    "\n",
    "ASCVDnoblood = [\n",
    "    \"age_at_recruitment\", \n",
    "    \"sex\",\n",
    "    #\"cholesterol\", \n",
    "   # \"hdl_cholesterol\", \n",
    "    \"systolic_blood_pressure\", \n",
    "    \"antihypertensives\", \n",
    "    \"diabetes2\", \n",
    "    \"smoking_status_2.0\" # current smoker\n",
    "] \n",
    "\n",
    "ASCVD = [\n",
    "    \"age_at_recruitment\", \n",
    "    \"sex\",\n",
    "    \"cholesterol\", \n",
    "    \"hdl_cholesterol\", \n",
    "    \"systolic_blood_pressure\", \n",
    "    \"antihypertensives\", \n",
    "    \"diabetes2\", \n",
    "    \"smoking_status_2.0\" # current smoker\n",
    "] \n",
    "\n",
    "PANELnoblood = [ # 38 clinical predictors\n",
    "    # basics\n",
    "    \"age_at_recruitment\", \n",
    "    \"sex\", \n",
    "    'smoking_status_2.0', # current smoker\n",
    "    'alcohol_intake_frequency_2.0', # 'Daily or almost daily'\n",
    "    \"daily_physical_activity\",\n",
    "    \"education_years\",\n",
    "    \"daily_healthy_food\",\n",
    "    \n",
    "    # family history\n",
    "    \"fh_diabetes\",\n",
    "    \n",
    "    # diagnoses\n",
    "    \"diabetes2\",\n",
    "        \n",
    "    # physical\n",
    "    \"body_mass_index_bmi\", \n",
    "    'waist_hip_ratio',\n",
    "    \"waist_circumference\",\n",
    "    \"weight\", \n",
    "    \"standing_height\", \n",
    "    \"systolic_blood_pressure\", \n",
    "    \n",
    "    # medications\n",
    "    'antihypertensives'\n",
    "        ] \n",
    "\n",
    "PANELjustbloodcount = [ # 38 clinical predictors\n",
    "    # basics\n",
    "    \"age_at_recruitment\", \n",
    "    \"sex\", \n",
    "    'smoking_status_2.0', # current smoker\n",
    "    'alcohol_intake_frequency_2.0', # 'Daily or almost daily'\n",
    "    \"daily_physical_activity\",\n",
    "    \"education_years\",\n",
    "    \"daily_healthy_food\",\n",
    "    \n",
    "    # family history\n",
    "    \"fh_diabetes\",\n",
    "    \n",
    "    # diagnoses\n",
    "    \"diabetes2\",\n",
    "        \n",
    "    # physical\n",
    "    \"body_mass_index_bmi\", \n",
    "    'waist_hip_ratio',\n",
    "    \"waist_circumference\",\n",
    "    \"weight\", \n",
    "    \"standing_height\", \n",
    "    \"systolic_blood_pressure\", \n",
    "        \n",
    "    # Blood counts\n",
    "    'red_blood_cell_erythrocyte_count',\n",
    "    'white_blood_cell_leukocyte_count',\n",
    "    'platelet_count',\n",
    "    'haemoglobin_concentration',\n",
    "    'haematocrit_percentage',\n",
    "    'mean_corpuscular_haemoglobin',\n",
    "    'mean_corpuscular_volume',\n",
    "    'mean_corpuscular_haemoglobin_concentration',\n",
    "    \n",
    "    # medications\n",
    "    'antihypertensives'\n",
    "        ] \n",
    "\n",
    "PANEL = [ # 38 clinical predictors\n",
    "    # basics\n",
    "    \"age_at_recruitment\", \n",
    "    \"sex\", \n",
    "    'smoking_status_2.0', # current smoker\n",
    "    'alcohol_intake_frequency_2.0', # 'Daily or almost daily'\n",
    "    \"daily_physical_activity\",\n",
    "    \"education_years\",\n",
    "    \"daily_healthy_food\",\n",
    "    \n",
    "    # family history\n",
    "    \"fh_diabetes\",\n",
    "    \n",
    "    # diagnoses\n",
    "    \"diabetes2\",\n",
    "        \n",
    "    # physical\n",
    "    \"body_mass_index_bmi\", \n",
    "    'waist_hip_ratio',\n",
    "    \"waist_circumference\",\n",
    "    \"weight\", \n",
    "    \"standing_height\", \n",
    "    \"systolic_blood_pressure\", \n",
    "    \n",
    "    # lipids\n",
    "    \"cholesterol\", \n",
    "    \"ldl_direct\", \n",
    "    \"hdl_cholesterol\",\n",
    "    \"triglycerides\",\n",
    "    \n",
    "    # diabetes\n",
    "    'glucose',\n",
    "    'glycated_haemoglobin_hba1c',\n",
    "    \n",
    "    # kidney\n",
    "    'creatinine',\n",
    "    'cystatin_c',\n",
    "    'urea',\n",
    "    'urate',\n",
    "        \n",
    "    # liver\n",
    "    'aspartate_aminotransferase',\n",
    "    'alanine_aminotransferase',\n",
    "    'alkaline_phosphatase',\n",
    "    'albumin',\n",
    "    \n",
    "    # inflammation\n",
    "    'creactive_protein',\n",
    "    \n",
    "    # Blood counts\n",
    "    'red_blood_cell_erythrocyte_count',\n",
    "    'white_blood_cell_leukocyte_count',\n",
    "    'platelet_count',\n",
    "    'haemoglobin_concentration',\n",
    "    'haematocrit_percentage',\n",
    "    'mean_corpuscular_haemoglobin',\n",
    "    'mean_corpuscular_volume',\n",
    "    'mean_corpuscular_haemoglobin_concentration',\n",
    "    \n",
    "    # medications\n",
    "    'antihypertensives'\n",
    "        ] \n",
    "\n"
   ]
  },
  {
   "cell_type": "code",
   "execution_count": 33,
   "metadata": {},
   "outputs": [],
   "source": [
    "# COX + logh(Metabolomics) + (logh(AgeSexMetabolomics))"
   ]
  },
  {
   "cell_type": "code",
   "execution_count": 34,
   "metadata": {},
   "outputs": [
    {
     "name": "stdout",
     "output_type": "stream",
     "text": [
      "env: MKL_NUM_THREADS=1\n",
      "env: NUMEXPR_NUM_THREADS=1\n",
      "env: OMP_NUM_THREADS=1\n"
     ]
    }
   ],
   "source": [
    "%env MKL_NUM_THREADS=1\n",
    "%env NUMEXPR_NUM_THREADS=1\n",
    "%env OMP_NUM_THREADS=1"
   ]
  },
  {
   "cell_type": "raw",
   "metadata": {},
   "source": [
    "from dask.distributed import Client, LocalCluster\n",
    "cluster = LocalCluster(n_workers=20, threads_per_worker=4)\n",
    "client = Client(cluster)\n",
    "cluster.scheduler"
   ]
  },
  {
   "cell_type": "code",
   "execution_count": 41,
   "metadata": {},
   "outputs": [
    {
     "ename": "NameError",
     "evalue": "name 'ray' is not defined",
     "output_type": "error",
     "traceback": [
      "\u001b[0;31m---------------------------------------------------------------------------\u001b[0m",
      "\u001b[0;31mNameError\u001b[0m                                 Traceback (most recent call last)",
      "\u001b[0;32m/tmp/ipykernel_2592738/977760057.py\u001b[0m in \u001b[0;36m<module>\u001b[0;34m\u001b[0m\n\u001b[0;32m----> 1\u001b[0;31m \u001b[0mray\u001b[0m\u001b[0;34m.\u001b[0m\u001b[0mshutdown\u001b[0m\u001b[0;34m(\u001b[0m\u001b[0;34m)\u001b[0m\u001b[0;34m\u001b[0m\u001b[0;34m\u001b[0m\u001b[0m\n\u001b[0m",
      "\u001b[0;31mNameError\u001b[0m: name 'ray' is not defined"
     ]
    }
   ],
   "source": [
    "ray.shutdown()"
   ]
  },
  {
   "cell_type": "code",
   "execution_count": null,
   "metadata": {},
   "outputs": [],
   "source": [
    "import ray\n",
    "\n",
    "ray.init(num_cpus=30)#, dashboard_port=24762, dashboard_host=\"0.0.0.0\", include_dashboard=True)#, webui_url=\"0.0.0.0\"))"
   ]
  },
  {
   "cell_type": "code",
   "execution_count": 37,
   "metadata": {},
   "outputs": [],
   "source": [
    "@ray.remote\n",
    "def get_feather(data_post, partition, split):\n",
    "    return pd.read_feather(f\"{data_post}/partition_{partition}/{split}/data_imputed_normalized.feather\").assign(partition=partition, split=split)\n",
    "    \n",
    "def get_data():\n",
    "    return [get_feather.remote(data_post, partition, split) for split in [\"train\", \"valid\", \"test\"] for partition in tqdm(range(22))]"
   ]
  },
  {
   "cell_type": "raw",
   "metadata": {},
   "source": [
    "def get_data():\n",
    "    temp_data = []\n",
    "    for partition in tqdm(range(22)):\n",
    "        for split in [\"train\", \"valid\", \"test\"]:\n",
    "            temp_data.append(pd.read_feather(f\"{data_post}/partition_{partition}/{split}/data_imputed_normalized.feather\").assign(partition=partition, split=split))\n",
    "    return pd.concat(temp_data, axis=0)"
   ]
  },
  {
   "cell_type": "code",
   "execution_count": null,
   "metadata": {},
   "outputs": [],
   "source": [
    "%time\n",
    "data_raw = pd.concat(ray.get(get_data()), axis=0)"
   ]
  },
  {
   "cell_type": "markdown",
   "metadata": {},
   "source": [
    "## Add metabolomics PCA"
   ]
  },
  {
   "cell_type": "code",
   "execution_count": 39,
   "metadata": {},
   "outputs": [],
   "source": [
    "def pca_transform(data_split, split, pca, pca_cols, metabolomics):\n",
    "    pca_X = pca.transform(data_split[metabolomics].to_numpy())\n",
    "    return pd.DataFrame(pca_X, columns=pca_cols, index=data_split.eid).assign(split=split)\n",
    "    \n",
    "@ray.remote\n",
    "def fit_pca_partition(data_partition, partition, metabolomics, n_components):\n",
    "    pca_cols = [f\"NMR_PCA{component}\" for component in range(n_components)]\n",
    "    pca = PCA(n_components=n_components)\n",
    "    x_train = data_partition.query(\"split=='train'\")[metabolomics].to_numpy()\n",
    "    pca.fit(x_train)\n",
    "    print(pca.explained_variance_ratio_)\n",
    "    \n",
    "    pcas_splits = []\n",
    "    for split in [\"train\", \"valid\", \"test\"]:\n",
    "        data_split = data_partition.query(\"split==@split\")\n",
    "        pcas_splits.append(pca_transform(data_split, split, pca, pca_cols, metabolomics).assign(partition=partition))\n",
    "\n",
    "    return pd.concat(pcas_splits, axis=0)"
   ]
  },
  {
   "cell_type": "code",
   "execution_count": 40,
   "metadata": {},
   "outputs": [
    {
     "data": {
      "application/vnd.jupyter.widget-view+json": {
       "model_id": "b17f01d557934a65bca8e79e80211b74",
       "version_major": 2,
       "version_minor": 0
      },
      "text/plain": [
       "  0%|          | 0/22 [00:00<?, ?it/s]"
      ]
     },
     "metadata": {},
     "output_type": "display_data"
    }
   ],
   "source": [
    "from sklearn.decomposition import PCA\n",
    "n_components = 10\n",
    "pcas_partitions = []\n",
    "for partition in tqdm([int(p) for p in partitions]):\n",
    "    data_partition = data_raw.query(\"partition==@partition\")\n",
    "    pcas_partitions.append(fit_pca_partition.remote(data_partition, partition, metabolomics, n_components))"
   ]
  },
  {
   "cell_type": "code",
   "execution_count": null,
   "metadata": {},
   "outputs": [],
   "source": [
    "pca_data = pd.concat(ray.get(pcas_partitions), axis=0)"
   ]
  },
  {
   "cell_type": "code",
   "execution_count": 42,
   "metadata": {},
   "outputs": [],
   "source": [
    "pca_data = pca_data.reset_index().set_index([\"partition\", \"split\", \"eid\"])\n",
    "data_raw = data_raw.set_index([\"partition\", \"split\", \"eid\"])\n",
    "preds_wide_fs = preds_wide_fs.set_index([\"partition\", \"split\", \"eid\"])"
   ]
  },
  {
   "cell_type": "code",
   "execution_count": 43,
   "metadata": {},
   "outputs": [],
   "source": [
    "data_raw_pca = data_raw.merge(pca_data, left_index=True, right_index=True, how=\"left\")"
   ]
  },
  {
   "cell_type": "code",
   "execution_count": 44,
   "metadata": {},
   "outputs": [],
   "source": [
    "data_raw_us = data_raw_pca.merge(preds_wide_fs, left_index=True, right_index=True, how=\"left\").reset_index()"
   ]
  },
  {
   "cell_type": "markdown",
   "metadata": {
    "tags": []
   },
   "source": [
    "## Add extra data"
   ]
  },
  {
   "cell_type": "code",
   "execution_count": 45,
   "metadata": {},
   "outputs": [],
   "source": [
    "decoded = pd.read_feather(f\"{base_path}/data/1_decoded/ukb_data_210517.feather\")"
   ]
  },
  {
   "cell_type": "code",
   "execution_count": 46,
   "metadata": {},
   "outputs": [],
   "source": [
    "from sklearn.preprocessing import StandardScaler\n",
    "extra_data = decoded[[\"eid\", 'waist_circumference_f48_0_0', 'hip_circumference_f49_0_0', 'duration_of_moderate_activity_f894_0_0', 'duration_of_vigorous_activity_f914_0_0']]\n",
    "\n",
    "extra_data['waist_circumference_f48_0_0'] = extra_data['waist_circumference_f48_0_0'].fillna(extra_data['waist_circumference_f48_0_0'].mean())\n",
    "extra_data['hip_circumference_f49_0_0'] = extra_data['hip_circumference_f49_0_0'].fillna(extra_data['hip_circumference_f49_0_0'].mean())\n",
    "\n",
    "extra_data['duration_of_moderate_activity_f894_0_0'] = extra_data['duration_of_moderate_activity_f894_0_0'].fillna(0).replace(-1, 0).replace(-3, 0)\n",
    "extra_data['duration_of_vigorous_activity_f914_0_0'] = extra_data['duration_of_vigorous_activity_f914_0_0'].fillna(0).replace(-1, 0).replace(-3, 0)\n",
    "\n",
    "#extra_data[\"waist_circumference\"] = extra_data['waist_circumference_f48_0_0']\n",
    "extra_data[\"waist_hip_ratio\"] = extra_data['waist_circumference_f48_0_0']/extra_data['hip_circumference_f49_0_0']                                           \n",
    "extra_data[\"daily_physical_activity\"] = extra_data['duration_of_moderate_activity_f894_0_0']+extra_data['duration_of_vigorous_activity_f914_0_0']"
   ]
  },
  {
   "cell_type": "code",
   "execution_count": 47,
   "metadata": {},
   "outputs": [],
   "source": [
    "score_data = pd.read_feather(f\"{data_results_path}/add_data_211005.feather\")\n",
    "extra_data = extra_data.set_index(\"eid\").merge(score_data.set_index(\"eid\"), left_index=True, right_index=True, how=\"left\").reset_index()"
   ]
  },
  {
   "cell_type": "code",
   "execution_count": null,
   "metadata": {},
   "outputs": [],
   "source": [
    "extra_data = extra_data[[\"eid\"]+[\"waist_hip_ratio\", \"daily_physical_activity\", \"education_years\", \"daily_healthy_food\"]]\n",
    "extra_data"
   ]
  },
  {
   "cell_type": "code",
   "execution_count": 49,
   "metadata": {},
   "outputs": [],
   "source": [
    "extra_data.to_feather(f\"{data_results_path}/extra_data_220126.feather\")"
   ]
  },
  {
   "cell_type": "code",
   "execution_count": 50,
   "metadata": {},
   "outputs": [],
   "source": [
    "data_raw_us = data_raw_us.set_index(\"eid\").merge(extra_data.set_index(\"eid\"), left_index=True, right_index=True, how=\"left\").reset_index()"
   ]
  },
  {
   "cell_type": "markdown",
   "metadata": {},
   "source": [
    "## Standardize logh and extra data"
   ]
  },
  {
   "cell_type": "code",
   "execution_count": 51,
   "metadata": {},
   "outputs": [],
   "source": [
    "def norm_variables(data_partition, variables):\n",
    "    norm = StandardScaler(with_mean=True, with_std=True, copy=True).fit(data_partition.query(\"split=='train'\")[variables].values)\n",
    "\n",
    "    data_partition[variables] = norm.transform(data_partition[variables].values)\n",
    "    \n",
    "    return data_partition\n",
    "\n",
    "def norm_logh_and_extra(data_all, variables):\n",
    "    data_new = data_all.copy()\n",
    "    dfs = []\n",
    "    for partition in tqdm([int(p) for p in partitions]):\n",
    "        data_partition = data_new.query(\"partition==@partition\")\n",
    "        dfs.append(norm_variables(data_partition, variables))\n",
    "    return pd.concat(dfs, axis=0)"
   ]
  },
  {
   "cell_type": "code",
   "execution_count": 52,
   "metadata": {},
   "outputs": [
    {
     "data": {
      "application/vnd.jupyter.widget-view+json": {
       "model_id": "163d0f9dab074b4e82d5c7456b2ce24f",
       "version_major": 2,
       "version_minor": 0
      },
      "text/plain": [
       "  0%|          | 0/22 [00:00<?, ?it/s]"
      ]
     },
     "metadata": {},
     "output_type": "display_data"
    }
   ],
   "source": [
    "variables_to_norm = [\"waist_hip_ratio\", \"daily_physical_activity\", \"education_years\"] + [col for col in data_raw_us.columns if \"logh\" and \"_Metabolomics\" in col]\n",
    "data_all = norm_logh_and_extra(data_raw_us, variables_to_norm)"
   ]
  },
  {
   "cell_type": "code",
   "execution_count": 53,
   "metadata": {},
   "outputs": [],
   "source": [
    "data_all = data_all.reset_index()"
   ]
  },
  {
   "cell_type": "code",
   "execution_count": 54,
   "metadata": {},
   "outputs": [],
   "source": [
    "data_all.to_feather(f\"{data_results_path}/data_all_COX_{run}_metabolomics.feather\")"
   ]
  },
  {
   "cell_type": "markdown",
   "metadata": {},
   "source": [
    "# Train COX"
   ]
  },
  {
   "cell_type": "code",
   "execution_count": 55,
   "metadata": {},
   "outputs": [],
   "source": [
    "modules = [\"PCA\", \"COX\", \"DS\"]"
   ]
  },
  {
   "cell_type": "code",
   "execution_count": 56,
   "metadata": {},
   "outputs": [],
   "source": [
    "partitions=data_all.partition.unique().tolist()"
   ]
  },
  {
   "cell_type": "code",
   "execution_count": 57,
   "metadata": {},
   "outputs": [],
   "source": [
    "data_train = data_all.query(\"split=='train'\") \n",
    "data_test = data_all.query(\"split=='test'\")"
   ]
  },
  {
   "cell_type": "code",
   "execution_count": 58,
   "metadata": {},
   "outputs": [],
   "source": [
    "version=f\"COX_{run}\"\n",
    "dump_path = f\"{data_post}/{version}\"\n",
    "pathlib.Path(dump_path).mkdir(parents=True, exist_ok=True)"
   ]
  },
  {
   "cell_type": "code",
   "execution_count": 76,
   "metadata": {},
   "outputs": [],
   "source": [
    "from lifelines import CoxPHFitter\n",
    "from dask.diagnostics import ProgressBar\n",
    "from lifelines.exceptions import ConvergenceError\n",
    "import pickle\n",
    "\n",
    "def flatten_dict(features):\n",
    "    df = pd.json_normalize(d, sep='_')\n",
    "    t = list(df.to_dict(orient='records')[0].values())\n",
    "    flat_list = [item for sublist in t for item in sublist]\n",
    "    return list(set(flat_list))\n",
    "\n",
    "def flatten_list(l):\n",
    "    return [item for sublist in l for item in sublist]\n",
    "\n",
    "def get_all_features(metabolomics, endpoints):\n",
    "    f_dicts = flatten_list([[ds for ds in get_features(metabolomics, endpoint).values()] for endpoint in endpoints])\n",
    "    fs = list(sorted(set(flatten_list(flatten_list([list(p.values()) for p in f_dicts])))))\n",
    "    return fs + [f\"{endpoint}_event\" for endpoint in endpoints] + [f\"{endpoint}_event_time\" for endpoint in endpoints]\n",
    "\n",
    "def get_features(metabolomics, endpoint):\n",
    "    features = {\"COX\": {\"Metabolomics\": metabolomics,\n",
    "                        \"Age+Sex\": AgeSex, \n",
    "                        \"ASCVDnoblood\": ASCVDnoblood,\n",
    "                        \"ASCVD\": ASCVD,\n",
    "                        \"PANELnoblood\": PANELnoblood,\n",
    "                        \"PANELjustbloodcount\": PANELjustbloodcount,\n",
    "                        \"PANEL\": PANEL,\n",
    "                       },\n",
    "                \"PCA\": {\"Metabolomics\": [f'NMR_PCA{i}' for i in range(10)]},\n",
    "                \n",
    "                \"DS\":  {\"Metabolomics\": [f\"logh_{endpoint}_Metabolomics\"], \n",
    "                        \"Age+Sex+Metabolomics\": AgeSex+[f\"logh_{endpoint}_Metabolomics\"], \n",
    "                        \"ASCVDnoblood+Metabolomics\": ASCVDnoblood+[f\"logh_{endpoint}_Metabolomics\"],\n",
    "                         \"ASCVD+Metabolomics\": ASCVD+[f\"logh_{endpoint}_Metabolomics\"],\n",
    "                        \"PANELnoblood+Metabolomics\": PANELnoblood+[f\"logh_{endpoint}_Metabolomics\"],\n",
    "                        \"PANELjustbloodcount+Metabolomics\": PANELjustbloodcount+[f\"logh_{endpoint}_Metabolomics\"],\n",
    "                        \"PANEL+Metabolomics\": PANEL+[f\"logh_{endpoint}_Metabolomics\"],\n",
    "                       }\n",
    "               }\n",
    "    \n",
    "    return features\n",
    "    \n",
    "def fit_cox(train, endpoint, penalizer, step_size):\n",
    "    cph = CoxPHFitter(penalizer=penalizer)\n",
    "    cph.fit(train, f\"{endpoint}_event_time\", f\"{endpoint}_event\", step_size=step_size, show_progress=True)\n",
    "    return cph\n",
    "\n",
    "@ray.remote\n",
    "def fit_partition(train_partition, endpoint, module, features, partition):\n",
    "    for feature_set, covariates in tqdm(features[module].items()):\n",
    "        cph_path = f\"{dump_path}/{module}_{endpoint}_{feature_set}_{partition}.p\"\n",
    "        if endpoint == \"M_type_2_diabetes\":\n",
    "            if \"diabetes1\" in covariates: covariates = [c for c in covariates if c!=\"diabetes1\"]\n",
    "            if \"diabetes2\" in covariates: covariates = [c for c in covariates if c!=\"diabetes2\"]\n",
    "        if endpoint in [\"M_prostate_cancer\", \"M_ovarian_cancer\", \"M_breast_cancer\", \"M_uterus_cancer\"]:\n",
    "            if \"sex\" in covariates: covariates = [c for c in covariates if c!=\"sex\"]\n",
    "        if not os.path.isfile(cph_path):\n",
    "            try:\n",
    "                cph = fit_cox(train_partition[covariates + [f\"{endpoint}_event\", f\"{endpoint}_event_time\"]], endpoint, penalizer=0.0, step_size=0.5)\n",
    "                pickle.dump(cph, open(cph_path, \"wb\"))\n",
    "            except ConvergenceError:\n",
    "                print(\"ConvergenceError\", module, endpoint, feature_set, partition, \"problem: reduce step size\")\n",
    "                try:\n",
    "                    cph = fit_cox(train_partition[covariates + [f\"{endpoint}_event\", f\"{endpoint}_event_time\"]], endpoint, penalizer=0.0, step_size=0.1)\n",
    "                    pickle.dump(cph, open(cph_path, \"wb\"))\n",
    "                    print(\"ConvergenceError\", module, endpoint, feature_set, partition, \"trying with reduced step size ... successfull\")\n",
    "                except:\n",
    "                    print(\"ConvergenceError\", module, endpoint, feature_set, partition, \"trying with reduced step size ... failed\")\n",
    "    return True\n",
    "\n",
    "def train_cox(endpoints, modules, partitions, data_train):\n",
    "    frame_dict = {}\n",
    "    features_all = get_all_features(metabolomics, endpoints)\n",
    "    data_train = data_train[[\"eid\", \"partition\", \"split\"]+features_all]\n",
    "    with ProgressBar():   \n",
    "        for module in tqdm(modules):\n",
    "            for endpoint in tqdm(endpoints):\n",
    "                features = get_features(metabolomics, endpoint)\n",
    "                eids_incl = eids_dict[endpoint] \n",
    "                train_endpoint = data_train.query(\"eid==@eids_incl\")\n",
    "                for partition in partitions:\n",
    "                    train_partition = train_endpoint.query(\"partition==@partition\")\n",
    "                    frame_dict[f\"{module}_{endpoint}_{partition}\"] = fit_partition.remote(train_partition, endpoint, module, features, partition)\n",
    "                    del train_partition\n",
    "    return frame_dict"
   ]
  },
  {
   "cell_type": "code",
   "execution_count": 56,
   "metadata": {},
   "outputs": [],
   "source": [
    "ray.shutdown()"
   ]
  },
  {
   "cell_type": "code",
   "execution_count": null,
   "metadata": {},
   "outputs": [],
   "source": [
    "endpoints"
   ]
  },
  {
   "cell_type": "code",
   "execution_count": null,
   "metadata": {},
   "outputs": [],
   "source": [
    "frame_dict = train_cox(endpoints, modules, partitions, data_train)"
   ]
  },
  {
   "cell_type": "code",
   "execution_count": null,
   "metadata": {},
   "outputs": [],
   "source": [
    "ray.shutdown()"
   ]
  },
  {
   "cell_type": "markdown",
   "metadata": {},
   "source": [
    "## Apply COX to data"
   ]
  },
  {
   "cell_type": "code",
   "execution_count": 91,
   "metadata": {},
   "outputs": [],
   "source": [
    "import joblib\n",
    "@ray.remote\n",
    "def get_cph(path): \n",
    "    with open(path,'rb') as f:\n",
    "        cph = pickle.load(f)\n",
    "    return cph#return pd.read_csv(f\"{path[:-8]}.csv\", index_col=0)"
   ]
  },
  {
   "cell_type": "code",
   "execution_count": 211,
   "metadata": {},
   "outputs": [],
   "source": [
    "ray.shutdown()"
   ]
  },
  {
   "cell_type": "code",
   "execution_count": null,
   "metadata": {},
   "outputs": [],
   "source": [
    "import glob, os\n",
    "cph_dict = {}\n",
    "for path in tqdm(glob.glob(f\"{dump_path}/*.p\")):\n",
    "    cph_dict[pathlib.Path(path).stem] = get_cph.remote(path)"
   ]
  },
  {
   "cell_type": "code",
   "execution_count": 80,
   "metadata": {},
   "outputs": [
    {
     "data": {
      "application/vnd.jupyter.widget-view+json": {
       "model_id": "89a58110523a48d1b66b216c3f0cdf11",
       "version_major": 2,
       "version_minor": 0
      },
      "text/plain": [
       "  0%|          | 0/9504 [00:00<?, ?it/s]"
      ]
     },
     "metadata": {},
     "output_type": "display_data"
    }
   ],
   "source": [
    "for path in tqdm(glob.glob(f\"{dump_path}/*.p\")):\n",
    "    cph_dict[pathlib.Path(path).stem] = ray.get(cph_dict[pathlib.Path(path).stem])"
   ]
  },
  {
   "cell_type": "code",
   "execution_count": 81,
   "metadata": {},
   "outputs": [],
   "source": [
    "def predict_cox(endpoints, modules, partitions, data_test, cph_dict):\n",
    "    times = [1, 2, 3, 4, 5, 6, 7, 8, 9, 10, 11, 12, 13, 14, 15]\n",
    "    time_cols = {t: f\"Ft_{t}\" for t in times}\n",
    "    \n",
    "    results = []\n",
    "    test_preds = []\n",
    "    for module in tqdm(modules):\n",
    "        for endpoint in tqdm(endpoints):\n",
    "            features = get_features(metabolomics, endpoint)\n",
    "            eids_incl = eids_dict[endpoint] \n",
    "            test_endpoint = data_test.query(\"eid==@eids_incl\")\n",
    "            for partition in partitions:\n",
    "                test_partition = test_endpoint.query(\"partition==@partition\")\n",
    "                for feature_set, covariates in features[module].items():\n",
    "                    #print(endpoint, feature_set)\n",
    "                    if endpoint == \"M_type_2_diabetes\":\n",
    "                        if \"diabetes1\" in covariates: covariates = [c for c in covariates if c!=\"diabetes1\"]\n",
    "                        if \"diabetes2\" in covariates: covariates = [c for c in covariates if c!=\"diabetes2\"]\n",
    "                    if endpoint in [\"M_prostate_cancer\", \"M_ovarian_cancer\", \"M_breast_cancer\", \"M_uterus_cancer\"]:\n",
    "                        if \"sex\" in covariates: covariates = [c for c in covariates if c!=\"sex\"]\n",
    "                    cph = cph_dict[f\"{module}_{endpoint}_{feature_set}_{partition}\"]\n",
    "                    surv_test = 1-cph.predict_survival_function(test_partition[covariates+ [f\"{endpoint}_event\", f\"{endpoint}_event_time\"]], times=times) \n",
    "                    temp_pred = test_partition.reset_index()[[\"eid\"]].assign(endpoint=endpoint, module=module, features=feature_set, partition=partition)\n",
    "                    for t, col in time_cols.items(): temp_pred[col] = surv_test.T[t].to_list()\n",
    "                    test_preds.append(temp_pred)\n",
    "                    results.append({\"endpoint\": endpoint,\n",
    "                                    \"module\": module,\n",
    "                                    \"features\": feature_set,\n",
    "                                    \"HR_dict\": cph.hazard_ratios_.to_dict(),\n",
    "                                    \"partition\": partition,\n",
    "                                    \"cph\": cph,\n",
    "                                   })\n",
    "    return results, test_preds"
   ]
  },
  {
   "cell_type": "code",
   "execution_count": null,
   "metadata": {},
   "outputs": [],
   "source": [
    "results, test_preds = predict_cox(endpoints, modules, partitions, data_test, cph_dict)"
   ]
  },
  {
   "cell_type": "markdown",
   "metadata": {},
   "source": [
    "## Save Predictions"
   ]
  },
  {
   "cell_type": "code",
   "execution_count": 83,
   "metadata": {},
   "outputs": [],
   "source": [
    "predictions = pd.concat(test_preds, axis=0).reset_index()"
   ]
  },
  {
   "cell_type": "code",
   "execution_count": 84,
   "metadata": {},
   "outputs": [],
   "source": [
    "predictions.to_feather(f\"{data_results_path}/predictions_{run}_metabolomics.feather\")"
   ]
  },
  {
   "cell_type": "code",
   "execution_count": null,
   "metadata": {},
   "outputs": [],
   "source": [
    "predictions.value_counts([\"module\", \"features\"])"
   ]
  },
  {
   "cell_type": "code",
   "execution_count": null,
   "metadata": {},
   "outputs": [],
   "source": [
    "predictions.value_counts([\"endpoint\"])"
   ]
  },
  {
   "cell_type": "markdown",
   "metadata": {},
   "source": [
    "## Save COX models"
   ]
  },
  {
   "cell_type": "code",
   "execution_count": 87,
   "metadata": {},
   "outputs": [],
   "source": [
    "results_df = pd.DataFrame().append(results, ignore_index=True)"
   ]
  },
  {
   "cell_type": "code",
   "execution_count": null,
   "metadata": {},
   "outputs": [],
   "source": [
    "results_df"
   ]
  },
  {
   "cell_type": "raw",
   "metadata": {},
   "source": [
    "import pickle\n",
    "pickle.dump(results_df, open(f\"{data_results_path}/cox_{run}_metabolomics.p\", \"wb\" ))"
   ]
  },
  {
   "cell_type": "code",
   "execution_count": 89,
   "metadata": {},
   "outputs": [],
   "source": [
    "def get_hr(hr_dict, endpoint): \n",
    "    if f\"logh_{endpoint}_Metabolomics\" in hr_dict: \n",
    "        hr = hr_dict[f\"logh_{endpoint}_Metabolomics\"]\n",
    "    else:\n",
    "        hr = np.nan\n",
    "    return hr"
   ]
  },
  {
   "cell_type": "code",
   "execution_count": 90,
   "metadata": {},
   "outputs": [],
   "source": [
    "import pickle\n",
    "results_df[\"HR_metabolomics\"] = [get_hr(hr_dict, endpoint) for endpoint, hr_dict in zip(results_df[\"endpoint\"], results_df[\"HR_dict\"])]\n",
    "results_df.drop(columns=[\"cph\"]).to_feather(f\"{data_results_path}/cox_{run}_metabolomics.feather\")"
   ]
  },
  {
   "cell_type": "code",
   "execution_count": 87,
   "metadata": {},
   "outputs": [],
   "source": [
    "import glob\n",
    "import pickle\n",
    "import re"
   ]
  },
  {
   "cell_type": "code",
   "execution_count": 88,
   "metadata": {},
   "outputs": [],
   "source": [
    "def _extract_logh(d):\n",
    "    for k, v in d.items():\n",
    "        if k.startswith('logh_'):\n",
    "            return v"
   ]
  },
  {
   "cell_type": "code",
   "execution_count": 91,
   "metadata": {},
   "outputs": [],
   "source": [
    "# load models and put HRs into a df:\n",
    "df_dict = {\"endpoint\": [],\n",
    "           \"partition\": [],\n",
    "           \"features\": [],\n",
    "           \"HR_Metabolomics\": []\n",
    "          }\n",
    "\n",
    "for fp in glob.glob(os.path.join(dump_path,\"DS_*.p\")):\n",
    "    try:\n",
    "        res = re.search(\"(M_[a-zA-Z_]+[2a-zA-Z_]+)_([3a-zA-Z+]+)_(\\d+)\", fp).groups()\n",
    "\n",
    "        df_dict['endpoint'].append(res[0])\n",
    "        df_dict['features'].append(res[1])\n",
    "        df_dict['partition'].append(res[2])\n",
    "\n",
    "        cph = pickle.load(open(fp, \"rb\"))\n",
    "        HR = _extract_logh(cph.hazard_ratios_.to_dict())\n",
    "    #     HR = cph.hazard_ratios_.to_dict()[f'logh_{res[0]}_Metabolomics']\n",
    "        df_dict['HR_Metabolomics'].append(HR)\n",
    "    except:\n",
    "        print(fp)"
   ]
  },
  {
   "cell_type": "code",
   "execution_count": 93,
   "metadata": {},
   "outputs": [],
   "source": [
    "HR_df = pd.DataFrame.from_dict(df_dict, orient=\"columns\")\n",
    "HR_df['module'] = 'DS'"
   ]
  },
  {
   "cell_type": "code",
   "execution_count": 75,
   "metadata": {},
   "outputs": [],
   "source": [
    "HR_df.to_feather(f\"{data_results_path}/MET_HRs_210819_metabolomics.feather\")"
   ]
  },
  {
   "cell_type": "code",
   "execution_count": 44,
   "metadata": {},
   "outputs": [],
   "source": [
    "results_df = results_df.assign(HR_logh=results_df['hazard_ratio'].apply(_extract_logh))"
   ]
  },
  {
   "cell_type": "code",
   "execution_count": 45,
   "metadata": {},
   "outputs": [
    {
     "data": {
      "text/plain": [
       "array(['Age+Sex', 'Metabolomics', 'Age+Sex+Metabolomics',\n",
       "       'AgeSexMetabolomics'], dtype=object)"
      ]
     },
     "execution_count": 45,
     "metadata": {},
     "output_type": "execute_result"
    }
   ],
   "source": [
    "results_df['features'].unique()"
   ]
  },
  {
   "cell_type": "code",
   "execution_count": 37,
   "metadata": {},
   "outputs": [],
   "source": [
    "results_df[[\"endpoint\", \"module\", \"features\", 'HR_logh']].reset_index().to_feather(f\"{data_results_path}/MET_HRs_{run}_metabolomics.feather\")"
   ]
  },
  {
   "cell_type": "code",
   "execution_count": null,
   "metadata": {},
   "outputs": [],
   "source": [
    "raise NotImplementedError()"
   ]
  },
  {
   "cell_type": "code",
   "execution_count": 38,
   "metadata": {},
   "outputs": [],
   "source": [
    "# Other stuff"
   ]
  },
  {
   "cell_type": "code",
   "execution_count": null,
   "metadata": {},
   "outputs": [],
   "source": [
    "cph = results_df.set_index([\"endpoint\", \"module\", \"features\"]).loc[('M_MACE', \"DS\", \"Age+Sex+Metabolomics\"), \"cph\"].iloc[0]"
   ]
  },
  {
   "cell_type": "code",
   "execution_count": null,
   "metadata": {},
   "outputs": [],
   "source": [
    "import plotly.express as px\n",
    "scores_plot = [\"COX_AgeSex\", \"DeepSurv_AgeSexMetabolomics\"]\n",
    "temp = results_df.assign(score = lambda x: x.module + \"_\" + x.features).query(\"score==@scores_plot\")\n",
    "fig = px.scatter(temp, y=\"cindex\", x=\"score\", color=\"features\", facet_col=\"endpoint\", facet_col_wrap=12, template=\"plotly_dark\",\n",
    "               category_orders={\"features\": [\"COX_Metabolomics\", \"DeepSurv_Metabolomics\", \n",
    "                                             \"COX_AgeSex\", \n",
    "                                             \"COX_AgeSexMetabolomics\", \"DeepSurv_AgeSexMetabolomics\"]})\n",
    "fig.update_xaxes(matches=None)\n",
    "#fig.update_yaxes(matches=None)\n",
    "fig.show(\"png\", width=1500, height=1000)"
   ]
  },
  {
   "cell_type": "code",
   "execution_count": null,
   "metadata": {},
   "outputs": [],
   "source": [
    "import plotly.express as px\n",
    "temp = results_df.assign(score = lambda x: x.module + \"_\" + x.features)\n",
    "fig = px.scatter(temp, y=\"cindex\", x=\"score\", color=\"features\", facet_col=\"endpoint\", facet_col_wrap=5, template=\"plotly_dark\",\n",
    "               category_orders={\"features\": [\"COX_Metabolomics\", \"DeepSurv_Metabolomics\", \n",
    "                                             \"COX_AgeSex\", \n",
    "                                             \"COX_AgeSexMetabolomics\", \"DeepSurv_AgeSexMetabolomics\"]})\n",
    "fig.update_xaxes(matches=None)\n",
    "#fig.update_yaxes(matches=None)\n",
    "fig.show(\"png\", width=1500, height=1000)"
   ]
  },
  {
   "cell_type": "code",
   "execution_count": null,
   "metadata": {},
   "outputs": [],
   "source": [
    "import plotly.express as px\n",
    "temp = results_df.assign(score = lambda x: x.module + \"_\" + x.features)\n",
    "fig = px.scatter(temp, y=\"cindex\", x=\"score\", color=\"features\", facet_col=\"endpoint\", facet_col_wrap=5, template=\"plotly_dark\",\n",
    "               category_orders={\"features\": [\"COX_Metabolomics\", \"DeepSurv_Metabolomics\", \n",
    "                                             \"COX_AgeSex\", \"DeepSurv_AgeSex\",\n",
    "                                             \"COX_AgeSexMetabolomics\", \"DeepSurv_AgeSexMetabolomics\"]})\n",
    "fig.update_xaxes(matches=None)\n",
    "#fig.update_yaxes(matches=None)\n",
    "fig.show(\"png\", width=1500, height=1000)"
   ]
  },
  {
   "cell_type": "code",
   "execution_count": null,
   "metadata": {},
   "outputs": [],
   "source": [
    "dpath = \"/data/analysis/ag-reils/steinfej/data/3_datasets_post/210730_imaging_visit\"\n",
    "for partition in range(5):\n",
    "    for split in [\"train\", \"valid\", \"test\"]:\n",
    "        ddf = pd.read_feather(f\"{dpath}/partition_{partition}/{split}/data.feather\")\n",
    "        print(partition, split, len(ddf))"
   ]
  },
  {
   "cell_type": "code",
   "execution_count": null,
   "metadata": {},
   "outputs": [],
   "source": [
    "data_X = pd.read_feather(\"/data/analysis/ag-reils/ag-reils-shared/cardioRS/data/3_datasets_post/210730_imaging_visit/data_merged.feather\")"
   ]
  },
  {
   "cell_type": "code",
   "execution_count": null,
   "metadata": {},
   "outputs": [],
   "source": [
    "data_X.set_index(\"uk_biobank_assessment_centre_2_0\").index.value_counts().index.to_list()"
   ]
  },
  {
   "cell_type": "code",
   "execution_count": null,
   "metadata": {},
   "outputs": [],
   "source": [
    "data_X.set_index(\"uk_biobank_assessment_centre_2_0\").index.value_counts()"
   ]
  },
  {
   "cell_type": "code",
   "execution_count": null,
   "metadata": {},
   "outputs": [],
   "source": [
    "import plotly.express as px\n",
    "temp = results_df.assign(score = lambda x: x.module + \"_\" + x.features)\n",
    "fig = px.scatter(temp, y=\"cindex\", x=\"score\", color=\"features\", facet_col=\"endpoint\", facet_col_wrap=5, template=\"plotly_dark\",\n",
    "               category_orders={\"features\": [\"COX_Metabolomics\", \"DeepSurv_Metabolomics\", \n",
    "                                             \"COX_AgeSex\", \"DeepSurv_AgeSex\",\n",
    "                                             \"COX_AgeSexMetabolomics\", \"DeepSurv_AgeSexMetabolomics\"]})\n",
    "fig.update_xaxes(matches=None)\n",
    "#fig.update_yaxes(matches=None)\n",
    "fig.show(\"png\", width=1500, height=1000)"
   ]
  },
  {
   "cell_type": "code",
   "execution_count": null,
   "metadata": {},
   "outputs": [],
   "source": [
    "import plotly.express as px\n",
    "temp = results_df.assign(score = lambda x: x.module + \"_\" + x.features)\n",
    "fig = px.scatter(temp, y=\"cindex\", x=\"score\", color=\"features\", facet_col=\"endpoint\", facet_col_wrap=5, template=\"plotly_dark\",\n",
    "               category_orders={\"features\": [\"COX_Metabolomics\", \"DeepSurv_Metabolomics\", \n",
    "                                             \"COX_AgeSex\", \"DeepSurv_AgeSex\",\n",
    "                                             \"COX_AgeSexMetabolomics\", \"DeepSurv_AgeSexMetabolomics\"]})\n",
    "fig.update_xaxes(matches=None)\n",
    "#fig.update_yaxes(matches=None)\n",
    "fig.show(\"png\", width=1500, height=1000)"
   ]
  },
  {
   "cell_type": "code",
   "execution_count": null,
   "metadata": {},
   "outputs": [],
   "source": [
    "import plotly.express as px\n",
    "temp = results_df.assign(score = lambda x: x.module + \"_\" + x.features)\n",
    "fig = px.scatter(temp, y=\"cindex\", x=\"score\", color=\"features\", facet_col=\"endpoint\", facet_col_wrap=5, template=\"plotly_dark\",\n",
    "               category_orders={\"features\": [\"COX_Metabolomics\", \"DeepSurv_Metabolomics\", \n",
    "                                             \"COX_AgeSex\", \"DeepSurv_AgeSex\",\n",
    "                                             \"COX_AgeSexMetabolomics\", \"DeepSurv_AgeSexMetabolomics\"]})\n",
    "fig.update_xaxes(matches=None)\n",
    "fig.update_yaxes(matches=None)\n",
    "fig.show(\"png\", width=1500, height=1000)"
   ]
  },
  {
   "cell_type": "code",
   "execution_count": null,
   "metadata": {},
   "outputs": [],
   "source": [
    "import plotly.express as px\n",
    "temp = results_df.assign(score = lambda x: x.module + \"_\" + x.features)\n",
    "fig = px.scatter(temp, y=\"cindex\", x=\"score\", color=\"features\", facet_col=\"endpoint\", facet_col_wrap=5, template=\"plotly_dark\",\n",
    "               category_orders={\"features\": [\"COX_Metabolomics\", \"DeepSurv_Metabolomics\", \n",
    "                                             \"COX_AgeSex\", \"DeepSurv_AgeSex\",\n",
    "                                             \"COX_AgeSexMetabolomics\", \"DeepSurv_AgeSexMetabolomics\"]})\n",
    "fig.update_xaxes(matches=None)\n",
    "fig.update_yaxes(matches=None)\n",
    "fig.show(\"png\", width=1500, height=1000)"
   ]
  },
  {
   "cell_type": "code",
   "execution_count": null,
   "metadata": {},
   "outputs": [],
   "source": [
    "import plotly.express as px\n",
    "temp = results_df.assign(score = lambda x: x.module + \"_\" + x.features)\n",
    "fig = px.scatter(temp, y=\"cindex\", x=\"score\", color=\"features\", facet_col=\"endpoint\", facet_col_wrap=5, template=\"plotly_dark\",\n",
    "               category_orders={\"features\": [\"COX_Metabolomics\", \"DeepSurv_Metabolomics\", \n",
    "                                             \"COX_AgeSex\", \"DeepSurv_AgeSex\",\n",
    "                                             \"COX_AgeSexMetabolomics\", \"DeepSurv_AgeSexMetabolomics\"]})\n",
    "fig.update_xaxes(matches=None)\n",
    "fig.update_yaxes(matches=None)\n",
    "fig.show(\"png\", width=1500, height=1000)"
   ]
  },
  {
   "cell_type": "code",
   "execution_count": null,
   "metadata": {},
   "outputs": [],
   "source": [
    "import plotly.express as px\n",
    "temp = results_df.assign(score = lambda x: x.module + \"_\" + x.features)\n",
    "fig = px.scatter(temp, y=\"cindex\", x=\"score\", color=\"features\", facet_col=\"endpoint\", facet_col_wrap=5, template=\"plotly_dark\",\n",
    "               category_orders={\"features\": [\"COX_Metabolomics\", \"DeepSurv_Metabolomics\", \n",
    "                                             \"COX_AgeSex\", \"DeepSurv_AgeSex\",\n",
    "                                             \"COX_AgeSexMetabolomics\", \"DeepSurv_AgeSexMetabolomics\"]})\n",
    "fig.update_xaxes(matches=None)\n",
    "fig.update_yaxes(matches=None)\n",
    "fig.show(\"png\", width=1500, height=1000)"
   ]
  },
  {
   "cell_type": "code",
   "execution_count": null,
   "metadata": {},
   "outputs": [],
   "source": [
    "import plotly.express as px\n",
    "temp = results_df.assign(score = lambda x: x.module + \"_\" + x.features)\n",
    "fig = px.scatter(temp, y=\"cindex\", x=\"score\", color=\"features\", facet_col=\"endpoint\", facet_col_wrap=5, template=\"plotly_dark\",\n",
    "               category_orders={\"features\": [\"COX_Metabolomics\", \"DeepSurv_Metabolomics\", \n",
    "                                             \"COX_AgeSex\", \"DeepSurv_AgeSex\",\n",
    "                                             \"COX_AgeSexMetabolomics\", \"DeepSurv_AgeSexMetabolomics\"]})\n",
    "fig.update_xaxes(matches=None)\n",
    "#fig.update_yaxes(matches=None)\n",
    "fig.show(\"png\", width=1500, height=1000)"
   ]
  },
  {
   "cell_type": "code",
   "execution_count": null,
   "metadata": {},
   "outputs": [],
   "source": [
    "import plotly.express as px\n",
    "temp = results_df.assign(score = lambda x: x.module + \"_\" + x.features)\n",
    "fig = px.violin(temp, y=\"cindex\", x=\"features\", color=\"features\", box=True, points=\"all\", facet_col=\"endpoint\", facet_col_wrap=4,\n",
    "               category_orders={\"features\": [\"Metabolomics\", \"AgeSex\", \"AgeSexMetabolomics\"]})\n",
    "fig.update_xaxes(matches=None)\n",
    "fig.show(\"png\", width=1500, height=1000)"
   ]
  },
  {
   "cell_type": "code",
   "execution_count": null,
   "metadata": {},
   "outputs": [],
   "source": []
  },
  {
   "cell_type": "code",
   "execution_count": null,
   "metadata": {},
   "outputs": [],
   "source": [
    "preds.to_feather(f\"{data_results_path}/predictions_model_210720.feather\")"
   ]
  },
  {
   "cell_type": "code",
   "execution_count": null,
   "metadata": {},
   "outputs": [],
   "source": [
    "from lifelines import RegressionFitter"
   ]
  },
  {
   "cell_type": "code",
   "execution_count": null,
   "metadata": {},
   "outputs": [],
   "source": [
    "self._central_values = self._compute_central_values_of_raw_training_data(df, self.strata)\n",
    "self.baseline_survival_ = self._compute_baseline_survival()\n",
    "baseline_hazard_ = self._compute_baseline_hazards(predicted_partial_hazards_)\n",
    "baseline_cumulative_hazard_ = self._compute_baseline_cumulative_hazard(baseline_hazard_)"
   ]
  },
  {
   "cell_type": "code",
   "execution_count": null,
   "metadata": {},
   "outputs": [],
   "source": [
    "cph_semi = CoxPHFitter().fit(rossi, 'week', event_col='arrest')\n",
    "cph_piecewise = CoxPHFitter(baseline_estimation_method=\"piecewise\", breakpoints=[20, 35]).fit(rossi, 'week', event_col='arrest')\n",
    "\n",
    "ax = cph_spline.baseline_cumulative_hazard_.plot()"
   ]
  }
 ],
 "metadata": {
  "kernelspec": {
   "display_name": "Python [conda env:riskiano_py39]",
   "language": "python",
   "name": "conda-env-riskiano_py39-py"
  },
  "language_info": {
   "codemirror_mode": {
    "name": "ipython",
    "version": 3
   },
   "file_extension": ".py",
   "mimetype": "text/x-python",
   "name": "python",
   "nbconvert_exporter": "python",
   "pygments_lexer": "ipython3",
   "version": "3.9.6"
  },
  "toc-autonumbering": false
 },
 "nbformat": 4,
 "nbformat_minor": 4
}
